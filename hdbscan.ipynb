{
 "cells": [
  {
   "cell_type": "code",
   "execution_count": 15,
   "metadata": {},
   "outputs": [
    {
     "name": "stdout",
     "output_type": "stream",
     "text": [
      "\u001b[33mWARNING: You are using pip version 19.2.3, however version 20.0.2 is available.\r\n",
      "You should consider upgrading via the 'pip install --upgrade pip' command.\u001b[0m\r\n"
     ]
    }
   ],
   "source": [
    "%matplotlib inline\n",
    "\n",
    "# dependencies = {\n",
    "#     \"numpy\":\"np\",\n",
    "#     'os':None,\n",
    "#     \"PIL\":[\"Image\"],\n",
    "#     \"IPython\":[\"display\"],\n",
    "#     \"plotly.graph_objects\":\"go\",\n",
    "#     \"subprocess\":None\n",
    "# }\n",
    "\n",
    "# for d in dependencies.items():\n",
    "#     print(d)\n",
    "#     if d[1]:\n",
    "#         if type(d[1]) == list:\n",
    "#             __import__(d[0], fromlist=d[1])\n",
    "#             _temp = __import__(d[0], globals(), locals(), d[1], 0)\n",
    "#         else:\n",
    "#             globals()[d[1]] = __import__(d[0])\n",
    "#     else:\n",
    "#         __import__(d[0], globals(), locals(),level=0)\n",
    "        \n",
    "!1>/dev/null pip install \\\n",
    "jupyter \\\n",
    "numpy \\\n",
    "pillow \\\n",
    "plotly\n",
    "\n",
    "import numpy as np\n",
    "import os\n",
    "import plotly.graph_objects as go\n",
    "import subprocess\n",
    "from colorsys import hls_to_rgb, rgb_to_hls\n",
    "from IPython import display\n",
    "from IPython.core.display import HTML\n",
    "from PIL import Image\n",
    "from ipywidgets import interact, interactive, fixed, interact_manual\n",
    "import ipywidgets as widgets"
   ]
  },
  {
   "cell_type": "code",
   "execution_count": 16,
   "metadata": {},
   "outputs": [],
   "source": [
    "# subprocess.run('bash -l themer'.split(' '), stdout=subprocess.PIPE)#.stdout.decode('utf-8')"
   ]
  },
  {
   "cell_type": "code",
   "execution_count": 17,
   "metadata": {},
   "outputs": [],
   "source": [
    "\n",
    "with open(f\"{os.environ['HOME']}/.config/nitrogen/bg-saved.cfg\", 'r') as wp_file:\n",
    "    wp_file.readline()\n",
    "    wp_path = wp_file.readline().split('=')[1].strip()\n",
    "    \n",
    "##### Use above or below mutually exclusively\n",
    "\n",
    "# wp_path = f\"{os.environ['HOME']}/Pictures/Wallpapers\""
   ]
  },
  {
   "cell_type": "code",
   "execution_count": 18,
   "metadata": {},
   "outputs": [
    {
     "data": {
      "image/png": "[encoded data removed]",
      "text/plain": [
       "<PIL.PngImagePlugin.PngImageFile image mode=RGBA size=150x84 at 0x7F5B4E029790>"
      ]
     },
     "metadata": {},
     "output_type": "display_data"
    }
   ],
   "source": [
    "wp=Image.open(wp_path)\n",
    "wp.thumbnail((150, 150))\n",
    "pixels = np.array(wp)\n",
    "display.display(wp)"
   ]
  },
  {
   "cell_type": "code",
   "execution_count": 19,
   "metadata": {},
   "outputs": [
    {
     "data": {
      "application/vnd.plotly.v1+json": {
       "config": {
        "plotlyServerURL": "https://plot.ly"
       },
       "data": [
        {
         "marker": {
          "color": [
           [
            255,
            191,
            202
           ],
           [
            254,
            191,
            206
           ],
           [
            253,
            191,
            203
           ],
           [
            251,
            191,
            237
           ],
           [
            250,
            191,
            238
           ],
           [
            249,
            191,
            224
           ],
           [
            242,
            191,
            222
           ],
           [
            216,
            191,
            223
           ],
           [
            132,
            127,
            146
           ],
           [
            104,
            127,
            166
           ],
           [
            90,
            191,
            216
           ],
           [
            66,
            127,
            152
           ],
           [
            45,
            63,
            72
           ],
           [
            255,
            190,
            215
           ],
           [
            255,
            189,
            214
           ],
           [
            255,
            190,
            212
           ],
           [
            254,
            190,
            203
           ],
           [
            253,
            190,
            206
           ],
           [
            252,
            190,
            209
           ],
           [
            251,
            190,
            222
           ],
           [
            248,
            190,
            217
           ],
           [
            240,
            190,
            237
           ],
           [
            65,
            126,
            156
           ],
           [
            44,
            62,
            74
           ],
           [
            255,
            189,
            209
           ],
           [
            254,
            189,
            207
           ],
           [
            253,
            189,
            206
           ],
           [
            252,
            189,
            217
           ],
           [
            251,
            189,
            229
           ],
           [
            243,
            189,
            242
           ],
           [
            241,
            189,
            203
           ],
           [
            225,
            189,
            224
           ],
           [
            168,
            189,
            246
           ],
           [
            153,
            125,
            138
           ],
           [
            88,
            189,
            214
           ],
           [
            67,
            125,
            156
           ],
           [
            254,
            188,
            208
           ],
           [
            253,
            188,
            208
           ],
           [
            252,
            188,
            206
           ],
           [
            220,
            188,
            197
           ],
           [
            218,
            188,
            227
           ],
           [
            200,
            188,
            231
           ],
           [
            111,
            124,
            162
           ],
           [
            99,
            124,
            157
           ],
           [
            92,
            188,
            209
           ],
           [
            89,
            188,
            213
           ],
           [
            88,
            188,
            212
           ],
           [
            66,
            124,
            145
           ],
           [
            65,
            124,
            154
           ],
           [
            64,
            124,
            141
           ],
           [
            40,
            60,
            67
           ],
           [
            255,
            187,
            213
           ],
           [
            254,
            187,
            210
           ],
           [
            253,
            187,
            209
           ],
           [
            252,
            187,
            226
           ],
           [
            251,
            187,
            222
           ],
           [
            250,
            187,
            209
           ],
           [
            191,
            187,
            227
           ],
           [
            187,
            187,
            212
           ],
           [
            186,
            187,
            230
           ],
           [
            251,
            219,
            247
           ],
           [
            254,
            203,
            176
           ],
           [
            98,
            187,
            206
           ],
           [
            91,
            187,
            212
           ],
           [
            73,
            59,
            75
           ],
           [
            65,
            123,
            142
           ],
           [
            44,
            59,
            69
           ],
           [
            255,
            186,
            214
           ],
           [
            254,
            186,
            212
           ],
           [
            253,
            186,
            211
           ],
           [
            252,
            186,
            209
           ],
           [
            250,
            186,
            209
           ],
           [
            249,
            250,
            255
           ],
           [
            190,
            186,
            222
           ],
           [
            140,
            122,
            137
           ],
           [
            114,
            122,
            160
           ],
           [
            88,
            186,
            211
           ],
           [
            86,
            186,
            211
           ],
           [
            66,
            122,
            147
           ],
           [
            62,
            122,
            154
           ],
           [
            43,
            58,
            69
           ],
           [
            253,
            185,
            211
           ],
           [
            252,
            185,
            211
           ],
           [
            251,
            185,
            229
           ],
           [
            250,
            249,
            252
           ],
           [
            246,
            185,
            214
           ],
           [
            255,
            196,
            205
           ],
           [
            220,
            185,
            214
           ],
           [
            183,
            185,
            227
           ],
           [
            181,
            185,
            229
           ],
           [
            174,
            185,
            228
           ],
           [
            254,
            203,
            164
           ],
           [
            112,
            185,
            213
           ],
           [
            250,
            218,
            241
           ],
           [
            254,
            201,
            186
           ],
           [
            253,
            201,
            204
           ],
           [
            248,
            201,
            242
           ],
           [
            244,
            201,
            242
           ],
           [
            254,
            184,
            213
           ],
           [
            253,
            184,
            213
           ],
           [
            251,
            184,
            235
           ],
           [
            233,
            184,
            241
           ],
           [
            218,
            184,
            209
           ],
           [
            210,
            184,
            223
           ],
           [
            204,
            184,
            197
           ],
           [
            196,
            184,
            218
           ],
           [
            124,
            120,
            134
           ],
           [
            115,
            184,
            215
           ],
           [
            88,
            184,
            209
           ],
           [
            87,
            184,
            209
           ],
           [
            46,
            56,
            67
           ],
           [
            45,
            56,
            69
           ],
           [
            255,
            191,
            207
           ],
           [
            253,
            183,
            213
           ],
           [
            252,
            183,
            216
           ],
           [
            251,
            183,
            236
           ],
           [
            251,
            191,
            223
           ],
           [
            244,
            183,
            202
           ],
           [
            241,
            183,
            201
           ],
           [
            232,
            183,
            214
           ],
           [
            212,
            183,
            218
           ],
           [
            113,
            183,
            213
           ],
           [
            102,
            119,
            158
           ],
           [
            100,
            119,
            157
           ],
           [
            254,
            202,
            182
           ],
           [
            252,
            202,
            198
           ],
           [
            63,
            119,
            146
           ],
           [
            249,
            217,
            239
           ],
           [
            254,
            200,
            186
           ],
           [
            100,
            217,
            231
           ],
           [
            253,
            182,
            214
           ],
           [
            252,
            182,
            236
           ],
           [
            253,
            183,
            215
           ],
           [
            242,
            182,
            203
           ],
           [
            231,
            182,
            218
           ],
           [
            253,
            182,
            215
           ],
           [
            209,
            182,
            191
           ],
           [
            253,
            187,
            214
           ],
           [
            64,
            118,
            141
           ],
           [
            255,
            189,
            215
           ],
           [
            62,
            118,
            146
           ],
           [
            44,
            54,
            63
           ],
           [
            253,
            181,
            220
           ],
           [
            252,
            181,
            220
           ],
           [
            253,
            175,
            226
           ],
           [
            245,
            181,
            205
           ],
           [
            239,
            181,
            200
           ],
           [
            231,
            181,
            201
           ],
           [
            255,
            190,
            211
           ],
           [
            252,
            190,
            223
           ],
           [
            254,
            203,
            172
           ],
           [
            249,
            173,
            236
           ],
           [
            176,
            181,
            224
           ],
           [
            251,
            220,
            245
           ],
           [
            93,
            117,
            152
           ],
           [
            89,
            181,
            207
           ],
           [
            50,
            53,
            61
           ],
           [
            253,
            180,
            218
           ],
           [
            251,
            180,
            231
           ],
           [
            250,
            180,
            229
           ],
           [
            253,
            183,
            217
           ],
           [
            244,
            180,
            205
           ],
           [
            175,
            180,
            223
           ],
           [
            161,
            180,
            223
           ],
           [
            100,
            220,
            233
           ],
           [
            117,
            180,
            209
           ],
           [
            108,
            180,
            208
           ],
           [
            105,
            180,
            209
           ],
           [
            254,
            203,
            165
           ],
           [
            62,
            116,
            142
           ],
           [
            253,
            179,
            220
           ],
           [
            251,
            179,
            245
           ],
           [
            208,
            179,
            203
           ],
           [
            200,
            179,
            193
           ],
           [
            255,
            189,
            211
           ],
           [
            253,
            189,
            207
           ],
           [
            252,
            189,
            215
           ],
           [
            173,
            179,
            223
           ],
           [
            127,
            113,
            128
           ],
           [
            154,
            179,
            225
           ],
           [
            152,
            179,
            224
           ],
           [
            149,
            179,
            223
           ],
           [
            155,
            172,
            212
           ],
           [
            126,
            115,
            129
           ],
           [
            110,
            179,
            206
           ],
           [
            251,
            234,
            244
           ],
           [
            62,
            115,
            137
           ],
           [
            61,
            115,
            148
           ],
           [
            254,
            200,
            187
           ],
           [
            253,
            178,
            221
           ],
           [
            242,
            178,
            236
           ],
           [
            227,
            178,
            196
           ],
           [
            208,
            178,
            214
           ],
           [
            253,
            181,
            215
           ],
           [
            252,
            181,
            215
           ],
           [
            253,
            180,
            219
           ],
           [
            150,
            178,
            220
           ],
           [
            146,
            178,
            220
           ],
           [
            130,
            114,
            128
           ],
           [
            88,
            189,
            213
           ],
           [
            85,
            178,
            205
           ],
           [
            60,
            114,
            146
           ],
           [
            254,
            203,
            175
           ],
           [
            47,
            50,
            63
           ],
           [
            253,
            177,
            223
           ],
           [
            250,
            177,
            227
           ],
           [
            248,
            241,
            252
           ],
           [
            253,
            186,
            212
           ],
           [
            234,
            177,
            197
           ],
           [
            162,
            177,
            224
           ],
           [
            158,
            177,
            222
           ],
           [
            253,
            188,
            209
           ],
           [
            218,
            188,
            219
           ],
           [
            152,
            177,
            220
           ],
           [
            149,
            177,
            223
           ],
           [
            255,
            195,
            202
           ],
           [
            102,
            113,
            143
           ],
           [
            93,
            177,
            198
           ],
           [
            85,
            177,
            205
           ],
           [
            60,
            113,
            134
           ],
           [
            46,
            49,
            60
           ],
           [
            253,
            176,
            224
           ],
           [
            226,
            176,
            198
           ],
           [
            205,
            176,
            211
           ],
           [
            131,
            154,
            203
           ],
           [
            175,
            176,
            201
           ],
           [
            168,
            176,
            220
           ],
           [
            100,
            176,
            202
           ],
           [
            84,
            176,
            203
           ],
           [
            83,
            176,
            202
           ],
           [
            61,
            112,
            141
           ],
           [
            253,
            175,
            222
           ],
           [
            250,
            175,
            245
           ],
           [
            241,
            239,
            250
           ],
           [
            254,
            196,
            196
           ],
           [
            67,
            129,
            146
           ],
           [
            174,
            175,
            213
           ],
           [
            167,
            175,
            220
           ],
           [
            163,
            175,
            219
           ],
           [
            150,
            175,
            218
           ],
           [
            149,
            175,
            213
           ],
           [
            254,
            187,
            211
           ],
           [
            105,
            175,
            206
           ],
           [
            103,
            111,
            150
           ],
           [
            62,
            111,
            138
           ],
           [
            41,
            47,
            59
           ],
           [
            76,
            153,
            181
           ],
           [
            202,
            174,
            188
           ],
           [
            143,
            174,
            213
           ],
           [
            253,
            179,
            221
           ],
           [
            84,
            174,
            201
           ],
           [
            251,
            173,
            232
           ],
           [
            249,
            237,
            242
           ],
           [
            241,
            237,
            252
           ],
           [
            231,
            173,
            227
           ],
           [
            132,
            145,
            179
           ],
           [
            176,
            173,
            202
           ],
           [
            250,
            185,
            218
           ],
           [
            254,
            186,
            213
           ],
           [
            252,
            186,
            211
           ],
           [
            83,
            173,
            201
           ],
           [
            82,
            173,
            201
           ],
           [
            253,
            188,
            215
           ],
           [
            252,
            188,
            221
           ],
           [
            60,
            109,
            136
           ],
           [
            59,
            109,
            139
           ],
           [
            236,
            236,
            246
           ],
           [
            156,
            172,
            214
           ],
           [
            254,
            198,
            220
           ],
           [
            150,
            172,
            214
           ],
           [
            250,
            228,
            238
           ],
           [
            135,
            172,
            206
           ],
           [
            83,
            172,
            199
           ],
           [
            60,
            108,
            126
           ],
           [
            58,
            108,
            135
           ],
           [
            251,
            161,
            246
           ],
           [
            39,
            44,
            51
           ],
           [
            251,
            160,
            244
           ],
           [
            79,
            160,
            190
           ],
           [
            244,
            171,
            227
           ],
           [
            238,
            235,
            246
           ],
           [
            234,
            235,
            252
           ],
           [
            224,
            171,
            192
           ],
           [
            205,
            171,
            185
           ],
           [
            172,
            171,
            207
           ],
           [
            155,
            171,
            214
           ],
           [
            138,
            171,
            197
           ],
           [
            134,
            171,
            218
           ],
           [
            107,
            107,
            142
           ],
           [
            254,
            203,
            171
           ],
           [
            251,
            170,
            232
           ],
           [
            80,
            171,
            199
           ],
           [
            254,
            200,
            189
           ],
           [
            252,
            185,
            215
           ],
           [
            251,
            185,
            209
           ],
           [
            174,
            185,
            227
           ],
           [
            254,
            199,
            190
           ],
           [
            248,
            170,
            240
           ],
           [
            244,
            215,
            239
           ],
           [
            233,
            234,
            251
           ],
           [
            247,
            214,
            243
           ],
           [
            192,
            170,
            197
           ],
           [
            177,
            170,
            207
           ],
           [
            168,
            170,
            182
           ],
           [
            152,
            170,
            212
           ],
           [
            149,
            170,
            214
           ],
           [
            122,
            170,
            244
           ],
           [
            113,
            106,
            119
           ],
           [
            100,
            170,
            195
           ],
           [
            81,
            170,
            198
           ],
           [
            253,
            176,
            225
           ],
           [
            244,
            169,
            236
           ],
           [
            241,
            233,
            247
           ],
           [
            226,
            169,
            187
           ],
           [
            224,
            169,
            187
           ],
           [
            254,
            203,
            167
           ],
           [
            167,
            169,
            208
           ],
           [
            133,
            169,
            212
           ],
           [
            123,
            169,
            237
           ],
           [
            103,
            169,
            209
           ],
           [
            82,
            169,
            198
           ],
           [
            59,
            105,
            120
           ],
           [
            58,
            105,
            121
           ],
           [
            253,
            184,
            214
           ],
           [
            254,
            199,
            188
           ],
           [
            237,
            232,
            250
           ],
           [
            255,
            198,
            208
           ],
           [
            254,
            198,
            192
           ],
           [
            48,
            75,
            91
           ],
           [
            254,
            197,
            194
           ],
           [
            255,
            196,
            204
           ],
           [
            254,
            196,
            194
           ],
           [
            251,
            196,
            232
           ],
           [
            131,
            168,
            234
           ],
           [
            255,
            195,
            200
           ],
           [
            254,
            195,
            198
           ],
           [
            254,
            194,
            200
           ],
           [
            84,
            168,
            197
           ],
           [
            81,
            168,
            196
           ],
           [
            59,
            104,
            128
           ],
           [
            57,
            104,
            125
           ],
           [
            56,
            104,
            133
           ],
           [
            255,
            192,
            212
           ],
           [
            255,
            191,
            211
           ],
           [
            248,
            231,
            250
           ],
           [
            253,
            191,
            205
           ],
           [
            246,
            167,
            238
           ],
           [
            242,
            167,
            219
           ],
           [
            240,
            231,
            251
           ],
           [
            251,
            191,
            229
           ],
           [
            194,
            167,
            189
           ],
           [
            144,
            167,
            211
           ],
           [
            58,
            103,
            118
           ],
           [
            54,
            89,
            103
           ],
           [
            251,
            230,
            250
           ],
           [
            250,
            230,
            238
           ],
           [
            157,
            166,
            194
           ],
           [
            151,
            166,
            208
           ],
           [
            56,
            102,
            130
           ],
           [
            254,
            203,
            177
           ],
           [
            247,
            165,
            237
           ],
           [
            245,
            229,
            249
           ],
           [
            214,
            165,
            183
           ],
           [
            142,
            165,
            212
           ],
           [
            136,
            165,
            211
           ],
           [
            113,
            101,
            116
           ],
           [
            106,
            165,
            194
           ],
           [
            87,
            165,
            185
           ],
           [
            82,
            165,
            193
           ],
           [
            81,
            165,
            194
           ],
           [
            79,
            165,
            194
           ],
           [
            250,
            228,
            245
           ],
           [
            249,
            228,
            237
           ],
           [
            59,
            107,
            127
           ],
           [
            183,
            164,
            208
           ],
           [
            169,
            164,
            195
           ],
           [
            158,
            164,
            208
           ],
           [
            251,
            227,
            246
           ],
           [
            57,
            100,
            121
           ],
           [
            56,
            100,
            114
           ],
           [
            251,
            224,
            246
           ],
           [
            252,
            163,
            249
           ],
           [
            251,
            227,
            249
           ],
           [
            254,
            202,
            192
           ],
           [
            246,
            227,
            246
           ],
           [
            191,
            163,
            177
           ],
           [
            187,
            163,
            195
           ],
           [
            161,
            163,
            209
           ],
           [
            255,
            190,
            213
           ],
           [
            137,
            163,
            206
           ],
           [
            136,
            163,
            198
           ],
           [
            120,
            99,
            116
           ],
           [
            119,
            163,
            187
           ],
           [
            57,
            99,
            119
           ],
           [
            251,
            226,
            248
           ],
           [
            56,
            104,
            119
           ],
           [
            255,
            195,
            205
           ],
           [
            209,
            162,
            182
           ],
           [
            159,
            162,
            177
           ],
           [
            148,
            162,
            205
           ],
           [
            142,
            162,
            202
           ],
           [
            139,
            162,
            207
           ],
           [
            129,
            162,
            208
           ],
           [
            114,
            162,
            198
           ],
           [
            82,
            162,
            189
           ],
           [
            80,
            162,
            194
           ],
           [
            78,
            162,
            191
           ],
           [
            57,
            98,
            114
           ],
           [
            255,
            225,
            250
           ],
           [
            252,
            225,
            249
           ],
           [
            251,
            225,
            247
           ],
           [
            253,
            175,
            227
           ],
           [
            240,
            161,
            250
           ],
           [
            237,
            225,
            238
           ],
           [
            149,
            161,
            209
           ],
           [
            121,
            161,
            200
           ],
           [
            81,
            161,
            191
           ],
           [
            56,
            97,
            125
           ],
           [
            253,
            224,
            247
           ],
           [
            252,
            224,
            247
           ],
           [
            251,
            224,
            240
           ],
           [
            250,
            224,
            248
           ],
           [
            248,
            224,
            244
           ],
           [
            247,
            224,
            246
           ],
           [
            149,
            160,
            202
           ],
           [
            148,
            160,
            202
           ],
           [
            115,
            160,
            197
           ],
           [
            79,
            160,
            185
           ],
           [
            78,
            160,
            191
           ],
           [
            255,
            223,
            253
           ],
           [
            251,
            223,
            237
           ],
           [
            250,
            223,
            248
           ],
           [
            243,
            159,
            222
           ],
           [
            208,
            159,
            180
           ],
           [
            158,
            159,
            190
           ],
           [
            156,
            159,
            197
           ],
           [
            146,
            159,
            202
           ],
           [
            130,
            159,
            199
           ],
           [
            255,
            189,
            213
           ],
           [
            55,
            95,
            111
           ],
           [
            253,
            181,
            217
           ],
           [
            255,
            222,
            248
           ],
           [
            252,
            222,
            250
           ],
           [
            251,
            222,
            249
           ],
           [
            173,
            158,
            173
           ],
           [
            171,
            158,
            172
           ],
           [
            102,
            222,
            231
           ],
           [
            56,
            94,
            117
           ],
           [
            52,
            94,
            115
           ],
           [
            253,
            221,
            247
           ],
           [
            251,
            221,
            247
           ],
           [
            247,
            221,
            244
           ],
           [
            243,
            157,
            233
           ],
           [
            254,
            203,
            189
           ],
           [
            203,
            157,
            176
           ],
           [
            255,
            196,
            203
           ],
           [
            171,
            157,
            170
           ],
           [
            152,
            157,
            207
           ],
           [
            91,
            93,
            105
           ],
           [
            77,
            157,
            187
           ],
           [
            54,
            93,
            123
           ],
           [
            255,
            220,
            245
           ],
           [
            254,
            220,
            248
           ],
           [
            252,
            220,
            245
           ],
           [
            251,
            220,
            246
           ],
           [
            249,
            220,
            244
           ],
           [
            230,
            156,
            220
           ],
           [
            138,
            156,
            191
           ],
           [
            119,
            156,
            201
           ],
           [
            101,
            92,
            112
           ],
           [
            100,
            220,
            229
           ],
           [
            94,
            156,
            187
           ],
           [
            77,
            156,
            187
           ],
           [
            54,
            92,
            106
           ],
           [
            53,
            92,
            114
           ],
           [
            51,
            92,
            116
           ],
           [
            254,
            219,
            248
           ],
           [
            253,
            219,
            245
           ],
           [
            252,
            219,
            247
           ],
           [
            251,
            219,
            244
           ],
           [
            250,
            219,
            245
           ],
           [
            247,
            219,
            242
           ],
           [
            140,
            155,
            197
           ],
           [
            130,
            155,
            196
           ],
           [
            122,
            155,
            208
           ],
           [
            252,
            219,
            246
           ],
           [
            250,
            219,
            236
           ],
           [
            102,
            91,
            104
           ],
           [
            101,
            219,
            229
           ],
           [
            84,
            91,
            103
           ],
           [
            54,
            91,
            111
           ],
           [
            53,
            91,
            107
           ],
           [
            255,
            218,
            244
           ],
           [
            254,
            218,
            244
           ],
           [
            252,
            218,
            238
           ],
           [
            251,
            218,
            212
           ],
           [
            250,
            218,
            243
           ],
           [
            247,
            218,
            237
           ],
           [
            244,
            218,
            239
           ],
           [
            230,
            218,
            231
           ],
           [
            253,
            188,
            211
           ],
           [
            252,
            188,
            219
           ],
           [
            142,
            154,
            196
           ],
           [
            131,
            154,
            197
           ],
           [
            130,
            154,
            198
           ],
           [
            122,
            154,
            198
           ],
           [
            75,
            154,
            185
           ],
           [
            253,
            217,
            242
           ],
           [
            252,
            217,
            244
           ],
           [
            251,
            217,
            241
           ],
           [
            250,
            217,
            236
           ],
           [
            249,
            217,
            246
           ],
           [
            247,
            217,
            240
           ],
           [
            246,
            217,
            239
           ],
           [
            245,
            217,
            238
           ],
           [
            249,
            207,
            241
           ],
           [
            242,
            217,
            236
           ],
           [
            49,
            83,
            93
           ],
           [
            253,
            205,
            211
           ],
           [
            254,
            203,
            163
           ],
           [
            100,
            217,
            230
           ],
           [
            99,
            217,
            233
           ],
           [
            98,
            217,
            231
           ],
           [
            97,
            217,
            232
           ],
           [
            255,
            218,
            242
           ],
           [
            251,
            218,
            242
           ],
           [
            250,
            218,
            244
           ],
           [
            76,
            153,
            185
           ],
           [
            75,
            153,
            181
           ],
           [
            69,
            89,
            102
           ],
           [
            252,
            201,
            205
           ],
           [
            54,
            89,
            113
           ],
           [
            53,
            89,
            103
           ],
           [
            248,
            201,
            241
           ],
           [
            94,
            203,
            223
           ],
           [
            253,
            216,
            244
           ],
           [
            252,
            216,
            211
           ],
           [
            250,
            216,
            245
           ],
           [
            249,
            216,
            239
           ],
           [
            248,
            216,
            241
           ],
           [
            246,
            216,
            240
           ],
           [
            240,
            216,
            246
           ],
           [
            248,
            210,
            231
           ],
           [
            158,
            152,
            174
           ],
           [
            129,
            216,
            230
           ],
           [
            254,
            203,
            173
           ],
           [
            75,
            152,
            177
           ],
           [
            74,
            152,
            181
           ],
           [
            53,
            88,
            101
           ],
           [
            254,
            215,
            242
           ],
           [
            253,
            191,
            204
           ],
           [
            248,
            215,
            240
           ],
           [
            247,
            215,
            235
           ],
           [
            246,
            215,
            241
           ],
           [
            254,
            203,
            178
           ],
           [
            236,
            151,
            233
           ],
           [
            254,
            201,
            190
           ],
           [
            137,
            151,
            182
           ],
           [
            130,
            151,
            196
           ],
           [
            124,
            151,
            191
           ],
           [
            108,
            151,
            194
           ],
           [
            99,
            215,
            229
           ],
           [
            97,
            215,
            229
           ],
           [
            254,
            202,
            183
           ],
           [
            252,
            202,
            205
           ],
           [
            76,
            151,
            177
           ],
           [
            74,
            151,
            179
           ],
           [
            253,
            217,
            246
           ],
           [
            251,
            217,
            242
           ],
           [
            249,
            217,
            240
           ],
           [
            50,
            87,
            98
           ],
           [
            254,
            200,
            185
           ],
           [
            251,
            214,
            207
           ],
           [
            250,
            214,
            230
           ],
           [
            247,
            214,
            208
           ],
           [
            238,
            214,
            245
           ],
           [
            253,
            182,
            216
           ],
           [
            252,
            182,
            240
           ],
           [
            210,
            214,
            217
           ],
           [
            169,
            150,
            164
           ],
           [
            138,
            150,
            192
           ],
           [
            74,
            150,
            178
           ],
           [
            255,
            192,
            213
           ],
           [
            251,
            218,
            244
           ],
           [
            252,
            213,
            217
           ],
           [
            251,
            213,
            233
           ],
           [
            255,
            190,
            214
           ],
           [
            254,
            190,
            206
           ],
           [
            253,
            190,
            208
           ],
           [
            191,
            149,
            168
           ],
           [
            51,
            85,
            109
           ],
           [
            255,
            189,
            216
           ],
           [
            254,
            199,
            191
           ],
           [
            125,
            149,
            188
           ],
           [
            99,
            213,
            226
           ],
           [
            98,
            213,
            230
           ],
           [
            74,
            85,
            98
           ],
           [
            51,
            85,
            97
           ],
           [
            252,
            216,
            222
           ],
           [
            254,
            203,
            169
           ],
           [
            250,
            212,
            236
           ],
           [
            249,
            212,
            238
           ],
           [
            245,
            212,
            241
           ],
           [
            238,
            212,
            240
           ],
           [
            237,
            212,
            241
           ],
           [
            251,
            183,
            228
           ],
           [
            253,
            183,
            214
           ],
           [
            146,
            148,
            162
           ],
           [
            254,
            201,
            200
           ],
           [
            127,
            148,
            193
           ],
           [
            100,
            220,
            230
           ],
           [
            254,
            203,
            168
           ],
           [
            120,
            148,
            190
           ],
           [
            99,
            212,
            223
           ],
           [
            74,
            84,
            93
           ],
           [
            252,
            211,
            220
           ],
           [
            251,
            223,
            246
           ],
           [
            255,
            189,
            210
           ],
           [
            254,
            189,
            208
           ],
           [
            145,
            211,
            234
           ],
           [
            141,
            147,
            186
           ],
           [
            128,
            147,
            194
           ],
           [
            117,
            147,
            171
           ],
           [
            254,
            200,
            188
           ],
           [
            74,
            147,
            170
           ],
           [
            61,
            83,
            92
           ],
           [
            49,
            83,
            95
           ],
           [
            47,
            83,
            91
           ],
           [
            254,
            210,
            201
           ],
           [
            248,
            210,
            243
           ],
           [
            241,
            210,
            241
           ],
           [
            253,
            181,
            218
           ],
           [
            180,
            146,
            161
           ],
           [
            167,
            146,
            159
           ],
           [
            253,
            180,
            220
           ],
           [
            97,
            210,
            229
           ],
           [
            76,
            146,
            178
           ],
           [
            72,
            146,
            175
           ],
           [
            72,
            146,
            178
           ],
           [
            52,
            82,
            97
           ],
           [
            50,
            82,
            108
           ],
           [
            48,
            82,
            92
           ],
           [
            252,
            186,
            217
           ],
           [
            249,
            186,
            207
           ],
           [
            254,
            209,
            200
           ],
           [
            253,
            209,
            219
           ],
           [
            251,
            209,
            216
           ],
           [
            250,
            209,
            244
           ],
           [
            253,
            217,
            244
           ],
           [
            253,
            188,
            210
           ],
           [
            143,
            145,
            171
           ],
           [
            132,
            145,
            169
           ],
           [
            96,
            81,
            93
           ],
           [
            254,
            195,
            197
           ],
           [
            47,
            81,
            89
           ],
           [
            254,
            203,
            180
           ],
           [
            254,
            208,
            220
           ],
           [
            251,
            208,
            210
           ],
           [
            248,
            208,
            244
           ],
           [
            247,
            208,
            246
           ],
           [
            243,
            208,
            243
           ],
           [
            234,
            208,
            240
           ],
           [
            88,
            188,
            214
           ],
           [
            251,
            183,
            214
           ],
           [
            101,
            208,
            230
           ],
           [
            96,
            208,
            226
           ],
           [
            253,
            183,
            216
           ],
           [
            73,
            144,
            177
           ],
           [
            49,
            80,
            94
           ],
           [
            48,
            80,
            91
           ],
           [
            46,
            80,
            100
           ],
           [
            254,
            202,
            184
           ],
           [
            252,
            207,
            195
           ],
           [
            249,
            207,
            202
           ],
           [
            246,
            207,
            244
           ],
           [
            219,
            207,
            233
           ],
           [
            255,
            196,
            201
           ],
           [
            254,
            187,
            212
           ],
           [
            253,
            187,
            210
           ],
           [
            252,
            187,
            216
           ],
           [
            250,
            187,
            226
           ],
           [
            73,
            143,
            175
           ],
           [
            72,
            143,
            176
           ],
           [
            245,
            153,
            236
           ],
           [
            249,
            206,
            212
           ],
           [
            239,
            206,
            231
           ],
           [
            236,
            206,
            239
           ],
           [
            175,
            142,
            173
           ],
           [
            166,
            142,
            156
           ],
           [
            122,
            142,
            175
           ],
           [
            105,
            142,
            175
           ],
           [
            254,
            199,
            189
           ],
           [
            50,
            78,
            91
           ],
           [
            47,
            78,
            89
           ],
           [
            254,
            203,
            179
           ],
           [
            254,
            205,
            194
           ],
           [
            253,
            205,
            191
           ],
           [
            251,
            205,
            235
           ],
           [
            250,
            205,
            211
           ],
           [
            249,
            205,
            211
           ],
           [
            248,
            205,
            211
           ],
           [
            247,
            205,
            210
           ],
           [
            206,
            205,
            240
           ],
           [
            251,
            185,
            211
           ],
           [
            114,
            141,
            184
           ],
           [
            98,
            205,
            219
           ],
           [
            96,
            205,
            226
           ],
           [
            253,
            186,
            210
           ],
           [
            252,
            186,
            210
           ],
           [
            72,
            141,
            172
           ],
           [
            47,
            77,
            88
           ],
           [
            254,
            203,
            174
           ],
           [
            253,
            204,
            198
           ],
           [
            252,
            204,
            214
           ],
           [
            244,
            204,
            243
           ],
           [
            223,
            204,
            229
           ],
           [
            254,
            198,
            193
           ],
           [
            103,
            204,
            220
           ],
           [
            75,
            140,
            169
           ],
           [
            78,
            160,
            187
           ],
           [
            254,
            203,
            162
           ],
           [
            253,
            203,
            203
           ],
           [
            252,
            203,
            201
           ],
           [
            251,
            203,
            204
           ],
           [
            248,
            203,
            240
           ],
           [
            247,
            203,
            239
           ],
           [
            233,
            203,
            229
           ],
           [
            254,
            200,
            192
           ],
           [
            169,
            139,
            154
           ],
           [
            96,
            203,
            225
           ],
           [
            95,
            203,
            225
           ],
           [
            94,
            203,
            226
           ],
           [
            76,
            139,
            169
           ],
           [
            71,
            139,
            167
           ],
           [
            69,
            139,
            163
           ],
           [
            253,
            185,
            212
           ],
           [
            250,
            185,
            208
           ],
           [
            49,
            75,
            86
           ],
           [
            48,
            75,
            94
           ],
           [
            255,
            202,
            229
           ],
           [
            254,
            202,
            181
           ],
           [
            253,
            202,
            196
           ],
           [
            252,
            202,
            211
           ],
           [
            251,
            202,
            213
           ],
           [
            248,
            202,
            242
           ],
           [
            234,
            202,
            233
           ],
           [
            254,
            199,
            187
           ],
           [
            153,
            138,
            150
           ],
           [
            134,
            202,
            226
           ],
           [
            121,
            138,
            193
           ],
           [
            254,
            203,
            170
           ],
           [
            70,
            138,
            169
           ],
           [
            69,
            138,
            163
           ],
           [
            253,
            177,
            224
           ],
           [
            49,
            74,
            98
           ],
           [
            48,
            74,
            85
           ],
           [
            47,
            74,
            83
           ],
           [
            253,
            176,
            226
           ],
           [
            254,
            201,
            185
           ],
           [
            253,
            201,
            200
           ],
           [
            252,
            201,
            206
           ],
           [
            248,
            201,
            243
           ],
           [
            244,
            201,
            245
           ],
           [
            179,
            137,
            154
           ],
           [
            120,
            137,
            173
           ],
           [
            92,
            201,
            222
           ],
           [
            70,
            137,
            160
           ],
           [
            57,
            73,
            82
           ],
           [
            55,
            73,
            82
           ],
           [
            54,
            73,
            81
           ],
           [
            49,
            73,
            80
           ],
           [
            47,
            73,
            82
           ],
           [
            254,
            184,
            212
           ],
           [
            253,
            184,
            212
           ],
           [
            251,
            184,
            210
           ],
           [
            254,
            200,
            184
           ],
           [
            254,
            199,
            185
           ],
           [
            254,
            198,
            191
           ],
           [
            215,
            200,
            231
           ],
           [
            254,
            197,
            193
           ],
           [
            255,
            196,
            199
           ],
           [
            254,
            196,
            195
           ],
           [
            255,
            195,
            203
           ],
           [
            254,
            195,
            195
           ],
           [
            117,
            136,
            178
           ],
           [
            94,
            200,
            222
           ],
           [
            93,
            200,
            222
           ],
           [
            70,
            136,
            158
           ],
           [
            67,
            136,
            163
           ],
           [
            47,
            72,
            81
           ],
           [
            90,
            195,
            217
           ],
           [
            255,
            192,
            205
           ],
           [
            253,
            192,
            205
           ],
           [
            255,
            191,
            213
           ],
           [
            254,
            199,
            155
           ],
           [
            253,
            199,
            210
           ],
           [
            195,
            192,
            203
           ],
           [
            201,
            199,
            234
           ],
           [
            118,
            135,
            179
           ],
           [
            113,
            135,
            172
           ],
           [
            80,
            135,
            162
           ],
           [
            68,
            135,
            166
           ],
           [
            44,
            71,
            80
           ],
           [
            255,
            198,
            200
           ],
           [
            254,
            198,
            188
           ],
           [
            246,
            198,
            245
           ],
           [
            244,
            198,
            243
           ],
           [
            116,
            134,
            173
           ],
           [
            110,
            134,
            173
           ],
           [
            70,
            134,
            155
           ],
           [
            67,
            134,
            164
           ],
           [
            45,
            70,
            79
           ],
           [
            43,
            70,
            85
           ],
           [
            255,
            197,
            201
           ],
           [
            254,
            197,
            192
           ],
           [
            253,
            197,
            229
           ],
           [
            252,
            197,
            224
           ],
           [
            246,
            197,
            244
           ],
           [
            229,
            197,
            217
           ],
           [
            204,
            197,
            239
           ],
           [
            146,
            133,
            146
           ],
           [
            99,
            212,
            232
           ],
           [
            115,
            197,
            220
           ],
           [
            46,
            69,
            80
           ],
           [
            44,
            69,
            77
           ],
           [
            255,
            196,
            197
           ],
           [
            254,
            196,
            193
           ],
           [
            251,
            196,
            209
           ],
           [
            237,
            196,
            230
           ],
           [
            253,
            178,
            222
           ],
           [
            110,
            132,
            165
           ],
           [
            92,
            196,
            219
           ],
           [
            67,
            132,
            158
           ],
           [
            60,
            68,
            79
           ],
           [
            48,
            68,
            76
           ],
           [
            47,
            68,
            78
           ],
           [
            251,
            224,
            249
           ],
           [
            255,
            195,
            199
           ],
           [
            254,
            195,
            194
           ],
           [
            251,
            195,
            226
           ],
           [
            250,
            195,
            224
           ],
           [
            247,
            195,
            224
           ],
           [
            252,
            187,
            220
           ],
           [
            254,
            203,
            192
           ],
           [
            90,
            131,
            161
           ],
           [
            76,
            131,
            153
           ],
           [
            45,
            67,
            82
           ],
           [
            255,
            194,
            211
           ],
           [
            254,
            194,
            199
           ],
           [
            252,
            194,
            220
           ],
           [
            57,
            104,
            136
           ],
           [
            239,
            194,
            220
           ],
           [
            155,
            130,
            146
           ],
           [
            73,
            130,
            161
           ],
           [
            66,
            130,
            157
           ],
           [
            45,
            66,
            76
           ],
           [
            254,
            193,
            201
           ],
           [
            252,
            193,
            223
           ],
           [
            248,
            193,
            221
           ],
           [
            238,
            193,
            198
           ],
           [
            203,
            193,
            226
           ],
           [
            189,
            193,
            231
           ],
           [
            176,
            129,
            149
           ],
           [
            164,
            193,
            224
           ],
           [
            109,
            129,
            161
           ],
           [
            254,
            202,
            190
           ],
           [
            88,
            193,
            216
           ],
           [
            67,
            129,
            164
           ],
           [
            46,
            65,
            79
           ],
           [
            45,
            65,
            75
           ],
           [
            41,
            65,
            74
           ],
           [
            255,
            192,
            206
           ],
           [
            254,
            192,
            202
           ],
           [
            253,
            192,
            203
           ],
           [
            252,
            192,
            227
           ],
           [
            251,
            192,
            208
           ],
           [
            248,
            192,
            244
           ],
           [
            246,
            192,
            220
           ],
           [
            217,
            192,
            208
           ],
           [
            198,
            192,
            232
           ],
           [
            195,
            192,
            208
           ],
           [
            108,
            192,
            214
           ],
           [
            94,
            192,
            219
           ],
           [
            91,
            192,
            218
           ],
           [
            67,
            128,
            161
           ],
           [
            65,
            128,
            151
           ]
          ],
          "opacity": 1,
          "size": 3
         },
         "mode": "markers",
         "type": "scatter3d",
         "x": [
          255,
          254,
          253,
          251,
          250,
          249,
          242,
          216,
          132,
          104,
          90,
          66,
          45,
          255,
          255,
          255,
          254,
          253,
          252,
          251,
          248,
          240,
          65,
          44,
          255,
          254,
          253,
          252,
          251,
          243,
          241,
          225,
          168,
          153,
          88,
          67,
          254,
          253,
          252,
          220,
          218,
          200,
          111,
          99,
          92,
          89,
          88,
          66,
          65,
          64,
          40,
          255,
          254,
          253,
          252,
          251,
          250,
          191,
          187,
          186,
          251,
          254,
          98,
          91,
          73,
          65,
          44,
          255,
          254,
          253,
          252,
          250,
          249,
          190,
          140,
          114,
          88,
          86,
          66,
          62,
          43,
          253,
          252,
          251,
          250,
          246,
          255,
          220,
          183,
          181,
          174,
          254,
          112,
          250,
          254,
          253,
          248,
          244,
          254,
          253,
          251,
          233,
          218,
          210,
          204,
          196,
          124,
          115,
          88,
          87,
          46,
          45,
          255,
          253,
          252,
          251,
          251,
          244,
          241,
          232,
          212,
          113,
          102,
          100,
          254,
          252,
          63,
          249,
          254,
          100,
          253,
          252,
          253,
          242,
          231,
          253,
          209,
          253,
          64,
          255,
          62,
          44,
          253,
          252,
          253,
          245,
          239,
          231,
          255,
          252,
          254,
          249,
          176,
          251,
          93,
          89,
          50,
          253,
          251,
          250,
          253,
          244,
          175,
          161,
          100,
          117,
          108,
          105,
          254,
          62,
          253,
          251,
          208,
          200,
          255,
          253,
          252,
          173,
          127,
          154,
          152,
          149,
          155,
          126,
          110,
          251,
          62,
          61,
          254,
          253,
          242,
          227,
          208,
          253,
          252,
          253,
          150,
          146,
          130,
          88,
          85,
          60,
          254,
          47,
          253,
          250,
          248,
          253,
          234,
          162,
          158,
          253,
          218,
          152,
          149,
          255,
          102,
          93,
          85,
          60,
          46,
          253,
          226,
          205,
          131,
          175,
          168,
          100,
          84,
          83,
          61,
          253,
          250,
          241,
          254,
          67,
          174,
          167,
          163,
          150,
          149,
          254,
          105,
          103,
          62,
          41,
          76,
          202,
          143,
          253,
          84,
          251,
          249,
          241,
          231,
          132,
          176,
          250,
          254,
          252,
          83,
          82,
          253,
          252,
          60,
          59,
          236,
          156,
          254,
          150,
          250,
          135,
          83,
          60,
          58,
          251,
          39,
          251,
          79,
          244,
          238,
          234,
          224,
          205,
          172,
          155,
          138,
          134,
          107,
          254,
          251,
          80,
          254,
          252,
          251,
          174,
          254,
          248,
          244,
          233,
          247,
          192,
          177,
          168,
          152,
          149,
          122,
          113,
          100,
          81,
          253,
          244,
          241,
          226,
          224,
          254,
          167,
          133,
          123,
          103,
          82,
          59,
          58,
          253,
          254,
          237,
          255,
          254,
          48,
          254,
          255,
          254,
          251,
          131,
          255,
          254,
          254,
          84,
          81,
          59,
          57,
          56,
          255,
          255,
          248,
          253,
          246,
          242,
          240,
          251,
          194,
          144,
          58,
          54,
          251,
          250,
          157,
          151,
          56,
          254,
          247,
          245,
          214,
          142,
          136,
          113,
          106,
          87,
          82,
          81,
          79,
          250,
          249,
          59,
          183,
          169,
          158,
          251,
          57,
          56,
          251,
          252,
          251,
          254,
          246,
          191,
          187,
          161,
          255,
          137,
          136,
          120,
          119,
          57,
          251,
          56,
          255,
          209,
          159,
          148,
          142,
          139,
          129,
          114,
          82,
          80,
          78,
          57,
          255,
          252,
          251,
          253,
          240,
          237,
          149,
          121,
          81,
          56,
          253,
          252,
          251,
          250,
          248,
          247,
          149,
          148,
          115,
          79,
          78,
          255,
          251,
          250,
          243,
          208,
          158,
          156,
          146,
          130,
          255,
          55,
          253,
          255,
          252,
          251,
          173,
          171,
          102,
          56,
          52,
          253,
          251,
          247,
          243,
          254,
          203,
          255,
          171,
          152,
          91,
          77,
          54,
          255,
          254,
          252,
          251,
          249,
          230,
          138,
          119,
          101,
          100,
          94,
          77,
          54,
          53,
          51,
          254,
          253,
          252,
          251,
          250,
          247,
          140,
          130,
          122,
          252,
          250,
          102,
          101,
          84,
          54,
          53,
          255,
          254,
          252,
          251,
          250,
          247,
          244,
          230,
          253,
          252,
          142,
          131,
          130,
          122,
          75,
          253,
          252,
          251,
          250,
          249,
          247,
          246,
          245,
          249,
          242,
          49,
          253,
          254,
          100,
          99,
          98,
          97,
          255,
          251,
          250,
          76,
          75,
          69,
          252,
          54,
          53,
          248,
          94,
          253,
          252,
          250,
          249,
          248,
          246,
          240,
          248,
          158,
          129,
          254,
          75,
          74,
          53,
          254,
          253,
          248,
          247,
          246,
          254,
          236,
          254,
          137,
          130,
          124,
          108,
          99,
          97,
          254,
          252,
          76,
          74,
          253,
          251,
          249,
          50,
          254,
          251,
          250,
          247,
          238,
          253,
          252,
          210,
          169,
          138,
          74,
          255,
          251,
          252,
          251,
          255,
          254,
          253,
          191,
          51,
          255,
          254,
          125,
          99,
          98,
          74,
          51,
          252,
          254,
          250,
          249,
          245,
          238,
          237,
          251,
          253,
          146,
          254,
          127,
          100,
          254,
          120,
          99,
          74,
          252,
          251,
          255,
          254,
          145,
          141,
          128,
          117,
          254,
          74,
          61,
          49,
          47,
          254,
          248,
          241,
          253,
          180,
          167,
          253,
          97,
          76,
          72,
          72,
          52,
          50,
          48,
          252,
          249,
          254,
          253,
          251,
          250,
          253,
          253,
          143,
          132,
          96,
          254,
          47,
          254,
          254,
          251,
          248,
          247,
          243,
          234,
          88,
          251,
          101,
          96,
          253,
          73,
          49,
          48,
          46,
          254,
          252,
          249,
          246,
          219,
          255,
          254,
          253,
          252,
          250,
          73,
          72,
          245,
          249,
          239,
          236,
          175,
          166,
          122,
          105,
          254,
          50,
          47,
          254,
          254,
          253,
          251,
          250,
          249,
          248,
          247,
          206,
          251,
          114,
          98,
          96,
          253,
          252,
          72,
          47,
          254,
          253,
          252,
          244,
          223,
          254,
          103,
          75,
          78,
          254,
          253,
          252,
          251,
          248,
          247,
          233,
          254,
          169,
          96,
          95,
          94,
          76,
          71,
          69,
          253,
          250,
          49,
          48,
          255,
          254,
          253,
          252,
          251,
          248,
          234,
          254,
          153,
          134,
          121,
          254,
          70,
          69,
          253,
          49,
          48,
          47,
          253,
          254,
          253,
          252,
          248,
          244,
          179,
          120,
          92,
          70,
          57,
          55,
          54,
          49,
          47,
          254,
          253,
          251,
          254,
          254,
          254,
          215,
          254,
          255,
          254,
          255,
          254,
          117,
          94,
          93,
          70,
          67,
          47,
          90,
          255,
          253,
          255,
          254,
          253,
          195,
          201,
          118,
          113,
          80,
          68,
          44,
          255,
          254,
          246,
          244,
          116,
          110,
          70,
          67,
          45,
          43,
          255,
          254,
          253,
          252,
          246,
          229,
          204,
          146,
          99,
          115,
          46,
          44,
          255,
          254,
          251,
          237,
          253,
          110,
          92,
          67,
          60,
          48,
          47,
          251,
          255,
          254,
          251,
          250,
          247,
          252,
          254,
          90,
          76,
          45,
          255,
          254,
          252,
          57,
          239,
          155,
          73,
          66,
          45,
          254,
          252,
          248,
          238,
          203,
          189,
          176,
          164,
          109,
          254,
          88,
          67,
          46,
          45,
          41,
          255,
          254,
          253,
          252,
          251,
          248,
          246,
          217,
          198,
          195,
          108,
          94,
          91,
          67,
          65
         ],
         "y": [
          191,
          191,
          191,
          191,
          191,
          191,
          191,
          191,
          127,
          127,
          191,
          127,
          63,
          190,
          189,
          190,
          190,
          190,
          190,
          190,
          190,
          190,
          126,
          62,
          189,
          189,
          189,
          189,
          189,
          189,
          189,
          189,
          189,
          125,
          189,
          125,
          188,
          188,
          188,
          188,
          188,
          188,
          124,
          124,
          188,
          188,
          188,
          124,
          124,
          124,
          60,
          187,
          187,
          187,
          187,
          187,
          187,
          187,
          187,
          187,
          219,
          203,
          187,
          187,
          59,
          123,
          59,
          186,
          186,
          186,
          186,
          186,
          250,
          186,
          122,
          122,
          186,
          186,
          122,
          122,
          58,
          185,
          185,
          185,
          249,
          185,
          196,
          185,
          185,
          185,
          185,
          203,
          185,
          218,
          201,
          201,
          201,
          201,
          184,
          184,
          184,
          184,
          184,
          184,
          184,
          184,
          120,
          184,
          184,
          184,
          56,
          56,
          191,
          183,
          183,
          183,
          191,
          183,
          183,
          183,
          183,
          183,
          119,
          119,
          202,
          202,
          119,
          217,
          200,
          217,
          182,
          182,
          183,
          182,
          182,
          182,
          182,
          187,
          118,
          189,
          118,
          54,
          181,
          181,
          175,
          181,
          181,
          181,
          190,
          190,
          203,
          173,
          181,
          220,
          117,
          181,
          53,
          180,
          180,
          180,
          183,
          180,
          180,
          180,
          220,
          180,
          180,
          180,
          203,
          116,
          179,
          179,
          179,
          179,
          189,
          189,
          189,
          179,
          113,
          179,
          179,
          179,
          172,
          115,
          179,
          234,
          115,
          115,
          200,
          178,
          178,
          178,
          178,
          181,
          181,
          180,
          178,
          178,
          114,
          189,
          178,
          114,
          203,
          50,
          177,
          177,
          241,
          186,
          177,
          177,
          177,
          188,
          188,
          177,
          177,
          195,
          113,
          177,
          177,
          113,
          49,
          176,
          176,
          176,
          154,
          176,
          176,
          176,
          176,
          176,
          112,
          175,
          175,
          239,
          196,
          129,
          175,
          175,
          175,
          175,
          175,
          187,
          175,
          111,
          111,
          47,
          153,
          174,
          174,
          179,
          174,
          173,
          237,
          237,
          173,
          145,
          173,
          185,
          186,
          186,
          173,
          173,
          188,
          188,
          109,
          109,
          236,
          172,
          198,
          172,
          228,
          172,
          172,
          108,
          108,
          161,
          44,
          160,
          160,
          171,
          235,
          235,
          171,
          171,
          171,
          171,
          171,
          171,
          107,
          203,
          170,
          171,
          200,
          185,
          185,
          185,
          199,
          170,
          215,
          234,
          214,
          170,
          170,
          170,
          170,
          170,
          170,
          106,
          170,
          170,
          176,
          169,
          233,
          169,
          169,
          203,
          169,
          169,
          169,
          169,
          169,
          105,
          105,
          184,
          199,
          232,
          198,
          198,
          75,
          197,
          196,
          196,
          196,
          168,
          195,
          195,
          194,
          168,
          168,
          104,
          104,
          104,
          192,
          191,
          231,
          191,
          167,
          167,
          231,
          191,
          167,
          167,
          103,
          89,
          230,
          230,
          166,
          166,
          102,
          203,
          165,
          229,
          165,
          165,
          165,
          101,
          165,
          165,
          165,
          165,
          165,
          228,
          228,
          107,
          164,
          164,
          164,
          227,
          100,
          100,
          224,
          163,
          227,
          202,
          227,
          163,
          163,
          163,
          190,
          163,
          163,
          99,
          163,
          99,
          226,
          104,
          195,
          162,
          162,
          162,
          162,
          162,
          162,
          162,
          162,
          162,
          162,
          98,
          225,
          225,
          225,
          175,
          161,
          225,
          161,
          161,
          161,
          97,
          224,
          224,
          224,
          224,
          224,
          224,
          160,
          160,
          160,
          160,
          160,
          223,
          223,
          223,
          159,
          159,
          159,
          159,
          159,
          159,
          189,
          95,
          181,
          222,
          222,
          222,
          158,
          158,
          222,
          94,
          94,
          221,
          221,
          221,
          157,
          203,
          157,
          196,
          157,
          157,
          93,
          157,
          93,
          220,
          220,
          220,
          220,
          220,
          156,
          156,
          156,
          92,
          220,
          156,
          156,
          92,
          92,
          92,
          219,
          219,
          219,
          219,
          219,
          219,
          155,
          155,
          155,
          219,
          219,
          91,
          219,
          91,
          91,
          91,
          218,
          218,
          218,
          218,
          218,
          218,
          218,
          218,
          188,
          188,
          154,
          154,
          154,
          154,
          154,
          217,
          217,
          217,
          217,
          217,
          217,
          217,
          217,
          207,
          217,
          83,
          205,
          203,
          217,
          217,
          217,
          217,
          218,
          218,
          218,
          153,
          153,
          89,
          201,
          89,
          89,
          201,
          203,
          216,
          216,
          216,
          216,
          216,
          216,
          216,
          210,
          152,
          216,
          203,
          152,
          152,
          88,
          215,
          191,
          215,
          215,
          215,
          203,
          151,
          201,
          151,
          151,
          151,
          151,
          215,
          215,
          202,
          202,
          151,
          151,
          217,
          217,
          217,
          87,
          200,
          214,
          214,
          214,
          214,
          182,
          182,
          214,
          150,
          150,
          150,
          192,
          218,
          213,
          213,
          190,
          190,
          190,
          149,
          85,
          189,
          199,
          149,
          213,
          213,
          85,
          85,
          216,
          203,
          212,
          212,
          212,
          212,
          212,
          183,
          183,
          148,
          201,
          148,
          220,
          203,
          148,
          212,
          84,
          211,
          223,
          189,
          189,
          211,
          147,
          147,
          147,
          200,
          147,
          83,
          83,
          83,
          210,
          210,
          210,
          181,
          146,
          146,
          180,
          210,
          146,
          146,
          146,
          82,
          82,
          82,
          186,
          186,
          209,
          209,
          209,
          209,
          217,
          188,
          145,
          145,
          81,
          195,
          81,
          203,
          208,
          208,
          208,
          208,
          208,
          208,
          188,
          183,
          208,
          208,
          183,
          144,
          80,
          80,
          80,
          202,
          207,
          207,
          207,
          207,
          196,
          187,
          187,
          187,
          187,
          143,
          143,
          153,
          206,
          206,
          206,
          142,
          142,
          142,
          142,
          199,
          78,
          78,
          203,
          205,
          205,
          205,
          205,
          205,
          205,
          205,
          205,
          185,
          141,
          205,
          205,
          186,
          186,
          141,
          77,
          203,
          204,
          204,
          204,
          204,
          198,
          204,
          140,
          160,
          203,
          203,
          203,
          203,
          203,
          203,
          203,
          200,
          139,
          203,
          203,
          203,
          139,
          139,
          139,
          185,
          185,
          75,
          75,
          202,
          202,
          202,
          202,
          202,
          202,
          202,
          199,
          138,
          202,
          138,
          203,
          138,
          138,
          177,
          74,
          74,
          74,
          176,
          201,
          201,
          201,
          201,
          201,
          137,
          137,
          201,
          137,
          73,
          73,
          73,
          73,
          73,
          184,
          184,
          184,
          200,
          199,
          198,
          200,
          197,
          196,
          196,
          195,
          195,
          136,
          200,
          200,
          136,
          136,
          72,
          195,
          192,
          192,
          191,
          199,
          199,
          192,
          199,
          135,
          135,
          135,
          135,
          71,
          198,
          198,
          198,
          198,
          134,
          134,
          134,
          134,
          70,
          70,
          197,
          197,
          197,
          197,
          197,
          197,
          197,
          133,
          212,
          197,
          69,
          69,
          196,
          196,
          196,
          196,
          178,
          132,
          196,
          132,
          68,
          68,
          68,
          224,
          195,
          195,
          195,
          195,
          195,
          187,
          203,
          131,
          131,
          67,
          194,
          194,
          194,
          104,
          194,
          130,
          130,
          130,
          66,
          193,
          193,
          193,
          193,
          193,
          193,
          129,
          193,
          129,
          202,
          193,
          129,
          65,
          65,
          65,
          192,
          192,
          192,
          192,
          192,
          192,
          192,
          192,
          192,
          192,
          192,
          192,
          192,
          128,
          128
         ],
         "z": [
          202,
          206,
          203,
          237,
          238,
          224,
          222,
          223,
          146,
          166,
          216,
          152,
          72,
          215,
          214,
          212,
          203,
          206,
          209,
          222,
          217,
          237,
          156,
          74,
          209,
          207,
          206,
          217,
          229,
          242,
          203,
          224,
          246,
          138,
          214,
          156,
          208,
          208,
          206,
          197,
          227,
          231,
          162,
          157,
          209,
          213,
          212,
          145,
          154,
          141,
          67,
          213,
          210,
          209,
          226,
          222,
          209,
          227,
          212,
          230,
          247,
          176,
          206,
          212,
          75,
          142,
          69,
          214,
          212,
          211,
          209,
          209,
          255,
          222,
          137,
          160,
          211,
          211,
          147,
          154,
          69,
          211,
          211,
          229,
          252,
          214,
          205,
          214,
          227,
          229,
          228,
          164,
          213,
          241,
          186,
          204,
          242,
          242,
          213,
          213,
          235,
          241,
          209,
          223,
          197,
          218,
          134,
          215,
          209,
          209,
          67,
          69,
          207,
          213,
          216,
          236,
          223,
          202,
          201,
          214,
          218,
          213,
          158,
          157,
          182,
          198,
          146,
          239,
          186,
          231,
          214,
          236,
          215,
          203,
          218,
          215,
          191,
          214,
          141,
          215,
          146,
          63,
          220,
          220,
          226,
          205,
          200,
          201,
          211,
          223,
          172,
          236,
          224,
          245,
          152,
          207,
          61,
          218,
          231,
          229,
          217,
          205,
          223,
          223,
          233,
          209,
          208,
          209,
          165,
          142,
          220,
          245,
          203,
          193,
          211,
          207,
          215,
          223,
          128,
          225,
          224,
          223,
          212,
          129,
          206,
          244,
          137,
          148,
          187,
          221,
          236,
          196,
          214,
          215,
          215,
          219,
          220,
          220,
          128,
          213,
          205,
          146,
          175,
          63,
          223,
          227,
          252,
          212,
          197,
          224,
          222,
          209,
          219,
          220,
          223,
          202,
          143,
          198,
          205,
          134,
          60,
          224,
          198,
          211,
          203,
          201,
          220,
          202,
          203,
          202,
          141,
          222,
          245,
          250,
          196,
          146,
          213,
          220,
          219,
          218,
          213,
          211,
          206,
          150,
          138,
          59,
          181,
          188,
          213,
          221,
          201,
          232,
          242,
          252,
          227,
          179,
          202,
          218,
          213,
          211,
          201,
          201,
          215,
          221,
          136,
          139,
          246,
          214,
          220,
          214,
          238,
          206,
          199,
          126,
          135,
          246,
          51,
          244,
          190,
          227,
          246,
          252,
          192,
          185,
          207,
          214,
          197,
          218,
          142,
          171,
          232,
          199,
          189,
          215,
          209,
          227,
          190,
          240,
          239,
          251,
          243,
          197,
          207,
          182,
          212,
          214,
          244,
          119,
          195,
          198,
          225,
          236,
          247,
          187,
          187,
          167,
          208,
          212,
          237,
          209,
          198,
          120,
          121,
          214,
          188,
          250,
          208,
          192,
          91,
          194,
          204,
          194,
          232,
          234,
          200,
          198,
          200,
          197,
          196,
          128,
          125,
          133,
          212,
          211,
          250,
          205,
          238,
          219,
          251,
          229,
          189,
          211,
          118,
          103,
          250,
          238,
          194,
          208,
          130,
          177,
          237,
          249,
          183,
          212,
          211,
          116,
          194,
          185,
          193,
          194,
          194,
          245,
          237,
          127,
          208,
          195,
          208,
          246,
          121,
          114,
          246,
          249,
          249,
          192,
          246,
          177,
          195,
          209,
          213,
          206,
          198,
          116,
          187,
          119,
          248,
          119,
          205,
          182,
          177,
          205,
          202,
          207,
          208,
          198,
          189,
          194,
          191,
          114,
          250,
          249,
          247,
          227,
          250,
          238,
          209,
          200,
          191,
          125,
          247,
          247,
          240,
          248,
          244,
          246,
          202,
          202,
          197,
          185,
          191,
          253,
          237,
          248,
          222,
          180,
          190,
          197,
          202,
          199,
          213,
          111,
          217,
          248,
          250,
          249,
          173,
          172,
          231,
          117,
          115,
          247,
          247,
          244,
          233,
          189,
          176,
          203,
          170,
          207,
          105,
          187,
          123,
          245,
          248,
          245,
          246,
          244,
          220,
          191,
          201,
          112,
          229,
          187,
          187,
          106,
          114,
          116,
          248,
          245,
          247,
          244,
          245,
          242,
          197,
          196,
          208,
          246,
          236,
          104,
          229,
          103,
          111,
          107,
          244,
          244,
          238,
          212,
          243,
          237,
          239,
          231,
          211,
          219,
          196,
          197,
          198,
          198,
          185,
          242,
          244,
          241,
          236,
          246,
          240,
          239,
          238,
          241,
          236,
          93,
          211,
          163,
          230,
          233,
          231,
          232,
          242,
          242,
          244,
          185,
          181,
          102,
          205,
          113,
          103,
          241,
          223,
          244,
          211,
          245,
          239,
          241,
          240,
          246,
          231,
          174,
          230,
          173,
          177,
          181,
          101,
          242,
          204,
          240,
          235,
          241,
          178,
          233,
          190,
          182,
          196,
          191,
          194,
          229,
          229,
          183,
          205,
          177,
          179,
          246,
          242,
          240,
          98,
          185,
          207,
          230,
          208,
          245,
          216,
          240,
          217,
          164,
          192,
          178,
          213,
          244,
          217,
          233,
          214,
          206,
          208,
          168,
          109,
          216,
          191,
          188,
          226,
          230,
          98,
          97,
          222,
          169,
          236,
          238,
          241,
          240,
          241,
          228,
          214,
          162,
          200,
          193,
          230,
          168,
          190,
          223,
          93,
          220,
          246,
          210,
          208,
          234,
          186,
          194,
          171,
          188,
          170,
          92,
          95,
          91,
          201,
          243,
          241,
          218,
          161,
          159,
          220,
          229,
          178,
          175,
          178,
          97,
          108,
          92,
          217,
          207,
          200,
          219,
          216,
          244,
          244,
          210,
          171,
          169,
          93,
          197,
          89,
          180,
          220,
          210,
          244,
          246,
          243,
          240,
          214,
          214,
          230,
          226,
          216,
          177,
          94,
          91,
          100,
          184,
          195,
          202,
          244,
          233,
          201,
          212,
          210,
          216,
          226,
          175,
          176,
          236,
          212,
          231,
          239,
          173,
          156,
          175,
          175,
          189,
          91,
          89,
          179,
          194,
          191,
          235,
          211,
          211,
          211,
          210,
          240,
          211,
          184,
          219,
          226,
          210,
          210,
          172,
          88,
          174,
          198,
          214,
          243,
          229,
          193,
          220,
          169,
          187,
          162,
          203,
          201,
          204,
          240,
          239,
          229,
          192,
          154,
          225,
          225,
          226,
          169,
          167,
          163,
          212,
          208,
          86,
          94,
          229,
          181,
          196,
          211,
          213,
          242,
          233,
          187,
          150,
          226,
          193,
          170,
          169,
          163,
          224,
          98,
          85,
          83,
          226,
          185,
          200,
          206,
          243,
          245,
          154,
          173,
          222,
          160,
          82,
          82,
          81,
          80,
          82,
          212,
          212,
          210,
          184,
          185,
          191,
          231,
          193,
          199,
          195,
          203,
          195,
          178,
          222,
          222,
          158,
          163,
          81,
          217,
          205,
          205,
          213,
          155,
          210,
          203,
          234,
          179,
          172,
          162,
          166,
          80,
          200,
          188,
          245,
          243,
          173,
          173,
          155,
          164,
          79,
          85,
          201,
          192,
          229,
          224,
          244,
          217,
          239,
          146,
          232,
          220,
          80,
          77,
          197,
          193,
          209,
          230,
          222,
          165,
          219,
          158,
          79,
          76,
          78,
          249,
          199,
          194,
          226,
          224,
          224,
          220,
          192,
          161,
          153,
          82,
          211,
          199,
          220,
          136,
          220,
          146,
          161,
          157,
          76,
          201,
          223,
          221,
          198,
          226,
          231,
          149,
          224,
          161,
          190,
          216,
          164,
          79,
          75,
          74,
          206,
          202,
          203,
          227,
          208,
          244,
          220,
          208,
          232,
          208,
          214,
          219,
          218,
          161,
          151
         ]
        }
       ],
       "layout": {
        "height": 400,
        "margin": {
         "b": 10,
         "l": 20,
         "r": 0,
         "t": 30
        },
        "scene": {
         "camera": {
          "eye": {
           "x": 1,
           "y": -2,
           "z": 1
          }
         }
        },
        "template": {
         "data": {
          "bar": [
           {
            "error_x": {
             "color": "#2a3f5f"
            },
            "error_y": {
             "color": "#2a3f5f"
            },
            "marker": {
             "line": {
              "color": "#E5ECF6",
              "width": 0.5
             }
            },
            "type": "bar"
           }
          ],
          "barpolar": [
           {
            "marker": {
             "line": {
              "color": "#E5ECF6",
              "width": 0.5
             }
            },
            "type": "barpolar"
           }
          ],
          "carpet": [
           {
            "aaxis": {
             "endlinecolor": "#2a3f5f",
             "gridcolor": "white",
             "linecolor": "white",
             "minorgridcolor": "white",
             "startlinecolor": "#2a3f5f"
            },
            "baxis": {
             "endlinecolor": "#2a3f5f",
             "gridcolor": "white",
             "linecolor": "white",
             "minorgridcolor": "white",
             "startlinecolor": "#2a3f5f"
            },
            "type": "carpet"
           }
          ],
          "choropleth": [
           {
            "colorbar": {
             "outlinewidth": 0,
             "ticks": ""
            },
            "type": "choropleth"
           }
          ],
          "contour": [
           {
            "colorbar": {
             "outlinewidth": 0,
             "ticks": ""
            },
            "colorscale": [
             [
              0,
              "#0d0887"
             ],
             [
              0.1111111111111111,
              "#46039f"
             ],
             [
              0.2222222222222222,
              "#7201a8"
             ],
             [
              0.3333333333333333,
              "#9c179e"
             ],
             [
              0.4444444444444444,
              "#bd3786"
             ],
             [
              0.5555555555555556,
              "#d8576b"
             ],
             [
              0.6666666666666666,
              "#ed7953"
             ],
             [
              0.7777777777777778,
              "#fb9f3a"
             ],
             [
              0.8888888888888888,
              "#fdca26"
             ],
             [
              1,
              "#f0f921"
             ]
            ],
            "type": "contour"
           }
          ],
          "contourcarpet": [
           {
            "colorbar": {
             "outlinewidth": 0,
             "ticks": ""
            },
            "type": "contourcarpet"
           }
          ],
          "heatmap": [
           {
            "colorbar": {
             "outlinewidth": 0,
             "ticks": ""
            },
            "colorscale": [
             [
              0,
              "#0d0887"
             ],
             [
              0.1111111111111111,
              "#46039f"
             ],
             [
              0.2222222222222222,
              "#7201a8"
             ],
             [
              0.3333333333333333,
              "#9c179e"
             ],
             [
              0.4444444444444444,
              "#bd3786"
             ],
             [
              0.5555555555555556,
              "#d8576b"
             ],
             [
              0.6666666666666666,
              "#ed7953"
             ],
             [
              0.7777777777777778,
              "#fb9f3a"
             ],
             [
              0.8888888888888888,
              "#fdca26"
             ],
             [
              1,
              "#f0f921"
             ]
            ],
            "type": "heatmap"
           }
          ],
          "heatmapgl": [
           {
            "colorbar": {
             "outlinewidth": 0,
             "ticks": ""
            },
            "colorscale": [
             [
              0,
              "#0d0887"
             ],
             [
              0.1111111111111111,
              "#46039f"
             ],
             [
              0.2222222222222222,
              "#7201a8"
             ],
             [
              0.3333333333333333,
              "#9c179e"
             ],
             [
              0.4444444444444444,
              "#bd3786"
             ],
             [
              0.5555555555555556,
              "#d8576b"
             ],
             [
              0.6666666666666666,
              "#ed7953"
             ],
             [
              0.7777777777777778,
              "#fb9f3a"
             ],
             [
              0.8888888888888888,
              "#fdca26"
             ],
             [
              1,
              "#f0f921"
             ]
            ],
            "type": "heatmapgl"
           }
          ],
          "histogram": [
           {
            "marker": {
             "colorbar": {
              "outlinewidth": 0,
              "ticks": ""
             }
            },
            "type": "histogram"
           }
          ],
          "histogram2d": [
           {
            "colorbar": {
             "outlinewidth": 0,
             "ticks": ""
            },
            "colorscale": [
             [
              0,
              "#0d0887"
             ],
             [
              0.1111111111111111,
              "#46039f"
             ],
             [
              0.2222222222222222,
              "#7201a8"
             ],
             [
              0.3333333333333333,
              "#9c179e"
             ],
             [
              0.4444444444444444,
              "#bd3786"
             ],
             [
              0.5555555555555556,
              "#d8576b"
             ],
             [
              0.6666666666666666,
              "#ed7953"
             ],
             [
              0.7777777777777778,
              "#fb9f3a"
             ],
             [
              0.8888888888888888,
              "#fdca26"
             ],
             [
              1,
              "#f0f921"
             ]
            ],
            "type": "histogram2d"
           }
          ],
          "histogram2dcontour": [
           {
            "colorbar": {
             "outlinewidth": 0,
             "ticks": ""
            },
            "colorscale": [
             [
              0,
              "#0d0887"
             ],
             [
              0.1111111111111111,
              "#46039f"
             ],
             [
              0.2222222222222222,
              "#7201a8"
             ],
             [
              0.3333333333333333,
              "#9c179e"
             ],
             [
              0.4444444444444444,
              "#bd3786"
             ],
             [
              0.5555555555555556,
              "#d8576b"
             ],
             [
              0.6666666666666666,
              "#ed7953"
             ],
             [
              0.7777777777777778,
              "#fb9f3a"
             ],
             [
              0.8888888888888888,
              "#fdca26"
             ],
             [
              1,
              "#f0f921"
             ]
            ],
            "type": "histogram2dcontour"
           }
          ],
          "mesh3d": [
           {
            "colorbar": {
             "outlinewidth": 0,
             "ticks": ""
            },
            "type": "mesh3d"
           }
          ],
          "parcoords": [
           {
            "line": {
             "colorbar": {
              "outlinewidth": 0,
              "ticks": ""
             }
            },
            "type": "parcoords"
           }
          ],
          "pie": [
           {
            "automargin": true,
            "type": "pie"
           }
          ],
          "scatter": [
           {
            "marker": {
             "colorbar": {
              "outlinewidth": 0,
              "ticks": ""
             }
            },
            "type": "scatter"
           }
          ],
          "scatter3d": [
           {
            "line": {
             "colorbar": {
              "outlinewidth": 0,
              "ticks": ""
             }
            },
            "marker": {
             "colorbar": {
              "outlinewidth": 0,
              "ticks": ""
             }
            },
            "type": "scatter3d"
           }
          ],
          "scattercarpet": [
           {
            "marker": {
             "colorbar": {
              "outlinewidth": 0,
              "ticks": ""
             }
            },
            "type": "scattercarpet"
           }
          ],
          "scattergeo": [
           {
            "marker": {
             "colorbar": {
              "outlinewidth": 0,
              "ticks": ""
             }
            },
            "type": "scattergeo"
           }
          ],
          "scattergl": [
           {
            "marker": {
             "colorbar": {
              "outlinewidth": 0,
              "ticks": ""
             }
            },
            "type": "scattergl"
           }
          ],
          "scattermapbox": [
           {
            "marker": {
             "colorbar": {
              "outlinewidth": 0,
              "ticks": ""
             }
            },
            "type": "scattermapbox"
           }
          ],
          "scatterpolar": [
           {
            "marker": {
             "colorbar": {
              "outlinewidth": 0,
              "ticks": ""
             }
            },
            "type": "scatterpolar"
           }
          ],
          "scatterpolargl": [
           {
            "marker": {
             "colorbar": {
              "outlinewidth": 0,
              "ticks": ""
             }
            },
            "type": "scatterpolargl"
           }
          ],
          "scatterternary": [
           {
            "marker": {
             "colorbar": {
              "outlinewidth": 0,
              "ticks": ""
             }
            },
            "type": "scatterternary"
           }
          ],
          "surface": [
           {
            "colorbar": {
             "outlinewidth": 0,
             "ticks": ""
            },
            "colorscale": [
             [
              0,
              "#0d0887"
             ],
             [
              0.1111111111111111,
              "#46039f"
             ],
             [
              0.2222222222222222,
              "#7201a8"
             ],
             [
              0.3333333333333333,
              "#9c179e"
             ],
             [
              0.4444444444444444,
              "#bd3786"
             ],
             [
              0.5555555555555556,
              "#d8576b"
             ],
             [
              0.6666666666666666,
              "#ed7953"
             ],
             [
              0.7777777777777778,
              "#fb9f3a"
             ],
             [
              0.8888888888888888,
              "#fdca26"
             ],
             [
              1,
              "#f0f921"
             ]
            ],
            "type": "surface"
           }
          ],
          "table": [
           {
            "cells": {
             "fill": {
              "color": "#EBF0F8"
             },
             "line": {
              "color": "white"
             }
            },
            "header": {
             "fill": {
              "color": "#C8D4E3"
             },
             "line": {
              "color": "white"
             }
            },
            "type": "table"
           }
          ]
         },
         "layout": {
          "annotationdefaults": {
           "arrowcolor": "#2a3f5f",
           "arrowhead": 0,
           "arrowwidth": 1
          },
          "coloraxis": {
           "colorbar": {
            "outlinewidth": 0,
            "ticks": ""
           }
          },
          "colorscale": {
           "diverging": [
            [
             0,
             "#8e0152"
            ],
            [
             0.1,
             "#c51b7d"
            ],
            [
             0.2,
             "#de77ae"
            ],
            [
             0.3,
             "#f1b6da"
            ],
            [
             0.4,
             "#fde0ef"
            ],
            [
             0.5,
             "#f7f7f7"
            ],
            [
             0.6,
             "#e6f5d0"
            ],
            [
             0.7,
             "#b8e186"
            ],
            [
             0.8,
             "#7fbc41"
            ],
            [
             0.9,
             "#4d9221"
            ],
            [
             1,
             "#276419"
            ]
           ],
           "sequential": [
            [
             0,
             "#0d0887"
            ],
            [
             0.1111111111111111,
             "#46039f"
            ],
            [
             0.2222222222222222,
             "#7201a8"
            ],
            [
             0.3333333333333333,
             "#9c179e"
            ],
            [
             0.4444444444444444,
             "#bd3786"
            ],
            [
             0.5555555555555556,
             "#d8576b"
            ],
            [
             0.6666666666666666,
             "#ed7953"
            ],
            [
             0.7777777777777778,
             "#fb9f3a"
            ],
            [
             0.8888888888888888,
             "#fdca26"
            ],
            [
             1,
             "#f0f921"
            ]
           ],
           "sequentialminus": [
            [
             0,
             "#0d0887"
            ],
            [
             0.1111111111111111,
             "#46039f"
            ],
            [
             0.2222222222222222,
             "#7201a8"
            ],
            [
             0.3333333333333333,
             "#9c179e"
            ],
            [
             0.4444444444444444,
             "#bd3786"
            ],
            [
             0.5555555555555556,
             "#d8576b"
            ],
            [
             0.6666666666666666,
             "#ed7953"
            ],
            [
             0.7777777777777778,
             "#fb9f3a"
            ],
            [
             0.8888888888888888,
             "#fdca26"
            ],
            [
             1,
             "#f0f921"
            ]
           ]
          },
          "colorway": [
           "#636efa",
           "#EF553B",
           "#00cc96",
           "#ab63fa",
           "#FFA15A",
           "#19d3f3",
           "#FF6692",
           "#B6E880",
           "#FF97FF",
           "#FECB52"
          ],
          "font": {
           "color": "#2a3f5f"
          },
          "geo": {
           "bgcolor": "white",
           "lakecolor": "white",
           "landcolor": "#E5ECF6",
           "showlakes": true,
           "showland": true,
           "subunitcolor": "white"
          },
          "hoverlabel": {
           "align": "left"
          },
          "hovermode": "closest",
          "mapbox": {
           "style": "light"
          },
          "paper_bgcolor": "white",
          "plot_bgcolor": "#E5ECF6",
          "polar": {
           "angularaxis": {
            "gridcolor": "white",
            "linecolor": "white",
            "ticks": ""
           },
           "bgcolor": "#E5ECF6",
           "radialaxis": {
            "gridcolor": "white",
            "linecolor": "white",
            "ticks": ""
           }
          },
          "scene": {
           "xaxis": {
            "backgroundcolor": "#E5ECF6",
            "gridcolor": "white",
            "gridwidth": 2,
            "linecolor": "white",
            "showbackground": true,
            "ticks": "",
            "zerolinecolor": "white"
           },
           "yaxis": {
            "backgroundcolor": "#E5ECF6",
            "gridcolor": "white",
            "gridwidth": 2,
            "linecolor": "white",
            "showbackground": true,
            "ticks": "",
            "zerolinecolor": "white"
           },
           "zaxis": {
            "backgroundcolor": "#E5ECF6",
            "gridcolor": "white",
            "gridwidth": 2,
            "linecolor": "white",
            "showbackground": true,
            "ticks": "",
            "zerolinecolor": "white"
           }
          },
          "shapedefaults": {
           "line": {
            "color": "#2a3f5f"
           }
          },
          "ternary": {
           "aaxis": {
            "gridcolor": "white",
            "linecolor": "white",
            "ticks": ""
           },
           "baxis": {
            "gridcolor": "white",
            "linecolor": "white",
            "ticks": ""
           },
           "bgcolor": "#E5ECF6",
           "caxis": {
            "gridcolor": "white",
            "linecolor": "white",
            "ticks": ""
           }
          },
          "title": {
           "x": 0.05
          },
          "xaxis": {
           "automargin": true,
           "gridcolor": "white",
           "linecolor": "white",
           "ticks": "",
           "title": {
            "standoff": 15
           },
           "zerolinecolor": "white",
           "zerolinewidth": 2
          },
          "yaxis": {
           "automargin": true,
           "gridcolor": "white",
           "linecolor": "white",
           "ticks": "",
           "title": {
            "standoff": 15
           },
           "zerolinecolor": "white",
           "zerolinewidth": 2
          }
         }
        },
        "width": 800
       }
      },
      "text/html": [
       "<div>\n",
       "        \n",
       "        \n",
       "            <div id=\"3e4499ec-87bb-4b73-8d22-1435b2ed9bde\" class=\"plotly-graph-div\" style=\"height:400px; width:800px;\"></div>\n",
       "            <script type=\"text/javascript\">\n",
       "                require([\"plotly\"], function(Plotly) {\n",
       "                    window.PLOTLYENV=window.PLOTLYENV || {};\n",
       "                    \n",
       "                if (document.getElementById(\"3e4499ec-87bb-4b73-8d22-1435b2ed9bde\")) {\n",
       "                    Plotly.newPlot(\n",
       "                        '3e4499ec-87bb-4b73-8d22-1435b2ed9bde',\n",
       "                        [{\"marker\": {\"color\": [[255.0, 191.0, 202.0], [254.0, 191.0, 206.0], [253.0, 191.0, 203.0], [251.0, 191.0, 237.0], [250.0, 191.0, 238.0], [249.0, 191.0, 224.0], [242.0, 191.0, 222.0], [216.0, 191.0, 223.0], [132.0, 127.0, 146.0], [104.0, 127.0, 166.0], [90.0, 191.0, 216.0], [66.0, 127.0, 152.0], [45.0, 63.0, 72.0], [255.0, 190.0, 215.0], [255.0, 189.0, 214.0], [255.0, 190.0, 212.0], [254.0, 190.0, 203.0], [253.0, 190.0, 206.0], [252.0, 190.0, 209.0], [251.0, 190.0, 222.0], [248.0, 190.0, 217.0], [240.0, 190.0, 237.0], [65.0, 126.0, 156.0], [44.0, 62.0, 74.0], [255.0, 189.0, 209.0], [254.0, 189.0, 207.0], [253.0, 189.0, 206.0], [252.0, 189.0, 217.0], [251.0, 189.0, 229.0], [243.0, 189.0, 242.0], [241.0, 189.0, 203.0], [225.0, 189.0, 224.0], [168.0, 189.0, 246.0], [153.0, 125.0, 138.0], [88.0, 189.0, 214.0], [67.0, 125.0, 156.0], [254.0, 188.0, 208.0], [253.0, 188.0, 208.0], [252.0, 188.0, 206.0], [220.0, 188.0, 197.0], [218.0, 188.0, 227.0], [200.0, 188.0, 231.0], [111.0, 124.0, 162.0], [99.0, 124.0, 157.0], [92.0, 188.0, 209.0], [89.0, 188.0, 213.0], [88.0, 188.0, 212.0], [66.0, 124.0, 145.0], [65.0, 124.0, 154.0], [64.0, 124.0, 141.0], [40.0, 60.0, 67.0], [255.0, 187.0, 213.0], [254.0, 187.0, 210.0], [253.0, 187.0, 209.0], [252.0, 187.0, 226.0], [251.0, 187.0, 222.0], [250.0, 187.0, 209.0], [191.0, 187.0, 227.0], [187.0, 187.0, 212.0], [186.0, 187.0, 230.0], [251.0, 219.0, 247.0], [254.0, 203.0, 176.0], [98.0, 187.0, 206.0], [91.0, 187.0, 212.0], [73.0, 59.0, 75.0], [65.0, 123.0, 142.0], [44.0, 59.0, 69.0], [255.0, 186.0, 214.0], [254.0, 186.0, 212.0], [253.0, 186.0, 211.0], [252.0, 186.0, 209.0], [250.0, 186.0, 209.0], [249.0, 250.0, 255.0], [190.0, 186.0, 222.0], [140.0, 122.0, 137.0], [114.0, 122.0, 160.0], [88.0, 186.0, 211.0], [86.0, 186.0, 211.0], [66.0, 122.0, 147.0], [62.0, 122.0, 154.0], [43.0, 58.0, 69.0], [253.0, 185.0, 211.0], [252.0, 185.0, 211.0], [251.0, 185.0, 229.0], [250.0, 249.0, 252.0], [246.0, 185.0, 214.0], [255.0, 196.0, 205.0], [220.0, 185.0, 214.0], [183.0, 185.0, 227.0], [181.0, 185.0, 229.0], [174.0, 185.0, 228.0], [254.0, 203.0, 164.0], [112.0, 185.0, 213.0], [250.0, 218.0, 241.0], [254.0, 201.0, 186.0], [253.0, 201.0, 204.0], [248.0, 201.0, 242.0], [244.0, 201.0, 242.0], [254.0, 184.0, 213.0], [253.0, 184.0, 213.0], [251.0, 184.0, 235.0], [233.0, 184.0, 241.0], [218.0, 184.0, 209.0], [210.0, 184.0, 223.0], [204.0, 184.0, 197.0], [196.0, 184.0, 218.0], [124.0, 120.0, 134.0], [115.0, 184.0, 215.0], [88.0, 184.0, 209.0], [87.0, 184.0, 209.0], [46.0, 56.0, 67.0], [45.0, 56.0, 69.0], [255.0, 191.0, 207.0], [253.0, 183.0, 213.0], [252.0, 183.0, 216.0], [251.0, 183.0, 236.0], [251.0, 191.0, 223.0], [244.0, 183.0, 202.0], [241.0, 183.0, 201.0], [232.0, 183.0, 214.0], [212.0, 183.0, 218.0], [113.0, 183.0, 213.0], [102.0, 119.0, 158.0], [100.0, 119.0, 157.0], [254.0, 202.0, 182.0], [252.0, 202.0, 198.0], [63.0, 119.0, 146.0], [249.0, 217.0, 239.0], [254.0, 200.0, 186.0], [100.0, 217.0, 231.0], [253.0, 182.0, 214.0], [252.0, 182.0, 236.0], [253.0, 183.0, 215.0], [242.0, 182.0, 203.0], [231.0, 182.0, 218.0], [253.0, 182.0, 215.0], [209.0, 182.0, 191.0], [253.0, 187.0, 214.0], [64.0, 118.0, 141.0], [255.0, 189.0, 215.0], [62.0, 118.0, 146.0], [44.0, 54.0, 63.0], [253.0, 181.0, 220.0], [252.0, 181.0, 220.0], [253.0, 175.0, 226.0], [245.0, 181.0, 205.0], [239.0, 181.0, 200.0], [231.0, 181.0, 201.0], [255.0, 190.0, 211.0], [252.0, 190.0, 223.0], [254.0, 203.0, 172.0], [249.0, 173.0, 236.0], [176.0, 181.0, 224.0], [251.0, 220.0, 245.0], [93.0, 117.0, 152.0], [89.0, 181.0, 207.0], [50.0, 53.0, 61.0], [253.0, 180.0, 218.0], [251.0, 180.0, 231.0], [250.0, 180.0, 229.0], [253.0, 183.0, 217.0], [244.0, 180.0, 205.0], [175.0, 180.0, 223.0], [161.0, 180.0, 223.0], [100.0, 220.0, 233.0], [117.0, 180.0, 209.0], [108.0, 180.0, 208.0], [105.0, 180.0, 209.0], [254.0, 203.0, 165.0], [62.0, 116.0, 142.0], [253.0, 179.0, 220.0], [251.0, 179.0, 245.0], [208.0, 179.0, 203.0], [200.0, 179.0, 193.0], [255.0, 189.0, 211.0], [253.0, 189.0, 207.0], [252.0, 189.0, 215.0], [173.0, 179.0, 223.0], [127.0, 113.0, 128.0], [154.0, 179.0, 225.0], [152.0, 179.0, 224.0], [149.0, 179.0, 223.0], [155.0, 172.0, 212.0], [126.0, 115.0, 129.0], [110.0, 179.0, 206.0], [251.0, 234.0, 244.0], [62.0, 115.0, 137.0], [61.0, 115.0, 148.0], [254.0, 200.0, 187.0], [253.0, 178.0, 221.0], [242.0, 178.0, 236.0], [227.0, 178.0, 196.0], [208.0, 178.0, 214.0], [253.0, 181.0, 215.0], [252.0, 181.0, 215.0], [253.0, 180.0, 219.0], [150.0, 178.0, 220.0], [146.0, 178.0, 220.0], [130.0, 114.0, 128.0], [88.0, 189.0, 213.0], [85.0, 178.0, 205.0], [60.0, 114.0, 146.0], [254.0, 203.0, 175.0], [47.0, 50.0, 63.0], [253.0, 177.0, 223.0], [250.0, 177.0, 227.0], [248.0, 241.0, 252.0], [253.0, 186.0, 212.0], [234.0, 177.0, 197.0], [162.0, 177.0, 224.0], [158.0, 177.0, 222.0], [253.0, 188.0, 209.0], [218.0, 188.0, 219.0], [152.0, 177.0, 220.0], [149.0, 177.0, 223.0], [255.0, 195.0, 202.0], [102.0, 113.0, 143.0], [93.0, 177.0, 198.0], [85.0, 177.0, 205.0], [60.0, 113.0, 134.0], [46.0, 49.0, 60.0], [253.0, 176.0, 224.0], [226.0, 176.0, 198.0], [205.0, 176.0, 211.0], [131.0, 154.0, 203.0], [175.0, 176.0, 201.0], [168.0, 176.0, 220.0], [100.0, 176.0, 202.0], [84.0, 176.0, 203.0], [83.0, 176.0, 202.0], [61.0, 112.0, 141.0], [253.0, 175.0, 222.0], [250.0, 175.0, 245.0], [241.0, 239.0, 250.0], [254.0, 196.0, 196.0], [67.0, 129.0, 146.0], [174.0, 175.0, 213.0], [167.0, 175.0, 220.0], [163.0, 175.0, 219.0], [150.0, 175.0, 218.0], [149.0, 175.0, 213.0], [254.0, 187.0, 211.0], [105.0, 175.0, 206.0], [103.0, 111.0, 150.0], [62.0, 111.0, 138.0], [41.0, 47.0, 59.0], [76.0, 153.0, 181.0], [202.0, 174.0, 188.0], [143.0, 174.0, 213.0], [253.0, 179.0, 221.0], [84.0, 174.0, 201.0], [251.0, 173.0, 232.0], [249.0, 237.0, 242.0], [241.0, 237.0, 252.0], [231.0, 173.0, 227.0], [132.0, 145.0, 179.0], [176.0, 173.0, 202.0], [250.0, 185.0, 218.0], [254.0, 186.0, 213.0], [252.0, 186.0, 211.0], [83.0, 173.0, 201.0], [82.0, 173.0, 201.0], [253.0, 188.0, 215.0], [252.0, 188.0, 221.0], [60.0, 109.0, 136.0], [59.0, 109.0, 139.0], [236.0, 236.0, 246.0], [156.0, 172.0, 214.0], [254.0, 198.0, 220.0], [150.0, 172.0, 214.0], [250.0, 228.0, 238.0], [135.0, 172.0, 206.0], [83.0, 172.0, 199.0], [60.0, 108.0, 126.0], [58.0, 108.0, 135.0], [251.0, 161.0, 246.0], [39.0, 44.0, 51.0], [251.0, 160.0, 244.0], [79.0, 160.0, 190.0], [244.0, 171.0, 227.0], [238.0, 235.0, 246.0], [234.0, 235.0, 252.0], [224.0, 171.0, 192.0], [205.0, 171.0, 185.0], [172.0, 171.0, 207.0], [155.0, 171.0, 214.0], [138.0, 171.0, 197.0], [134.0, 171.0, 218.0], [107.0, 107.0, 142.0], [254.0, 203.0, 171.0], [251.0, 170.0, 232.0], [80.0, 171.0, 199.0], [254.0, 200.0, 189.0], [252.0, 185.0, 215.0], [251.0, 185.0, 209.0], [174.0, 185.0, 227.0], [254.0, 199.0, 190.0], [248.0, 170.0, 240.0], [244.0, 215.0, 239.0], [233.0, 234.0, 251.0], [247.0, 214.0, 243.0], [192.0, 170.0, 197.0], [177.0, 170.0, 207.0], [168.0, 170.0, 182.0], [152.0, 170.0, 212.0], [149.0, 170.0, 214.0], [122.0, 170.0, 244.0], [113.0, 106.0, 119.0], [100.0, 170.0, 195.0], [81.0, 170.0, 198.0], [253.0, 176.0, 225.0], [244.0, 169.0, 236.0], [241.0, 233.0, 247.0], [226.0, 169.0, 187.0], [224.0, 169.0, 187.0], [254.0, 203.0, 167.0], [167.0, 169.0, 208.0], [133.0, 169.0, 212.0], [123.0, 169.0, 237.0], [103.0, 169.0, 209.0], [82.0, 169.0, 198.0], [59.0, 105.0, 120.0], [58.0, 105.0, 121.0], [253.0, 184.0, 214.0], [254.0, 199.0, 188.0], [237.0, 232.0, 250.0], [255.0, 198.0, 208.0], [254.0, 198.0, 192.0], [48.0, 75.0, 91.0], [254.0, 197.0, 194.0], [255.0, 196.0, 204.0], [254.0, 196.0, 194.0], [251.0, 196.0, 232.0], [131.0, 168.0, 234.0], [255.0, 195.0, 200.0], [254.0, 195.0, 198.0], [254.0, 194.0, 200.0], [84.0, 168.0, 197.0], [81.0, 168.0, 196.0], [59.0, 104.0, 128.0], [57.0, 104.0, 125.0], [56.0, 104.0, 133.0], [255.0, 192.0, 212.0], [255.0, 191.0, 211.0], [248.0, 231.0, 250.0], [253.0, 191.0, 205.0], [246.0, 167.0, 238.0], [242.0, 167.0, 219.0], [240.0, 231.0, 251.0], [251.0, 191.0, 229.0], [194.0, 167.0, 189.0], [144.0, 167.0, 211.0], [58.0, 103.0, 118.0], [54.0, 89.0, 103.0], [251.0, 230.0, 250.0], [250.0, 230.0, 238.0], [157.0, 166.0, 194.0], [151.0, 166.0, 208.0], [56.0, 102.0, 130.0], [254.0, 203.0, 177.0], [247.0, 165.0, 237.0], [245.0, 229.0, 249.0], [214.0, 165.0, 183.0], [142.0, 165.0, 212.0], [136.0, 165.0, 211.0], [113.0, 101.0, 116.0], [106.0, 165.0, 194.0], [87.0, 165.0, 185.0], [82.0, 165.0, 193.0], [81.0, 165.0, 194.0], [79.0, 165.0, 194.0], [250.0, 228.0, 245.0], [249.0, 228.0, 237.0], [59.0, 107.0, 127.0], [183.0, 164.0, 208.0], [169.0, 164.0, 195.0], [158.0, 164.0, 208.0], [251.0, 227.0, 246.0], [57.0, 100.0, 121.0], [56.0, 100.0, 114.0], [251.0, 224.0, 246.0], [252.0, 163.0, 249.0], [251.0, 227.0, 249.0], [254.0, 202.0, 192.0], [246.0, 227.0, 246.0], [191.0, 163.0, 177.0], [187.0, 163.0, 195.0], [161.0, 163.0, 209.0], [255.0, 190.0, 213.0], [137.0, 163.0, 206.0], [136.0, 163.0, 198.0], [120.0, 99.0, 116.0], [119.0, 163.0, 187.0], [57.0, 99.0, 119.0], [251.0, 226.0, 248.0], [56.0, 104.0, 119.0], [255.0, 195.0, 205.0], [209.0, 162.0, 182.0], [159.0, 162.0, 177.0], [148.0, 162.0, 205.0], [142.0, 162.0, 202.0], [139.0, 162.0, 207.0], [129.0, 162.0, 208.0], [114.0, 162.0, 198.0], [82.0, 162.0, 189.0], [80.0, 162.0, 194.0], [78.0, 162.0, 191.0], [57.0, 98.0, 114.0], [255.0, 225.0, 250.0], [252.0, 225.0, 249.0], [251.0, 225.0, 247.0], [253.0, 175.0, 227.0], [240.0, 161.0, 250.0], [237.0, 225.0, 238.0], [149.0, 161.0, 209.0], [121.0, 161.0, 200.0], [81.0, 161.0, 191.0], [56.0, 97.0, 125.0], [253.0, 224.0, 247.0], [252.0, 224.0, 247.0], [251.0, 224.0, 240.0], [250.0, 224.0, 248.0], [248.0, 224.0, 244.0], [247.0, 224.0, 246.0], [149.0, 160.0, 202.0], [148.0, 160.0, 202.0], [115.0, 160.0, 197.0], [79.0, 160.0, 185.0], [78.0, 160.0, 191.0], [255.0, 223.0, 253.0], [251.0, 223.0, 237.0], [250.0, 223.0, 248.0], [243.0, 159.0, 222.0], [208.0, 159.0, 180.0], [158.0, 159.0, 190.0], [156.0, 159.0, 197.0], [146.0, 159.0, 202.0], [130.0, 159.0, 199.0], [255.0, 189.0, 213.0], [55.0, 95.0, 111.0], [253.0, 181.0, 217.0], [255.0, 222.0, 248.0], [252.0, 222.0, 250.0], [251.0, 222.0, 249.0], [173.0, 158.0, 173.0], [171.0, 158.0, 172.0], [102.0, 222.0, 231.0], [56.0, 94.0, 117.0], [52.0, 94.0, 115.0], [253.0, 221.0, 247.0], [251.0, 221.0, 247.0], [247.0, 221.0, 244.0], [243.0, 157.0, 233.0], [254.0, 203.0, 189.0], [203.0, 157.0, 176.0], [255.0, 196.0, 203.0], [171.0, 157.0, 170.0], [152.0, 157.0, 207.0], [91.0, 93.0, 105.0], [77.0, 157.0, 187.0], [54.0, 93.0, 123.0], [255.0, 220.0, 245.0], [254.0, 220.0, 248.0], [252.0, 220.0, 245.0], [251.0, 220.0, 246.0], [249.0, 220.0, 244.0], [230.0, 156.0, 220.0], [138.0, 156.0, 191.0], [119.0, 156.0, 201.0], [101.0, 92.0, 112.0], [100.0, 220.0, 229.0], [94.0, 156.0, 187.0], [77.0, 156.0, 187.0], [54.0, 92.0, 106.0], [53.0, 92.0, 114.0], [51.0, 92.0, 116.0], [254.0, 219.0, 248.0], [253.0, 219.0, 245.0], [252.0, 219.0, 247.0], [251.0, 219.0, 244.0], [250.0, 219.0, 245.0], [247.0, 219.0, 242.0], [140.0, 155.0, 197.0], [130.0, 155.0, 196.0], [122.0, 155.0, 208.0], [252.0, 219.0, 246.0], [250.0, 219.0, 236.0], [102.0, 91.0, 104.0], [101.0, 219.0, 229.0], [84.0, 91.0, 103.0], [54.0, 91.0, 111.0], [53.0, 91.0, 107.0], [255.0, 218.0, 244.0], [254.0, 218.0, 244.0], [252.0, 218.0, 238.0], [251.0, 218.0, 212.0], [250.0, 218.0, 243.0], [247.0, 218.0, 237.0], [244.0, 218.0, 239.0], [230.0, 218.0, 231.0], [253.0, 188.0, 211.0], [252.0, 188.0, 219.0], [142.0, 154.0, 196.0], [131.0, 154.0, 197.0], [130.0, 154.0, 198.0], [122.0, 154.0, 198.0], [75.0, 154.0, 185.0], [253.0, 217.0, 242.0], [252.0, 217.0, 244.0], [251.0, 217.0, 241.0], [250.0, 217.0, 236.0], [249.0, 217.0, 246.0], [247.0, 217.0, 240.0], [246.0, 217.0, 239.0], [245.0, 217.0, 238.0], [249.0, 207.0, 241.0], [242.0, 217.0, 236.0], [49.0, 83.0, 93.0], [253.0, 205.0, 211.0], [254.0, 203.0, 163.0], [100.0, 217.0, 230.0], [99.0, 217.0, 233.0], [98.0, 217.0, 231.0], [97.0, 217.0, 232.0], [255.0, 218.0, 242.0], [251.0, 218.0, 242.0], [250.0, 218.0, 244.0], [76.0, 153.0, 185.0], [75.0, 153.0, 181.0], [69.0, 89.0, 102.0], [252.0, 201.0, 205.0], [54.0, 89.0, 113.0], [53.0, 89.0, 103.0], [248.0, 201.0, 241.0], [94.0, 203.0, 223.0], [253.0, 216.0, 244.0], [252.0, 216.0, 211.0], [250.0, 216.0, 245.0], [249.0, 216.0, 239.0], [248.0, 216.0, 241.0], [246.0, 216.0, 240.0], [240.0, 216.0, 246.0], [248.0, 210.0, 231.0], [158.0, 152.0, 174.0], [129.0, 216.0, 230.0], [254.0, 203.0, 173.0], [75.0, 152.0, 177.0], [74.0, 152.0, 181.0], [53.0, 88.0, 101.0], [254.0, 215.0, 242.0], [253.0, 191.0, 204.0], [248.0, 215.0, 240.0], [247.0, 215.0, 235.0], [246.0, 215.0, 241.0], [254.0, 203.0, 178.0], [236.0, 151.0, 233.0], [254.0, 201.0, 190.0], [137.0, 151.0, 182.0], [130.0, 151.0, 196.0], [124.0, 151.0, 191.0], [108.0, 151.0, 194.0], [99.0, 215.0, 229.0], [97.0, 215.0, 229.0], [254.0, 202.0, 183.0], [252.0, 202.0, 205.0], [76.0, 151.0, 177.0], [74.0, 151.0, 179.0], [253.0, 217.0, 246.0], [251.0, 217.0, 242.0], [249.0, 217.0, 240.0], [50.0, 87.0, 98.0], [254.0, 200.0, 185.0], [251.0, 214.0, 207.0], [250.0, 214.0, 230.0], [247.0, 214.0, 208.0], [238.0, 214.0, 245.0], [253.0, 182.0, 216.0], [252.0, 182.0, 240.0], [210.0, 214.0, 217.0], [169.0, 150.0, 164.0], [138.0, 150.0, 192.0], [74.0, 150.0, 178.0], [255.0, 192.0, 213.0], [251.0, 218.0, 244.0], [252.0, 213.0, 217.0], [251.0, 213.0, 233.0], [255.0, 190.0, 214.0], [254.0, 190.0, 206.0], [253.0, 190.0, 208.0], [191.0, 149.0, 168.0], [51.0, 85.0, 109.0], [255.0, 189.0, 216.0], [254.0, 199.0, 191.0], [125.0, 149.0, 188.0], [99.0, 213.0, 226.0], [98.0, 213.0, 230.0], [74.0, 85.0, 98.0], [51.0, 85.0, 97.0], [252.0, 216.0, 222.0], [254.0, 203.0, 169.0], [250.0, 212.0, 236.0], [249.0, 212.0, 238.0], [245.0, 212.0, 241.0], [238.0, 212.0, 240.0], [237.0, 212.0, 241.0], [251.0, 183.0, 228.0], [253.0, 183.0, 214.0], [146.0, 148.0, 162.0], [254.0, 201.0, 200.0], [127.0, 148.0, 193.0], [100.0, 220.0, 230.0], [254.0, 203.0, 168.0], [120.0, 148.0, 190.0], [99.0, 212.0, 223.0], [74.0, 84.0, 93.0], [252.0, 211.0, 220.0], [251.0, 223.0, 246.0], [255.0, 189.0, 210.0], [254.0, 189.0, 208.0], [145.0, 211.0, 234.0], [141.0, 147.0, 186.0], [128.0, 147.0, 194.0], [117.0, 147.0, 171.0], [254.0, 200.0, 188.0], [74.0, 147.0, 170.0], [61.0, 83.0, 92.0], [49.0, 83.0, 95.0], [47.0, 83.0, 91.0], [254.0, 210.0, 201.0], [248.0, 210.0, 243.0], [241.0, 210.0, 241.0], [253.0, 181.0, 218.0], [180.0, 146.0, 161.0], [167.0, 146.0, 159.0], [253.0, 180.0, 220.0], [97.0, 210.0, 229.0], [76.0, 146.0, 178.0], [72.0, 146.0, 175.0], [72.0, 146.0, 178.0], [52.0, 82.0, 97.0], [50.0, 82.0, 108.0], [48.0, 82.0, 92.0], [252.0, 186.0, 217.0], [249.0, 186.0, 207.0], [254.0, 209.0, 200.0], [253.0, 209.0, 219.0], [251.0, 209.0, 216.0], [250.0, 209.0, 244.0], [253.0, 217.0, 244.0], [253.0, 188.0, 210.0], [143.0, 145.0, 171.0], [132.0, 145.0, 169.0], [96.0, 81.0, 93.0], [254.0, 195.0, 197.0], [47.0, 81.0, 89.0], [254.0, 203.0, 180.0], [254.0, 208.0, 220.0], [251.0, 208.0, 210.0], [248.0, 208.0, 244.0], [247.0, 208.0, 246.0], [243.0, 208.0, 243.0], [234.0, 208.0, 240.0], [88.0, 188.0, 214.0], [251.0, 183.0, 214.0], [101.0, 208.0, 230.0], [96.0, 208.0, 226.0], [253.0, 183.0, 216.0], [73.0, 144.0, 177.0], [49.0, 80.0, 94.0], [48.0, 80.0, 91.0], [46.0, 80.0, 100.0], [254.0, 202.0, 184.0], [252.0, 207.0, 195.0], [249.0, 207.0, 202.0], [246.0, 207.0, 244.0], [219.0, 207.0, 233.0], [255.0, 196.0, 201.0], [254.0, 187.0, 212.0], [253.0, 187.0, 210.0], [252.0, 187.0, 216.0], [250.0, 187.0, 226.0], [73.0, 143.0, 175.0], [72.0, 143.0, 176.0], [245.0, 153.0, 236.0], [249.0, 206.0, 212.0], [239.0, 206.0, 231.0], [236.0, 206.0, 239.0], [175.0, 142.0, 173.0], [166.0, 142.0, 156.0], [122.0, 142.0, 175.0], [105.0, 142.0, 175.0], [254.0, 199.0, 189.0], [50.0, 78.0, 91.0], [47.0, 78.0, 89.0], [254.0, 203.0, 179.0], [254.0, 205.0, 194.0], [253.0, 205.0, 191.0], [251.0, 205.0, 235.0], [250.0, 205.0, 211.0], [249.0, 205.0, 211.0], [248.0, 205.0, 211.0], [247.0, 205.0, 210.0], [206.0, 205.0, 240.0], [251.0, 185.0, 211.0], [114.0, 141.0, 184.0], [98.0, 205.0, 219.0], [96.0, 205.0, 226.0], [253.0, 186.0, 210.0], [252.0, 186.0, 210.0], [72.0, 141.0, 172.0], [47.0, 77.0, 88.0], [254.0, 203.0, 174.0], [253.0, 204.0, 198.0], [252.0, 204.0, 214.0], [244.0, 204.0, 243.0], [223.0, 204.0, 229.0], [254.0, 198.0, 193.0], [103.0, 204.0, 220.0], [75.0, 140.0, 169.0], [78.0, 160.0, 187.0], [254.0, 203.0, 162.0], [253.0, 203.0, 203.0], [252.0, 203.0, 201.0], [251.0, 203.0, 204.0], [248.0, 203.0, 240.0], [247.0, 203.0, 239.0], [233.0, 203.0, 229.0], [254.0, 200.0, 192.0], [169.0, 139.0, 154.0], [96.0, 203.0, 225.0], [95.0, 203.0, 225.0], [94.0, 203.0, 226.0], [76.0, 139.0, 169.0], [71.0, 139.0, 167.0], [69.0, 139.0, 163.0], [253.0, 185.0, 212.0], [250.0, 185.0, 208.0], [49.0, 75.0, 86.0], [48.0, 75.0, 94.0], [255.0, 202.0, 229.0], [254.0, 202.0, 181.0], [253.0, 202.0, 196.0], [252.0, 202.0, 211.0], [251.0, 202.0, 213.0], [248.0, 202.0, 242.0], [234.0, 202.0, 233.0], [254.0, 199.0, 187.0], [153.0, 138.0, 150.0], [134.0, 202.0, 226.0], [121.0, 138.0, 193.0], [254.0, 203.0, 170.0], [70.0, 138.0, 169.0], [69.0, 138.0, 163.0], [253.0, 177.0, 224.0], [49.0, 74.0, 98.0], [48.0, 74.0, 85.0], [47.0, 74.0, 83.0], [253.0, 176.0, 226.0], [254.0, 201.0, 185.0], [253.0, 201.0, 200.0], [252.0, 201.0, 206.0], [248.0, 201.0, 243.0], [244.0, 201.0, 245.0], [179.0, 137.0, 154.0], [120.0, 137.0, 173.0], [92.0, 201.0, 222.0], [70.0, 137.0, 160.0], [57.0, 73.0, 82.0], [55.0, 73.0, 82.0], [54.0, 73.0, 81.0], [49.0, 73.0, 80.0], [47.0, 73.0, 82.0], [254.0, 184.0, 212.0], [253.0, 184.0, 212.0], [251.0, 184.0, 210.0], [254.0, 200.0, 184.0], [254.0, 199.0, 185.0], [254.0, 198.0, 191.0], [215.0, 200.0, 231.0], [254.0, 197.0, 193.0], [255.0, 196.0, 199.0], [254.0, 196.0, 195.0], [255.0, 195.0, 203.0], [254.0, 195.0, 195.0], [117.0, 136.0, 178.0], [94.0, 200.0, 222.0], [93.0, 200.0, 222.0], [70.0, 136.0, 158.0], [67.0, 136.0, 163.0], [47.0, 72.0, 81.0], [90.0, 195.0, 217.0], [255.0, 192.0, 205.0], [253.0, 192.0, 205.0], [255.0, 191.0, 213.0], [254.0, 199.0, 155.0], [253.0, 199.0, 210.0], [195.0, 192.0, 203.0], [201.0, 199.0, 234.0], [118.0, 135.0, 179.0], [113.0, 135.0, 172.0], [80.0, 135.0, 162.0], [68.0, 135.0, 166.0], [44.0, 71.0, 80.0], [255.0, 198.0, 200.0], [254.0, 198.0, 188.0], [246.0, 198.0, 245.0], [244.0, 198.0, 243.0], [116.0, 134.0, 173.0], [110.0, 134.0, 173.0], [70.0, 134.0, 155.0], [67.0, 134.0, 164.0], [45.0, 70.0, 79.0], [43.0, 70.0, 85.0], [255.0, 197.0, 201.0], [254.0, 197.0, 192.0], [253.0, 197.0, 229.0], [252.0, 197.0, 224.0], [246.0, 197.0, 244.0], [229.0, 197.0, 217.0], [204.0, 197.0, 239.0], [146.0, 133.0, 146.0], [99.0, 212.0, 232.0], [115.0, 197.0, 220.0], [46.0, 69.0, 80.0], [44.0, 69.0, 77.0], [255.0, 196.0, 197.0], [254.0, 196.0, 193.0], [251.0, 196.0, 209.0], [237.0, 196.0, 230.0], [253.0, 178.0, 222.0], [110.0, 132.0, 165.0], [92.0, 196.0, 219.0], [67.0, 132.0, 158.0], [60.0, 68.0, 79.0], [48.0, 68.0, 76.0], [47.0, 68.0, 78.0], [251.0, 224.0, 249.0], [255.0, 195.0, 199.0], [254.0, 195.0, 194.0], [251.0, 195.0, 226.0], [250.0, 195.0, 224.0], [247.0, 195.0, 224.0], [252.0, 187.0, 220.0], [254.0, 203.0, 192.0], [90.0, 131.0, 161.0], [76.0, 131.0, 153.0], [45.0, 67.0, 82.0], [255.0, 194.0, 211.0], [254.0, 194.0, 199.0], [252.0, 194.0, 220.0], [57.0, 104.0, 136.0], [239.0, 194.0, 220.0], [155.0, 130.0, 146.0], [73.0, 130.0, 161.0], [66.0, 130.0, 157.0], [45.0, 66.0, 76.0], [254.0, 193.0, 201.0], [252.0, 193.0, 223.0], [248.0, 193.0, 221.0], [238.0, 193.0, 198.0], [203.0, 193.0, 226.0], [189.0, 193.0, 231.0], [176.0, 129.0, 149.0], [164.0, 193.0, 224.0], [109.0, 129.0, 161.0], [254.0, 202.0, 190.0], [88.0, 193.0, 216.0], [67.0, 129.0, 164.0], [46.0, 65.0, 79.0], [45.0, 65.0, 75.0], [41.0, 65.0, 74.0], [255.0, 192.0, 206.0], [254.0, 192.0, 202.0], [253.0, 192.0, 203.0], [252.0, 192.0, 227.0], [251.0, 192.0, 208.0], [248.0, 192.0, 244.0], [246.0, 192.0, 220.0], [217.0, 192.0, 208.0], [198.0, 192.0, 232.0], [195.0, 192.0, 208.0], [108.0, 192.0, 214.0], [94.0, 192.0, 219.0], [91.0, 192.0, 218.0], [67.0, 128.0, 161.0], [65.0, 128.0, 151.0]], \"opacity\": 1.0, \"size\": 3}, \"mode\": \"markers\", \"type\": \"scatter3d\", \"x\": [255.0, 254.0, 253.0, 251.0, 250.0, 249.0, 242.0, 216.0, 132.0, 104.0, 90.0, 66.0, 45.0, 255.0, 255.0, 255.0, 254.0, 253.0, 252.0, 251.0, 248.0, 240.0, 65.0, 44.0, 255.0, 254.0, 253.0, 252.0, 251.0, 243.0, 241.0, 225.0, 168.0, 153.0, 88.0, 67.0, 254.0, 253.0, 252.0, 220.0, 218.0, 200.0, 111.0, 99.0, 92.0, 89.0, 88.0, 66.0, 65.0, 64.0, 40.0, 255.0, 254.0, 253.0, 252.0, 251.0, 250.0, 191.0, 187.0, 186.0, 251.0, 254.0, 98.0, 91.0, 73.0, 65.0, 44.0, 255.0, 254.0, 253.0, 252.0, 250.0, 249.0, 190.0, 140.0, 114.0, 88.0, 86.0, 66.0, 62.0, 43.0, 253.0, 252.0, 251.0, 250.0, 246.0, 255.0, 220.0, 183.0, 181.0, 174.0, 254.0, 112.0, 250.0, 254.0, 253.0, 248.0, 244.0, 254.0, 253.0, 251.0, 233.0, 218.0, 210.0, 204.0, 196.0, 124.0, 115.0, 88.0, 87.0, 46.0, 45.0, 255.0, 253.0, 252.0, 251.0, 251.0, 244.0, 241.0, 232.0, 212.0, 113.0, 102.0, 100.0, 254.0, 252.0, 63.0, 249.0, 254.0, 100.0, 253.0, 252.0, 253.0, 242.0, 231.0, 253.0, 209.0, 253.0, 64.0, 255.0, 62.0, 44.0, 253.0, 252.0, 253.0, 245.0, 239.0, 231.0, 255.0, 252.0, 254.0, 249.0, 176.0, 251.0, 93.0, 89.0, 50.0, 253.0, 251.0, 250.0, 253.0, 244.0, 175.0, 161.0, 100.0, 117.0, 108.0, 105.0, 254.0, 62.0, 253.0, 251.0, 208.0, 200.0, 255.0, 253.0, 252.0, 173.0, 127.0, 154.0, 152.0, 149.0, 155.0, 126.0, 110.0, 251.0, 62.0, 61.0, 254.0, 253.0, 242.0, 227.0, 208.0, 253.0, 252.0, 253.0, 150.0, 146.0, 130.0, 88.0, 85.0, 60.0, 254.0, 47.0, 253.0, 250.0, 248.0, 253.0, 234.0, 162.0, 158.0, 253.0, 218.0, 152.0, 149.0, 255.0, 102.0, 93.0, 85.0, 60.0, 46.0, 253.0, 226.0, 205.0, 131.0, 175.0, 168.0, 100.0, 84.0, 83.0, 61.0, 253.0, 250.0, 241.0, 254.0, 67.0, 174.0, 167.0, 163.0, 150.0, 149.0, 254.0, 105.0, 103.0, 62.0, 41.0, 76.0, 202.0, 143.0, 253.0, 84.0, 251.0, 249.0, 241.0, 231.0, 132.0, 176.0, 250.0, 254.0, 252.0, 83.0, 82.0, 253.0, 252.0, 60.0, 59.0, 236.0, 156.0, 254.0, 150.0, 250.0, 135.0, 83.0, 60.0, 58.0, 251.0, 39.0, 251.0, 79.0, 244.0, 238.0, 234.0, 224.0, 205.0, 172.0, 155.0, 138.0, 134.0, 107.0, 254.0, 251.0, 80.0, 254.0, 252.0, 251.0, 174.0, 254.0, 248.0, 244.0, 233.0, 247.0, 192.0, 177.0, 168.0, 152.0, 149.0, 122.0, 113.0, 100.0, 81.0, 253.0, 244.0, 241.0, 226.0, 224.0, 254.0, 167.0, 133.0, 123.0, 103.0, 82.0, 59.0, 58.0, 253.0, 254.0, 237.0, 255.0, 254.0, 48.0, 254.0, 255.0, 254.0, 251.0, 131.0, 255.0, 254.0, 254.0, 84.0, 81.0, 59.0, 57.0, 56.0, 255.0, 255.0, 248.0, 253.0, 246.0, 242.0, 240.0, 251.0, 194.0, 144.0, 58.0, 54.0, 251.0, 250.0, 157.0, 151.0, 56.0, 254.0, 247.0, 245.0, 214.0, 142.0, 136.0, 113.0, 106.0, 87.0, 82.0, 81.0, 79.0, 250.0, 249.0, 59.0, 183.0, 169.0, 158.0, 251.0, 57.0, 56.0, 251.0, 252.0, 251.0, 254.0, 246.0, 191.0, 187.0, 161.0, 255.0, 137.0, 136.0, 120.0, 119.0, 57.0, 251.0, 56.0, 255.0, 209.0, 159.0, 148.0, 142.0, 139.0, 129.0, 114.0, 82.0, 80.0, 78.0, 57.0, 255.0, 252.0, 251.0, 253.0, 240.0, 237.0, 149.0, 121.0, 81.0, 56.0, 253.0, 252.0, 251.0, 250.0, 248.0, 247.0, 149.0, 148.0, 115.0, 79.0, 78.0, 255.0, 251.0, 250.0, 243.0, 208.0, 158.0, 156.0, 146.0, 130.0, 255.0, 55.0, 253.0, 255.0, 252.0, 251.0, 173.0, 171.0, 102.0, 56.0, 52.0, 253.0, 251.0, 247.0, 243.0, 254.0, 203.0, 255.0, 171.0, 152.0, 91.0, 77.0, 54.0, 255.0, 254.0, 252.0, 251.0, 249.0, 230.0, 138.0, 119.0, 101.0, 100.0, 94.0, 77.0, 54.0, 53.0, 51.0, 254.0, 253.0, 252.0, 251.0, 250.0, 247.0, 140.0, 130.0, 122.0, 252.0, 250.0, 102.0, 101.0, 84.0, 54.0, 53.0, 255.0, 254.0, 252.0, 251.0, 250.0, 247.0, 244.0, 230.0, 253.0, 252.0, 142.0, 131.0, 130.0, 122.0, 75.0, 253.0, 252.0, 251.0, 250.0, 249.0, 247.0, 246.0, 245.0, 249.0, 242.0, 49.0, 253.0, 254.0, 100.0, 99.0, 98.0, 97.0, 255.0, 251.0, 250.0, 76.0, 75.0, 69.0, 252.0, 54.0, 53.0, 248.0, 94.0, 253.0, 252.0, 250.0, 249.0, 248.0, 246.0, 240.0, 248.0, 158.0, 129.0, 254.0, 75.0, 74.0, 53.0, 254.0, 253.0, 248.0, 247.0, 246.0, 254.0, 236.0, 254.0, 137.0, 130.0, 124.0, 108.0, 99.0, 97.0, 254.0, 252.0, 76.0, 74.0, 253.0, 251.0, 249.0, 50.0, 254.0, 251.0, 250.0, 247.0, 238.0, 253.0, 252.0, 210.0, 169.0, 138.0, 74.0, 255.0, 251.0, 252.0, 251.0, 255.0, 254.0, 253.0, 191.0, 51.0, 255.0, 254.0, 125.0, 99.0, 98.0, 74.0, 51.0, 252.0, 254.0, 250.0, 249.0, 245.0, 238.0, 237.0, 251.0, 253.0, 146.0, 254.0, 127.0, 100.0, 254.0, 120.0, 99.0, 74.0, 252.0, 251.0, 255.0, 254.0, 145.0, 141.0, 128.0, 117.0, 254.0, 74.0, 61.0, 49.0, 47.0, 254.0, 248.0, 241.0, 253.0, 180.0, 167.0, 253.0, 97.0, 76.0, 72.0, 72.0, 52.0, 50.0, 48.0, 252.0, 249.0, 254.0, 253.0, 251.0, 250.0, 253.0, 253.0, 143.0, 132.0, 96.0, 254.0, 47.0, 254.0, 254.0, 251.0, 248.0, 247.0, 243.0, 234.0, 88.0, 251.0, 101.0, 96.0, 253.0, 73.0, 49.0, 48.0, 46.0, 254.0, 252.0, 249.0, 246.0, 219.0, 255.0, 254.0, 253.0, 252.0, 250.0, 73.0, 72.0, 245.0, 249.0, 239.0, 236.0, 175.0, 166.0, 122.0, 105.0, 254.0, 50.0, 47.0, 254.0, 254.0, 253.0, 251.0, 250.0, 249.0, 248.0, 247.0, 206.0, 251.0, 114.0, 98.0, 96.0, 253.0, 252.0, 72.0, 47.0, 254.0, 253.0, 252.0, 244.0, 223.0, 254.0, 103.0, 75.0, 78.0, 254.0, 253.0, 252.0, 251.0, 248.0, 247.0, 233.0, 254.0, 169.0, 96.0, 95.0, 94.0, 76.0, 71.0, 69.0, 253.0, 250.0, 49.0, 48.0, 255.0, 254.0, 253.0, 252.0, 251.0, 248.0, 234.0, 254.0, 153.0, 134.0, 121.0, 254.0, 70.0, 69.0, 253.0, 49.0, 48.0, 47.0, 253.0, 254.0, 253.0, 252.0, 248.0, 244.0, 179.0, 120.0, 92.0, 70.0, 57.0, 55.0, 54.0, 49.0, 47.0, 254.0, 253.0, 251.0, 254.0, 254.0, 254.0, 215.0, 254.0, 255.0, 254.0, 255.0, 254.0, 117.0, 94.0, 93.0, 70.0, 67.0, 47.0, 90.0, 255.0, 253.0, 255.0, 254.0, 253.0, 195.0, 201.0, 118.0, 113.0, 80.0, 68.0, 44.0, 255.0, 254.0, 246.0, 244.0, 116.0, 110.0, 70.0, 67.0, 45.0, 43.0, 255.0, 254.0, 253.0, 252.0, 246.0, 229.0, 204.0, 146.0, 99.0, 115.0, 46.0, 44.0, 255.0, 254.0, 251.0, 237.0, 253.0, 110.0, 92.0, 67.0, 60.0, 48.0, 47.0, 251.0, 255.0, 254.0, 251.0, 250.0, 247.0, 252.0, 254.0, 90.0, 76.0, 45.0, 255.0, 254.0, 252.0, 57.0, 239.0, 155.0, 73.0, 66.0, 45.0, 254.0, 252.0, 248.0, 238.0, 203.0, 189.0, 176.0, 164.0, 109.0, 254.0, 88.0, 67.0, 46.0, 45.0, 41.0, 255.0, 254.0, 253.0, 252.0, 251.0, 248.0, 246.0, 217.0, 198.0, 195.0, 108.0, 94.0, 91.0, 67.0, 65.0], \"y\": [191.0, 191.0, 191.0, 191.0, 191.0, 191.0, 191.0, 191.0, 127.0, 127.0, 191.0, 127.0, 63.0, 190.0, 189.0, 190.0, 190.0, 190.0, 190.0, 190.0, 190.0, 190.0, 126.0, 62.0, 189.0, 189.0, 189.0, 189.0, 189.0, 189.0, 189.0, 189.0, 189.0, 125.0, 189.0, 125.0, 188.0, 188.0, 188.0, 188.0, 188.0, 188.0, 124.0, 124.0, 188.0, 188.0, 188.0, 124.0, 124.0, 124.0, 60.0, 187.0, 187.0, 187.0, 187.0, 187.0, 187.0, 187.0, 187.0, 187.0, 219.0, 203.0, 187.0, 187.0, 59.0, 123.0, 59.0, 186.0, 186.0, 186.0, 186.0, 186.0, 250.0, 186.0, 122.0, 122.0, 186.0, 186.0, 122.0, 122.0, 58.0, 185.0, 185.0, 185.0, 249.0, 185.0, 196.0, 185.0, 185.0, 185.0, 185.0, 203.0, 185.0, 218.0, 201.0, 201.0, 201.0, 201.0, 184.0, 184.0, 184.0, 184.0, 184.0, 184.0, 184.0, 184.0, 120.0, 184.0, 184.0, 184.0, 56.0, 56.0, 191.0, 183.0, 183.0, 183.0, 191.0, 183.0, 183.0, 183.0, 183.0, 183.0, 119.0, 119.0, 202.0, 202.0, 119.0, 217.0, 200.0, 217.0, 182.0, 182.0, 183.0, 182.0, 182.0, 182.0, 182.0, 187.0, 118.0, 189.0, 118.0, 54.0, 181.0, 181.0, 175.0, 181.0, 181.0, 181.0, 190.0, 190.0, 203.0, 173.0, 181.0, 220.0, 117.0, 181.0, 53.0, 180.0, 180.0, 180.0, 183.0, 180.0, 180.0, 180.0, 220.0, 180.0, 180.0, 180.0, 203.0, 116.0, 179.0, 179.0, 179.0, 179.0, 189.0, 189.0, 189.0, 179.0, 113.0, 179.0, 179.0, 179.0, 172.0, 115.0, 179.0, 234.0, 115.0, 115.0, 200.0, 178.0, 178.0, 178.0, 178.0, 181.0, 181.0, 180.0, 178.0, 178.0, 114.0, 189.0, 178.0, 114.0, 203.0, 50.0, 177.0, 177.0, 241.0, 186.0, 177.0, 177.0, 177.0, 188.0, 188.0, 177.0, 177.0, 195.0, 113.0, 177.0, 177.0, 113.0, 49.0, 176.0, 176.0, 176.0, 154.0, 176.0, 176.0, 176.0, 176.0, 176.0, 112.0, 175.0, 175.0, 239.0, 196.0, 129.0, 175.0, 175.0, 175.0, 175.0, 175.0, 187.0, 175.0, 111.0, 111.0, 47.0, 153.0, 174.0, 174.0, 179.0, 174.0, 173.0, 237.0, 237.0, 173.0, 145.0, 173.0, 185.0, 186.0, 186.0, 173.0, 173.0, 188.0, 188.0, 109.0, 109.0, 236.0, 172.0, 198.0, 172.0, 228.0, 172.0, 172.0, 108.0, 108.0, 161.0, 44.0, 160.0, 160.0, 171.0, 235.0, 235.0, 171.0, 171.0, 171.0, 171.0, 171.0, 171.0, 107.0, 203.0, 170.0, 171.0, 200.0, 185.0, 185.0, 185.0, 199.0, 170.0, 215.0, 234.0, 214.0, 170.0, 170.0, 170.0, 170.0, 170.0, 170.0, 106.0, 170.0, 170.0, 176.0, 169.0, 233.0, 169.0, 169.0, 203.0, 169.0, 169.0, 169.0, 169.0, 169.0, 105.0, 105.0, 184.0, 199.0, 232.0, 198.0, 198.0, 75.0, 197.0, 196.0, 196.0, 196.0, 168.0, 195.0, 195.0, 194.0, 168.0, 168.0, 104.0, 104.0, 104.0, 192.0, 191.0, 231.0, 191.0, 167.0, 167.0, 231.0, 191.0, 167.0, 167.0, 103.0, 89.0, 230.0, 230.0, 166.0, 166.0, 102.0, 203.0, 165.0, 229.0, 165.0, 165.0, 165.0, 101.0, 165.0, 165.0, 165.0, 165.0, 165.0, 228.0, 228.0, 107.0, 164.0, 164.0, 164.0, 227.0, 100.0, 100.0, 224.0, 163.0, 227.0, 202.0, 227.0, 163.0, 163.0, 163.0, 190.0, 163.0, 163.0, 99.0, 163.0, 99.0, 226.0, 104.0, 195.0, 162.0, 162.0, 162.0, 162.0, 162.0, 162.0, 162.0, 162.0, 162.0, 162.0, 98.0, 225.0, 225.0, 225.0, 175.0, 161.0, 225.0, 161.0, 161.0, 161.0, 97.0, 224.0, 224.0, 224.0, 224.0, 224.0, 224.0, 160.0, 160.0, 160.0, 160.0, 160.0, 223.0, 223.0, 223.0, 159.0, 159.0, 159.0, 159.0, 159.0, 159.0, 189.0, 95.0, 181.0, 222.0, 222.0, 222.0, 158.0, 158.0, 222.0, 94.0, 94.0, 221.0, 221.0, 221.0, 157.0, 203.0, 157.0, 196.0, 157.0, 157.0, 93.0, 157.0, 93.0, 220.0, 220.0, 220.0, 220.0, 220.0, 156.0, 156.0, 156.0, 92.0, 220.0, 156.0, 156.0, 92.0, 92.0, 92.0, 219.0, 219.0, 219.0, 219.0, 219.0, 219.0, 155.0, 155.0, 155.0, 219.0, 219.0, 91.0, 219.0, 91.0, 91.0, 91.0, 218.0, 218.0, 218.0, 218.0, 218.0, 218.0, 218.0, 218.0, 188.0, 188.0, 154.0, 154.0, 154.0, 154.0, 154.0, 217.0, 217.0, 217.0, 217.0, 217.0, 217.0, 217.0, 217.0, 207.0, 217.0, 83.0, 205.0, 203.0, 217.0, 217.0, 217.0, 217.0, 218.0, 218.0, 218.0, 153.0, 153.0, 89.0, 201.0, 89.0, 89.0, 201.0, 203.0, 216.0, 216.0, 216.0, 216.0, 216.0, 216.0, 216.0, 210.0, 152.0, 216.0, 203.0, 152.0, 152.0, 88.0, 215.0, 191.0, 215.0, 215.0, 215.0, 203.0, 151.0, 201.0, 151.0, 151.0, 151.0, 151.0, 215.0, 215.0, 202.0, 202.0, 151.0, 151.0, 217.0, 217.0, 217.0, 87.0, 200.0, 214.0, 214.0, 214.0, 214.0, 182.0, 182.0, 214.0, 150.0, 150.0, 150.0, 192.0, 218.0, 213.0, 213.0, 190.0, 190.0, 190.0, 149.0, 85.0, 189.0, 199.0, 149.0, 213.0, 213.0, 85.0, 85.0, 216.0, 203.0, 212.0, 212.0, 212.0, 212.0, 212.0, 183.0, 183.0, 148.0, 201.0, 148.0, 220.0, 203.0, 148.0, 212.0, 84.0, 211.0, 223.0, 189.0, 189.0, 211.0, 147.0, 147.0, 147.0, 200.0, 147.0, 83.0, 83.0, 83.0, 210.0, 210.0, 210.0, 181.0, 146.0, 146.0, 180.0, 210.0, 146.0, 146.0, 146.0, 82.0, 82.0, 82.0, 186.0, 186.0, 209.0, 209.0, 209.0, 209.0, 217.0, 188.0, 145.0, 145.0, 81.0, 195.0, 81.0, 203.0, 208.0, 208.0, 208.0, 208.0, 208.0, 208.0, 188.0, 183.0, 208.0, 208.0, 183.0, 144.0, 80.0, 80.0, 80.0, 202.0, 207.0, 207.0, 207.0, 207.0, 196.0, 187.0, 187.0, 187.0, 187.0, 143.0, 143.0, 153.0, 206.0, 206.0, 206.0, 142.0, 142.0, 142.0, 142.0, 199.0, 78.0, 78.0, 203.0, 205.0, 205.0, 205.0, 205.0, 205.0, 205.0, 205.0, 205.0, 185.0, 141.0, 205.0, 205.0, 186.0, 186.0, 141.0, 77.0, 203.0, 204.0, 204.0, 204.0, 204.0, 198.0, 204.0, 140.0, 160.0, 203.0, 203.0, 203.0, 203.0, 203.0, 203.0, 203.0, 200.0, 139.0, 203.0, 203.0, 203.0, 139.0, 139.0, 139.0, 185.0, 185.0, 75.0, 75.0, 202.0, 202.0, 202.0, 202.0, 202.0, 202.0, 202.0, 199.0, 138.0, 202.0, 138.0, 203.0, 138.0, 138.0, 177.0, 74.0, 74.0, 74.0, 176.0, 201.0, 201.0, 201.0, 201.0, 201.0, 137.0, 137.0, 201.0, 137.0, 73.0, 73.0, 73.0, 73.0, 73.0, 184.0, 184.0, 184.0, 200.0, 199.0, 198.0, 200.0, 197.0, 196.0, 196.0, 195.0, 195.0, 136.0, 200.0, 200.0, 136.0, 136.0, 72.0, 195.0, 192.0, 192.0, 191.0, 199.0, 199.0, 192.0, 199.0, 135.0, 135.0, 135.0, 135.0, 71.0, 198.0, 198.0, 198.0, 198.0, 134.0, 134.0, 134.0, 134.0, 70.0, 70.0, 197.0, 197.0, 197.0, 197.0, 197.0, 197.0, 197.0, 133.0, 212.0, 197.0, 69.0, 69.0, 196.0, 196.0, 196.0, 196.0, 178.0, 132.0, 196.0, 132.0, 68.0, 68.0, 68.0, 224.0, 195.0, 195.0, 195.0, 195.0, 195.0, 187.0, 203.0, 131.0, 131.0, 67.0, 194.0, 194.0, 194.0, 104.0, 194.0, 130.0, 130.0, 130.0, 66.0, 193.0, 193.0, 193.0, 193.0, 193.0, 193.0, 129.0, 193.0, 129.0, 202.0, 193.0, 129.0, 65.0, 65.0, 65.0, 192.0, 192.0, 192.0, 192.0, 192.0, 192.0, 192.0, 192.0, 192.0, 192.0, 192.0, 192.0, 192.0, 128.0, 128.0], \"z\": [202.0, 206.0, 203.0, 237.0, 238.0, 224.0, 222.0, 223.0, 146.0, 166.0, 216.0, 152.0, 72.0, 215.0, 214.0, 212.0, 203.0, 206.0, 209.0, 222.0, 217.0, 237.0, 156.0, 74.0, 209.0, 207.0, 206.0, 217.0, 229.0, 242.0, 203.0, 224.0, 246.0, 138.0, 214.0, 156.0, 208.0, 208.0, 206.0, 197.0, 227.0, 231.0, 162.0, 157.0, 209.0, 213.0, 212.0, 145.0, 154.0, 141.0, 67.0, 213.0, 210.0, 209.0, 226.0, 222.0, 209.0, 227.0, 212.0, 230.0, 247.0, 176.0, 206.0, 212.0, 75.0, 142.0, 69.0, 214.0, 212.0, 211.0, 209.0, 209.0, 255.0, 222.0, 137.0, 160.0, 211.0, 211.0, 147.0, 154.0, 69.0, 211.0, 211.0, 229.0, 252.0, 214.0, 205.0, 214.0, 227.0, 229.0, 228.0, 164.0, 213.0, 241.0, 186.0, 204.0, 242.0, 242.0, 213.0, 213.0, 235.0, 241.0, 209.0, 223.0, 197.0, 218.0, 134.0, 215.0, 209.0, 209.0, 67.0, 69.0, 207.0, 213.0, 216.0, 236.0, 223.0, 202.0, 201.0, 214.0, 218.0, 213.0, 158.0, 157.0, 182.0, 198.0, 146.0, 239.0, 186.0, 231.0, 214.0, 236.0, 215.0, 203.0, 218.0, 215.0, 191.0, 214.0, 141.0, 215.0, 146.0, 63.0, 220.0, 220.0, 226.0, 205.0, 200.0, 201.0, 211.0, 223.0, 172.0, 236.0, 224.0, 245.0, 152.0, 207.0, 61.0, 218.0, 231.0, 229.0, 217.0, 205.0, 223.0, 223.0, 233.0, 209.0, 208.0, 209.0, 165.0, 142.0, 220.0, 245.0, 203.0, 193.0, 211.0, 207.0, 215.0, 223.0, 128.0, 225.0, 224.0, 223.0, 212.0, 129.0, 206.0, 244.0, 137.0, 148.0, 187.0, 221.0, 236.0, 196.0, 214.0, 215.0, 215.0, 219.0, 220.0, 220.0, 128.0, 213.0, 205.0, 146.0, 175.0, 63.0, 223.0, 227.0, 252.0, 212.0, 197.0, 224.0, 222.0, 209.0, 219.0, 220.0, 223.0, 202.0, 143.0, 198.0, 205.0, 134.0, 60.0, 224.0, 198.0, 211.0, 203.0, 201.0, 220.0, 202.0, 203.0, 202.0, 141.0, 222.0, 245.0, 250.0, 196.0, 146.0, 213.0, 220.0, 219.0, 218.0, 213.0, 211.0, 206.0, 150.0, 138.0, 59.0, 181.0, 188.0, 213.0, 221.0, 201.0, 232.0, 242.0, 252.0, 227.0, 179.0, 202.0, 218.0, 213.0, 211.0, 201.0, 201.0, 215.0, 221.0, 136.0, 139.0, 246.0, 214.0, 220.0, 214.0, 238.0, 206.0, 199.0, 126.0, 135.0, 246.0, 51.0, 244.0, 190.0, 227.0, 246.0, 252.0, 192.0, 185.0, 207.0, 214.0, 197.0, 218.0, 142.0, 171.0, 232.0, 199.0, 189.0, 215.0, 209.0, 227.0, 190.0, 240.0, 239.0, 251.0, 243.0, 197.0, 207.0, 182.0, 212.0, 214.0, 244.0, 119.0, 195.0, 198.0, 225.0, 236.0, 247.0, 187.0, 187.0, 167.0, 208.0, 212.0, 237.0, 209.0, 198.0, 120.0, 121.0, 214.0, 188.0, 250.0, 208.0, 192.0, 91.0, 194.0, 204.0, 194.0, 232.0, 234.0, 200.0, 198.0, 200.0, 197.0, 196.0, 128.0, 125.0, 133.0, 212.0, 211.0, 250.0, 205.0, 238.0, 219.0, 251.0, 229.0, 189.0, 211.0, 118.0, 103.0, 250.0, 238.0, 194.0, 208.0, 130.0, 177.0, 237.0, 249.0, 183.0, 212.0, 211.0, 116.0, 194.0, 185.0, 193.0, 194.0, 194.0, 245.0, 237.0, 127.0, 208.0, 195.0, 208.0, 246.0, 121.0, 114.0, 246.0, 249.0, 249.0, 192.0, 246.0, 177.0, 195.0, 209.0, 213.0, 206.0, 198.0, 116.0, 187.0, 119.0, 248.0, 119.0, 205.0, 182.0, 177.0, 205.0, 202.0, 207.0, 208.0, 198.0, 189.0, 194.0, 191.0, 114.0, 250.0, 249.0, 247.0, 227.0, 250.0, 238.0, 209.0, 200.0, 191.0, 125.0, 247.0, 247.0, 240.0, 248.0, 244.0, 246.0, 202.0, 202.0, 197.0, 185.0, 191.0, 253.0, 237.0, 248.0, 222.0, 180.0, 190.0, 197.0, 202.0, 199.0, 213.0, 111.0, 217.0, 248.0, 250.0, 249.0, 173.0, 172.0, 231.0, 117.0, 115.0, 247.0, 247.0, 244.0, 233.0, 189.0, 176.0, 203.0, 170.0, 207.0, 105.0, 187.0, 123.0, 245.0, 248.0, 245.0, 246.0, 244.0, 220.0, 191.0, 201.0, 112.0, 229.0, 187.0, 187.0, 106.0, 114.0, 116.0, 248.0, 245.0, 247.0, 244.0, 245.0, 242.0, 197.0, 196.0, 208.0, 246.0, 236.0, 104.0, 229.0, 103.0, 111.0, 107.0, 244.0, 244.0, 238.0, 212.0, 243.0, 237.0, 239.0, 231.0, 211.0, 219.0, 196.0, 197.0, 198.0, 198.0, 185.0, 242.0, 244.0, 241.0, 236.0, 246.0, 240.0, 239.0, 238.0, 241.0, 236.0, 93.0, 211.0, 163.0, 230.0, 233.0, 231.0, 232.0, 242.0, 242.0, 244.0, 185.0, 181.0, 102.0, 205.0, 113.0, 103.0, 241.0, 223.0, 244.0, 211.0, 245.0, 239.0, 241.0, 240.0, 246.0, 231.0, 174.0, 230.0, 173.0, 177.0, 181.0, 101.0, 242.0, 204.0, 240.0, 235.0, 241.0, 178.0, 233.0, 190.0, 182.0, 196.0, 191.0, 194.0, 229.0, 229.0, 183.0, 205.0, 177.0, 179.0, 246.0, 242.0, 240.0, 98.0, 185.0, 207.0, 230.0, 208.0, 245.0, 216.0, 240.0, 217.0, 164.0, 192.0, 178.0, 213.0, 244.0, 217.0, 233.0, 214.0, 206.0, 208.0, 168.0, 109.0, 216.0, 191.0, 188.0, 226.0, 230.0, 98.0, 97.0, 222.0, 169.0, 236.0, 238.0, 241.0, 240.0, 241.0, 228.0, 214.0, 162.0, 200.0, 193.0, 230.0, 168.0, 190.0, 223.0, 93.0, 220.0, 246.0, 210.0, 208.0, 234.0, 186.0, 194.0, 171.0, 188.0, 170.0, 92.0, 95.0, 91.0, 201.0, 243.0, 241.0, 218.0, 161.0, 159.0, 220.0, 229.0, 178.0, 175.0, 178.0, 97.0, 108.0, 92.0, 217.0, 207.0, 200.0, 219.0, 216.0, 244.0, 244.0, 210.0, 171.0, 169.0, 93.0, 197.0, 89.0, 180.0, 220.0, 210.0, 244.0, 246.0, 243.0, 240.0, 214.0, 214.0, 230.0, 226.0, 216.0, 177.0, 94.0, 91.0, 100.0, 184.0, 195.0, 202.0, 244.0, 233.0, 201.0, 212.0, 210.0, 216.0, 226.0, 175.0, 176.0, 236.0, 212.0, 231.0, 239.0, 173.0, 156.0, 175.0, 175.0, 189.0, 91.0, 89.0, 179.0, 194.0, 191.0, 235.0, 211.0, 211.0, 211.0, 210.0, 240.0, 211.0, 184.0, 219.0, 226.0, 210.0, 210.0, 172.0, 88.0, 174.0, 198.0, 214.0, 243.0, 229.0, 193.0, 220.0, 169.0, 187.0, 162.0, 203.0, 201.0, 204.0, 240.0, 239.0, 229.0, 192.0, 154.0, 225.0, 225.0, 226.0, 169.0, 167.0, 163.0, 212.0, 208.0, 86.0, 94.0, 229.0, 181.0, 196.0, 211.0, 213.0, 242.0, 233.0, 187.0, 150.0, 226.0, 193.0, 170.0, 169.0, 163.0, 224.0, 98.0, 85.0, 83.0, 226.0, 185.0, 200.0, 206.0, 243.0, 245.0, 154.0, 173.0, 222.0, 160.0, 82.0, 82.0, 81.0, 80.0, 82.0, 212.0, 212.0, 210.0, 184.0, 185.0, 191.0, 231.0, 193.0, 199.0, 195.0, 203.0, 195.0, 178.0, 222.0, 222.0, 158.0, 163.0, 81.0, 217.0, 205.0, 205.0, 213.0, 155.0, 210.0, 203.0, 234.0, 179.0, 172.0, 162.0, 166.0, 80.0, 200.0, 188.0, 245.0, 243.0, 173.0, 173.0, 155.0, 164.0, 79.0, 85.0, 201.0, 192.0, 229.0, 224.0, 244.0, 217.0, 239.0, 146.0, 232.0, 220.0, 80.0, 77.0, 197.0, 193.0, 209.0, 230.0, 222.0, 165.0, 219.0, 158.0, 79.0, 76.0, 78.0, 249.0, 199.0, 194.0, 226.0, 224.0, 224.0, 220.0, 192.0, 161.0, 153.0, 82.0, 211.0, 199.0, 220.0, 136.0, 220.0, 146.0, 161.0, 157.0, 76.0, 201.0, 223.0, 221.0, 198.0, 226.0, 231.0, 149.0, 224.0, 161.0, 190.0, 216.0, 164.0, 79.0, 75.0, 74.0, 206.0, 202.0, 203.0, 227.0, 208.0, 244.0, 220.0, 208.0, 232.0, 208.0, 214.0, 219.0, 218.0, 161.0, 151.0]}],\n",
       "                        {\"height\": 400, \"margin\": {\"b\": 10, \"l\": 20, \"r\": 0, \"t\": 30}, \"scene\": {\"camera\": {\"eye\": {\"x\": 1, \"y\": -2, \"z\": 1}}}, \"template\": {\"data\": {\"bar\": [{\"error_x\": {\"color\": \"#2a3f5f\"}, \"error_y\": {\"color\": \"#2a3f5f\"}, \"marker\": {\"line\": {\"color\": \"#E5ECF6\", \"width\": 0.5}}, \"type\": \"bar\"}], \"barpolar\": [{\"marker\": {\"line\": {\"color\": \"#E5ECF6\", \"width\": 0.5}}, \"type\": \"barpolar\"}], \"carpet\": [{\"aaxis\": {\"endlinecolor\": \"#2a3f5f\", \"gridcolor\": \"white\", \"linecolor\": \"white\", \"minorgridcolor\": \"white\", \"startlinecolor\": \"#2a3f5f\"}, \"baxis\": {\"endlinecolor\": \"#2a3f5f\", \"gridcolor\": \"white\", \"linecolor\": \"white\", \"minorgridcolor\": \"white\", \"startlinecolor\": \"#2a3f5f\"}, \"type\": \"carpet\"}], \"choropleth\": [{\"colorbar\": {\"outlinewidth\": 0, \"ticks\": \"\"}, \"type\": \"choropleth\"}], \"contour\": [{\"colorbar\": {\"outlinewidth\": 0, \"ticks\": \"\"}, \"colorscale\": [[0.0, \"#0d0887\"], [0.1111111111111111, \"#46039f\"], [0.2222222222222222, \"#7201a8\"], [0.3333333333333333, \"#9c179e\"], [0.4444444444444444, \"#bd3786\"], [0.5555555555555556, \"#d8576b\"], [0.6666666666666666, \"#ed7953\"], [0.7777777777777778, \"#fb9f3a\"], [0.8888888888888888, \"#fdca26\"], [1.0, \"#f0f921\"]], \"type\": \"contour\"}], \"contourcarpet\": [{\"colorbar\": {\"outlinewidth\": 0, \"ticks\": \"\"}, \"type\": \"contourcarpet\"}], \"heatmap\": [{\"colorbar\": {\"outlinewidth\": 0, \"ticks\": \"\"}, \"colorscale\": [[0.0, \"#0d0887\"], [0.1111111111111111, \"#46039f\"], [0.2222222222222222, \"#7201a8\"], [0.3333333333333333, \"#9c179e\"], [0.4444444444444444, \"#bd3786\"], [0.5555555555555556, \"#d8576b\"], [0.6666666666666666, \"#ed7953\"], [0.7777777777777778, \"#fb9f3a\"], [0.8888888888888888, \"#fdca26\"], [1.0, \"#f0f921\"]], \"type\": \"heatmap\"}], \"heatmapgl\": [{\"colorbar\": {\"outlinewidth\": 0, \"ticks\": \"\"}, \"colorscale\": [[0.0, \"#0d0887\"], [0.1111111111111111, \"#46039f\"], [0.2222222222222222, \"#7201a8\"], [0.3333333333333333, \"#9c179e\"], [0.4444444444444444, \"#bd3786\"], [0.5555555555555556, \"#d8576b\"], [0.6666666666666666, \"#ed7953\"], [0.7777777777777778, \"#fb9f3a\"], [0.8888888888888888, \"#fdca26\"], [1.0, \"#f0f921\"]], \"type\": \"heatmapgl\"}], \"histogram\": [{\"marker\": {\"colorbar\": {\"outlinewidth\": 0, \"ticks\": \"\"}}, \"type\": \"histogram\"}], \"histogram2d\": [{\"colorbar\": {\"outlinewidth\": 0, \"ticks\": \"\"}, \"colorscale\": [[0.0, \"#0d0887\"], [0.1111111111111111, \"#46039f\"], [0.2222222222222222, \"#7201a8\"], [0.3333333333333333, \"#9c179e\"], [0.4444444444444444, \"#bd3786\"], [0.5555555555555556, \"#d8576b\"], [0.6666666666666666, \"#ed7953\"], [0.7777777777777778, \"#fb9f3a\"], [0.8888888888888888, \"#fdca26\"], [1.0, \"#f0f921\"]], \"type\": \"histogram2d\"}], \"histogram2dcontour\": [{\"colorbar\": {\"outlinewidth\": 0, \"ticks\": \"\"}, \"colorscale\": [[0.0, \"#0d0887\"], [0.1111111111111111, \"#46039f\"], [0.2222222222222222, \"#7201a8\"], [0.3333333333333333, \"#9c179e\"], [0.4444444444444444, \"#bd3786\"], [0.5555555555555556, \"#d8576b\"], [0.6666666666666666, \"#ed7953\"], [0.7777777777777778, \"#fb9f3a\"], [0.8888888888888888, \"#fdca26\"], [1.0, \"#f0f921\"]], \"type\": \"histogram2dcontour\"}], \"mesh3d\": [{\"colorbar\": {\"outlinewidth\": 0, \"ticks\": \"\"}, \"type\": \"mesh3d\"}], \"parcoords\": [{\"line\": {\"colorbar\": {\"outlinewidth\": 0, \"ticks\": \"\"}}, \"type\": \"parcoords\"}], \"pie\": [{\"automargin\": true, \"type\": \"pie\"}], \"scatter\": [{\"marker\": {\"colorbar\": {\"outlinewidth\": 0, \"ticks\": \"\"}}, \"type\": \"scatter\"}], \"scatter3d\": [{\"line\": {\"colorbar\": {\"outlinewidth\": 0, \"ticks\": \"\"}}, \"marker\": {\"colorbar\": {\"outlinewidth\": 0, \"ticks\": \"\"}}, \"type\": \"scatter3d\"}], \"scattercarpet\": [{\"marker\": {\"colorbar\": {\"outlinewidth\": 0, \"ticks\": \"\"}}, \"type\": \"scattercarpet\"}], \"scattergeo\": [{\"marker\": {\"colorbar\": {\"outlinewidth\": 0, \"ticks\": \"\"}}, \"type\": \"scattergeo\"}], \"scattergl\": [{\"marker\": {\"colorbar\": {\"outlinewidth\": 0, \"ticks\": \"\"}}, \"type\": \"scattergl\"}], \"scattermapbox\": [{\"marker\": {\"colorbar\": {\"outlinewidth\": 0, \"ticks\": \"\"}}, \"type\": \"scattermapbox\"}], \"scatterpolar\": [{\"marker\": {\"colorbar\": {\"outlinewidth\": 0, \"ticks\": \"\"}}, \"type\": \"scatterpolar\"}], \"scatterpolargl\": [{\"marker\": {\"colorbar\": {\"outlinewidth\": 0, \"ticks\": \"\"}}, \"type\": \"scatterpolargl\"}], \"scatterternary\": [{\"marker\": {\"colorbar\": {\"outlinewidth\": 0, \"ticks\": \"\"}}, \"type\": \"scatterternary\"}], \"surface\": [{\"colorbar\": {\"outlinewidth\": 0, \"ticks\": \"\"}, \"colorscale\": [[0.0, \"#0d0887\"], [0.1111111111111111, \"#46039f\"], [0.2222222222222222, \"#7201a8\"], [0.3333333333333333, \"#9c179e\"], [0.4444444444444444, \"#bd3786\"], [0.5555555555555556, \"#d8576b\"], [0.6666666666666666, \"#ed7953\"], [0.7777777777777778, \"#fb9f3a\"], [0.8888888888888888, \"#fdca26\"], [1.0, \"#f0f921\"]], \"type\": \"surface\"}], \"table\": [{\"cells\": {\"fill\": {\"color\": \"#EBF0F8\"}, \"line\": {\"color\": \"white\"}}, \"header\": {\"fill\": {\"color\": \"#C8D4E3\"}, \"line\": {\"color\": \"white\"}}, \"type\": \"table\"}]}, \"layout\": {\"annotationdefaults\": {\"arrowcolor\": \"#2a3f5f\", \"arrowhead\": 0, \"arrowwidth\": 1}, \"coloraxis\": {\"colorbar\": {\"outlinewidth\": 0, \"ticks\": \"\"}}, \"colorscale\": {\"diverging\": [[0, \"#8e0152\"], [0.1, \"#c51b7d\"], [0.2, \"#de77ae\"], [0.3, \"#f1b6da\"], [0.4, \"#fde0ef\"], [0.5, \"#f7f7f7\"], [0.6, \"#e6f5d0\"], [0.7, \"#b8e186\"], [0.8, \"#7fbc41\"], [0.9, \"#4d9221\"], [1, \"#276419\"]], \"sequential\": [[0.0, \"#0d0887\"], [0.1111111111111111, \"#46039f\"], [0.2222222222222222, \"#7201a8\"], [0.3333333333333333, \"#9c179e\"], [0.4444444444444444, \"#bd3786\"], [0.5555555555555556, \"#d8576b\"], [0.6666666666666666, \"#ed7953\"], [0.7777777777777778, \"#fb9f3a\"], [0.8888888888888888, \"#fdca26\"], [1.0, \"#f0f921\"]], \"sequentialminus\": [[0.0, \"#0d0887\"], [0.1111111111111111, \"#46039f\"], [0.2222222222222222, \"#7201a8\"], [0.3333333333333333, \"#9c179e\"], [0.4444444444444444, \"#bd3786\"], [0.5555555555555556, \"#d8576b\"], [0.6666666666666666, \"#ed7953\"], [0.7777777777777778, \"#fb9f3a\"], [0.8888888888888888, \"#fdca26\"], [1.0, \"#f0f921\"]]}, \"colorway\": [\"#636efa\", \"#EF553B\", \"#00cc96\", \"#ab63fa\", \"#FFA15A\", \"#19d3f3\", \"#FF6692\", \"#B6E880\", \"#FF97FF\", \"#FECB52\"], \"font\": {\"color\": \"#2a3f5f\"}, \"geo\": {\"bgcolor\": \"white\", \"lakecolor\": \"white\", \"landcolor\": \"#E5ECF6\", \"showlakes\": true, \"showland\": true, \"subunitcolor\": \"white\"}, \"hoverlabel\": {\"align\": \"left\"}, \"hovermode\": \"closest\", \"mapbox\": {\"style\": \"light\"}, \"paper_bgcolor\": \"white\", \"plot_bgcolor\": \"#E5ECF6\", \"polar\": {\"angularaxis\": {\"gridcolor\": \"white\", \"linecolor\": \"white\", \"ticks\": \"\"}, \"bgcolor\": \"#E5ECF6\", \"radialaxis\": {\"gridcolor\": \"white\", \"linecolor\": \"white\", \"ticks\": \"\"}}, \"scene\": {\"xaxis\": {\"backgroundcolor\": \"#E5ECF6\", \"gridcolor\": \"white\", \"gridwidth\": 2, \"linecolor\": \"white\", \"showbackground\": true, \"ticks\": \"\", \"zerolinecolor\": \"white\"}, \"yaxis\": {\"backgroundcolor\": \"#E5ECF6\", \"gridcolor\": \"white\", \"gridwidth\": 2, \"linecolor\": \"white\", \"showbackground\": true, \"ticks\": \"\", \"zerolinecolor\": \"white\"}, \"zaxis\": {\"backgroundcolor\": \"#E5ECF6\", \"gridcolor\": \"white\", \"gridwidth\": 2, \"linecolor\": \"white\", \"showbackground\": true, \"ticks\": \"\", \"zerolinecolor\": \"white\"}}, \"shapedefaults\": {\"line\": {\"color\": \"#2a3f5f\"}}, \"ternary\": {\"aaxis\": {\"gridcolor\": \"white\", \"linecolor\": \"white\", \"ticks\": \"\"}, \"baxis\": {\"gridcolor\": \"white\", \"linecolor\": \"white\", \"ticks\": \"\"}, \"bgcolor\": \"#E5ECF6\", \"caxis\": {\"gridcolor\": \"white\", \"linecolor\": \"white\", \"ticks\": \"\"}}, \"title\": {\"x\": 0.05}, \"xaxis\": {\"automargin\": true, \"gridcolor\": \"white\", \"linecolor\": \"white\", \"ticks\": \"\", \"title\": {\"standoff\": 15}, \"zerolinecolor\": \"white\", \"zerolinewidth\": 2}, \"yaxis\": {\"automargin\": true, \"gridcolor\": \"white\", \"linecolor\": \"white\", \"ticks\": \"\", \"title\": {\"standoff\": 15}, \"zerolinecolor\": \"white\", \"zerolinewidth\": 2}}}, \"width\": 800},\n",
       "                        {\"responsive\": true}\n",
       "                    ).then(function(){\n",
       "                            \n",
       "var gd = document.getElementById('3e4499ec-87bb-4b73-8d22-1435b2ed9bde');\n",
       "var x = new MutationObserver(function (mutations, observer) {{\n",
       "        var display = window.getComputedStyle(gd).display;\n",
       "        if (!display || display === 'none') {{\n",
       "            console.log([gd, 'removed!']);\n",
       "            Plotly.purge(gd);\n",
       "            observer.disconnect();\n",
       "        }}\n",
       "}});\n",
       "\n",
       "// Listen for the removal of the full notebook cells\n",
       "var notebookContainer = gd.closest('#notebook-container');\n",
       "if (notebookContainer) {{\n",
       "    x.observe(notebookContainer, {childList: true});\n",
       "}}\n",
       "\n",
       "// Listen for the clearing of the current output cell\n",
       "var outputEl = gd.closest('.output');\n",
       "if (outputEl) {{\n",
       "    x.observe(outputEl, {childList: true});\n",
       "}}\n",
       "\n",
       "                        })\n",
       "                };\n",
       "                });\n",
       "            </script>\n",
       "        </div>"
      ]
     },
     "metadata": {},
     "output_type": "display_data"
    }
   ],
   "source": [
    "colors=np.array([ color for _,color in wp.getcolors(wp.width * wp.height)], dtype=float)[:,:3]\n",
    "Xs = colors[:,0]\n",
    "Ys = colors[:,1]\n",
    "Zs = colors[:,2]\n",
    "# ipv.scatter(\n",
    "#     Xs,\n",
    "#     Ys,\n",
    "#     Zs,\n",
    "#     marker='sphere', color='blue')\n",
    "\n",
    "# for color in [np.array([c]) for c in colors]:\n",
    "# # for color in colors:\n",
    "#     ipv.scatter(\n",
    "#     color[0],\n",
    "#     color[1],\n",
    "#     color[2],\n",
    "#     marker='sphere', color='blue')\n",
    "#     print(color.shape)\n",
    "\n",
    "fig = go.Figure(\n",
    "    data=[\n",
    "        go.Scatter3d(\n",
    "            x=Xs,\n",
    "            y=Ys,\n",
    "            z=Zs,\n",
    "            mode='markers',\n",
    "            marker=dict(\n",
    "                size=3,\n",
    "                color=colors,                # set color to an array/list of desired values\n",
    "        #         colorscale='Viridis',   # choose a colorscale\n",
    "                opacity=1.0\n",
    "            )\n",
    "        )\n",
    "    ]\n",
    ")\n",
    "\n",
    "# tight layout\n",
    "# fig.update_layout(margin=dict(l=0, r=0, b=0, t=0))\n",
    "camera = dict(\n",
    "    eye=dict(x=1, y=-2, z=1)\n",
    ")\n",
    "fig.update_layout(\n",
    "    width=800, height=400,\n",
    "    margin=dict(t=30, r=0, l=20, b=10),\n",
    "    scene_camera=camera\n",
    ")\n",
    "\n",
    "fig.show()"
   ]
  },
  {
   "cell_type": "code",
   "execution_count": 20,
   "metadata": {},
   "outputs": [
    {
     "data": {
      "text/plain": [
       "2959.2315733167407"
      ]
     },
     "execution_count": 20,
     "metadata": {},
     "output_type": "execute_result"
    }
   ],
   "source": [
    "dist=0.0\n",
    "for i in range(len(colors)):\n",
    "    for j in range(i,len(colors)):\n",
    "        dist += np.sum(np.square(colors[i]-colors[j]))\n",
    "\n",
    "dist /= len(colors)\n",
    "dist = np.sqrt(dist)\n",
    "dist"
   ]
  },
  {
   "cell_type": "code",
   "execution_count": 21,
   "metadata": {},
   "outputs": [
    {
     "name": "stdout",
     "output_type": "stream",
     "text": [
      "HDBSCAN(algorithm='best', allow_single_cluster=False, alpha=150.0,\n",
      "        approx_min_span_tree=True, cluster_selection_epsilon=150.0,\n",
      "        cluster_selection_method='eom', core_dist_n_jobs=4,\n",
      "        gen_min_span_tree=True, leaf_size=40,\n",
      "        match_reference_implementation=False, memory=Memory(location=None),\n",
      "        metric='l2', min_cluster_size=10, min_samples=None, p=None,\n",
      "        prediction_data=False)\n"
     ]
    }
   ],
   "source": [
    "import hdbscan\n",
    "\n",
    "clusterer = hdbscan.HDBSCAN(\n",
    "    metric='l2',\n",
    "    alpha=150.0,\n",
    "    cluster_selection_epsilon=150.0,\n",
    "    min_cluster_size=10,\n",
    "    gen_min_span_tree=True\n",
    ")\n",
    "\n",
    "print(clusterer)\n",
    "\n",
    "def desaturate(rgb,alpha):\n",
    "    hls = rgb_to_hls(*rgb)\n",
    "    hls[2]*=alpha\n",
    "    return hls_to_rgb(hls)\n",
    "# fit_colors = [\n",
    "#     desaturate(palette[col], sat) if col >= 0 else (0.5, 0.5, 0.5)\n",
    "#     for col, sat in zip(clusterer.labels_, clusterer.probabilities_)]`"
   ]
  },
  {
   "cell_type": "code",
   "execution_count": 22,
   "metadata": {
    "scrolled": false
   },
   "outputs": [
    {
     "data": {
      "application/vnd.plotly.v1+json": {
       "config": {
        "plotlyServerURL": "https://plot.ly"
       },
       "data": [
        {
         "marker": {
          "color": [
           1,
           1,
           1,
           1,
           1,
           1,
           1,
           1,
           -1,
           1,
           0,
           0,
           0,
           1,
           1,
           1,
           1,
           1,
           1,
           1,
           1,
           1,
           0,
           0,
           1,
           1,
           1,
           1,
           1,
           1,
           1,
           1,
           -1,
           -1,
           0,
           0,
           1,
           1,
           1,
           -1,
           -1,
           1,
           1,
           1,
           0,
           0,
           0,
           0,
           0,
           0,
           0,
           1,
           1,
           1,
           1,
           1,
           1,
           1,
           -1,
           1,
           1,
           1,
           0,
           0,
           -1,
           0,
           0,
           1,
           1,
           1,
           1,
           1,
           -1,
           1,
           -1,
           -1,
           0,
           0,
           0,
           0,
           0,
           1,
           1,
           1,
           -1,
           1,
           1,
           1,
           1,
           1,
           1,
           1,
           0,
           1,
           1,
           1,
           1,
           1,
           1,
           1,
           1,
           -1,
           1,
           1,
           -1,
           1,
           -1,
           -1,
           0,
           0,
           0,
           0,
           1,
           1,
           1,
           1,
           1,
           1,
           1,
           1,
           1,
           -1,
           -1,
           1,
           1,
           1,
           0,
           1,
           1,
           0,
           1,
           1,
           1,
           1,
           1,
           1,
           -1,
           1,
           0,
           1,
           0,
           0,
           1,
           1,
           1,
           1,
           1,
           1,
           1,
           1,
           1,
           1,
           1,
           1,
           -1,
           0,
           0,
           1,
           1,
           1,
           1,
           1,
           1,
           1,
           0,
           -1,
           0,
           0,
           1,
           0,
           1,
           1,
           -1,
           -1,
           1,
           1,
           1,
           1,
           -1,
           1,
           1,
           1,
           1,
           -1,
           0,
           1,
           0,
           0,
           1,
           1,
           1,
           -1,
           -1,
           1,
           1,
           1,
           1,
           1,
           -1,
           0,
           0,
           0,
           1,
           0,
           1,
           1,
           1,
           1,
           1,
           1,
           1,
           1,
           1,
           1,
           1,
           1,
           -1,
           0,
           0,
           0,
           0,
           1,
           -1,
           -1,
           1,
           -1,
           1,
           0,
           0,
           0,
           0,
           1,
           1,
           1,
           1,
           0,
           1,
           1,
           1,
           1,
           1,
           1,
           0,
           -1,
           0,
           0,
           0,
           -1,
           1,
           1,
           0,
           1,
           1,
           1,
           -1,
           1,
           -1,
           1,
           1,
           1,
           0,
           0,
           1,
           1,
           0,
           0,
           1,
           1,
           1,
           1,
           1,
           1,
           0,
           0,
           0,
           1,
           -1,
           1,
           0,
           1,
           1,
           1,
           -1,
           -1,
           1,
           1,
           1,
           1,
           -1,
           1,
           1,
           0,
           1,
           1,
           1,
           1,
           1,
           1,
           1,
           1,
           1,
           -1,
           -1,
           -1,
           1,
           1,
           -1,
           -1,
           -1,
           0,
           1,
           1,
           1,
           -1,
           -1,
           1,
           1,
           1,
           -1,
           -1,
           0,
           0,
           0,
           1,
           1,
           1,
           1,
           1,
           0,
           1,
           1,
           1,
           1,
           -1,
           1,
           1,
           1,
           0,
           0,
           0,
           0,
           0,
           1,
           1,
           1,
           1,
           1,
           1,
           1,
           1,
           -1,
           1,
           0,
           0,
           1,
           1,
           1,
           1,
           0,
           1,
           1,
           1,
           -1,
           1,
           1,
           -1,
           1,
           0,
           0,
           0,
           0,
           1,
           1,
           0,
           -1,
           1,
           1,
           1,
           0,
           0,
           1,
           -1,
           1,
           1,
           1,
           -1,
           -1,
           1,
           1,
           1,
           1,
           -1,
           1,
           0,
           1,
           0,
           1,
           -1,
           -1,
           1,
           1,
           1,
           1,
           1,
           0,
           0,
           0,
           0,
           1,
           1,
           1,
           1,
           -1,
           1,
           1,
           1,
           0,
           0,
           1,
           1,
           1,
           1,
           1,
           1,
           1,
           1,
           1,
           0,
           0,
           1,
           1,
           1,
           -1,
           -1,
           -1,
           1,
           1,
           1,
           1,
           0,
           1,
           1,
           1,
           1,
           -1,
           -1,
           0,
           0,
           0,
           1,
           1,
           1,
           1,
           1,
           -1,
           1,
           -1,
           1,
           -1,
           0,
           0,
           1,
           1,
           1,
           1,
           1,
           -1,
           1,
           1,
           -1,
           0,
           -1,
           0,
           0,
           0,
           0,
           1,
           1,
           1,
           1,
           1,
           1,
           1,
           1,
           1,
           1,
           1,
           -1,
           0,
           -1,
           0,
           0,
           1,
           1,
           1,
           1,
           1,
           1,
           1,
           1,
           1,
           1,
           1,
           1,
           1,
           1,
           0,
           1,
           1,
           1,
           1,
           1,
           1,
           1,
           1,
           1,
           1,
           0,
           1,
           1,
           0,
           0,
           0,
           0,
           1,
           1,
           1,
           0,
           0,
           -1,
           1,
           0,
           0,
           1,
           0,
           1,
           1,
           1,
           1,
           1,
           1,
           1,
           1,
           -1,
           -1,
           1,
           0,
           0,
           0,
           1,
           1,
           1,
           1,
           1,
           1,
           -1,
           1,
           1,
           1,
           1,
           -1,
           0,
           0,
           1,
           1,
           0,
           0,
           1,
           1,
           1,
           0,
           1,
           1,
           1,
           1,
           1,
           1,
           1,
           -1,
           -1,
           1,
           0,
           1,
           1,
           1,
           1,
           1,
           1,
           1,
           -1,
           0,
           1,
           1,
           1,
           0,
           0,
           -1,
           0,
           1,
           1,
           1,
           1,
           1,
           1,
           1,
           1,
           1,
           -1,
           1,
           1,
           0,
           1,
           1,
           0,
           -1,
           1,
           1,
           1,
           1,
           -1,
           1,
           1,
           1,
           1,
           0,
           0,
           0,
           0,
           1,
           1,
           1,
           1,
           -1,
           -1,
           1,
           0,
           0,
           0,
           0,
           0,
           0,
           0,
           1,
           1,
           1,
           1,
           1,
           1,
           1,
           1,
           -1,
           -1,
           -1,
           1,
           0,
           1,
           1,
           1,
           1,
           1,
           1,
           1,
           0,
           1,
           0,
           0,
           1,
           0,
           0,
           0,
           0,
           1,
           1,
           1,
           1,
           -1,
           1,
           1,
           1,
           1,
           1,
           0,
           0,
           -1,
           1,
           1,
           1,
           -1,
           -1,
           1,
           -1,
           1,
           0,
           0,
           1,
           1,
           1,
           1,
           1,
           1,
           1,
           1,
           -1,
           1,
           1,
           0,
           0,
           1,
           1,
           0,
           0,
           1,
           1,
           1,
           1,
           1,
           1,
           0,
           0,
           0,
           1,
           1,
           1,
           1,
           1,
           1,
           1,
           1,
           -1,
           0,
           0,
           0,
           0,
           0,
           0,
           1,
           1,
           0,
           0,
           1,
           1,
           1,
           1,
           1,
           1,
           1,
           1,
           -1,
           -1,
           -1,
           1,
           0,
           0,
           1,
           0,
           0,
           0,
           1,
           1,
           1,
           1,
           1,
           1,
           -1,
           1,
           0,
           0,
           0,
           0,
           0,
           0,
           0,
           1,
           1,
           1,
           1,
           1,
           1,
           -1,
           1,
           1,
           1,
           1,
           1,
           1,
           0,
           0,
           0,
           0,
           0,
           0,
           1,
           1,
           1,
           -1,
           1,
           -1,
           -1,
           1,
           1,
           0,
           0,
           0,
           1,
           1,
           1,
           1,
           1,
           1,
           0,
           0,
           0,
           0,
           1,
           1,
           1,
           1,
           1,
           1,
           -1,
           -1,
           0,
           -1,
           0,
           0,
           1,
           1,
           1,
           1,
           1,
           1,
           0,
           0,
           0,
           0,
           0,
           1,
           1,
           1,
           1,
           1,
           1,
           1,
           1,
           -1,
           0,
           0,
           1,
           1,
           1,
           0,
           1,
           -1,
           0,
           0,
           0,
           1,
           1,
           1,
           1,
           1,
           -1,
           -1,
           -1,
           1,
           1,
           0,
           0,
           0,
           0,
           0,
           1,
           1,
           1,
           1,
           1,
           1,
           1,
           -1,
           -1,
           -1,
           0,
           0,
           0,
           0,
           0
          ],
          "colorscale": [
           [
            0,
            "#440154"
           ],
           [
            0.1111111111111111,
            "#482878"
           ],
           [
            0.2222222222222222,
            "#3e4989"
           ],
           [
            0.3333333333333333,
            "#31688e"
           ],
           [
            0.4444444444444444,
            "#26828e"
           ],
           [
            0.5555555555555556,
            "#1f9e89"
           ],
           [
            0.6666666666666666,
            "#35b779"
           ],
           [
            0.7777777777777778,
            "#6ece58"
           ],
           [
            0.8888888888888888,
            "#b5de2b"
           ],
           [
            1,
            "#fde725"
           ]
          ],
          "opacity": 1,
          "size": 3
         },
         "mode": "markers",
         "type": "scatter3d",
         "x": [
          255,
          254,
          253,
          251,
          250,
          249,
          242,
          216,
          132,
          104,
          90,
          66,
          45,
          255,
          255,
          255,
          254,
          253,
          252,
          251,
          248,
          240,
          65,
          44,
          255,
          254,
          253,
          252,
          251,
          243,
          241,
          225,
          168,
          153,
          88,
          67,
          254,
          253,
          252,
          220,
          218,
          200,
          111,
          99,
          92,
          89,
          88,
          66,
          65,
          64,
          40,
          255,
          254,
          253,
          252,
          251,
          250,
          191,
          187,
          186,
          251,
          254,
          98,
          91,
          73,
          65,
          44,
          255,
          254,
          253,
          252,
          250,
          249,
          190,
          140,
          114,
          88,
          86,
          66,
          62,
          43,
          253,
          252,
          251,
          250,
          246,
          255,
          220,
          183,
          181,
          174,
          254,
          112,
          250,
          254,
          253,
          248,
          244,
          254,
          253,
          251,
          233,
          218,
          210,
          204,
          196,
          124,
          115,
          88,
          87,
          46,
          45,
          255,
          253,
          252,
          251,
          251,
          244,
          241,
          232,
          212,
          113,
          102,
          100,
          254,
          252,
          63,
          249,
          254,
          100,
          253,
          252,
          253,
          242,
          231,
          253,
          209,
          253,
          64,
          255,
          62,
          44,
          253,
          252,
          253,
          245,
          239,
          231,
          255,
          252,
          254,
          249,
          176,
          251,
          93,
          89,
          50,
          253,
          251,
          250,
          253,
          244,
          175,
          161,
          100,
          117,
          108,
          105,
          254,
          62,
          253,
          251,
          208,
          200,
          255,
          253,
          252,
          173,
          127,
          154,
          152,
          149,
          155,
          126,
          110,
          251,
          62,
          61,
          254,
          253,
          242,
          227,
          208,
          253,
          252,
          253,
          150,
          146,
          130,
          88,
          85,
          60,
          254,
          47,
          253,
          250,
          248,
          253,
          234,
          162,
          158,
          253,
          218,
          152,
          149,
          255,
          102,
          93,
          85,
          60,
          46,
          253,
          226,
          205,
          131,
          175,
          168,
          100,
          84,
          83,
          61,
          253,
          250,
          241,
          254,
          67,
          174,
          167,
          163,
          150,
          149,
          254,
          105,
          103,
          62,
          41,
          76,
          202,
          143,
          253,
          84,
          251,
          249,
          241,
          231,
          132,
          176,
          250,
          254,
          252,
          83,
          82,
          253,
          252,
          60,
          59,
          236,
          156,
          254,
          150,
          250,
          135,
          83,
          60,
          58,
          251,
          39,
          251,
          79,
          244,
          238,
          234,
          224,
          205,
          172,
          155,
          138,
          134,
          107,
          254,
          251,
          80,
          254,
          252,
          251,
          174,
          254,
          248,
          244,
          233,
          247,
          192,
          177,
          168,
          152,
          149,
          122,
          113,
          100,
          81,
          253,
          244,
          241,
          226,
          224,
          254,
          167,
          133,
          123,
          103,
          82,
          59,
          58,
          253,
          254,
          237,
          255,
          254,
          48,
          254,
          255,
          254,
          251,
          131,
          255,
          254,
          254,
          84,
          81,
          59,
          57,
          56,
          255,
          255,
          248,
          253,
          246,
          242,
          240,
          251,
          194,
          144,
          58,
          54,
          251,
          250,
          157,
          151,
          56,
          254,
          247,
          245,
          214,
          142,
          136,
          113,
          106,
          87,
          82,
          81,
          79,
          250,
          249,
          59,
          183,
          169,
          158,
          251,
          57,
          56,
          251,
          252,
          251,
          254,
          246,
          191,
          187,
          161,
          255,
          137,
          136,
          120,
          119,
          57,
          251,
          56,
          255,
          209,
          159,
          148,
          142,
          139,
          129,
          114,
          82,
          80,
          78,
          57,
          255,
          252,
          251,
          253,
          240,
          237,
          149,
          121,
          81,
          56,
          253,
          252,
          251,
          250,
          248,
          247,
          149,
          148,
          115,
          79,
          78,
          255,
          251,
          250,
          243,
          208,
          158,
          156,
          146,
          130,
          255,
          55,
          253,
          255,
          252,
          251,
          173,
          171,
          102,
          56,
          52,
          253,
          251,
          247,
          243,
          254,
          203,
          255,
          171,
          152,
          91,
          77,
          54,
          255,
          254,
          252,
          251,
          249,
          230,
          138,
          119,
          101,
          100,
          94,
          77,
          54,
          53,
          51,
          254,
          253,
          252,
          251,
          250,
          247,
          140,
          130,
          122,
          252,
          250,
          102,
          101,
          84,
          54,
          53,
          255,
          254,
          252,
          251,
          250,
          247,
          244,
          230,
          253,
          252,
          142,
          131,
          130,
          122,
          75,
          253,
          252,
          251,
          250,
          249,
          247,
          246,
          245,
          249,
          242,
          49,
          253,
          254,
          100,
          99,
          98,
          97,
          255,
          251,
          250,
          76,
          75,
          69,
          252,
          54,
          53,
          248,
          94,
          253,
          252,
          250,
          249,
          248,
          246,
          240,
          248,
          158,
          129,
          254,
          75,
          74,
          53,
          254,
          253,
          248,
          247,
          246,
          254,
          236,
          254,
          137,
          130,
          124,
          108,
          99,
          97,
          254,
          252,
          76,
          74,
          253,
          251,
          249,
          50,
          254,
          251,
          250,
          247,
          238,
          253,
          252,
          210,
          169,
          138,
          74,
          255,
          251,
          252,
          251,
          255,
          254,
          253,
          191,
          51,
          255,
          254,
          125,
          99,
          98,
          74,
          51,
          252,
          254,
          250,
          249,
          245,
          238,
          237,
          251,
          253,
          146,
          254,
          127,
          100,
          254,
          120,
          99,
          74,
          252,
          251,
          255,
          254,
          145,
          141,
          128,
          117,
          254,
          74,
          61,
          49,
          47,
          254,
          248,
          241,
          253,
          180,
          167,
          253,
          97,
          76,
          72,
          72,
          52,
          50,
          48,
          252,
          249,
          254,
          253,
          251,
          250,
          253,
          253,
          143,
          132,
          96,
          254,
          47,
          254,
          254,
          251,
          248,
          247,
          243,
          234,
          88,
          251,
          101,
          96,
          253,
          73,
          49,
          48,
          46,
          254,
          252,
          249,
          246,
          219,
          255,
          254,
          253,
          252,
          250,
          73,
          72,
          245,
          249,
          239,
          236,
          175,
          166,
          122,
          105,
          254,
          50,
          47,
          254,
          254,
          253,
          251,
          250,
          249,
          248,
          247,
          206,
          251,
          114,
          98,
          96,
          253,
          252,
          72,
          47,
          254,
          253,
          252,
          244,
          223,
          254,
          103,
          75,
          78,
          254,
          253,
          252,
          251,
          248,
          247,
          233,
          254,
          169,
          96,
          95,
          94,
          76,
          71,
          69,
          253,
          250,
          49,
          48,
          255,
          254,
          253,
          252,
          251,
          248,
          234,
          254,
          153,
          134,
          121,
          254,
          70,
          69,
          253,
          49,
          48,
          47,
          253,
          254,
          253,
          252,
          248,
          244,
          179,
          120,
          92,
          70,
          57,
          55,
          54,
          49,
          47,
          254,
          253,
          251,
          254,
          254,
          254,
          215,
          254,
          255,
          254,
          255,
          254,
          117,
          94,
          93,
          70,
          67,
          47,
          90,
          255,
          253,
          255,
          254,
          253,
          195,
          201,
          118,
          113,
          80,
          68,
          44,
          255,
          254,
          246,
          244,
          116,
          110,
          70,
          67,
          45,
          43,
          255,
          254,
          253,
          252,
          246,
          229,
          204,
          146,
          99,
          115,
          46,
          44,
          255,
          254,
          251,
          237,
          253,
          110,
          92,
          67,
          60,
          48,
          47,
          251,
          255,
          254,
          251,
          250,
          247,
          252,
          254,
          90,
          76,
          45,
          255,
          254,
          252,
          57,
          239,
          155,
          73,
          66,
          45,
          254,
          252,
          248,
          238,
          203,
          189,
          176,
          164,
          109,
          254,
          88,
          67,
          46,
          45,
          41,
          255,
          254,
          253,
          252,
          251,
          248,
          246,
          217,
          198,
          195,
          108,
          94,
          91,
          67,
          65
         ],
         "y": [
          202,
          206,
          203,
          237,
          238,
          224,
          222,
          223,
          146,
          166,
          216,
          152,
          72,
          215,
          214,
          212,
          203,
          206,
          209,
          222,
          217,
          237,
          156,
          74,
          209,
          207,
          206,
          217,
          229,
          242,
          203,
          224,
          246,
          138,
          214,
          156,
          208,
          208,
          206,
          197,
          227,
          231,
          162,
          157,
          209,
          213,
          212,
          145,
          154,
          141,
          67,
          213,
          210,
          209,
          226,
          222,
          209,
          227,
          212,
          230,
          247,
          176,
          206,
          212,
          75,
          142,
          69,
          214,
          212,
          211,
          209,
          209,
          255,
          222,
          137,
          160,
          211,
          211,
          147,
          154,
          69,
          211,
          211,
          229,
          252,
          214,
          205,
          214,
          227,
          229,
          228,
          164,
          213,
          241,
          186,
          204,
          242,
          242,
          213,
          213,
          235,
          241,
          209,
          223,
          197,
          218,
          134,
          215,
          209,
          209,
          67,
          69,
          207,
          213,
          216,
          236,
          223,
          202,
          201,
          214,
          218,
          213,
          158,
          157,
          182,
          198,
          146,
          239,
          186,
          231,
          214,
          236,
          215,
          203,
          218,
          215,
          191,
          214,
          141,
          215,
          146,
          63,
          220,
          220,
          226,
          205,
          200,
          201,
          211,
          223,
          172,
          236,
          224,
          245,
          152,
          207,
          61,
          218,
          231,
          229,
          217,
          205,
          223,
          223,
          233,
          209,
          208,
          209,
          165,
          142,
          220,
          245,
          203,
          193,
          211,
          207,
          215,
          223,
          128,
          225,
          224,
          223,
          212,
          129,
          206,
          244,
          137,
          148,
          187,
          221,
          236,
          196,
          214,
          215,
          215,
          219,
          220,
          220,
          128,
          213,
          205,
          146,
          175,
          63,
          223,
          227,
          252,
          212,
          197,
          224,
          222,
          209,
          219,
          220,
          223,
          202,
          143,
          198,
          205,
          134,
          60,
          224,
          198,
          211,
          203,
          201,
          220,
          202,
          203,
          202,
          141,
          222,
          245,
          250,
          196,
          146,
          213,
          220,
          219,
          218,
          213,
          211,
          206,
          150,
          138,
          59,
          181,
          188,
          213,
          221,
          201,
          232,
          242,
          252,
          227,
          179,
          202,
          218,
          213,
          211,
          201,
          201,
          215,
          221,
          136,
          139,
          246,
          214,
          220,
          214,
          238,
          206,
          199,
          126,
          135,
          246,
          51,
          244,
          190,
          227,
          246,
          252,
          192,
          185,
          207,
          214,
          197,
          218,
          142,
          171,
          232,
          199,
          189,
          215,
          209,
          227,
          190,
          240,
          239,
          251,
          243,
          197,
          207,
          182,
          212,
          214,
          244,
          119,
          195,
          198,
          225,
          236,
          247,
          187,
          187,
          167,
          208,
          212,
          237,
          209,
          198,
          120,
          121,
          214,
          188,
          250,
          208,
          192,
          91,
          194,
          204,
          194,
          232,
          234,
          200,
          198,
          200,
          197,
          196,
          128,
          125,
          133,
          212,
          211,
          250,
          205,
          238,
          219,
          251,
          229,
          189,
          211,
          118,
          103,
          250,
          238,
          194,
          208,
          130,
          177,
          237,
          249,
          183,
          212,
          211,
          116,
          194,
          185,
          193,
          194,
          194,
          245,
          237,
          127,
          208,
          195,
          208,
          246,
          121,
          114,
          246,
          249,
          249,
          192,
          246,
          177,
          195,
          209,
          213,
          206,
          198,
          116,
          187,
          119,
          248,
          119,
          205,
          182,
          177,
          205,
          202,
          207,
          208,
          198,
          189,
          194,
          191,
          114,
          250,
          249,
          247,
          227,
          250,
          238,
          209,
          200,
          191,
          125,
          247,
          247,
          240,
          248,
          244,
          246,
          202,
          202,
          197,
          185,
          191,
          253,
          237,
          248,
          222,
          180,
          190,
          197,
          202,
          199,
          213,
          111,
          217,
          248,
          250,
          249,
          173,
          172,
          231,
          117,
          115,
          247,
          247,
          244,
          233,
          189,
          176,
          203,
          170,
          207,
          105,
          187,
          123,
          245,
          248,
          245,
          246,
          244,
          220,
          191,
          201,
          112,
          229,
          187,
          187,
          106,
          114,
          116,
          248,
          245,
          247,
          244,
          245,
          242,
          197,
          196,
          208,
          246,
          236,
          104,
          229,
          103,
          111,
          107,
          244,
          244,
          238,
          212,
          243,
          237,
          239,
          231,
          211,
          219,
          196,
          197,
          198,
          198,
          185,
          242,
          244,
          241,
          236,
          246,
          240,
          239,
          238,
          241,
          236,
          93,
          211,
          163,
          230,
          233,
          231,
          232,
          242,
          242,
          244,
          185,
          181,
          102,
          205,
          113,
          103,
          241,
          223,
          244,
          211,
          245,
          239,
          241,
          240,
          246,
          231,
          174,
          230,
          173,
          177,
          181,
          101,
          242,
          204,
          240,
          235,
          241,
          178,
          233,
          190,
          182,
          196,
          191,
          194,
          229,
          229,
          183,
          205,
          177,
          179,
          246,
          242,
          240,
          98,
          185,
          207,
          230,
          208,
          245,
          216,
          240,
          217,
          164,
          192,
          178,
          213,
          244,
          217,
          233,
          214,
          206,
          208,
          168,
          109,
          216,
          191,
          188,
          226,
          230,
          98,
          97,
          222,
          169,
          236,
          238,
          241,
          240,
          241,
          228,
          214,
          162,
          200,
          193,
          230,
          168,
          190,
          223,
          93,
          220,
          246,
          210,
          208,
          234,
          186,
          194,
          171,
          188,
          170,
          92,
          95,
          91,
          201,
          243,
          241,
          218,
          161,
          159,
          220,
          229,
          178,
          175,
          178,
          97,
          108,
          92,
          217,
          207,
          200,
          219,
          216,
          244,
          244,
          210,
          171,
          169,
          93,
          197,
          89,
          180,
          220,
          210,
          244,
          246,
          243,
          240,
          214,
          214,
          230,
          226,
          216,
          177,
          94,
          91,
          100,
          184,
          195,
          202,
          244,
          233,
          201,
          212,
          210,
          216,
          226,
          175,
          176,
          236,
          212,
          231,
          239,
          173,
          156,
          175,
          175,
          189,
          91,
          89,
          179,
          194,
          191,
          235,
          211,
          211,
          211,
          210,
          240,
          211,
          184,
          219,
          226,
          210,
          210,
          172,
          88,
          174,
          198,
          214,
          243,
          229,
          193,
          220,
          169,
          187,
          162,
          203,
          201,
          204,
          240,
          239,
          229,
          192,
          154,
          225,
          225,
          226,
          169,
          167,
          163,
          212,
          208,
          86,
          94,
          229,
          181,
          196,
          211,
          213,
          242,
          233,
          187,
          150,
          226,
          193,
          170,
          169,
          163,
          224,
          98,
          85,
          83,
          226,
          185,
          200,
          206,
          243,
          245,
          154,
          173,
          222,
          160,
          82,
          82,
          81,
          80,
          82,
          212,
          212,
          210,
          184,
          185,
          191,
          231,
          193,
          199,
          195,
          203,
          195,
          178,
          222,
          222,
          158,
          163,
          81,
          217,
          205,
          205,
          213,
          155,
          210,
          203,
          234,
          179,
          172,
          162,
          166,
          80,
          200,
          188,
          245,
          243,
          173,
          173,
          155,
          164,
          79,
          85,
          201,
          192,
          229,
          224,
          244,
          217,
          239,
          146,
          232,
          220,
          80,
          77,
          197,
          193,
          209,
          230,
          222,
          165,
          219,
          158,
          79,
          76,
          78,
          249,
          199,
          194,
          226,
          224,
          224,
          220,
          192,
          161,
          153,
          82,
          211,
          199,
          220,
          136,
          220,
          146,
          161,
          157,
          76,
          201,
          223,
          221,
          198,
          226,
          231,
          149,
          224,
          161,
          190,
          216,
          164,
          79,
          75,
          74,
          206,
          202,
          203,
          227,
          208,
          244,
          220,
          208,
          232,
          208,
          214,
          219,
          218,
          161,
          151
         ],
         "z": [
          191,
          191,
          191,
          191,
          191,
          191,
          191,
          191,
          127,
          127,
          191,
          127,
          63,
          190,
          189,
          190,
          190,
          190,
          190,
          190,
          190,
          190,
          126,
          62,
          189,
          189,
          189,
          189,
          189,
          189,
          189,
          189,
          189,
          125,
          189,
          125,
          188,
          188,
          188,
          188,
          188,
          188,
          124,
          124,
          188,
          188,
          188,
          124,
          124,
          124,
          60,
          187,
          187,
          187,
          187,
          187,
          187,
          187,
          187,
          187,
          219,
          203,
          187,
          187,
          59,
          123,
          59,
          186,
          186,
          186,
          186,
          186,
          250,
          186,
          122,
          122,
          186,
          186,
          122,
          122,
          58,
          185,
          185,
          185,
          249,
          185,
          196,
          185,
          185,
          185,
          185,
          203,
          185,
          218,
          201,
          201,
          201,
          201,
          184,
          184,
          184,
          184,
          184,
          184,
          184,
          184,
          120,
          184,
          184,
          184,
          56,
          56,
          191,
          183,
          183,
          183,
          191,
          183,
          183,
          183,
          183,
          183,
          119,
          119,
          202,
          202,
          119,
          217,
          200,
          217,
          182,
          182,
          183,
          182,
          182,
          182,
          182,
          187,
          118,
          189,
          118,
          54,
          181,
          181,
          175,
          181,
          181,
          181,
          190,
          190,
          203,
          173,
          181,
          220,
          117,
          181,
          53,
          180,
          180,
          180,
          183,
          180,
          180,
          180,
          220,
          180,
          180,
          180,
          203,
          116,
          179,
          179,
          179,
          179,
          189,
          189,
          189,
          179,
          113,
          179,
          179,
          179,
          172,
          115,
          179,
          234,
          115,
          115,
          200,
          178,
          178,
          178,
          178,
          181,
          181,
          180,
          178,
          178,
          114,
          189,
          178,
          114,
          203,
          50,
          177,
          177,
          241,
          186,
          177,
          177,
          177,
          188,
          188,
          177,
          177,
          195,
          113,
          177,
          177,
          113,
          49,
          176,
          176,
          176,
          154,
          176,
          176,
          176,
          176,
          176,
          112,
          175,
          175,
          239,
          196,
          129,
          175,
          175,
          175,
          175,
          175,
          187,
          175,
          111,
          111,
          47,
          153,
          174,
          174,
          179,
          174,
          173,
          237,
          237,
          173,
          145,
          173,
          185,
          186,
          186,
          173,
          173,
          188,
          188,
          109,
          109,
          236,
          172,
          198,
          172,
          228,
          172,
          172,
          108,
          108,
          161,
          44,
          160,
          160,
          171,
          235,
          235,
          171,
          171,
          171,
          171,
          171,
          171,
          107,
          203,
          170,
          171,
          200,
          185,
          185,
          185,
          199,
          170,
          215,
          234,
          214,
          170,
          170,
          170,
          170,
          170,
          170,
          106,
          170,
          170,
          176,
          169,
          233,
          169,
          169,
          203,
          169,
          169,
          169,
          169,
          169,
          105,
          105,
          184,
          199,
          232,
          198,
          198,
          75,
          197,
          196,
          196,
          196,
          168,
          195,
          195,
          194,
          168,
          168,
          104,
          104,
          104,
          192,
          191,
          231,
          191,
          167,
          167,
          231,
          191,
          167,
          167,
          103,
          89,
          230,
          230,
          166,
          166,
          102,
          203,
          165,
          229,
          165,
          165,
          165,
          101,
          165,
          165,
          165,
          165,
          165,
          228,
          228,
          107,
          164,
          164,
          164,
          227,
          100,
          100,
          224,
          163,
          227,
          202,
          227,
          163,
          163,
          163,
          190,
          163,
          163,
          99,
          163,
          99,
          226,
          104,
          195,
          162,
          162,
          162,
          162,
          162,
          162,
          162,
          162,
          162,
          162,
          98,
          225,
          225,
          225,
          175,
          161,
          225,
          161,
          161,
          161,
          97,
          224,
          224,
          224,
          224,
          224,
          224,
          160,
          160,
          160,
          160,
          160,
          223,
          223,
          223,
          159,
          159,
          159,
          159,
          159,
          159,
          189,
          95,
          181,
          222,
          222,
          222,
          158,
          158,
          222,
          94,
          94,
          221,
          221,
          221,
          157,
          203,
          157,
          196,
          157,
          157,
          93,
          157,
          93,
          220,
          220,
          220,
          220,
          220,
          156,
          156,
          156,
          92,
          220,
          156,
          156,
          92,
          92,
          92,
          219,
          219,
          219,
          219,
          219,
          219,
          155,
          155,
          155,
          219,
          219,
          91,
          219,
          91,
          91,
          91,
          218,
          218,
          218,
          218,
          218,
          218,
          218,
          218,
          188,
          188,
          154,
          154,
          154,
          154,
          154,
          217,
          217,
          217,
          217,
          217,
          217,
          217,
          217,
          207,
          217,
          83,
          205,
          203,
          217,
          217,
          217,
          217,
          218,
          218,
          218,
          153,
          153,
          89,
          201,
          89,
          89,
          201,
          203,
          216,
          216,
          216,
          216,
          216,
          216,
          216,
          210,
          152,
          216,
          203,
          152,
          152,
          88,
          215,
          191,
          215,
          215,
          215,
          203,
          151,
          201,
          151,
          151,
          151,
          151,
          215,
          215,
          202,
          202,
          151,
          151,
          217,
          217,
          217,
          87,
          200,
          214,
          214,
          214,
          214,
          182,
          182,
          214,
          150,
          150,
          150,
          192,
          218,
          213,
          213,
          190,
          190,
          190,
          149,
          85,
          189,
          199,
          149,
          213,
          213,
          85,
          85,
          216,
          203,
          212,
          212,
          212,
          212,
          212,
          183,
          183,
          148,
          201,
          148,
          220,
          203,
          148,
          212,
          84,
          211,
          223,
          189,
          189,
          211,
          147,
          147,
          147,
          200,
          147,
          83,
          83,
          83,
          210,
          210,
          210,
          181,
          146,
          146,
          180,
          210,
          146,
          146,
          146,
          82,
          82,
          82,
          186,
          186,
          209,
          209,
          209,
          209,
          217,
          188,
          145,
          145,
          81,
          195,
          81,
          203,
          208,
          208,
          208,
          208,
          208,
          208,
          188,
          183,
          208,
          208,
          183,
          144,
          80,
          80,
          80,
          202,
          207,
          207,
          207,
          207,
          196,
          187,
          187,
          187,
          187,
          143,
          143,
          153,
          206,
          206,
          206,
          142,
          142,
          142,
          142,
          199,
          78,
          78,
          203,
          205,
          205,
          205,
          205,
          205,
          205,
          205,
          205,
          185,
          141,
          205,
          205,
          186,
          186,
          141,
          77,
          203,
          204,
          204,
          204,
          204,
          198,
          204,
          140,
          160,
          203,
          203,
          203,
          203,
          203,
          203,
          203,
          200,
          139,
          203,
          203,
          203,
          139,
          139,
          139,
          185,
          185,
          75,
          75,
          202,
          202,
          202,
          202,
          202,
          202,
          202,
          199,
          138,
          202,
          138,
          203,
          138,
          138,
          177,
          74,
          74,
          74,
          176,
          201,
          201,
          201,
          201,
          201,
          137,
          137,
          201,
          137,
          73,
          73,
          73,
          73,
          73,
          184,
          184,
          184,
          200,
          199,
          198,
          200,
          197,
          196,
          196,
          195,
          195,
          136,
          200,
          200,
          136,
          136,
          72,
          195,
          192,
          192,
          191,
          199,
          199,
          192,
          199,
          135,
          135,
          135,
          135,
          71,
          198,
          198,
          198,
          198,
          134,
          134,
          134,
          134,
          70,
          70,
          197,
          197,
          197,
          197,
          197,
          197,
          197,
          133,
          212,
          197,
          69,
          69,
          196,
          196,
          196,
          196,
          178,
          132,
          196,
          132,
          68,
          68,
          68,
          224,
          195,
          195,
          195,
          195,
          195,
          187,
          203,
          131,
          131,
          67,
          194,
          194,
          194,
          104,
          194,
          130,
          130,
          130,
          66,
          193,
          193,
          193,
          193,
          193,
          193,
          129,
          193,
          129,
          202,
          193,
          129,
          65,
          65,
          65,
          192,
          192,
          192,
          192,
          192,
          192,
          192,
          192,
          192,
          192,
          192,
          192,
          192,
          128,
          128
         ]
        }
       ],
       "layout": {
        "margin": {
         "b": 0,
         "l": 0,
         "r": 0,
         "t": 0
        },
        "template": {
         "data": {
          "bar": [
           {
            "error_x": {
             "color": "#2a3f5f"
            },
            "error_y": {
             "color": "#2a3f5f"
            },
            "marker": {
             "line": {
              "color": "#E5ECF6",
              "width": 0.5
             }
            },
            "type": "bar"
           }
          ],
          "barpolar": [
           {
            "marker": {
             "line": {
              "color": "#E5ECF6",
              "width": 0.5
             }
            },
            "type": "barpolar"
           }
          ],
          "carpet": [
           {
            "aaxis": {
             "endlinecolor": "#2a3f5f",
             "gridcolor": "white",
             "linecolor": "white",
             "minorgridcolor": "white",
             "startlinecolor": "#2a3f5f"
            },
            "baxis": {
             "endlinecolor": "#2a3f5f",
             "gridcolor": "white",
             "linecolor": "white",
             "minorgridcolor": "white",
             "startlinecolor": "#2a3f5f"
            },
            "type": "carpet"
           }
          ],
          "choropleth": [
           {
            "colorbar": {
             "outlinewidth": 0,
             "ticks": ""
            },
            "type": "choropleth"
           }
          ],
          "contour": [
           {
            "colorbar": {
             "outlinewidth": 0,
             "ticks": ""
            },
            "colorscale": [
             [
              0,
              "#0d0887"
             ],
             [
              0.1111111111111111,
              "#46039f"
             ],
             [
              0.2222222222222222,
              "#7201a8"
             ],
             [
              0.3333333333333333,
              "#9c179e"
             ],
             [
              0.4444444444444444,
              "#bd3786"
             ],
             [
              0.5555555555555556,
              "#d8576b"
             ],
             [
              0.6666666666666666,
              "#ed7953"
             ],
             [
              0.7777777777777778,
              "#fb9f3a"
             ],
             [
              0.8888888888888888,
              "#fdca26"
             ],
             [
              1,
              "#f0f921"
             ]
            ],
            "type": "contour"
           }
          ],
          "contourcarpet": [
           {
            "colorbar": {
             "outlinewidth": 0,
             "ticks": ""
            },
            "type": "contourcarpet"
           }
          ],
          "heatmap": [
           {
            "colorbar": {
             "outlinewidth": 0,
             "ticks": ""
            },
            "colorscale": [
             [
              0,
              "#0d0887"
             ],
             [
              0.1111111111111111,
              "#46039f"
             ],
             [
              0.2222222222222222,
              "#7201a8"
             ],
             [
              0.3333333333333333,
              "#9c179e"
             ],
             [
              0.4444444444444444,
              "#bd3786"
             ],
             [
              0.5555555555555556,
              "#d8576b"
             ],
             [
              0.6666666666666666,
              "#ed7953"
             ],
             [
              0.7777777777777778,
              "#fb9f3a"
             ],
             [
              0.8888888888888888,
              "#fdca26"
             ],
             [
              1,
              "#f0f921"
             ]
            ],
            "type": "heatmap"
           }
          ],
          "heatmapgl": [
           {
            "colorbar": {
             "outlinewidth": 0,
             "ticks": ""
            },
            "colorscale": [
             [
              0,
              "#0d0887"
             ],
             [
              0.1111111111111111,
              "#46039f"
             ],
             [
              0.2222222222222222,
              "#7201a8"
             ],
             [
              0.3333333333333333,
              "#9c179e"
             ],
             [
              0.4444444444444444,
              "#bd3786"
             ],
             [
              0.5555555555555556,
              "#d8576b"
             ],
             [
              0.6666666666666666,
              "#ed7953"
             ],
             [
              0.7777777777777778,
              "#fb9f3a"
             ],
             [
              0.8888888888888888,
              "#fdca26"
             ],
             [
              1,
              "#f0f921"
             ]
            ],
            "type": "heatmapgl"
           }
          ],
          "histogram": [
           {
            "marker": {
             "colorbar": {
              "outlinewidth": 0,
              "ticks": ""
             }
            },
            "type": "histogram"
           }
          ],
          "histogram2d": [
           {
            "colorbar": {
             "outlinewidth": 0,
             "ticks": ""
            },
            "colorscale": [
             [
              0,
              "#0d0887"
             ],
             [
              0.1111111111111111,
              "#46039f"
             ],
             [
              0.2222222222222222,
              "#7201a8"
             ],
             [
              0.3333333333333333,
              "#9c179e"
             ],
             [
              0.4444444444444444,
              "#bd3786"
             ],
             [
              0.5555555555555556,
              "#d8576b"
             ],
             [
              0.6666666666666666,
              "#ed7953"
             ],
             [
              0.7777777777777778,
              "#fb9f3a"
             ],
             [
              0.8888888888888888,
              "#fdca26"
             ],
             [
              1,
              "#f0f921"
             ]
            ],
            "type": "histogram2d"
           }
          ],
          "histogram2dcontour": [
           {
            "colorbar": {
             "outlinewidth": 0,
             "ticks": ""
            },
            "colorscale": [
             [
              0,
              "#0d0887"
             ],
             [
              0.1111111111111111,
              "#46039f"
             ],
             [
              0.2222222222222222,
              "#7201a8"
             ],
             [
              0.3333333333333333,
              "#9c179e"
             ],
             [
              0.4444444444444444,
              "#bd3786"
             ],
             [
              0.5555555555555556,
              "#d8576b"
             ],
             [
              0.6666666666666666,
              "#ed7953"
             ],
             [
              0.7777777777777778,
              "#fb9f3a"
             ],
             [
              0.8888888888888888,
              "#fdca26"
             ],
             [
              1,
              "#f0f921"
             ]
            ],
            "type": "histogram2dcontour"
           }
          ],
          "mesh3d": [
           {
            "colorbar": {
             "outlinewidth": 0,
             "ticks": ""
            },
            "type": "mesh3d"
           }
          ],
          "parcoords": [
           {
            "line": {
             "colorbar": {
              "outlinewidth": 0,
              "ticks": ""
             }
            },
            "type": "parcoords"
           }
          ],
          "pie": [
           {
            "automargin": true,
            "type": "pie"
           }
          ],
          "scatter": [
           {
            "marker": {
             "colorbar": {
              "outlinewidth": 0,
              "ticks": ""
             }
            },
            "type": "scatter"
           }
          ],
          "scatter3d": [
           {
            "line": {
             "colorbar": {
              "outlinewidth": 0,
              "ticks": ""
             }
            },
            "marker": {
             "colorbar": {
              "outlinewidth": 0,
              "ticks": ""
             }
            },
            "type": "scatter3d"
           }
          ],
          "scattercarpet": [
           {
            "marker": {
             "colorbar": {
              "outlinewidth": 0,
              "ticks": ""
             }
            },
            "type": "scattercarpet"
           }
          ],
          "scattergeo": [
           {
            "marker": {
             "colorbar": {
              "outlinewidth": 0,
              "ticks": ""
             }
            },
            "type": "scattergeo"
           }
          ],
          "scattergl": [
           {
            "marker": {
             "colorbar": {
              "outlinewidth": 0,
              "ticks": ""
             }
            },
            "type": "scattergl"
           }
          ],
          "scattermapbox": [
           {
            "marker": {
             "colorbar": {
              "outlinewidth": 0,
              "ticks": ""
             }
            },
            "type": "scattermapbox"
           }
          ],
          "scatterpolar": [
           {
            "marker": {
             "colorbar": {
              "outlinewidth": 0,
              "ticks": ""
             }
            },
            "type": "scatterpolar"
           }
          ],
          "scatterpolargl": [
           {
            "marker": {
             "colorbar": {
              "outlinewidth": 0,
              "ticks": ""
             }
            },
            "type": "scatterpolargl"
           }
          ],
          "scatterternary": [
           {
            "marker": {
             "colorbar": {
              "outlinewidth": 0,
              "ticks": ""
             }
            },
            "type": "scatterternary"
           }
          ],
          "surface": [
           {
            "colorbar": {
             "outlinewidth": 0,
             "ticks": ""
            },
            "colorscale": [
             [
              0,
              "#0d0887"
             ],
             [
              0.1111111111111111,
              "#46039f"
             ],
             [
              0.2222222222222222,
              "#7201a8"
             ],
             [
              0.3333333333333333,
              "#9c179e"
             ],
             [
              0.4444444444444444,
              "#bd3786"
             ],
             [
              0.5555555555555556,
              "#d8576b"
             ],
             [
              0.6666666666666666,
              "#ed7953"
             ],
             [
              0.7777777777777778,
              "#fb9f3a"
             ],
             [
              0.8888888888888888,
              "#fdca26"
             ],
             [
              1,
              "#f0f921"
             ]
            ],
            "type": "surface"
           }
          ],
          "table": [
           {
            "cells": {
             "fill": {
              "color": "#EBF0F8"
             },
             "line": {
              "color": "white"
             }
            },
            "header": {
             "fill": {
              "color": "#C8D4E3"
             },
             "line": {
              "color": "white"
             }
            },
            "type": "table"
           }
          ]
         },
         "layout": {
          "annotationdefaults": {
           "arrowcolor": "#2a3f5f",
           "arrowhead": 0,
           "arrowwidth": 1
          },
          "coloraxis": {
           "colorbar": {
            "outlinewidth": 0,
            "ticks": ""
           }
          },
          "colorscale": {
           "diverging": [
            [
             0,
             "#8e0152"
            ],
            [
             0.1,
             "#c51b7d"
            ],
            [
             0.2,
             "#de77ae"
            ],
            [
             0.3,
             "#f1b6da"
            ],
            [
             0.4,
             "#fde0ef"
            ],
            [
             0.5,
             "#f7f7f7"
            ],
            [
             0.6,
             "#e6f5d0"
            ],
            [
             0.7,
             "#b8e186"
            ],
            [
             0.8,
             "#7fbc41"
            ],
            [
             0.9,
             "#4d9221"
            ],
            [
             1,
             "#276419"
            ]
           ],
           "sequential": [
            [
             0,
             "#0d0887"
            ],
            [
             0.1111111111111111,
             "#46039f"
            ],
            [
             0.2222222222222222,
             "#7201a8"
            ],
            [
             0.3333333333333333,
             "#9c179e"
            ],
            [
             0.4444444444444444,
             "#bd3786"
            ],
            [
             0.5555555555555556,
             "#d8576b"
            ],
            [
             0.6666666666666666,
             "#ed7953"
            ],
            [
             0.7777777777777778,
             "#fb9f3a"
            ],
            [
             0.8888888888888888,
             "#fdca26"
            ],
            [
             1,
             "#f0f921"
            ]
           ],
           "sequentialminus": [
            [
             0,
             "#0d0887"
            ],
            [
             0.1111111111111111,
             "#46039f"
            ],
            [
             0.2222222222222222,
             "#7201a8"
            ],
            [
             0.3333333333333333,
             "#9c179e"
            ],
            [
             0.4444444444444444,
             "#bd3786"
            ],
            [
             0.5555555555555556,
             "#d8576b"
            ],
            [
             0.6666666666666666,
             "#ed7953"
            ],
            [
             0.7777777777777778,
             "#fb9f3a"
            ],
            [
             0.8888888888888888,
             "#fdca26"
            ],
            [
             1,
             "#f0f921"
            ]
           ]
          },
          "colorway": [
           "#636efa",
           "#EF553B",
           "#00cc96",
           "#ab63fa",
           "#FFA15A",
           "#19d3f3",
           "#FF6692",
           "#B6E880",
           "#FF97FF",
           "#FECB52"
          ],
          "font": {
           "color": "#2a3f5f"
          },
          "geo": {
           "bgcolor": "white",
           "lakecolor": "white",
           "landcolor": "#E5ECF6",
           "showlakes": true,
           "showland": true,
           "subunitcolor": "white"
          },
          "hoverlabel": {
           "align": "left"
          },
          "hovermode": "closest",
          "mapbox": {
           "style": "light"
          },
          "paper_bgcolor": "white",
          "plot_bgcolor": "#E5ECF6",
          "polar": {
           "angularaxis": {
            "gridcolor": "white",
            "linecolor": "white",
            "ticks": ""
           },
           "bgcolor": "#E5ECF6",
           "radialaxis": {
            "gridcolor": "white",
            "linecolor": "white",
            "ticks": ""
           }
          },
          "scene": {
           "xaxis": {
            "backgroundcolor": "#E5ECF6",
            "gridcolor": "white",
            "gridwidth": 2,
            "linecolor": "white",
            "showbackground": true,
            "ticks": "",
            "zerolinecolor": "white"
           },
           "yaxis": {
            "backgroundcolor": "#E5ECF6",
            "gridcolor": "white",
            "gridwidth": 2,
            "linecolor": "white",
            "showbackground": true,
            "ticks": "",
            "zerolinecolor": "white"
           },
           "zaxis": {
            "backgroundcolor": "#E5ECF6",
            "gridcolor": "white",
            "gridwidth": 2,
            "linecolor": "white",
            "showbackground": true,
            "ticks": "",
            "zerolinecolor": "white"
           }
          },
          "shapedefaults": {
           "line": {
            "color": "#2a3f5f"
           }
          },
          "ternary": {
           "aaxis": {
            "gridcolor": "white",
            "linecolor": "white",
            "ticks": ""
           },
           "baxis": {
            "gridcolor": "white",
            "linecolor": "white",
            "ticks": ""
           },
           "bgcolor": "#E5ECF6",
           "caxis": {
            "gridcolor": "white",
            "linecolor": "white",
            "ticks": ""
           }
          },
          "title": {
           "x": 0.05
          },
          "xaxis": {
           "automargin": true,
           "gridcolor": "white",
           "linecolor": "white",
           "ticks": "",
           "title": {
            "standoff": 15
           },
           "zerolinecolor": "white",
           "zerolinewidth": 2
          },
          "yaxis": {
           "automargin": true,
           "gridcolor": "white",
           "linecolor": "white",
           "ticks": "",
           "title": {
            "standoff": 15
           },
           "zerolinecolor": "white",
           "zerolinewidth": 2
          }
         }
        }
       }
      },
      "text/html": [
       "<div>\n",
       "        \n",
       "        \n",
       "            <div id=\"835ca205-f6ab-41de-824a-8a741fb79602\" class=\"plotly-graph-div\" style=\"height:525px; width:100%;\"></div>\n",
       "            <script type=\"text/javascript\">\n",
       "                require([\"plotly\"], function(Plotly) {\n",
       "                    window.PLOTLYENV=window.PLOTLYENV || {};\n",
       "                    \n",
       "                if (document.getElementById(\"835ca205-f6ab-41de-824a-8a741fb79602\")) {\n",
       "                    Plotly.newPlot(\n",
       "                        '835ca205-f6ab-41de-824a-8a741fb79602',\n",
       "                        [{\"marker\": {\"color\": [1, 1, 1, 1, 1, 1, 1, 1, -1, 1, 0, 0, 0, 1, 1, 1, 1, 1, 1, 1, 1, 1, 0, 0, 1, 1, 1, 1, 1, 1, 1, 1, -1, -1, 0, 0, 1, 1, 1, -1, -1, 1, 1, 1, 0, 0, 0, 0, 0, 0, 0, 1, 1, 1, 1, 1, 1, 1, -1, 1, 1, 1, 0, 0, -1, 0, 0, 1, 1, 1, 1, 1, -1, 1, -1, -1, 0, 0, 0, 0, 0, 1, 1, 1, -1, 1, 1, 1, 1, 1, 1, 1, 0, 1, 1, 1, 1, 1, 1, 1, 1, -1, 1, 1, -1, 1, -1, -1, 0, 0, 0, 0, 1, 1, 1, 1, 1, 1, 1, 1, 1, -1, -1, 1, 1, 1, 0, 1, 1, 0, 1, 1, 1, 1, 1, 1, -1, 1, 0, 1, 0, 0, 1, 1, 1, 1, 1, 1, 1, 1, 1, 1, 1, 1, -1, 0, 0, 1, 1, 1, 1, 1, 1, 1, 0, -1, 0, 0, 1, 0, 1, 1, -1, -1, 1, 1, 1, 1, -1, 1, 1, 1, 1, -1, 0, 1, 0, 0, 1, 1, 1, -1, -1, 1, 1, 1, 1, 1, -1, 0, 0, 0, 1, 0, 1, 1, 1, 1, 1, 1, 1, 1, 1, 1, 1, 1, -1, 0, 0, 0, 0, 1, -1, -1, 1, -1, 1, 0, 0, 0, 0, 1, 1, 1, 1, 0, 1, 1, 1, 1, 1, 1, 0, -1, 0, 0, 0, -1, 1, 1, 0, 1, 1, 1, -1, 1, -1, 1, 1, 1, 0, 0, 1, 1, 0, 0, 1, 1, 1, 1, 1, 1, 0, 0, 0, 1, -1, 1, 0, 1, 1, 1, -1, -1, 1, 1, 1, 1, -1, 1, 1, 0, 1, 1, 1, 1, 1, 1, 1, 1, 1, -1, -1, -1, 1, 1, -1, -1, -1, 0, 1, 1, 1, -1, -1, 1, 1, 1, -1, -1, 0, 0, 0, 1, 1, 1, 1, 1, 0, 1, 1, 1, 1, -1, 1, 1, 1, 0, 0, 0, 0, 0, 1, 1, 1, 1, 1, 1, 1, 1, -1, 1, 0, 0, 1, 1, 1, 1, 0, 1, 1, 1, -1, 1, 1, -1, 1, 0, 0, 0, 0, 1, 1, 0, -1, 1, 1, 1, 0, 0, 1, -1, 1, 1, 1, -1, -1, 1, 1, 1, 1, -1, 1, 0, 1, 0, 1, -1, -1, 1, 1, 1, 1, 1, 0, 0, 0, 0, 1, 1, 1, 1, -1, 1, 1, 1, 0, 0, 1, 1, 1, 1, 1, 1, 1, 1, 1, 0, 0, 1, 1, 1, -1, -1, -1, 1, 1, 1, 1, 0, 1, 1, 1, 1, -1, -1, 0, 0, 0, 1, 1, 1, 1, 1, -1, 1, -1, 1, -1, 0, 0, 1, 1, 1, 1, 1, -1, 1, 1, -1, 0, -1, 0, 0, 0, 0, 1, 1, 1, 1, 1, 1, 1, 1, 1, 1, 1, -1, 0, -1, 0, 0, 1, 1, 1, 1, 1, 1, 1, 1, 1, 1, 1, 1, 1, 1, 0, 1, 1, 1, 1, 1, 1, 1, 1, 1, 1, 0, 1, 1, 0, 0, 0, 0, 1, 1, 1, 0, 0, -1, 1, 0, 0, 1, 0, 1, 1, 1, 1, 1, 1, 1, 1, -1, -1, 1, 0, 0, 0, 1, 1, 1, 1, 1, 1, -1, 1, 1, 1, 1, -1, 0, 0, 1, 1, 0, 0, 1, 1, 1, 0, 1, 1, 1, 1, 1, 1, 1, -1, -1, 1, 0, 1, 1, 1, 1, 1, 1, 1, -1, 0, 1, 1, 1, 0, 0, -1, 0, 1, 1, 1, 1, 1, 1, 1, 1, 1, -1, 1, 1, 0, 1, 1, 0, -1, 1, 1, 1, 1, -1, 1, 1, 1, 1, 0, 0, 0, 0, 1, 1, 1, 1, -1, -1, 1, 0, 0, 0, 0, 0, 0, 0, 1, 1, 1, 1, 1, 1, 1, 1, -1, -1, -1, 1, 0, 1, 1, 1, 1, 1, 1, 1, 0, 1, 0, 0, 1, 0, 0, 0, 0, 1, 1, 1, 1, -1, 1, 1, 1, 1, 1, 0, 0, -1, 1, 1, 1, -1, -1, 1, -1, 1, 0, 0, 1, 1, 1, 1, 1, 1, 1, 1, -1, 1, 1, 0, 0, 1, 1, 0, 0, 1, 1, 1, 1, 1, 1, 0, 0, 0, 1, 1, 1, 1, 1, 1, 1, 1, -1, 0, 0, 0, 0, 0, 0, 1, 1, 0, 0, 1, 1, 1, 1, 1, 1, 1, 1, -1, -1, -1, 1, 0, 0, 1, 0, 0, 0, 1, 1, 1, 1, 1, 1, -1, 1, 0, 0, 0, 0, 0, 0, 0, 1, 1, 1, 1, 1, 1, -1, 1, 1, 1, 1, 1, 1, 0, 0, 0, 0, 0, 0, 1, 1, 1, -1, 1, -1, -1, 1, 1, 0, 0, 0, 1, 1, 1, 1, 1, 1, 0, 0, 0, 0, 1, 1, 1, 1, 1, 1, -1, -1, 0, -1, 0, 0, 1, 1, 1, 1, 1, 1, 0, 0, 0, 0, 0, 1, 1, 1, 1, 1, 1, 1, 1, -1, 0, 0, 1, 1, 1, 0, 1, -1, 0, 0, 0, 1, 1, 1, 1, 1, -1, -1, -1, 1, 1, 0, 0, 0, 0, 0, 1, 1, 1, 1, 1, 1, 1, -1, -1, -1, 0, 0, 0, 0, 0], \"colorscale\": [[0.0, \"#440154\"], [0.1111111111111111, \"#482878\"], [0.2222222222222222, \"#3e4989\"], [0.3333333333333333, \"#31688e\"], [0.4444444444444444, \"#26828e\"], [0.5555555555555556, \"#1f9e89\"], [0.6666666666666666, \"#35b779\"], [0.7777777777777778, \"#6ece58\"], [0.8888888888888888, \"#b5de2b\"], [1.0, \"#fde725\"]], \"opacity\": 1.0, \"size\": 3}, \"mode\": \"markers\", \"type\": \"scatter3d\", \"x\": [255.0, 254.0, 253.0, 251.0, 250.0, 249.0, 242.0, 216.0, 132.0, 104.0, 90.0, 66.0, 45.0, 255.0, 255.0, 255.0, 254.0, 253.0, 252.0, 251.0, 248.0, 240.0, 65.0, 44.0, 255.0, 254.0, 253.0, 252.0, 251.0, 243.0, 241.0, 225.0, 168.0, 153.0, 88.0, 67.0, 254.0, 253.0, 252.0, 220.0, 218.0, 200.0, 111.0, 99.0, 92.0, 89.0, 88.0, 66.0, 65.0, 64.0, 40.0, 255.0, 254.0, 253.0, 252.0, 251.0, 250.0, 191.0, 187.0, 186.0, 251.0, 254.0, 98.0, 91.0, 73.0, 65.0, 44.0, 255.0, 254.0, 253.0, 252.0, 250.0, 249.0, 190.0, 140.0, 114.0, 88.0, 86.0, 66.0, 62.0, 43.0, 253.0, 252.0, 251.0, 250.0, 246.0, 255.0, 220.0, 183.0, 181.0, 174.0, 254.0, 112.0, 250.0, 254.0, 253.0, 248.0, 244.0, 254.0, 253.0, 251.0, 233.0, 218.0, 210.0, 204.0, 196.0, 124.0, 115.0, 88.0, 87.0, 46.0, 45.0, 255.0, 253.0, 252.0, 251.0, 251.0, 244.0, 241.0, 232.0, 212.0, 113.0, 102.0, 100.0, 254.0, 252.0, 63.0, 249.0, 254.0, 100.0, 253.0, 252.0, 253.0, 242.0, 231.0, 253.0, 209.0, 253.0, 64.0, 255.0, 62.0, 44.0, 253.0, 252.0, 253.0, 245.0, 239.0, 231.0, 255.0, 252.0, 254.0, 249.0, 176.0, 251.0, 93.0, 89.0, 50.0, 253.0, 251.0, 250.0, 253.0, 244.0, 175.0, 161.0, 100.0, 117.0, 108.0, 105.0, 254.0, 62.0, 253.0, 251.0, 208.0, 200.0, 255.0, 253.0, 252.0, 173.0, 127.0, 154.0, 152.0, 149.0, 155.0, 126.0, 110.0, 251.0, 62.0, 61.0, 254.0, 253.0, 242.0, 227.0, 208.0, 253.0, 252.0, 253.0, 150.0, 146.0, 130.0, 88.0, 85.0, 60.0, 254.0, 47.0, 253.0, 250.0, 248.0, 253.0, 234.0, 162.0, 158.0, 253.0, 218.0, 152.0, 149.0, 255.0, 102.0, 93.0, 85.0, 60.0, 46.0, 253.0, 226.0, 205.0, 131.0, 175.0, 168.0, 100.0, 84.0, 83.0, 61.0, 253.0, 250.0, 241.0, 254.0, 67.0, 174.0, 167.0, 163.0, 150.0, 149.0, 254.0, 105.0, 103.0, 62.0, 41.0, 76.0, 202.0, 143.0, 253.0, 84.0, 251.0, 249.0, 241.0, 231.0, 132.0, 176.0, 250.0, 254.0, 252.0, 83.0, 82.0, 253.0, 252.0, 60.0, 59.0, 236.0, 156.0, 254.0, 150.0, 250.0, 135.0, 83.0, 60.0, 58.0, 251.0, 39.0, 251.0, 79.0, 244.0, 238.0, 234.0, 224.0, 205.0, 172.0, 155.0, 138.0, 134.0, 107.0, 254.0, 251.0, 80.0, 254.0, 252.0, 251.0, 174.0, 254.0, 248.0, 244.0, 233.0, 247.0, 192.0, 177.0, 168.0, 152.0, 149.0, 122.0, 113.0, 100.0, 81.0, 253.0, 244.0, 241.0, 226.0, 224.0, 254.0, 167.0, 133.0, 123.0, 103.0, 82.0, 59.0, 58.0, 253.0, 254.0, 237.0, 255.0, 254.0, 48.0, 254.0, 255.0, 254.0, 251.0, 131.0, 255.0, 254.0, 254.0, 84.0, 81.0, 59.0, 57.0, 56.0, 255.0, 255.0, 248.0, 253.0, 246.0, 242.0, 240.0, 251.0, 194.0, 144.0, 58.0, 54.0, 251.0, 250.0, 157.0, 151.0, 56.0, 254.0, 247.0, 245.0, 214.0, 142.0, 136.0, 113.0, 106.0, 87.0, 82.0, 81.0, 79.0, 250.0, 249.0, 59.0, 183.0, 169.0, 158.0, 251.0, 57.0, 56.0, 251.0, 252.0, 251.0, 254.0, 246.0, 191.0, 187.0, 161.0, 255.0, 137.0, 136.0, 120.0, 119.0, 57.0, 251.0, 56.0, 255.0, 209.0, 159.0, 148.0, 142.0, 139.0, 129.0, 114.0, 82.0, 80.0, 78.0, 57.0, 255.0, 252.0, 251.0, 253.0, 240.0, 237.0, 149.0, 121.0, 81.0, 56.0, 253.0, 252.0, 251.0, 250.0, 248.0, 247.0, 149.0, 148.0, 115.0, 79.0, 78.0, 255.0, 251.0, 250.0, 243.0, 208.0, 158.0, 156.0, 146.0, 130.0, 255.0, 55.0, 253.0, 255.0, 252.0, 251.0, 173.0, 171.0, 102.0, 56.0, 52.0, 253.0, 251.0, 247.0, 243.0, 254.0, 203.0, 255.0, 171.0, 152.0, 91.0, 77.0, 54.0, 255.0, 254.0, 252.0, 251.0, 249.0, 230.0, 138.0, 119.0, 101.0, 100.0, 94.0, 77.0, 54.0, 53.0, 51.0, 254.0, 253.0, 252.0, 251.0, 250.0, 247.0, 140.0, 130.0, 122.0, 252.0, 250.0, 102.0, 101.0, 84.0, 54.0, 53.0, 255.0, 254.0, 252.0, 251.0, 250.0, 247.0, 244.0, 230.0, 253.0, 252.0, 142.0, 131.0, 130.0, 122.0, 75.0, 253.0, 252.0, 251.0, 250.0, 249.0, 247.0, 246.0, 245.0, 249.0, 242.0, 49.0, 253.0, 254.0, 100.0, 99.0, 98.0, 97.0, 255.0, 251.0, 250.0, 76.0, 75.0, 69.0, 252.0, 54.0, 53.0, 248.0, 94.0, 253.0, 252.0, 250.0, 249.0, 248.0, 246.0, 240.0, 248.0, 158.0, 129.0, 254.0, 75.0, 74.0, 53.0, 254.0, 253.0, 248.0, 247.0, 246.0, 254.0, 236.0, 254.0, 137.0, 130.0, 124.0, 108.0, 99.0, 97.0, 254.0, 252.0, 76.0, 74.0, 253.0, 251.0, 249.0, 50.0, 254.0, 251.0, 250.0, 247.0, 238.0, 253.0, 252.0, 210.0, 169.0, 138.0, 74.0, 255.0, 251.0, 252.0, 251.0, 255.0, 254.0, 253.0, 191.0, 51.0, 255.0, 254.0, 125.0, 99.0, 98.0, 74.0, 51.0, 252.0, 254.0, 250.0, 249.0, 245.0, 238.0, 237.0, 251.0, 253.0, 146.0, 254.0, 127.0, 100.0, 254.0, 120.0, 99.0, 74.0, 252.0, 251.0, 255.0, 254.0, 145.0, 141.0, 128.0, 117.0, 254.0, 74.0, 61.0, 49.0, 47.0, 254.0, 248.0, 241.0, 253.0, 180.0, 167.0, 253.0, 97.0, 76.0, 72.0, 72.0, 52.0, 50.0, 48.0, 252.0, 249.0, 254.0, 253.0, 251.0, 250.0, 253.0, 253.0, 143.0, 132.0, 96.0, 254.0, 47.0, 254.0, 254.0, 251.0, 248.0, 247.0, 243.0, 234.0, 88.0, 251.0, 101.0, 96.0, 253.0, 73.0, 49.0, 48.0, 46.0, 254.0, 252.0, 249.0, 246.0, 219.0, 255.0, 254.0, 253.0, 252.0, 250.0, 73.0, 72.0, 245.0, 249.0, 239.0, 236.0, 175.0, 166.0, 122.0, 105.0, 254.0, 50.0, 47.0, 254.0, 254.0, 253.0, 251.0, 250.0, 249.0, 248.0, 247.0, 206.0, 251.0, 114.0, 98.0, 96.0, 253.0, 252.0, 72.0, 47.0, 254.0, 253.0, 252.0, 244.0, 223.0, 254.0, 103.0, 75.0, 78.0, 254.0, 253.0, 252.0, 251.0, 248.0, 247.0, 233.0, 254.0, 169.0, 96.0, 95.0, 94.0, 76.0, 71.0, 69.0, 253.0, 250.0, 49.0, 48.0, 255.0, 254.0, 253.0, 252.0, 251.0, 248.0, 234.0, 254.0, 153.0, 134.0, 121.0, 254.0, 70.0, 69.0, 253.0, 49.0, 48.0, 47.0, 253.0, 254.0, 253.0, 252.0, 248.0, 244.0, 179.0, 120.0, 92.0, 70.0, 57.0, 55.0, 54.0, 49.0, 47.0, 254.0, 253.0, 251.0, 254.0, 254.0, 254.0, 215.0, 254.0, 255.0, 254.0, 255.0, 254.0, 117.0, 94.0, 93.0, 70.0, 67.0, 47.0, 90.0, 255.0, 253.0, 255.0, 254.0, 253.0, 195.0, 201.0, 118.0, 113.0, 80.0, 68.0, 44.0, 255.0, 254.0, 246.0, 244.0, 116.0, 110.0, 70.0, 67.0, 45.0, 43.0, 255.0, 254.0, 253.0, 252.0, 246.0, 229.0, 204.0, 146.0, 99.0, 115.0, 46.0, 44.0, 255.0, 254.0, 251.0, 237.0, 253.0, 110.0, 92.0, 67.0, 60.0, 48.0, 47.0, 251.0, 255.0, 254.0, 251.0, 250.0, 247.0, 252.0, 254.0, 90.0, 76.0, 45.0, 255.0, 254.0, 252.0, 57.0, 239.0, 155.0, 73.0, 66.0, 45.0, 254.0, 252.0, 248.0, 238.0, 203.0, 189.0, 176.0, 164.0, 109.0, 254.0, 88.0, 67.0, 46.0, 45.0, 41.0, 255.0, 254.0, 253.0, 252.0, 251.0, 248.0, 246.0, 217.0, 198.0, 195.0, 108.0, 94.0, 91.0, 67.0, 65.0], \"y\": [202.0, 206.0, 203.0, 237.0, 238.0, 224.0, 222.0, 223.0, 146.0, 166.0, 216.0, 152.0, 72.0, 215.0, 214.0, 212.0, 203.0, 206.0, 209.0, 222.0, 217.0, 237.0, 156.0, 74.0, 209.0, 207.0, 206.0, 217.0, 229.0, 242.0, 203.0, 224.0, 246.0, 138.0, 214.0, 156.0, 208.0, 208.0, 206.0, 197.0, 227.0, 231.0, 162.0, 157.0, 209.0, 213.0, 212.0, 145.0, 154.0, 141.0, 67.0, 213.0, 210.0, 209.0, 226.0, 222.0, 209.0, 227.0, 212.0, 230.0, 247.0, 176.0, 206.0, 212.0, 75.0, 142.0, 69.0, 214.0, 212.0, 211.0, 209.0, 209.0, 255.0, 222.0, 137.0, 160.0, 211.0, 211.0, 147.0, 154.0, 69.0, 211.0, 211.0, 229.0, 252.0, 214.0, 205.0, 214.0, 227.0, 229.0, 228.0, 164.0, 213.0, 241.0, 186.0, 204.0, 242.0, 242.0, 213.0, 213.0, 235.0, 241.0, 209.0, 223.0, 197.0, 218.0, 134.0, 215.0, 209.0, 209.0, 67.0, 69.0, 207.0, 213.0, 216.0, 236.0, 223.0, 202.0, 201.0, 214.0, 218.0, 213.0, 158.0, 157.0, 182.0, 198.0, 146.0, 239.0, 186.0, 231.0, 214.0, 236.0, 215.0, 203.0, 218.0, 215.0, 191.0, 214.0, 141.0, 215.0, 146.0, 63.0, 220.0, 220.0, 226.0, 205.0, 200.0, 201.0, 211.0, 223.0, 172.0, 236.0, 224.0, 245.0, 152.0, 207.0, 61.0, 218.0, 231.0, 229.0, 217.0, 205.0, 223.0, 223.0, 233.0, 209.0, 208.0, 209.0, 165.0, 142.0, 220.0, 245.0, 203.0, 193.0, 211.0, 207.0, 215.0, 223.0, 128.0, 225.0, 224.0, 223.0, 212.0, 129.0, 206.0, 244.0, 137.0, 148.0, 187.0, 221.0, 236.0, 196.0, 214.0, 215.0, 215.0, 219.0, 220.0, 220.0, 128.0, 213.0, 205.0, 146.0, 175.0, 63.0, 223.0, 227.0, 252.0, 212.0, 197.0, 224.0, 222.0, 209.0, 219.0, 220.0, 223.0, 202.0, 143.0, 198.0, 205.0, 134.0, 60.0, 224.0, 198.0, 211.0, 203.0, 201.0, 220.0, 202.0, 203.0, 202.0, 141.0, 222.0, 245.0, 250.0, 196.0, 146.0, 213.0, 220.0, 219.0, 218.0, 213.0, 211.0, 206.0, 150.0, 138.0, 59.0, 181.0, 188.0, 213.0, 221.0, 201.0, 232.0, 242.0, 252.0, 227.0, 179.0, 202.0, 218.0, 213.0, 211.0, 201.0, 201.0, 215.0, 221.0, 136.0, 139.0, 246.0, 214.0, 220.0, 214.0, 238.0, 206.0, 199.0, 126.0, 135.0, 246.0, 51.0, 244.0, 190.0, 227.0, 246.0, 252.0, 192.0, 185.0, 207.0, 214.0, 197.0, 218.0, 142.0, 171.0, 232.0, 199.0, 189.0, 215.0, 209.0, 227.0, 190.0, 240.0, 239.0, 251.0, 243.0, 197.0, 207.0, 182.0, 212.0, 214.0, 244.0, 119.0, 195.0, 198.0, 225.0, 236.0, 247.0, 187.0, 187.0, 167.0, 208.0, 212.0, 237.0, 209.0, 198.0, 120.0, 121.0, 214.0, 188.0, 250.0, 208.0, 192.0, 91.0, 194.0, 204.0, 194.0, 232.0, 234.0, 200.0, 198.0, 200.0, 197.0, 196.0, 128.0, 125.0, 133.0, 212.0, 211.0, 250.0, 205.0, 238.0, 219.0, 251.0, 229.0, 189.0, 211.0, 118.0, 103.0, 250.0, 238.0, 194.0, 208.0, 130.0, 177.0, 237.0, 249.0, 183.0, 212.0, 211.0, 116.0, 194.0, 185.0, 193.0, 194.0, 194.0, 245.0, 237.0, 127.0, 208.0, 195.0, 208.0, 246.0, 121.0, 114.0, 246.0, 249.0, 249.0, 192.0, 246.0, 177.0, 195.0, 209.0, 213.0, 206.0, 198.0, 116.0, 187.0, 119.0, 248.0, 119.0, 205.0, 182.0, 177.0, 205.0, 202.0, 207.0, 208.0, 198.0, 189.0, 194.0, 191.0, 114.0, 250.0, 249.0, 247.0, 227.0, 250.0, 238.0, 209.0, 200.0, 191.0, 125.0, 247.0, 247.0, 240.0, 248.0, 244.0, 246.0, 202.0, 202.0, 197.0, 185.0, 191.0, 253.0, 237.0, 248.0, 222.0, 180.0, 190.0, 197.0, 202.0, 199.0, 213.0, 111.0, 217.0, 248.0, 250.0, 249.0, 173.0, 172.0, 231.0, 117.0, 115.0, 247.0, 247.0, 244.0, 233.0, 189.0, 176.0, 203.0, 170.0, 207.0, 105.0, 187.0, 123.0, 245.0, 248.0, 245.0, 246.0, 244.0, 220.0, 191.0, 201.0, 112.0, 229.0, 187.0, 187.0, 106.0, 114.0, 116.0, 248.0, 245.0, 247.0, 244.0, 245.0, 242.0, 197.0, 196.0, 208.0, 246.0, 236.0, 104.0, 229.0, 103.0, 111.0, 107.0, 244.0, 244.0, 238.0, 212.0, 243.0, 237.0, 239.0, 231.0, 211.0, 219.0, 196.0, 197.0, 198.0, 198.0, 185.0, 242.0, 244.0, 241.0, 236.0, 246.0, 240.0, 239.0, 238.0, 241.0, 236.0, 93.0, 211.0, 163.0, 230.0, 233.0, 231.0, 232.0, 242.0, 242.0, 244.0, 185.0, 181.0, 102.0, 205.0, 113.0, 103.0, 241.0, 223.0, 244.0, 211.0, 245.0, 239.0, 241.0, 240.0, 246.0, 231.0, 174.0, 230.0, 173.0, 177.0, 181.0, 101.0, 242.0, 204.0, 240.0, 235.0, 241.0, 178.0, 233.0, 190.0, 182.0, 196.0, 191.0, 194.0, 229.0, 229.0, 183.0, 205.0, 177.0, 179.0, 246.0, 242.0, 240.0, 98.0, 185.0, 207.0, 230.0, 208.0, 245.0, 216.0, 240.0, 217.0, 164.0, 192.0, 178.0, 213.0, 244.0, 217.0, 233.0, 214.0, 206.0, 208.0, 168.0, 109.0, 216.0, 191.0, 188.0, 226.0, 230.0, 98.0, 97.0, 222.0, 169.0, 236.0, 238.0, 241.0, 240.0, 241.0, 228.0, 214.0, 162.0, 200.0, 193.0, 230.0, 168.0, 190.0, 223.0, 93.0, 220.0, 246.0, 210.0, 208.0, 234.0, 186.0, 194.0, 171.0, 188.0, 170.0, 92.0, 95.0, 91.0, 201.0, 243.0, 241.0, 218.0, 161.0, 159.0, 220.0, 229.0, 178.0, 175.0, 178.0, 97.0, 108.0, 92.0, 217.0, 207.0, 200.0, 219.0, 216.0, 244.0, 244.0, 210.0, 171.0, 169.0, 93.0, 197.0, 89.0, 180.0, 220.0, 210.0, 244.0, 246.0, 243.0, 240.0, 214.0, 214.0, 230.0, 226.0, 216.0, 177.0, 94.0, 91.0, 100.0, 184.0, 195.0, 202.0, 244.0, 233.0, 201.0, 212.0, 210.0, 216.0, 226.0, 175.0, 176.0, 236.0, 212.0, 231.0, 239.0, 173.0, 156.0, 175.0, 175.0, 189.0, 91.0, 89.0, 179.0, 194.0, 191.0, 235.0, 211.0, 211.0, 211.0, 210.0, 240.0, 211.0, 184.0, 219.0, 226.0, 210.0, 210.0, 172.0, 88.0, 174.0, 198.0, 214.0, 243.0, 229.0, 193.0, 220.0, 169.0, 187.0, 162.0, 203.0, 201.0, 204.0, 240.0, 239.0, 229.0, 192.0, 154.0, 225.0, 225.0, 226.0, 169.0, 167.0, 163.0, 212.0, 208.0, 86.0, 94.0, 229.0, 181.0, 196.0, 211.0, 213.0, 242.0, 233.0, 187.0, 150.0, 226.0, 193.0, 170.0, 169.0, 163.0, 224.0, 98.0, 85.0, 83.0, 226.0, 185.0, 200.0, 206.0, 243.0, 245.0, 154.0, 173.0, 222.0, 160.0, 82.0, 82.0, 81.0, 80.0, 82.0, 212.0, 212.0, 210.0, 184.0, 185.0, 191.0, 231.0, 193.0, 199.0, 195.0, 203.0, 195.0, 178.0, 222.0, 222.0, 158.0, 163.0, 81.0, 217.0, 205.0, 205.0, 213.0, 155.0, 210.0, 203.0, 234.0, 179.0, 172.0, 162.0, 166.0, 80.0, 200.0, 188.0, 245.0, 243.0, 173.0, 173.0, 155.0, 164.0, 79.0, 85.0, 201.0, 192.0, 229.0, 224.0, 244.0, 217.0, 239.0, 146.0, 232.0, 220.0, 80.0, 77.0, 197.0, 193.0, 209.0, 230.0, 222.0, 165.0, 219.0, 158.0, 79.0, 76.0, 78.0, 249.0, 199.0, 194.0, 226.0, 224.0, 224.0, 220.0, 192.0, 161.0, 153.0, 82.0, 211.0, 199.0, 220.0, 136.0, 220.0, 146.0, 161.0, 157.0, 76.0, 201.0, 223.0, 221.0, 198.0, 226.0, 231.0, 149.0, 224.0, 161.0, 190.0, 216.0, 164.0, 79.0, 75.0, 74.0, 206.0, 202.0, 203.0, 227.0, 208.0, 244.0, 220.0, 208.0, 232.0, 208.0, 214.0, 219.0, 218.0, 161.0, 151.0], \"z\": [191.0, 191.0, 191.0, 191.0, 191.0, 191.0, 191.0, 191.0, 127.0, 127.0, 191.0, 127.0, 63.0, 190.0, 189.0, 190.0, 190.0, 190.0, 190.0, 190.0, 190.0, 190.0, 126.0, 62.0, 189.0, 189.0, 189.0, 189.0, 189.0, 189.0, 189.0, 189.0, 189.0, 125.0, 189.0, 125.0, 188.0, 188.0, 188.0, 188.0, 188.0, 188.0, 124.0, 124.0, 188.0, 188.0, 188.0, 124.0, 124.0, 124.0, 60.0, 187.0, 187.0, 187.0, 187.0, 187.0, 187.0, 187.0, 187.0, 187.0, 219.0, 203.0, 187.0, 187.0, 59.0, 123.0, 59.0, 186.0, 186.0, 186.0, 186.0, 186.0, 250.0, 186.0, 122.0, 122.0, 186.0, 186.0, 122.0, 122.0, 58.0, 185.0, 185.0, 185.0, 249.0, 185.0, 196.0, 185.0, 185.0, 185.0, 185.0, 203.0, 185.0, 218.0, 201.0, 201.0, 201.0, 201.0, 184.0, 184.0, 184.0, 184.0, 184.0, 184.0, 184.0, 184.0, 120.0, 184.0, 184.0, 184.0, 56.0, 56.0, 191.0, 183.0, 183.0, 183.0, 191.0, 183.0, 183.0, 183.0, 183.0, 183.0, 119.0, 119.0, 202.0, 202.0, 119.0, 217.0, 200.0, 217.0, 182.0, 182.0, 183.0, 182.0, 182.0, 182.0, 182.0, 187.0, 118.0, 189.0, 118.0, 54.0, 181.0, 181.0, 175.0, 181.0, 181.0, 181.0, 190.0, 190.0, 203.0, 173.0, 181.0, 220.0, 117.0, 181.0, 53.0, 180.0, 180.0, 180.0, 183.0, 180.0, 180.0, 180.0, 220.0, 180.0, 180.0, 180.0, 203.0, 116.0, 179.0, 179.0, 179.0, 179.0, 189.0, 189.0, 189.0, 179.0, 113.0, 179.0, 179.0, 179.0, 172.0, 115.0, 179.0, 234.0, 115.0, 115.0, 200.0, 178.0, 178.0, 178.0, 178.0, 181.0, 181.0, 180.0, 178.0, 178.0, 114.0, 189.0, 178.0, 114.0, 203.0, 50.0, 177.0, 177.0, 241.0, 186.0, 177.0, 177.0, 177.0, 188.0, 188.0, 177.0, 177.0, 195.0, 113.0, 177.0, 177.0, 113.0, 49.0, 176.0, 176.0, 176.0, 154.0, 176.0, 176.0, 176.0, 176.0, 176.0, 112.0, 175.0, 175.0, 239.0, 196.0, 129.0, 175.0, 175.0, 175.0, 175.0, 175.0, 187.0, 175.0, 111.0, 111.0, 47.0, 153.0, 174.0, 174.0, 179.0, 174.0, 173.0, 237.0, 237.0, 173.0, 145.0, 173.0, 185.0, 186.0, 186.0, 173.0, 173.0, 188.0, 188.0, 109.0, 109.0, 236.0, 172.0, 198.0, 172.0, 228.0, 172.0, 172.0, 108.0, 108.0, 161.0, 44.0, 160.0, 160.0, 171.0, 235.0, 235.0, 171.0, 171.0, 171.0, 171.0, 171.0, 171.0, 107.0, 203.0, 170.0, 171.0, 200.0, 185.0, 185.0, 185.0, 199.0, 170.0, 215.0, 234.0, 214.0, 170.0, 170.0, 170.0, 170.0, 170.0, 170.0, 106.0, 170.0, 170.0, 176.0, 169.0, 233.0, 169.0, 169.0, 203.0, 169.0, 169.0, 169.0, 169.0, 169.0, 105.0, 105.0, 184.0, 199.0, 232.0, 198.0, 198.0, 75.0, 197.0, 196.0, 196.0, 196.0, 168.0, 195.0, 195.0, 194.0, 168.0, 168.0, 104.0, 104.0, 104.0, 192.0, 191.0, 231.0, 191.0, 167.0, 167.0, 231.0, 191.0, 167.0, 167.0, 103.0, 89.0, 230.0, 230.0, 166.0, 166.0, 102.0, 203.0, 165.0, 229.0, 165.0, 165.0, 165.0, 101.0, 165.0, 165.0, 165.0, 165.0, 165.0, 228.0, 228.0, 107.0, 164.0, 164.0, 164.0, 227.0, 100.0, 100.0, 224.0, 163.0, 227.0, 202.0, 227.0, 163.0, 163.0, 163.0, 190.0, 163.0, 163.0, 99.0, 163.0, 99.0, 226.0, 104.0, 195.0, 162.0, 162.0, 162.0, 162.0, 162.0, 162.0, 162.0, 162.0, 162.0, 162.0, 98.0, 225.0, 225.0, 225.0, 175.0, 161.0, 225.0, 161.0, 161.0, 161.0, 97.0, 224.0, 224.0, 224.0, 224.0, 224.0, 224.0, 160.0, 160.0, 160.0, 160.0, 160.0, 223.0, 223.0, 223.0, 159.0, 159.0, 159.0, 159.0, 159.0, 159.0, 189.0, 95.0, 181.0, 222.0, 222.0, 222.0, 158.0, 158.0, 222.0, 94.0, 94.0, 221.0, 221.0, 221.0, 157.0, 203.0, 157.0, 196.0, 157.0, 157.0, 93.0, 157.0, 93.0, 220.0, 220.0, 220.0, 220.0, 220.0, 156.0, 156.0, 156.0, 92.0, 220.0, 156.0, 156.0, 92.0, 92.0, 92.0, 219.0, 219.0, 219.0, 219.0, 219.0, 219.0, 155.0, 155.0, 155.0, 219.0, 219.0, 91.0, 219.0, 91.0, 91.0, 91.0, 218.0, 218.0, 218.0, 218.0, 218.0, 218.0, 218.0, 218.0, 188.0, 188.0, 154.0, 154.0, 154.0, 154.0, 154.0, 217.0, 217.0, 217.0, 217.0, 217.0, 217.0, 217.0, 217.0, 207.0, 217.0, 83.0, 205.0, 203.0, 217.0, 217.0, 217.0, 217.0, 218.0, 218.0, 218.0, 153.0, 153.0, 89.0, 201.0, 89.0, 89.0, 201.0, 203.0, 216.0, 216.0, 216.0, 216.0, 216.0, 216.0, 216.0, 210.0, 152.0, 216.0, 203.0, 152.0, 152.0, 88.0, 215.0, 191.0, 215.0, 215.0, 215.0, 203.0, 151.0, 201.0, 151.0, 151.0, 151.0, 151.0, 215.0, 215.0, 202.0, 202.0, 151.0, 151.0, 217.0, 217.0, 217.0, 87.0, 200.0, 214.0, 214.0, 214.0, 214.0, 182.0, 182.0, 214.0, 150.0, 150.0, 150.0, 192.0, 218.0, 213.0, 213.0, 190.0, 190.0, 190.0, 149.0, 85.0, 189.0, 199.0, 149.0, 213.0, 213.0, 85.0, 85.0, 216.0, 203.0, 212.0, 212.0, 212.0, 212.0, 212.0, 183.0, 183.0, 148.0, 201.0, 148.0, 220.0, 203.0, 148.0, 212.0, 84.0, 211.0, 223.0, 189.0, 189.0, 211.0, 147.0, 147.0, 147.0, 200.0, 147.0, 83.0, 83.0, 83.0, 210.0, 210.0, 210.0, 181.0, 146.0, 146.0, 180.0, 210.0, 146.0, 146.0, 146.0, 82.0, 82.0, 82.0, 186.0, 186.0, 209.0, 209.0, 209.0, 209.0, 217.0, 188.0, 145.0, 145.0, 81.0, 195.0, 81.0, 203.0, 208.0, 208.0, 208.0, 208.0, 208.0, 208.0, 188.0, 183.0, 208.0, 208.0, 183.0, 144.0, 80.0, 80.0, 80.0, 202.0, 207.0, 207.0, 207.0, 207.0, 196.0, 187.0, 187.0, 187.0, 187.0, 143.0, 143.0, 153.0, 206.0, 206.0, 206.0, 142.0, 142.0, 142.0, 142.0, 199.0, 78.0, 78.0, 203.0, 205.0, 205.0, 205.0, 205.0, 205.0, 205.0, 205.0, 205.0, 185.0, 141.0, 205.0, 205.0, 186.0, 186.0, 141.0, 77.0, 203.0, 204.0, 204.0, 204.0, 204.0, 198.0, 204.0, 140.0, 160.0, 203.0, 203.0, 203.0, 203.0, 203.0, 203.0, 203.0, 200.0, 139.0, 203.0, 203.0, 203.0, 139.0, 139.0, 139.0, 185.0, 185.0, 75.0, 75.0, 202.0, 202.0, 202.0, 202.0, 202.0, 202.0, 202.0, 199.0, 138.0, 202.0, 138.0, 203.0, 138.0, 138.0, 177.0, 74.0, 74.0, 74.0, 176.0, 201.0, 201.0, 201.0, 201.0, 201.0, 137.0, 137.0, 201.0, 137.0, 73.0, 73.0, 73.0, 73.0, 73.0, 184.0, 184.0, 184.0, 200.0, 199.0, 198.0, 200.0, 197.0, 196.0, 196.0, 195.0, 195.0, 136.0, 200.0, 200.0, 136.0, 136.0, 72.0, 195.0, 192.0, 192.0, 191.0, 199.0, 199.0, 192.0, 199.0, 135.0, 135.0, 135.0, 135.0, 71.0, 198.0, 198.0, 198.0, 198.0, 134.0, 134.0, 134.0, 134.0, 70.0, 70.0, 197.0, 197.0, 197.0, 197.0, 197.0, 197.0, 197.0, 133.0, 212.0, 197.0, 69.0, 69.0, 196.0, 196.0, 196.0, 196.0, 178.0, 132.0, 196.0, 132.0, 68.0, 68.0, 68.0, 224.0, 195.0, 195.0, 195.0, 195.0, 195.0, 187.0, 203.0, 131.0, 131.0, 67.0, 194.0, 194.0, 194.0, 104.0, 194.0, 130.0, 130.0, 130.0, 66.0, 193.0, 193.0, 193.0, 193.0, 193.0, 193.0, 129.0, 193.0, 129.0, 202.0, 193.0, 129.0, 65.0, 65.0, 65.0, 192.0, 192.0, 192.0, 192.0, 192.0, 192.0, 192.0, 192.0, 192.0, 192.0, 192.0, 192.0, 192.0, 128.0, 128.0]}],\n",
       "                        {\"margin\": {\"b\": 0, \"l\": 0, \"r\": 0, \"t\": 0}, \"template\": {\"data\": {\"bar\": [{\"error_x\": {\"color\": \"#2a3f5f\"}, \"error_y\": {\"color\": \"#2a3f5f\"}, \"marker\": {\"line\": {\"color\": \"#E5ECF6\", \"width\": 0.5}}, \"type\": \"bar\"}], \"barpolar\": [{\"marker\": {\"line\": {\"color\": \"#E5ECF6\", \"width\": 0.5}}, \"type\": \"barpolar\"}], \"carpet\": [{\"aaxis\": {\"endlinecolor\": \"#2a3f5f\", \"gridcolor\": \"white\", \"linecolor\": \"white\", \"minorgridcolor\": \"white\", \"startlinecolor\": \"#2a3f5f\"}, \"baxis\": {\"endlinecolor\": \"#2a3f5f\", \"gridcolor\": \"white\", \"linecolor\": \"white\", \"minorgridcolor\": \"white\", \"startlinecolor\": \"#2a3f5f\"}, \"type\": \"carpet\"}], \"choropleth\": [{\"colorbar\": {\"outlinewidth\": 0, \"ticks\": \"\"}, \"type\": \"choropleth\"}], \"contour\": [{\"colorbar\": {\"outlinewidth\": 0, \"ticks\": \"\"}, \"colorscale\": [[0.0, \"#0d0887\"], [0.1111111111111111, \"#46039f\"], [0.2222222222222222, \"#7201a8\"], [0.3333333333333333, \"#9c179e\"], [0.4444444444444444, \"#bd3786\"], [0.5555555555555556, \"#d8576b\"], [0.6666666666666666, \"#ed7953\"], [0.7777777777777778, \"#fb9f3a\"], [0.8888888888888888, \"#fdca26\"], [1.0, \"#f0f921\"]], \"type\": \"contour\"}], \"contourcarpet\": [{\"colorbar\": {\"outlinewidth\": 0, \"ticks\": \"\"}, \"type\": \"contourcarpet\"}], \"heatmap\": [{\"colorbar\": {\"outlinewidth\": 0, \"ticks\": \"\"}, \"colorscale\": [[0.0, \"#0d0887\"], [0.1111111111111111, \"#46039f\"], [0.2222222222222222, \"#7201a8\"], [0.3333333333333333, \"#9c179e\"], [0.4444444444444444, \"#bd3786\"], [0.5555555555555556, \"#d8576b\"], [0.6666666666666666, \"#ed7953\"], [0.7777777777777778, \"#fb9f3a\"], [0.8888888888888888, \"#fdca26\"], [1.0, \"#f0f921\"]], \"type\": \"heatmap\"}], \"heatmapgl\": [{\"colorbar\": {\"outlinewidth\": 0, \"ticks\": \"\"}, \"colorscale\": [[0.0, \"#0d0887\"], [0.1111111111111111, \"#46039f\"], [0.2222222222222222, \"#7201a8\"], [0.3333333333333333, \"#9c179e\"], [0.4444444444444444, \"#bd3786\"], [0.5555555555555556, \"#d8576b\"], [0.6666666666666666, \"#ed7953\"], [0.7777777777777778, \"#fb9f3a\"], [0.8888888888888888, \"#fdca26\"], [1.0, \"#f0f921\"]], \"type\": \"heatmapgl\"}], \"histogram\": [{\"marker\": {\"colorbar\": {\"outlinewidth\": 0, \"ticks\": \"\"}}, \"type\": \"histogram\"}], \"histogram2d\": [{\"colorbar\": {\"outlinewidth\": 0, \"ticks\": \"\"}, \"colorscale\": [[0.0, \"#0d0887\"], [0.1111111111111111, \"#46039f\"], [0.2222222222222222, \"#7201a8\"], [0.3333333333333333, \"#9c179e\"], [0.4444444444444444, \"#bd3786\"], [0.5555555555555556, \"#d8576b\"], [0.6666666666666666, \"#ed7953\"], [0.7777777777777778, \"#fb9f3a\"], [0.8888888888888888, \"#fdca26\"], [1.0, \"#f0f921\"]], \"type\": \"histogram2d\"}], \"histogram2dcontour\": [{\"colorbar\": {\"outlinewidth\": 0, \"ticks\": \"\"}, \"colorscale\": [[0.0, \"#0d0887\"], [0.1111111111111111, \"#46039f\"], [0.2222222222222222, \"#7201a8\"], [0.3333333333333333, \"#9c179e\"], [0.4444444444444444, \"#bd3786\"], [0.5555555555555556, \"#d8576b\"], [0.6666666666666666, \"#ed7953\"], [0.7777777777777778, \"#fb9f3a\"], [0.8888888888888888, \"#fdca26\"], [1.0, \"#f0f921\"]], \"type\": \"histogram2dcontour\"}], \"mesh3d\": [{\"colorbar\": {\"outlinewidth\": 0, \"ticks\": \"\"}, \"type\": \"mesh3d\"}], \"parcoords\": [{\"line\": {\"colorbar\": {\"outlinewidth\": 0, \"ticks\": \"\"}}, \"type\": \"parcoords\"}], \"pie\": [{\"automargin\": true, \"type\": \"pie\"}], \"scatter\": [{\"marker\": {\"colorbar\": {\"outlinewidth\": 0, \"ticks\": \"\"}}, \"type\": \"scatter\"}], \"scatter3d\": [{\"line\": {\"colorbar\": {\"outlinewidth\": 0, \"ticks\": \"\"}}, \"marker\": {\"colorbar\": {\"outlinewidth\": 0, \"ticks\": \"\"}}, \"type\": \"scatter3d\"}], \"scattercarpet\": [{\"marker\": {\"colorbar\": {\"outlinewidth\": 0, \"ticks\": \"\"}}, \"type\": \"scattercarpet\"}], \"scattergeo\": [{\"marker\": {\"colorbar\": {\"outlinewidth\": 0, \"ticks\": \"\"}}, \"type\": \"scattergeo\"}], \"scattergl\": [{\"marker\": {\"colorbar\": {\"outlinewidth\": 0, \"ticks\": \"\"}}, \"type\": \"scattergl\"}], \"scattermapbox\": [{\"marker\": {\"colorbar\": {\"outlinewidth\": 0, \"ticks\": \"\"}}, \"type\": \"scattermapbox\"}], \"scatterpolar\": [{\"marker\": {\"colorbar\": {\"outlinewidth\": 0, \"ticks\": \"\"}}, \"type\": \"scatterpolar\"}], \"scatterpolargl\": [{\"marker\": {\"colorbar\": {\"outlinewidth\": 0, \"ticks\": \"\"}}, \"type\": \"scatterpolargl\"}], \"scatterternary\": [{\"marker\": {\"colorbar\": {\"outlinewidth\": 0, \"ticks\": \"\"}}, \"type\": \"scatterternary\"}], \"surface\": [{\"colorbar\": {\"outlinewidth\": 0, \"ticks\": \"\"}, \"colorscale\": [[0.0, \"#0d0887\"], [0.1111111111111111, \"#46039f\"], [0.2222222222222222, \"#7201a8\"], [0.3333333333333333, \"#9c179e\"], [0.4444444444444444, \"#bd3786\"], [0.5555555555555556, \"#d8576b\"], [0.6666666666666666, \"#ed7953\"], [0.7777777777777778, \"#fb9f3a\"], [0.8888888888888888, \"#fdca26\"], [1.0, \"#f0f921\"]], \"type\": \"surface\"}], \"table\": [{\"cells\": {\"fill\": {\"color\": \"#EBF0F8\"}, \"line\": {\"color\": \"white\"}}, \"header\": {\"fill\": {\"color\": \"#C8D4E3\"}, \"line\": {\"color\": \"white\"}}, \"type\": \"table\"}]}, \"layout\": {\"annotationdefaults\": {\"arrowcolor\": \"#2a3f5f\", \"arrowhead\": 0, \"arrowwidth\": 1}, \"coloraxis\": {\"colorbar\": {\"outlinewidth\": 0, \"ticks\": \"\"}}, \"colorscale\": {\"diverging\": [[0, \"#8e0152\"], [0.1, \"#c51b7d\"], [0.2, \"#de77ae\"], [0.3, \"#f1b6da\"], [0.4, \"#fde0ef\"], [0.5, \"#f7f7f7\"], [0.6, \"#e6f5d0\"], [0.7, \"#b8e186\"], [0.8, \"#7fbc41\"], [0.9, \"#4d9221\"], [1, \"#276419\"]], \"sequential\": [[0.0, \"#0d0887\"], [0.1111111111111111, \"#46039f\"], [0.2222222222222222, \"#7201a8\"], [0.3333333333333333, \"#9c179e\"], [0.4444444444444444, \"#bd3786\"], [0.5555555555555556, \"#d8576b\"], [0.6666666666666666, \"#ed7953\"], [0.7777777777777778, \"#fb9f3a\"], [0.8888888888888888, \"#fdca26\"], [1.0, \"#f0f921\"]], \"sequentialminus\": [[0.0, \"#0d0887\"], [0.1111111111111111, \"#46039f\"], [0.2222222222222222, \"#7201a8\"], [0.3333333333333333, \"#9c179e\"], [0.4444444444444444, \"#bd3786\"], [0.5555555555555556, \"#d8576b\"], [0.6666666666666666, \"#ed7953\"], [0.7777777777777778, \"#fb9f3a\"], [0.8888888888888888, \"#fdca26\"], [1.0, \"#f0f921\"]]}, \"colorway\": [\"#636efa\", \"#EF553B\", \"#00cc96\", \"#ab63fa\", \"#FFA15A\", \"#19d3f3\", \"#FF6692\", \"#B6E880\", \"#FF97FF\", \"#FECB52\"], \"font\": {\"color\": \"#2a3f5f\"}, \"geo\": {\"bgcolor\": \"white\", \"lakecolor\": \"white\", \"landcolor\": \"#E5ECF6\", \"showlakes\": true, \"showland\": true, \"subunitcolor\": \"white\"}, \"hoverlabel\": {\"align\": \"left\"}, \"hovermode\": \"closest\", \"mapbox\": {\"style\": \"light\"}, \"paper_bgcolor\": \"white\", \"plot_bgcolor\": \"#E5ECF6\", \"polar\": {\"angularaxis\": {\"gridcolor\": \"white\", \"linecolor\": \"white\", \"ticks\": \"\"}, \"bgcolor\": \"#E5ECF6\", \"radialaxis\": {\"gridcolor\": \"white\", \"linecolor\": \"white\", \"ticks\": \"\"}}, \"scene\": {\"xaxis\": {\"backgroundcolor\": \"#E5ECF6\", \"gridcolor\": \"white\", \"gridwidth\": 2, \"linecolor\": \"white\", \"showbackground\": true, \"ticks\": \"\", \"zerolinecolor\": \"white\"}, \"yaxis\": {\"backgroundcolor\": \"#E5ECF6\", \"gridcolor\": \"white\", \"gridwidth\": 2, \"linecolor\": \"white\", \"showbackground\": true, \"ticks\": \"\", \"zerolinecolor\": \"white\"}, \"zaxis\": {\"backgroundcolor\": \"#E5ECF6\", \"gridcolor\": \"white\", \"gridwidth\": 2, \"linecolor\": \"white\", \"showbackground\": true, \"ticks\": \"\", \"zerolinecolor\": \"white\"}}, \"shapedefaults\": {\"line\": {\"color\": \"#2a3f5f\"}}, \"ternary\": {\"aaxis\": {\"gridcolor\": \"white\", \"linecolor\": \"white\", \"ticks\": \"\"}, \"baxis\": {\"gridcolor\": \"white\", \"linecolor\": \"white\", \"ticks\": \"\"}, \"bgcolor\": \"#E5ECF6\", \"caxis\": {\"gridcolor\": \"white\", \"linecolor\": \"white\", \"ticks\": \"\"}}, \"title\": {\"x\": 0.05}, \"xaxis\": {\"automargin\": true, \"gridcolor\": \"white\", \"linecolor\": \"white\", \"ticks\": \"\", \"title\": {\"standoff\": 15}, \"zerolinecolor\": \"white\", \"zerolinewidth\": 2}, \"yaxis\": {\"automargin\": true, \"gridcolor\": \"white\", \"linecolor\": \"white\", \"ticks\": \"\", \"title\": {\"standoff\": 15}, \"zerolinecolor\": \"white\", \"zerolinewidth\": 2}}}},\n",
       "                        {\"responsive\": true}\n",
       "                    ).then(function(){\n",
       "                            \n",
       "var gd = document.getElementById('835ca205-f6ab-41de-824a-8a741fb79602');\n",
       "var x = new MutationObserver(function (mutations, observer) {{\n",
       "        var display = window.getComputedStyle(gd).display;\n",
       "        if (!display || display === 'none') {{\n",
       "            console.log([gd, 'removed!']);\n",
       "            Plotly.purge(gd);\n",
       "            observer.disconnect();\n",
       "        }}\n",
       "}});\n",
       "\n",
       "// Listen for the removal of the full notebook cells\n",
       "var notebookContainer = gd.closest('#notebook-container');\n",
       "if (notebookContainer) {{\n",
       "    x.observe(notebookContainer, {childList: true});\n",
       "}}\n",
       "\n",
       "// Listen for the clearing of the current output cell\n",
       "var outputEl = gd.closest('.output');\n",
       "if (outputEl) {{\n",
       "    x.observe(outputEl, {childList: true});\n",
       "}}\n",
       "\n",
       "                        })\n",
       "                };\n",
       "                });\n",
       "            </script>\n",
       "        </div>"
      ]
     },
     "metadata": {},
     "output_type": "display_data"
    }
   ],
   "source": [
    "fits = clusterer.fit(colors)\n",
    "\n",
    "# fit_colors = [\n",
    "#     desaturate(palette[col], sat) if col >= 0 else (0.5, 0.5, 0.5)\n",
    "#     for col, sat in zip(clusterer.labels_, clusterer.probabilities_)]\n",
    "\n",
    "fig = go.Figure(data=[go.Scatter3d(\n",
    "    x=Xs,\n",
    "    y=Zs,\n",
    "    z=Ys,\n",
    "    mode='markers',\n",
    "    marker=dict(\n",
    "        size=3,\n",
    "        color=clusterer.labels_,                # set color to an array/list of desired values\n",
    "        colorscale='Viridis',   # choose a colorscale\n",
    "        opacity=1.0\n",
    "    )\n",
    ")])\n",
    "\n",
    "fig.update_layout(margin=dict(l=0, r=0, b=0, t=0))\n",
    "fig.show()"
   ]
  },
  {
   "cell_type": "code",
   "execution_count": 23,
   "metadata": {},
   "outputs": [
    {
     "data": {
      "application/vnd.plotly.v1+json": {
       "config": {
        "plotlyServerURL": "https://plot.ly"
       },
       "data": [
        {
         "marker": {
          "color": [
           [
            70.2433628318584,
            133.81415929203538,
            154.88938053097345
           ],
           [
            229.69244935543279,
            192.4014732965009,
            216.22467771639043
           ]
          ],
          "opacity": 0.8,
          "size": 6
         },
         "mode": "markers",
         "type": "scatter3d",
         "x": [
          70.2433628318584,
          229.69244935543279
         ],
         "y": [
          154.88938053097345,
          216.22467771639043
         ],
         "z": [
          133.81415929203538,
          192.4014732965009
         ]
        }
       ],
       "layout": {
        "template": {
         "data": {
          "bar": [
           {
            "error_x": {
             "color": "#2a3f5f"
            },
            "error_y": {
             "color": "#2a3f5f"
            },
            "marker": {
             "line": {
              "color": "#E5ECF6",
              "width": 0.5
             }
            },
            "type": "bar"
           }
          ],
          "barpolar": [
           {
            "marker": {
             "line": {
              "color": "#E5ECF6",
              "width": 0.5
             }
            },
            "type": "barpolar"
           }
          ],
          "carpet": [
           {
            "aaxis": {
             "endlinecolor": "#2a3f5f",
             "gridcolor": "white",
             "linecolor": "white",
             "minorgridcolor": "white",
             "startlinecolor": "#2a3f5f"
            },
            "baxis": {
             "endlinecolor": "#2a3f5f",
             "gridcolor": "white",
             "linecolor": "white",
             "minorgridcolor": "white",
             "startlinecolor": "#2a3f5f"
            },
            "type": "carpet"
           }
          ],
          "choropleth": [
           {
            "colorbar": {
             "outlinewidth": 0,
             "ticks": ""
            },
            "type": "choropleth"
           }
          ],
          "contour": [
           {
            "colorbar": {
             "outlinewidth": 0,
             "ticks": ""
            },
            "colorscale": [
             [
              0,
              "#0d0887"
             ],
             [
              0.1111111111111111,
              "#46039f"
             ],
             [
              0.2222222222222222,
              "#7201a8"
             ],
             [
              0.3333333333333333,
              "#9c179e"
             ],
             [
              0.4444444444444444,
              "#bd3786"
             ],
             [
              0.5555555555555556,
              "#d8576b"
             ],
             [
              0.6666666666666666,
              "#ed7953"
             ],
             [
              0.7777777777777778,
              "#fb9f3a"
             ],
             [
              0.8888888888888888,
              "#fdca26"
             ],
             [
              1,
              "#f0f921"
             ]
            ],
            "type": "contour"
           }
          ],
          "contourcarpet": [
           {
            "colorbar": {
             "outlinewidth": 0,
             "ticks": ""
            },
            "type": "contourcarpet"
           }
          ],
          "heatmap": [
           {
            "colorbar": {
             "outlinewidth": 0,
             "ticks": ""
            },
            "colorscale": [
             [
              0,
              "#0d0887"
             ],
             [
              0.1111111111111111,
              "#46039f"
             ],
             [
              0.2222222222222222,
              "#7201a8"
             ],
             [
              0.3333333333333333,
              "#9c179e"
             ],
             [
              0.4444444444444444,
              "#bd3786"
             ],
             [
              0.5555555555555556,
              "#d8576b"
             ],
             [
              0.6666666666666666,
              "#ed7953"
             ],
             [
              0.7777777777777778,
              "#fb9f3a"
             ],
             [
              0.8888888888888888,
              "#fdca26"
             ],
             [
              1,
              "#f0f921"
             ]
            ],
            "type": "heatmap"
           }
          ],
          "heatmapgl": [
           {
            "colorbar": {
             "outlinewidth": 0,
             "ticks": ""
            },
            "colorscale": [
             [
              0,
              "#0d0887"
             ],
             [
              0.1111111111111111,
              "#46039f"
             ],
             [
              0.2222222222222222,
              "#7201a8"
             ],
             [
              0.3333333333333333,
              "#9c179e"
             ],
             [
              0.4444444444444444,
              "#bd3786"
             ],
             [
              0.5555555555555556,
              "#d8576b"
             ],
             [
              0.6666666666666666,
              "#ed7953"
             ],
             [
              0.7777777777777778,
              "#fb9f3a"
             ],
             [
              0.8888888888888888,
              "#fdca26"
             ],
             [
              1,
              "#f0f921"
             ]
            ],
            "type": "heatmapgl"
           }
          ],
          "histogram": [
           {
            "marker": {
             "colorbar": {
              "outlinewidth": 0,
              "ticks": ""
             }
            },
            "type": "histogram"
           }
          ],
          "histogram2d": [
           {
            "colorbar": {
             "outlinewidth": 0,
             "ticks": ""
            },
            "colorscale": [
             [
              0,
              "#0d0887"
             ],
             [
              0.1111111111111111,
              "#46039f"
             ],
             [
              0.2222222222222222,
              "#7201a8"
             ],
             [
              0.3333333333333333,
              "#9c179e"
             ],
             [
              0.4444444444444444,
              "#bd3786"
             ],
             [
              0.5555555555555556,
              "#d8576b"
             ],
             [
              0.6666666666666666,
              "#ed7953"
             ],
             [
              0.7777777777777778,
              "#fb9f3a"
             ],
             [
              0.8888888888888888,
              "#fdca26"
             ],
             [
              1,
              "#f0f921"
             ]
            ],
            "type": "histogram2d"
           }
          ],
          "histogram2dcontour": [
           {
            "colorbar": {
             "outlinewidth": 0,
             "ticks": ""
            },
            "colorscale": [
             [
              0,
              "#0d0887"
             ],
             [
              0.1111111111111111,
              "#46039f"
             ],
             [
              0.2222222222222222,
              "#7201a8"
             ],
             [
              0.3333333333333333,
              "#9c179e"
             ],
             [
              0.4444444444444444,
              "#bd3786"
             ],
             [
              0.5555555555555556,
              "#d8576b"
             ],
             [
              0.6666666666666666,
              "#ed7953"
             ],
             [
              0.7777777777777778,
              "#fb9f3a"
             ],
             [
              0.8888888888888888,
              "#fdca26"
             ],
             [
              1,
              "#f0f921"
             ]
            ],
            "type": "histogram2dcontour"
           }
          ],
          "mesh3d": [
           {
            "colorbar": {
             "outlinewidth": 0,
             "ticks": ""
            },
            "type": "mesh3d"
           }
          ],
          "parcoords": [
           {
            "line": {
             "colorbar": {
              "outlinewidth": 0,
              "ticks": ""
             }
            },
            "type": "parcoords"
           }
          ],
          "pie": [
           {
            "automargin": true,
            "type": "pie"
           }
          ],
          "scatter": [
           {
            "marker": {
             "colorbar": {
              "outlinewidth": 0,
              "ticks": ""
             }
            },
            "type": "scatter"
           }
          ],
          "scatter3d": [
           {
            "line": {
             "colorbar": {
              "outlinewidth": 0,
              "ticks": ""
             }
            },
            "marker": {
             "colorbar": {
              "outlinewidth": 0,
              "ticks": ""
             }
            },
            "type": "scatter3d"
           }
          ],
          "scattercarpet": [
           {
            "marker": {
             "colorbar": {
              "outlinewidth": 0,
              "ticks": ""
             }
            },
            "type": "scattercarpet"
           }
          ],
          "scattergeo": [
           {
            "marker": {
             "colorbar": {
              "outlinewidth": 0,
              "ticks": ""
             }
            },
            "type": "scattergeo"
           }
          ],
          "scattergl": [
           {
            "marker": {
             "colorbar": {
              "outlinewidth": 0,
              "ticks": ""
             }
            },
            "type": "scattergl"
           }
          ],
          "scattermapbox": [
           {
            "marker": {
             "colorbar": {
              "outlinewidth": 0,
              "ticks": ""
             }
            },
            "type": "scattermapbox"
           }
          ],
          "scatterpolar": [
           {
            "marker": {
             "colorbar": {
              "outlinewidth": 0,
              "ticks": ""
             }
            },
            "type": "scatterpolar"
           }
          ],
          "scatterpolargl": [
           {
            "marker": {
             "colorbar": {
              "outlinewidth": 0,
              "ticks": ""
             }
            },
            "type": "scatterpolargl"
           }
          ],
          "scatterternary": [
           {
            "marker": {
             "colorbar": {
              "outlinewidth": 0,
              "ticks": ""
             }
            },
            "type": "scatterternary"
           }
          ],
          "surface": [
           {
            "colorbar": {
             "outlinewidth": 0,
             "ticks": ""
            },
            "colorscale": [
             [
              0,
              "#0d0887"
             ],
             [
              0.1111111111111111,
              "#46039f"
             ],
             [
              0.2222222222222222,
              "#7201a8"
             ],
             [
              0.3333333333333333,
              "#9c179e"
             ],
             [
              0.4444444444444444,
              "#bd3786"
             ],
             [
              0.5555555555555556,
              "#d8576b"
             ],
             [
              0.6666666666666666,
              "#ed7953"
             ],
             [
              0.7777777777777778,
              "#fb9f3a"
             ],
             [
              0.8888888888888888,
              "#fdca26"
             ],
             [
              1,
              "#f0f921"
             ]
            ],
            "type": "surface"
           }
          ],
          "table": [
           {
            "cells": {
             "fill": {
              "color": "#EBF0F8"
             },
             "line": {
              "color": "white"
             }
            },
            "header": {
             "fill": {
              "color": "#C8D4E3"
             },
             "line": {
              "color": "white"
             }
            },
            "type": "table"
           }
          ]
         },
         "layout": {
          "annotationdefaults": {
           "arrowcolor": "#2a3f5f",
           "arrowhead": 0,
           "arrowwidth": 1
          },
          "coloraxis": {
           "colorbar": {
            "outlinewidth": 0,
            "ticks": ""
           }
          },
          "colorscale": {
           "diverging": [
            [
             0,
             "#8e0152"
            ],
            [
             0.1,
             "#c51b7d"
            ],
            [
             0.2,
             "#de77ae"
            ],
            [
             0.3,
             "#f1b6da"
            ],
            [
             0.4,
             "#fde0ef"
            ],
            [
             0.5,
             "#f7f7f7"
            ],
            [
             0.6,
             "#e6f5d0"
            ],
            [
             0.7,
             "#b8e186"
            ],
            [
             0.8,
             "#7fbc41"
            ],
            [
             0.9,
             "#4d9221"
            ],
            [
             1,
             "#276419"
            ]
           ],
           "sequential": [
            [
             0,
             "#0d0887"
            ],
            [
             0.1111111111111111,
             "#46039f"
            ],
            [
             0.2222222222222222,
             "#7201a8"
            ],
            [
             0.3333333333333333,
             "#9c179e"
            ],
            [
             0.4444444444444444,
             "#bd3786"
            ],
            [
             0.5555555555555556,
             "#d8576b"
            ],
            [
             0.6666666666666666,
             "#ed7953"
            ],
            [
             0.7777777777777778,
             "#fb9f3a"
            ],
            [
             0.8888888888888888,
             "#fdca26"
            ],
            [
             1,
             "#f0f921"
            ]
           ],
           "sequentialminus": [
            [
             0,
             "#0d0887"
            ],
            [
             0.1111111111111111,
             "#46039f"
            ],
            [
             0.2222222222222222,
             "#7201a8"
            ],
            [
             0.3333333333333333,
             "#9c179e"
            ],
            [
             0.4444444444444444,
             "#bd3786"
            ],
            [
             0.5555555555555556,
             "#d8576b"
            ],
            [
             0.6666666666666666,
             "#ed7953"
            ],
            [
             0.7777777777777778,
             "#fb9f3a"
            ],
            [
             0.8888888888888888,
             "#fdca26"
            ],
            [
             1,
             "#f0f921"
            ]
           ]
          },
          "colorway": [
           "#636efa",
           "#EF553B",
           "#00cc96",
           "#ab63fa",
           "#FFA15A",
           "#19d3f3",
           "#FF6692",
           "#B6E880",
           "#FF97FF",
           "#FECB52"
          ],
          "font": {
           "color": "#2a3f5f"
          },
          "geo": {
           "bgcolor": "white",
           "lakecolor": "white",
           "landcolor": "#E5ECF6",
           "showlakes": true,
           "showland": true,
           "subunitcolor": "white"
          },
          "hoverlabel": {
           "align": "left"
          },
          "hovermode": "closest",
          "mapbox": {
           "style": "light"
          },
          "paper_bgcolor": "white",
          "plot_bgcolor": "#E5ECF6",
          "polar": {
           "angularaxis": {
            "gridcolor": "white",
            "linecolor": "white",
            "ticks": ""
           },
           "bgcolor": "#E5ECF6",
           "radialaxis": {
            "gridcolor": "white",
            "linecolor": "white",
            "ticks": ""
           }
          },
          "scene": {
           "xaxis": {
            "backgroundcolor": "#E5ECF6",
            "gridcolor": "white",
            "gridwidth": 2,
            "linecolor": "white",
            "showbackground": true,
            "ticks": "",
            "zerolinecolor": "white"
           },
           "yaxis": {
            "backgroundcolor": "#E5ECF6",
            "gridcolor": "white",
            "gridwidth": 2,
            "linecolor": "white",
            "showbackground": true,
            "ticks": "",
            "zerolinecolor": "white"
           },
           "zaxis": {
            "backgroundcolor": "#E5ECF6",
            "gridcolor": "white",
            "gridwidth": 2,
            "linecolor": "white",
            "showbackground": true,
            "ticks": "",
            "zerolinecolor": "white"
           }
          },
          "shapedefaults": {
           "line": {
            "color": "#2a3f5f"
           }
          },
          "ternary": {
           "aaxis": {
            "gridcolor": "white",
            "linecolor": "white",
            "ticks": ""
           },
           "baxis": {
            "gridcolor": "white",
            "linecolor": "white",
            "ticks": ""
           },
           "bgcolor": "#E5ECF6",
           "caxis": {
            "gridcolor": "white",
            "linecolor": "white",
            "ticks": ""
           }
          },
          "title": {
           "x": 0.05
          },
          "xaxis": {
           "automargin": true,
           "gridcolor": "white",
           "linecolor": "white",
           "ticks": "",
           "title": {
            "standoff": 15
           },
           "zerolinecolor": "white",
           "zerolinewidth": 2
          },
          "yaxis": {
           "automargin": true,
           "gridcolor": "white",
           "linecolor": "white",
           "ticks": "",
           "title": {
            "standoff": 15
           },
           "zerolinecolor": "white",
           "zerolinewidth": 2
          }
         }
        }
       }
      },
      "text/html": [
       "<div>\n",
       "        \n",
       "        \n",
       "            <div id=\"8d6edfd8-300f-455f-9269-797a22dacd6d\" class=\"plotly-graph-div\" style=\"height:525px; width:100%;\"></div>\n",
       "            <script type=\"text/javascript\">\n",
       "                require([\"plotly\"], function(Plotly) {\n",
       "                    window.PLOTLYENV=window.PLOTLYENV || {};\n",
       "                    \n",
       "                if (document.getElementById(\"8d6edfd8-300f-455f-9269-797a22dacd6d\")) {\n",
       "                    Plotly.newPlot(\n",
       "                        '8d6edfd8-300f-455f-9269-797a22dacd6d',\n",
       "                        [{\"marker\": {\"color\": [[70.2433628318584, 133.81415929203538, 154.88938053097345], [229.69244935543279, 192.4014732965009, 216.22467771639043]], \"opacity\": 0.8, \"size\": 6}, \"mode\": \"markers\", \"type\": \"scatter3d\", \"x\": [70.2433628318584, 229.69244935543279], \"y\": [154.88938053097345, 216.22467771639043], \"z\": [133.81415929203538, 192.4014732965009]}],\n",
       "                        {\"template\": {\"data\": {\"bar\": [{\"error_x\": {\"color\": \"#2a3f5f\"}, \"error_y\": {\"color\": \"#2a3f5f\"}, \"marker\": {\"line\": {\"color\": \"#E5ECF6\", \"width\": 0.5}}, \"type\": \"bar\"}], \"barpolar\": [{\"marker\": {\"line\": {\"color\": \"#E5ECF6\", \"width\": 0.5}}, \"type\": \"barpolar\"}], \"carpet\": [{\"aaxis\": {\"endlinecolor\": \"#2a3f5f\", \"gridcolor\": \"white\", \"linecolor\": \"white\", \"minorgridcolor\": \"white\", \"startlinecolor\": \"#2a3f5f\"}, \"baxis\": {\"endlinecolor\": \"#2a3f5f\", \"gridcolor\": \"white\", \"linecolor\": \"white\", \"minorgridcolor\": \"white\", \"startlinecolor\": \"#2a3f5f\"}, \"type\": \"carpet\"}], \"choropleth\": [{\"colorbar\": {\"outlinewidth\": 0, \"ticks\": \"\"}, \"type\": \"choropleth\"}], \"contour\": [{\"colorbar\": {\"outlinewidth\": 0, \"ticks\": \"\"}, \"colorscale\": [[0.0, \"#0d0887\"], [0.1111111111111111, \"#46039f\"], [0.2222222222222222, \"#7201a8\"], [0.3333333333333333, \"#9c179e\"], [0.4444444444444444, \"#bd3786\"], [0.5555555555555556, \"#d8576b\"], [0.6666666666666666, \"#ed7953\"], [0.7777777777777778, \"#fb9f3a\"], [0.8888888888888888, \"#fdca26\"], [1.0, \"#f0f921\"]], \"type\": \"contour\"}], \"contourcarpet\": [{\"colorbar\": {\"outlinewidth\": 0, \"ticks\": \"\"}, \"type\": \"contourcarpet\"}], \"heatmap\": [{\"colorbar\": {\"outlinewidth\": 0, \"ticks\": \"\"}, \"colorscale\": [[0.0, \"#0d0887\"], [0.1111111111111111, \"#46039f\"], [0.2222222222222222, \"#7201a8\"], [0.3333333333333333, \"#9c179e\"], [0.4444444444444444, \"#bd3786\"], [0.5555555555555556, \"#d8576b\"], [0.6666666666666666, \"#ed7953\"], [0.7777777777777778, \"#fb9f3a\"], [0.8888888888888888, \"#fdca26\"], [1.0, \"#f0f921\"]], \"type\": \"heatmap\"}], \"heatmapgl\": [{\"colorbar\": {\"outlinewidth\": 0, \"ticks\": \"\"}, \"colorscale\": [[0.0, \"#0d0887\"], [0.1111111111111111, \"#46039f\"], [0.2222222222222222, \"#7201a8\"], [0.3333333333333333, \"#9c179e\"], [0.4444444444444444, \"#bd3786\"], [0.5555555555555556, \"#d8576b\"], [0.6666666666666666, \"#ed7953\"], [0.7777777777777778, \"#fb9f3a\"], [0.8888888888888888, \"#fdca26\"], [1.0, \"#f0f921\"]], \"type\": \"heatmapgl\"}], \"histogram\": [{\"marker\": {\"colorbar\": {\"outlinewidth\": 0, \"ticks\": \"\"}}, \"type\": \"histogram\"}], \"histogram2d\": [{\"colorbar\": {\"outlinewidth\": 0, \"ticks\": \"\"}, \"colorscale\": [[0.0, \"#0d0887\"], [0.1111111111111111, \"#46039f\"], [0.2222222222222222, \"#7201a8\"], [0.3333333333333333, \"#9c179e\"], [0.4444444444444444, \"#bd3786\"], [0.5555555555555556, \"#d8576b\"], [0.6666666666666666, \"#ed7953\"], [0.7777777777777778, \"#fb9f3a\"], [0.8888888888888888, \"#fdca26\"], [1.0, \"#f0f921\"]], \"type\": \"histogram2d\"}], \"histogram2dcontour\": [{\"colorbar\": {\"outlinewidth\": 0, \"ticks\": \"\"}, \"colorscale\": [[0.0, \"#0d0887\"], [0.1111111111111111, \"#46039f\"], [0.2222222222222222, \"#7201a8\"], [0.3333333333333333, \"#9c179e\"], [0.4444444444444444, \"#bd3786\"], [0.5555555555555556, \"#d8576b\"], [0.6666666666666666, \"#ed7953\"], [0.7777777777777778, \"#fb9f3a\"], [0.8888888888888888, \"#fdca26\"], [1.0, \"#f0f921\"]], \"type\": \"histogram2dcontour\"}], \"mesh3d\": [{\"colorbar\": {\"outlinewidth\": 0, \"ticks\": \"\"}, \"type\": \"mesh3d\"}], \"parcoords\": [{\"line\": {\"colorbar\": {\"outlinewidth\": 0, \"ticks\": \"\"}}, \"type\": \"parcoords\"}], \"pie\": [{\"automargin\": true, \"type\": \"pie\"}], \"scatter\": [{\"marker\": {\"colorbar\": {\"outlinewidth\": 0, \"ticks\": \"\"}}, \"type\": \"scatter\"}], \"scatter3d\": [{\"line\": {\"colorbar\": {\"outlinewidth\": 0, \"ticks\": \"\"}}, \"marker\": {\"colorbar\": {\"outlinewidth\": 0, \"ticks\": \"\"}}, \"type\": \"scatter3d\"}], \"scattercarpet\": [{\"marker\": {\"colorbar\": {\"outlinewidth\": 0, \"ticks\": \"\"}}, \"type\": \"scattercarpet\"}], \"scattergeo\": [{\"marker\": {\"colorbar\": {\"outlinewidth\": 0, \"ticks\": \"\"}}, \"type\": \"scattergeo\"}], \"scattergl\": [{\"marker\": {\"colorbar\": {\"outlinewidth\": 0, \"ticks\": \"\"}}, \"type\": \"scattergl\"}], \"scattermapbox\": [{\"marker\": {\"colorbar\": {\"outlinewidth\": 0, \"ticks\": \"\"}}, \"type\": \"scattermapbox\"}], \"scatterpolar\": [{\"marker\": {\"colorbar\": {\"outlinewidth\": 0, \"ticks\": \"\"}}, \"type\": \"scatterpolar\"}], \"scatterpolargl\": [{\"marker\": {\"colorbar\": {\"outlinewidth\": 0, \"ticks\": \"\"}}, \"type\": \"scatterpolargl\"}], \"scatterternary\": [{\"marker\": {\"colorbar\": {\"outlinewidth\": 0, \"ticks\": \"\"}}, \"type\": \"scatterternary\"}], \"surface\": [{\"colorbar\": {\"outlinewidth\": 0, \"ticks\": \"\"}, \"colorscale\": [[0.0, \"#0d0887\"], [0.1111111111111111, \"#46039f\"], [0.2222222222222222, \"#7201a8\"], [0.3333333333333333, \"#9c179e\"], [0.4444444444444444, \"#bd3786\"], [0.5555555555555556, \"#d8576b\"], [0.6666666666666666, \"#ed7953\"], [0.7777777777777778, \"#fb9f3a\"], [0.8888888888888888, \"#fdca26\"], [1.0, \"#f0f921\"]], \"type\": \"surface\"}], \"table\": [{\"cells\": {\"fill\": {\"color\": \"#EBF0F8\"}, \"line\": {\"color\": \"white\"}}, \"header\": {\"fill\": {\"color\": \"#C8D4E3\"}, \"line\": {\"color\": \"white\"}}, \"type\": \"table\"}]}, \"layout\": {\"annotationdefaults\": {\"arrowcolor\": \"#2a3f5f\", \"arrowhead\": 0, \"arrowwidth\": 1}, \"coloraxis\": {\"colorbar\": {\"outlinewidth\": 0, \"ticks\": \"\"}}, \"colorscale\": {\"diverging\": [[0, \"#8e0152\"], [0.1, \"#c51b7d\"], [0.2, \"#de77ae\"], [0.3, \"#f1b6da\"], [0.4, \"#fde0ef\"], [0.5, \"#f7f7f7\"], [0.6, \"#e6f5d0\"], [0.7, \"#b8e186\"], [0.8, \"#7fbc41\"], [0.9, \"#4d9221\"], [1, \"#276419\"]], \"sequential\": [[0.0, \"#0d0887\"], [0.1111111111111111, \"#46039f\"], [0.2222222222222222, \"#7201a8\"], [0.3333333333333333, \"#9c179e\"], [0.4444444444444444, \"#bd3786\"], [0.5555555555555556, \"#d8576b\"], [0.6666666666666666, \"#ed7953\"], [0.7777777777777778, \"#fb9f3a\"], [0.8888888888888888, \"#fdca26\"], [1.0, \"#f0f921\"]], \"sequentialminus\": [[0.0, \"#0d0887\"], [0.1111111111111111, \"#46039f\"], [0.2222222222222222, \"#7201a8\"], [0.3333333333333333, \"#9c179e\"], [0.4444444444444444, \"#bd3786\"], [0.5555555555555556, \"#d8576b\"], [0.6666666666666666, \"#ed7953\"], [0.7777777777777778, \"#fb9f3a\"], [0.8888888888888888, \"#fdca26\"], [1.0, \"#f0f921\"]]}, \"colorway\": [\"#636efa\", \"#EF553B\", \"#00cc96\", \"#ab63fa\", \"#FFA15A\", \"#19d3f3\", \"#FF6692\", \"#B6E880\", \"#FF97FF\", \"#FECB52\"], \"font\": {\"color\": \"#2a3f5f\"}, \"geo\": {\"bgcolor\": \"white\", \"lakecolor\": \"white\", \"landcolor\": \"#E5ECF6\", \"showlakes\": true, \"showland\": true, \"subunitcolor\": \"white\"}, \"hoverlabel\": {\"align\": \"left\"}, \"hovermode\": \"closest\", \"mapbox\": {\"style\": \"light\"}, \"paper_bgcolor\": \"white\", \"plot_bgcolor\": \"#E5ECF6\", \"polar\": {\"angularaxis\": {\"gridcolor\": \"white\", \"linecolor\": \"white\", \"ticks\": \"\"}, \"bgcolor\": \"#E5ECF6\", \"radialaxis\": {\"gridcolor\": \"white\", \"linecolor\": \"white\", \"ticks\": \"\"}}, \"scene\": {\"xaxis\": {\"backgroundcolor\": \"#E5ECF6\", \"gridcolor\": \"white\", \"gridwidth\": 2, \"linecolor\": \"white\", \"showbackground\": true, \"ticks\": \"\", \"zerolinecolor\": \"white\"}, \"yaxis\": {\"backgroundcolor\": \"#E5ECF6\", \"gridcolor\": \"white\", \"gridwidth\": 2, \"linecolor\": \"white\", \"showbackground\": true, \"ticks\": \"\", \"zerolinecolor\": \"white\"}, \"zaxis\": {\"backgroundcolor\": \"#E5ECF6\", \"gridcolor\": \"white\", \"gridwidth\": 2, \"linecolor\": \"white\", \"showbackground\": true, \"ticks\": \"\", \"zerolinecolor\": \"white\"}}, \"shapedefaults\": {\"line\": {\"color\": \"#2a3f5f\"}}, \"ternary\": {\"aaxis\": {\"gridcolor\": \"white\", \"linecolor\": \"white\", \"ticks\": \"\"}, \"baxis\": {\"gridcolor\": \"white\", \"linecolor\": \"white\", \"ticks\": \"\"}, \"bgcolor\": \"#E5ECF6\", \"caxis\": {\"gridcolor\": \"white\", \"linecolor\": \"white\", \"ticks\": \"\"}}, \"title\": {\"x\": 0.05}, \"xaxis\": {\"automargin\": true, \"gridcolor\": \"white\", \"linecolor\": \"white\", \"ticks\": \"\", \"title\": {\"standoff\": 15}, \"zerolinecolor\": \"white\", \"zerolinewidth\": 2}, \"yaxis\": {\"automargin\": true, \"gridcolor\": \"white\", \"linecolor\": \"white\", \"ticks\": \"\", \"title\": {\"standoff\": 15}, \"zerolinecolor\": \"white\", \"zerolinewidth\": 2}}}},\n",
       "                        {\"responsive\": true}\n",
       "                    ).then(function(){\n",
       "                            \n",
       "var gd = document.getElementById('8d6edfd8-300f-455f-9269-797a22dacd6d');\n",
       "var x = new MutationObserver(function (mutations, observer) {{\n",
       "        var display = window.getComputedStyle(gd).display;\n",
       "        if (!display || display === 'none') {{\n",
       "            console.log([gd, 'removed!']);\n",
       "            Plotly.purge(gd);\n",
       "            observer.disconnect();\n",
       "        }}\n",
       "}});\n",
       "\n",
       "// Listen for the removal of the full notebook cells\n",
       "var notebookContainer = gd.closest('#notebook-container');\n",
       "if (notebookContainer) {{\n",
       "    x.observe(notebookContainer, {childList: true});\n",
       "}}\n",
       "\n",
       "// Listen for the clearing of the current output cell\n",
       "var outputEl = gd.closest('.output');\n",
       "if (outputEl) {{\n",
       "    x.observe(outputEl, {childList: true});\n",
       "}}\n",
       "\n",
       "                        })\n",
       "                };\n",
       "                });\n",
       "            </script>\n",
       "        </div>"
      ]
     },
     "metadata": {},
     "output_type": "display_data"
    }
   ],
   "source": [
    "cluster_n=clusterer.labels_.max()+1\n",
    "clusters = np.array([(0,0,0)]*(cluster_n), dtype=float)\n",
    "cluster_denoms = np.zeros(cluster_n)\n",
    "for i in range(len(colors)):\n",
    "    cluster_i = clusterer.labels_[i]\n",
    "    if cluster_i < 0:\n",
    "        continue\n",
    "    clusters[cluster_i] += colors[i]\n",
    "    cluster_denoms[cluster_i] += 1\n",
    "for i in range(cluster_n):\n",
    "    clusters[i] /= cluster_denoms[i]\n",
    "    \n",
    "cXs = clusters[:,0]\n",
    "cYs = clusters[:,1]\n",
    "cZs = clusters[:,2]\n",
    "    \n",
    "fig = go.Figure(data=[go.Scatter3d(\n",
    "    x=cXs,\n",
    "    y=cZs,\n",
    "    z=cYs,\n",
    "    mode='markers',\n",
    "    marker=dict(\n",
    "        size=6,\n",
    "        color=clusters,                # set color to an array/list of desired values\n",
    "        opacity=0.8\n",
    "    )\n",
    ")])\n",
    "fig.show()\n"
   ]
  },
  {
   "cell_type": "code",
   "execution_count": 24,
   "metadata": {},
   "outputs": [
    {
     "data": {
      "application/vnd.plotly.v1+json": {
       "config": {
        "plotlyServerURL": "https://plot.ly"
       },
       "data": [
        {
         "marker": {
          "color": [
           "rgba(229.69244935543279,192.4014732965009,216.22467771639043,1.0)",
           "rgba(229.69244935543279,192.4014732965009,216.22467771639043,1.0)",
           "rgba(229.69244935543279,192.4014732965009,216.22467771639043,1.0)",
           "rgba(229.69244935543279,192.4014732965009,216.22467771639043,1.0)",
           "rgba(229.69244935543279,192.4014732965009,216.22467771639043,1.0)",
           "rgba(229.69244935543279,192.4014732965009,216.22467771639043,1.0)",
           "rgba(229.69244935543279,192.4014732965009,216.22467771639043,1.0)",
           "rgba(229.69244935543279,192.4014732965009,216.22467771639043,0.9832624162720306)",
           "rgba(229.69244935543279,192.4014732965009,216.22467771639043,0.0)",
           "rgba(229.69244935543279,192.4014732965009,216.22467771639043,0.9915252709180933)",
           "rgba(70.2433628318584,133.81415929203538,154.88938053097345,1.0)",
           "rgba(70.2433628318584,133.81415929203538,154.88938053097345,1.0)",
           "rgba(70.2433628318584,133.81415929203538,154.88938053097345,1.0)",
           "rgba(229.69244935543279,192.4014732965009,216.22467771639043,1.0)",
           "rgba(229.69244935543279,192.4014732965009,216.22467771639043,1.0)",
           "rgba(229.69244935543279,192.4014732965009,216.22467771639043,1.0)",
           "rgba(229.69244935543279,192.4014732965009,216.22467771639043,1.0)",
           "rgba(229.69244935543279,192.4014732965009,216.22467771639043,1.0)",
           "rgba(229.69244935543279,192.4014732965009,216.22467771639043,1.0)",
           "rgba(229.69244935543279,192.4014732965009,216.22467771639043,1.0)",
           "rgba(229.69244935543279,192.4014732965009,216.22467771639043,1.0)",
           "rgba(229.69244935543279,192.4014732965009,216.22467771639043,1.0)",
           "rgba(70.2433628318584,133.81415929203538,154.88938053097345,0.9775252199076787)",
           "rgba(70.2433628318584,133.81415929203538,154.88938053097345,1.0)",
           "rgba(229.69244935543279,192.4014732965009,216.22467771639043,1.0)",
           "rgba(229.69244935543279,192.4014732965009,216.22467771639043,1.0)",
           "rgba(229.69244935543279,192.4014732965009,216.22467771639043,1.0)",
           "rgba(229.69244935543279,192.4014732965009,216.22467771639043,1.0)",
           "rgba(229.69244935543279,192.4014732965009,216.22467771639043,1.0)",
           "rgba(229.69244935543279,192.4014732965009,216.22467771639043,1.0)",
           "rgba(229.69244935543279,192.4014732965009,216.22467771639043,1.0)",
           "rgba(229.69244935543279,192.4014732965009,216.22467771639043,0.9832624162720306)",
           "rgba(229.69244935543279,192.4014732965009,216.22467771639043,0.0)",
           "rgba(229.69244935543279,192.4014732965009,216.22467771639043,0.0)",
           "rgba(70.2433628318584,133.81415929203538,154.88938053097345,1.0)",
           "rgba(70.2433628318584,133.81415929203538,154.88938053097345,1.0)",
           "rgba(229.69244935543279,192.4014732965009,216.22467771639043,1.0)",
           "rgba(229.69244935543279,192.4014732965009,216.22467771639043,1.0)",
           "rgba(229.69244935543279,192.4014732965009,216.22467771639043,1.0)",
           "rgba(229.69244935543279,192.4014732965009,216.22467771639043,0.0)",
           "rgba(229.69244935543279,192.4014732965009,216.22467771639043,0.0)",
           "rgba(229.69244935543279,192.4014732965009,216.22467771639043,1.0)",
           "rgba(229.69244935543279,192.4014732965009,216.22467771639043,0.9732186144668191)",
           "rgba(229.69244935543279,192.4014732965009,216.22467771639043,0.9673380856182342)",
           "rgba(70.2433628318584,133.81415929203538,154.88938053097345,1.0)",
           "rgba(70.2433628318584,133.81415929203538,154.88938053097345,1.0)",
           "rgba(70.2433628318584,133.81415929203538,154.88938053097345,1.0)",
           "rgba(70.2433628318584,133.81415929203538,154.88938053097345,1.0)",
           "rgba(70.2433628318584,133.81415929203538,154.88938053097345,1.0)",
           "rgba(70.2433628318584,133.81415929203538,154.88938053097345,0.8573463331948968)",
           "rgba(70.2433628318584,133.81415929203538,154.88938053097345,0.7782247765375383)",
           "rgba(229.69244935543279,192.4014732965009,216.22467771639043,1.0)",
           "rgba(229.69244935543279,192.4014732965009,216.22467771639043,1.0)",
           "rgba(229.69244935543279,192.4014732965009,216.22467771639043,1.0)",
           "rgba(229.69244935543279,192.4014732965009,216.22467771639043,1.0)",
           "rgba(229.69244935543279,192.4014732965009,216.22467771639043,1.0)",
           "rgba(229.69244935543279,192.4014732965009,216.22467771639043,1.0)",
           "rgba(229.69244935543279,192.4014732965009,216.22467771639043,0.9832624162720306)",
           "rgba(229.69244935543279,192.4014732965009,216.22467771639043,0.0)",
           "rgba(229.69244935543279,192.4014732965009,216.22467771639043,1.0)",
           "rgba(229.69244935543279,192.4014732965009,216.22467771639043,1.0)",
           "rgba(229.69244935543279,192.4014732965009,216.22467771639043,1.0)",
           "rgba(70.2433628318584,133.81415929203538,154.88938053097345,0.7809795631219709)",
           "rgba(70.2433628318584,133.81415929203538,154.88938053097345,1.0)",
           "rgba(229.69244935543279,192.4014732965009,216.22467771639043,0.0)",
           "rgba(70.2433628318584,133.81415929203538,154.88938053097345,0.9007334537569819)",
           "rgba(70.2433628318584,133.81415929203538,154.88938053097345,0.9320337272260424)",
           "rgba(229.69244935543279,192.4014732965009,216.22467771639043,1.0)",
           "rgba(229.69244935543279,192.4014732965009,216.22467771639043,1.0)",
           "rgba(229.69244935543279,192.4014732965009,216.22467771639043,1.0)",
           "rgba(229.69244935543279,192.4014732965009,216.22467771639043,1.0)",
           "rgba(229.69244935543279,192.4014732965009,216.22467771639043,1.0)",
           "rgba(229.69244935543279,192.4014732965009,216.22467771639043,0.0)",
           "rgba(229.69244935543279,192.4014732965009,216.22467771639043,1.0)",
           "rgba(229.69244935543279,192.4014732965009,216.22467771639043,0.0)",
           "rgba(229.69244935543279,192.4014732965009,216.22467771639043,0.0)",
           "rgba(70.2433628318584,133.81415929203538,154.88938053097345,1.0)",
           "rgba(70.2433628318584,133.81415929203538,154.88938053097345,1.0)",
           "rgba(70.2433628318584,133.81415929203538,154.88938053097345,1.0)",
           "rgba(70.2433628318584,133.81415929203538,154.88938053097345,0.9830015945213216)",
           "rgba(70.2433628318584,133.81415929203538,154.88938053097345,0.8610338613230188)",
           "rgba(229.69244935543279,192.4014732965009,216.22467771639043,1.0)",
           "rgba(229.69244935543279,192.4014732965009,216.22467771639043,1.0)",
           "rgba(229.69244935543279,192.4014732965009,216.22467771639043,1.0)",
           "rgba(229.69244935543279,192.4014732965009,216.22467771639043,0.0)",
           "rgba(229.69244935543279,192.4014732965009,216.22467771639043,1.0)",
           "rgba(229.69244935543279,192.4014732965009,216.22467771639043,1.0)",
           "rgba(229.69244935543279,192.4014732965009,216.22467771639043,1.0)",
           "rgba(229.69244935543279,192.4014732965009,216.22467771639043,1.0)",
           "rgba(229.69244935543279,192.4014732965009,216.22467771639043,1.0)",
           "rgba(229.69244935543279,192.4014732965009,216.22467771639043,1.0)",
           "rgba(229.69244935543279,192.4014732965009,216.22467771639043,1.0)",
           "rgba(70.2433628318584,133.81415929203538,154.88938053097345,0.5876916930707952)",
           "rgba(229.69244935543279,192.4014732965009,216.22467771639043,1.0)",
           "rgba(229.69244935543279,192.4014732965009,216.22467771639043,1.0)",
           "rgba(229.69244935543279,192.4014732965009,216.22467771639043,1.0)",
           "rgba(229.69244935543279,192.4014732965009,216.22467771639043,1.0)",
           "rgba(229.69244935543279,192.4014732965009,216.22467771639043,1.0)",
           "rgba(229.69244935543279,192.4014732965009,216.22467771639043,1.0)",
           "rgba(229.69244935543279,192.4014732965009,216.22467771639043,1.0)",
           "rgba(229.69244935543279,192.4014732965009,216.22467771639043,1.0)",
           "rgba(229.69244935543279,192.4014732965009,216.22467771639043,0.0)",
           "rgba(229.69244935543279,192.4014732965009,216.22467771639043,0.9812287793146774)",
           "rgba(229.69244935543279,192.4014732965009,216.22467771639043,1.0)",
           "rgba(229.69244935543279,192.4014732965009,216.22467771639043,0.0)",
           "rgba(229.69244935543279,192.4014732965009,216.22467771639043,0.9634764411181216)",
           "rgba(229.69244935543279,192.4014732965009,216.22467771639043,0.0)",
           "rgba(229.69244935543279,192.4014732965009,216.22467771639043,0.0)",
           "rgba(70.2433628318584,133.81415929203538,154.88938053097345,1.0)",
           "rgba(70.2433628318584,133.81415929203538,154.88938053097345,1.0)",
           "rgba(70.2433628318584,133.81415929203538,154.88938053097345,0.9367769320431429)",
           "rgba(70.2433628318584,133.81415929203538,154.88938053097345,0.8573463331948968)",
           "rgba(229.69244935543279,192.4014732965009,216.22467771639043,1.0)",
           "rgba(229.69244935543279,192.4014732965009,216.22467771639043,1.0)",
           "rgba(229.69244935543279,192.4014732965009,216.22467771639043,1.0)",
           "rgba(229.69244935543279,192.4014732965009,216.22467771639043,1.0)",
           "rgba(229.69244935543279,192.4014732965009,216.22467771639043,1.0)",
           "rgba(229.69244935543279,192.4014732965009,216.22467771639043,1.0)",
           "rgba(229.69244935543279,192.4014732965009,216.22467771639043,1.0)",
           "rgba(229.69244935543279,192.4014732965009,216.22467771639043,1.0)",
           "rgba(229.69244935543279,192.4014732965009,216.22467771639043,0.9832624162720306)",
           "rgba(229.69244935543279,192.4014732965009,216.22467771639043,0.0)",
           "rgba(229.69244935543279,192.4014732965009,216.22467771639043,0.0)",
           "rgba(229.69244935543279,192.4014732965009,216.22467771639043,0.9466540266400636)",
           "rgba(229.69244935543279,192.4014732965009,216.22467771639043,1.0)",
           "rgba(229.69244935543279,192.4014732965009,216.22467771639043,1.0)",
           "rgba(70.2433628318584,133.81415929203538,154.88938053097345,1.0)",
           "rgba(229.69244935543279,192.4014732965009,216.22467771639043,1.0)",
           "rgba(229.69244935543279,192.4014732965009,216.22467771639043,1.0)",
           "rgba(70.2433628318584,133.81415929203538,154.88938053097345,1.0)",
           "rgba(229.69244935543279,192.4014732965009,216.22467771639043,1.0)",
           "rgba(229.69244935543279,192.4014732965009,216.22467771639043,1.0)",
           "rgba(229.69244935543279,192.4014732965009,216.22467771639043,1.0)",
           "rgba(229.69244935543279,192.4014732965009,216.22467771639043,1.0)",
           "rgba(229.69244935543279,192.4014732965009,216.22467771639043,0.957769719006437)",
           "rgba(229.69244935543279,192.4014732965009,216.22467771639043,1.0)",
           "rgba(229.69244935543279,192.4014732965009,216.22467771639043,0.0)",
           "rgba(229.69244935543279,192.4014732965009,216.22467771639043,1.0)",
           "rgba(70.2433628318584,133.81415929203538,154.88938053097345,1.0)",
           "rgba(229.69244935543279,192.4014732965009,216.22467771639043,1.0)",
           "rgba(70.2433628318584,133.81415929203538,154.88938053097345,1.0)",
           "rgba(70.2433628318584,133.81415929203538,154.88938053097345,0.726365859579861)",
           "rgba(229.69244935543279,192.4014732965009,216.22467771639043,1.0)",
           "rgba(229.69244935543279,192.4014732965009,216.22467771639043,1.0)",
           "rgba(229.69244935543279,192.4014732965009,216.22467771639043,1.0)",
           "rgba(229.69244935543279,192.4014732965009,216.22467771639043,1.0)",
           "rgba(229.69244935543279,192.4014732965009,216.22467771639043,1.0)",
           "rgba(229.69244935543279,192.4014732965009,216.22467771639043,1.0)",
           "rgba(229.69244935543279,192.4014732965009,216.22467771639043,1.0)",
           "rgba(229.69244935543279,192.4014732965009,216.22467771639043,1.0)",
           "rgba(229.69244935543279,192.4014732965009,216.22467771639043,1.0)",
           "rgba(229.69244935543279,192.4014732965009,216.22467771639043,1.0)",
           "rgba(229.69244935543279,192.4014732965009,216.22467771639043,1.0)",
           "rgba(229.69244935543279,192.4014732965009,216.22467771639043,1.0)",
           "rgba(229.69244935543279,192.4014732965009,216.22467771639043,0.0)",
           "rgba(70.2433628318584,133.81415929203538,154.88938053097345,1.0)",
           "rgba(70.2433628318584,133.81415929203538,154.88938053097345,0.591264319856153)",
           "rgba(229.69244935543279,192.4014732965009,216.22467771639043,1.0)",
           "rgba(229.69244935543279,192.4014732965009,216.22467771639043,1.0)",
           "rgba(229.69244935543279,192.4014732965009,216.22467771639043,1.0)",
           "rgba(229.69244935543279,192.4014732965009,216.22467771639043,1.0)",
           "rgba(229.69244935543279,192.4014732965009,216.22467771639043,1.0)",
           "rgba(229.69244935543279,192.4014732965009,216.22467771639043,1.0)",
           "rgba(229.69244935543279,192.4014732965009,216.22467771639043,1.0)",
           "rgba(70.2433628318584,133.81415929203538,154.88938053097345,1.0)",
           "rgba(229.69244935543279,192.4014732965009,216.22467771639043,0.0)",
           "rgba(70.2433628318584,133.81415929203538,154.88938053097345,0.7497276193845162)",
           "rgba(70.2433628318584,133.81415929203538,154.88938053097345,0.7521897856819186)",
           "rgba(229.69244935543279,192.4014732965009,216.22467771639043,1.0)",
           "rgba(70.2433628318584,133.81415929203538,154.88938053097345,1.0)",
           "rgba(229.69244935543279,192.4014732965009,216.22467771639043,1.0)",
           "rgba(229.69244935543279,192.4014732965009,216.22467771639043,1.0)",
           "rgba(229.69244935543279,192.4014732965009,216.22467771639043,0.0)",
           "rgba(229.69244935543279,192.4014732965009,216.22467771639043,0.0)",
           "rgba(229.69244935543279,192.4014732965009,216.22467771639043,1.0)",
           "rgba(229.69244935543279,192.4014732965009,216.22467771639043,1.0)",
           "rgba(229.69244935543279,192.4014732965009,216.22467771639043,1.0)",
           "rgba(229.69244935543279,192.4014732965009,216.22467771639043,1.0)",
           "rgba(229.69244935543279,192.4014732965009,216.22467771639043,0.0)",
           "rgba(229.69244935543279,192.4014732965009,216.22467771639043,1.0)",
           "rgba(229.69244935543279,192.4014732965009,216.22467771639043,1.0)",
           "rgba(229.69244935543279,192.4014732965009,216.22467771639043,1.0)",
           "rgba(229.69244935543279,192.4014732965009,216.22467771639043,1.0)",
           "rgba(229.69244935543279,192.4014732965009,216.22467771639043,0.0)",
           "rgba(70.2433628318584,133.81415929203538,154.88938053097345,0.6430097498961727)",
           "rgba(229.69244935543279,192.4014732965009,216.22467771639043,1.0)",
           "rgba(70.2433628318584,133.81415929203538,154.88938053097345,0.9775252199076787)",
           "rgba(70.2433628318584,133.81415929203538,154.88938053097345,0.8610338613230188)",
           "rgba(229.69244935543279,192.4014732965009,216.22467771639043,1.0)",
           "rgba(229.69244935543279,192.4014732965009,216.22467771639043,1.0)",
           "rgba(229.69244935543279,192.4014732965009,216.22467771639043,1.0)",
           "rgba(229.69244935543279,192.4014732965009,216.22467771639043,0.0)",
           "rgba(229.69244935543279,192.4014732965009,216.22467771639043,0.0)",
           "rgba(229.69244935543279,192.4014732965009,216.22467771639043,1.0)",
           "rgba(229.69244935543279,192.4014732965009,216.22467771639043,1.0)",
           "rgba(229.69244935543279,192.4014732965009,216.22467771639043,1.0)",
           "rgba(229.69244935543279,192.4014732965009,216.22467771639043,1.0)",
           "rgba(229.69244935543279,192.4014732965009,216.22467771639043,1.0)",
           "rgba(229.69244935543279,192.4014732965009,216.22467771639043,0.0)",
           "rgba(70.2433628318584,133.81415929203538,154.88938053097345,1.0)",
           "rgba(70.2433628318584,133.81415929203538,154.88938053097345,1.0)",
           "rgba(70.2433628318584,133.81415929203538,154.88938053097345,0.9227595290837433)",
           "rgba(229.69244935543279,192.4014732965009,216.22467771639043,1.0)",
           "rgba(70.2433628318584,133.81415929203538,154.88938053097345,0.5936825889256334)",
           "rgba(229.69244935543279,192.4014732965009,216.22467771639043,1.0)",
           "rgba(229.69244935543279,192.4014732965009,216.22467771639043,1.0)",
           "rgba(229.69244935543279,192.4014732965009,216.22467771639043,1.0)",
           "rgba(229.69244935543279,192.4014732965009,216.22467771639043,1.0)",
           "rgba(229.69244935543279,192.4014732965009,216.22467771639043,1.0)",
           "rgba(229.69244935543279,192.4014732965009,216.22467771639043,1.0)",
           "rgba(229.69244935543279,192.4014732965009,216.22467771639043,1.0)",
           "rgba(229.69244935543279,192.4014732965009,216.22467771639043,1.0)",
           "rgba(229.69244935543279,192.4014732965009,216.22467771639043,1.0)",
           "rgba(229.69244935543279,192.4014732965009,216.22467771639043,1.0)",
           "rgba(229.69244935543279,192.4014732965009,216.22467771639043,1.0)",
           "rgba(229.69244935543279,192.4014732965009,216.22467771639043,1.0)",
           "rgba(229.69244935543279,192.4014732965009,216.22467771639043,0.0)",
           "rgba(70.2433628318584,133.81415929203538,154.88938053097345,0.8261595987094035)",
           "rgba(70.2433628318584,133.81415929203538,154.88938053097345,1.0)",
           "rgba(70.2433628318584,133.81415929203538,154.88938053097345,0.9775252199076787)",
           "rgba(70.2433628318584,133.81415929203538,154.88938053097345,0.6461236167757218)",
           "rgba(229.69244935543279,192.4014732965009,216.22467771639043,1.0)",
           "rgba(229.69244935543279,192.4014732965009,216.22467771639043,0.0)",
           "rgba(229.69244935543279,192.4014732965009,216.22467771639043,0.0)",
           "rgba(229.69244935543279,192.4014732965009,216.22467771639043,1.0)",
           "rgba(229.69244935543279,192.4014732965009,216.22467771639043,0.0)",
           "rgba(229.69244935543279,192.4014732965009,216.22467771639043,1.0)",
           "rgba(70.2433628318584,133.81415929203538,154.88938053097345,0.6238110863820975)",
           "rgba(70.2433628318584,133.81415929203538,154.88938053097345,1.0)",
           "rgba(70.2433628318584,133.81415929203538,154.88938053097345,1.0)",
           "rgba(70.2433628318584,133.81415929203538,154.88938053097345,1.0)",
           "rgba(229.69244935543279,192.4014732965009,216.22467771639043,1.0)",
           "rgba(229.69244935543279,192.4014732965009,216.22467771639043,1.0)",
           "rgba(229.69244935543279,192.4014732965009,216.22467771639043,1.0)",
           "rgba(229.69244935543279,192.4014732965009,216.22467771639043,1.0)",
           "rgba(70.2433628318584,133.81415929203538,154.88938053097345,0.8610338613230188)",
           "rgba(229.69244935543279,192.4014732965009,216.22467771639043,1.0)",
           "rgba(229.69244935543279,192.4014732965009,216.22467771639043,1.0)",
           "rgba(229.69244935543279,192.4014732965009,216.22467771639043,1.0)",
           "rgba(229.69244935543279,192.4014732965009,216.22467771639043,1.0)",
           "rgba(229.69244935543279,192.4014732965009,216.22467771639043,1.0)",
           "rgba(229.69244935543279,192.4014732965009,216.22467771639043,1.0)",
           "rgba(70.2433628318584,133.81415929203538,154.88938053097345,0.6590473688161075)",
           "rgba(229.69244935543279,192.4014732965009,216.22467771639043,0.0)",
           "rgba(70.2433628318584,133.81415929203538,154.88938053097345,1.0)",
           "rgba(70.2433628318584,133.81415929203538,154.88938053097345,0.583027399541909)",
           "rgba(70.2433628318584,133.81415929203538,154.88938053097345,1.0)",
           "rgba(229.69244935543279,192.4014732965009,216.22467771639043,0.0)",
           "rgba(229.69244935543279,192.4014732965009,216.22467771639043,1.0)",
           "rgba(229.69244935543279,192.4014732965009,216.22467771639043,1.0)",
           "rgba(70.2433628318584,133.81415929203538,154.88938053097345,1.0)",
           "rgba(229.69244935543279,192.4014732965009,216.22467771639043,1.0)",
           "rgba(229.69244935543279,192.4014732965009,216.22467771639043,1.0)",
           "rgba(229.69244935543279,192.4014732965009,216.22467771639043,1.0)",
           "rgba(229.69244935543279,192.4014732965009,216.22467771639043,0.0)",
           "rgba(229.69244935543279,192.4014732965009,216.22467771639043,0.977199075310085)",
           "rgba(229.69244935543279,192.4014732965009,216.22467771639043,0.0)",
           "rgba(229.69244935543279,192.4014732965009,216.22467771639043,1.0)",
           "rgba(229.69244935543279,192.4014732965009,216.22467771639043,1.0)",
           "rgba(229.69244935543279,192.4014732965009,216.22467771639043,1.0)",
           "rgba(70.2433628318584,133.81415929203538,154.88938053097345,1.0)",
           "rgba(70.2433628318584,133.81415929203538,154.88938053097345,1.0)",
           "rgba(229.69244935543279,192.4014732965009,216.22467771639043,1.0)",
           "rgba(229.69244935543279,192.4014732965009,216.22467771639043,1.0)",
           "rgba(70.2433628318584,133.81415929203538,154.88938053097345,0.9830015945213216)",
           "rgba(70.2433628318584,133.81415929203538,154.88938053097345,1.0)",
           "rgba(229.69244935543279,192.4014732965009,216.22467771639043,1.0)",
           "rgba(229.69244935543279,192.4014732965009,216.22467771639043,1.0)",
           "rgba(229.69244935543279,192.4014732965009,216.22467771639043,1.0)",
           "rgba(229.69244935543279,192.4014732965009,216.22467771639043,1.0)",
           "rgba(229.69244935543279,192.4014732965009,216.22467771639043,1.0)",
           "rgba(229.69244935543279,192.4014732965009,216.22467771639043,1.0)",
           "rgba(70.2433628318584,133.81415929203538,154.88938053097345,1.0)",
           "rgba(70.2433628318584,133.81415929203538,154.88938053097345,0.9830015945213216)",
           "rgba(70.2433628318584,133.81415929203538,154.88938053097345,1.0)",
           "rgba(229.69244935543279,192.4014732965009,216.22467771639043,0.9692864019639696)",
           "rgba(229.69244935543279,192.4014732965009,216.22467771639043,0.0)",
           "rgba(229.69244935543279,192.4014732965009,216.22467771639043,1.0)",
           "rgba(70.2433628318584,133.81415929203538,154.88938053097345,1.0)",
           "rgba(229.69244935543279,192.4014732965009,216.22467771639043,1.0)",
           "rgba(229.69244935543279,192.4014732965009,216.22467771639043,1.0)",
           "rgba(229.69244935543279,192.4014732965009,216.22467771639043,1.0)",
           "rgba(229.69244935543279,192.4014732965009,216.22467771639043,0.0)",
           "rgba(229.69244935543279,192.4014732965009,216.22467771639043,0.0)",
           "rgba(229.69244935543279,192.4014732965009,216.22467771639043,1.0)",
           "rgba(229.69244935543279,192.4014732965009,216.22467771639043,1.0)",
           "rgba(229.69244935543279,192.4014732965009,216.22467771639043,0.9732186144668191)",
           "rgba(229.69244935543279,192.4014732965009,216.22467771639043,1.0)",
           "rgba(229.69244935543279,192.4014732965009,216.22467771639043,0.0)",
           "rgba(229.69244935543279,192.4014732965009,216.22467771639043,1.0)",
           "rgba(229.69244935543279,192.4014732965009,216.22467771639043,1.0)",
           "rgba(70.2433628318584,133.81415929203538,154.88938053097345,1.0)",
           "rgba(229.69244935543279,192.4014732965009,216.22467771639043,1.0)",
           "rgba(229.69244935543279,192.4014732965009,216.22467771639043,1.0)",
           "rgba(229.69244935543279,192.4014732965009,216.22467771639043,1.0)",
           "rgba(229.69244935543279,192.4014732965009,216.22467771639043,1.0)",
           "rgba(229.69244935543279,192.4014732965009,216.22467771639043,1.0)",
           "rgba(229.69244935543279,192.4014732965009,216.22467771639043,1.0)",
           "rgba(229.69244935543279,192.4014732965009,216.22467771639043,1.0)",
           "rgba(229.69244935543279,192.4014732965009,216.22467771639043,0.9957355882472655)",
           "rgba(229.69244935543279,192.4014732965009,216.22467771639043,1.0)",
           "rgba(229.69244935543279,192.4014732965009,216.22467771639043,0.0)",
           "rgba(229.69244935543279,192.4014732965009,216.22467771639043,0.0)",
           "rgba(229.69244935543279,192.4014732965009,216.22467771639043,0.0)",
           "rgba(229.69244935543279,192.4014732965009,216.22467771639043,1.0)",
           "rgba(229.69244935543279,192.4014732965009,216.22467771639043,1.0)",
           "rgba(229.69244935543279,192.4014732965009,216.22467771639043,0.0)",
           "rgba(229.69244935543279,192.4014732965009,216.22467771639043,0.0)",
           "rgba(229.69244935543279,192.4014732965009,216.22467771639043,0.0)",
           "rgba(70.2433628318584,133.81415929203538,154.88938053097345,1.0)",
           "rgba(229.69244935543279,192.4014732965009,216.22467771639043,1.0)",
           "rgba(229.69244935543279,192.4014732965009,216.22467771639043,1.0)",
           "rgba(229.69244935543279,192.4014732965009,216.22467771639043,1.0)",
           "rgba(229.69244935543279,192.4014732965009,216.22467771639043,0.0)",
           "rgba(229.69244935543279,192.4014732965009,216.22467771639043,0.0)",
           "rgba(229.69244935543279,192.4014732965009,216.22467771639043,1.0)",
           "rgba(229.69244935543279,192.4014732965009,216.22467771639043,1.0)",
           "rgba(229.69244935543279,192.4014732965009,216.22467771639043,1.0)",
           "rgba(229.69244935543279,192.4014732965009,216.22467771639043,0.0)",
           "rgba(229.69244935543279,192.4014732965009,216.22467771639043,0.0)",
           "rgba(70.2433628318584,133.81415929203538,154.88938053097345,1.0)",
           "rgba(70.2433628318584,133.81415929203538,154.88938053097345,1.0)",
           "rgba(70.2433628318584,133.81415929203538,154.88938053097345,1.0)",
           "rgba(229.69244935543279,192.4014732965009,216.22467771639043,1.0)",
           "rgba(229.69244935543279,192.4014732965009,216.22467771639043,1.0)",
           "rgba(229.69244935543279,192.4014732965009,216.22467771639043,1.0)",
           "rgba(229.69244935543279,192.4014732965009,216.22467771639043,1.0)",
           "rgba(229.69244935543279,192.4014732965009,216.22467771639043,1.0)",
           "rgba(70.2433628318584,133.81415929203538,154.88938053097345,1.0)",
           "rgba(229.69244935543279,192.4014732965009,216.22467771639043,1.0)",
           "rgba(229.69244935543279,192.4014732965009,216.22467771639043,1.0)",
           "rgba(229.69244935543279,192.4014732965009,216.22467771639043,1.0)",
           "rgba(229.69244935543279,192.4014732965009,216.22467771639043,1.0)",
           "rgba(229.69244935543279,192.4014732965009,216.22467771639043,0.0)",
           "rgba(229.69244935543279,192.4014732965009,216.22467771639043,1.0)",
           "rgba(229.69244935543279,192.4014732965009,216.22467771639043,1.0)",
           "rgba(229.69244935543279,192.4014732965009,216.22467771639043,1.0)",
           "rgba(70.2433628318584,133.81415929203538,154.88938053097345,1.0)",
           "rgba(70.2433628318584,133.81415929203538,154.88938053097345,1.0)",
           "rgba(70.2433628318584,133.81415929203538,154.88938053097345,1.0)",
           "rgba(70.2433628318584,133.81415929203538,154.88938053097345,1.0)",
           "rgba(70.2433628318584,133.81415929203538,154.88938053097345,0.9367769320431429)",
           "rgba(229.69244935543279,192.4014732965009,216.22467771639043,1.0)",
           "rgba(229.69244935543279,192.4014732965009,216.22467771639043,1.0)",
           "rgba(229.69244935543279,192.4014732965009,216.22467771639043,1.0)",
           "rgba(229.69244935543279,192.4014732965009,216.22467771639043,1.0)",
           "rgba(229.69244935543279,192.4014732965009,216.22467771639043,1.0)",
           "rgba(229.69244935543279,192.4014732965009,216.22467771639043,0.9732186144668191)",
           "rgba(229.69244935543279,192.4014732965009,216.22467771639043,1.0)",
           "rgba(229.69244935543279,192.4014732965009,216.22467771639043,1.0)",
           "rgba(229.69244935543279,192.4014732965009,216.22467771639043,0.0)",
           "rgba(229.69244935543279,192.4014732965009,216.22467771639043,1.0)",
           "rgba(70.2433628318584,133.81415929203538,154.88938053097345,0.9830015945213216)",
           "rgba(70.2433628318584,133.81415929203538,154.88938053097345,0.9775252199076787)",
           "rgba(229.69244935543279,192.4014732965009,216.22467771639043,1.0)",
           "rgba(229.69244935543279,192.4014732965009,216.22467771639043,1.0)",
           "rgba(229.69244935543279,192.4014732965009,216.22467771639043,0.9654014708917735)",
           "rgba(229.69244935543279,192.4014732965009,216.22467771639043,1.0)",
           "rgba(70.2433628318584,133.81415929203538,154.88938053097345,0.9565007145952775)",
           "rgba(229.69244935543279,192.4014732965009,216.22467771639043,1.0)",
           "rgba(229.69244935543279,192.4014732965009,216.22467771639043,1.0)",
           "rgba(229.69244935543279,192.4014732965009,216.22467771639043,1.0)",
           "rgba(229.69244935543279,192.4014732965009,216.22467771639043,0.0)",
           "rgba(229.69244935543279,192.4014732965009,216.22467771639043,1.0)",
           "rgba(229.69244935543279,192.4014732965009,216.22467771639043,1.0)",
           "rgba(229.69244935543279,192.4014732965009,216.22467771639043,0.0)",
           "rgba(229.69244935543279,192.4014732965009,216.22467771639043,0.9171451546276848)",
           "rgba(70.2433628318584,133.81415929203538,154.88938053097345,0.7865780545954884)",
           "rgba(70.2433628318584,133.81415929203538,154.88938053097345,1.0)",
           "rgba(70.2433628318584,133.81415929203538,154.88938053097345,1.0)",
           "rgba(70.2433628318584,133.81415929203538,154.88938053097345,1.0)",
           "rgba(229.69244935543279,192.4014732965009,216.22467771639043,1.0)",
           "rgba(229.69244935543279,192.4014732965009,216.22467771639043,1.0)",
           "rgba(70.2433628318584,133.81415929203538,154.88938053097345,1.0)",
           "rgba(229.69244935543279,192.4014732965009,216.22467771639043,0.0)",
           "rgba(229.69244935543279,192.4014732965009,216.22467771639043,0.944838772761475)",
           "rgba(229.69244935543279,192.4014732965009,216.22467771639043,1.0)",
           "rgba(229.69244935543279,192.4014732965009,216.22467771639043,1.0)",
           "rgba(70.2433628318584,133.81415929203538,154.88938053097345,1.0)",
           "rgba(70.2433628318584,133.81415929203538,154.88938053097345,1.0)",
           "rgba(229.69244935543279,192.4014732965009,216.22467771639043,1.0)",
           "rgba(229.69244935543279,192.4014732965009,216.22467771639043,0.0)",
           "rgba(229.69244935543279,192.4014732965009,216.22467771639043,1.0)",
           "rgba(229.69244935543279,192.4014732965009,216.22467771639043,1.0)",
           "rgba(229.69244935543279,192.4014732965009,216.22467771639043,1.0)",
           "rgba(229.69244935543279,192.4014732965009,216.22467771639043,0.0)",
           "rgba(229.69244935543279,192.4014732965009,216.22467771639043,0.0)",
           "rgba(229.69244935543279,192.4014732965009,216.22467771639043,1.0)",
           "rgba(229.69244935543279,192.4014732965009,216.22467771639043,1.0)",
           "rgba(229.69244935543279,192.4014732965009,216.22467771639043,1.0)",
           "rgba(229.69244935543279,192.4014732965009,216.22467771639043,1.0)",
           "rgba(229.69244935543279,192.4014732965009,216.22467771639043,0.0)",
           "rgba(229.69244935543279,192.4014732965009,216.22467771639043,0.9359165826205134)",
           "rgba(70.2433628318584,133.81415929203538,154.88938053097345,1.0)",
           "rgba(229.69244935543279,192.4014732965009,216.22467771639043,1.0)",
           "rgba(70.2433628318584,133.81415929203538,154.88938053097345,1.0)",
           "rgba(229.69244935543279,192.4014732965009,216.22467771639043,1.0)",
           "rgba(229.69244935543279,192.4014732965009,216.22467771639043,0.0)",
           "rgba(229.69244935543279,192.4014732965009,216.22467771639043,0.0)",
           "rgba(229.69244935543279,192.4014732965009,216.22467771639043,1.0)",
           "rgba(229.69244935543279,192.4014732965009,216.22467771639043,1.0)",
           "rgba(229.69244935543279,192.4014732965009,216.22467771639043,1.0)",
           "rgba(229.69244935543279,192.4014732965009,216.22467771639043,1.0)",
           "rgba(229.69244935543279,192.4014732965009,216.22467771639043,0.9306830844693976)",
           "rgba(70.2433628318584,133.81415929203538,154.88938053097345,1.0)",
           "rgba(70.2433628318584,133.81415929203538,154.88938053097345,1.0)",
           "rgba(70.2433628318584,133.81415929203538,154.88938053097345,1.0)",
           "rgba(70.2433628318584,133.81415929203538,154.88938053097345,1.0)",
           "rgba(229.69244935543279,192.4014732965009,216.22467771639043,1.0)",
           "rgba(229.69244935543279,192.4014732965009,216.22467771639043,1.0)",
           "rgba(229.69244935543279,192.4014732965009,216.22467771639043,1.0)",
           "rgba(229.69244935543279,192.4014732965009,216.22467771639043,1.0)",
           "rgba(229.69244935543279,192.4014732965009,216.22467771639043,0.0)",
           "rgba(229.69244935543279,192.4014732965009,216.22467771639043,1.0)",
           "rgba(229.69244935543279,192.4014732965009,216.22467771639043,1.0)",
           "rgba(229.69244935543279,192.4014732965009,216.22467771639043,1.0)",
           "rgba(70.2433628318584,133.81415929203538,154.88938053097345,1.0)",
           "rgba(70.2433628318584,133.81415929203538,154.88938053097345,0.9830015945213216)",
           "rgba(229.69244935543279,192.4014732965009,216.22467771639043,1.0)",
           "rgba(229.69244935543279,192.4014732965009,216.22467771639043,1.0)",
           "rgba(229.69244935543279,192.4014732965009,216.22467771639043,1.0)",
           "rgba(229.69244935543279,192.4014732965009,216.22467771639043,1.0)",
           "rgba(229.69244935543279,192.4014732965009,216.22467771639043,1.0)",
           "rgba(229.69244935543279,192.4014732965009,216.22467771639043,1.0)",
           "rgba(229.69244935543279,192.4014732965009,216.22467771639043,1.0)",
           "rgba(229.69244935543279,192.4014732965009,216.22467771639043,1.0)",
           "rgba(229.69244935543279,192.4014732965009,216.22467771639043,1.0)",
           "rgba(70.2433628318584,133.81415929203538,154.88938053097345,1.0)",
           "rgba(70.2433628318584,133.81415929203538,154.88938053097345,1.0)",
           "rgba(229.69244935543279,192.4014732965009,216.22467771639043,1.0)",
           "rgba(229.69244935543279,192.4014732965009,216.22467771639043,1.0)",
           "rgba(229.69244935543279,192.4014732965009,216.22467771639043,1.0)",
           "rgba(229.69244935543279,192.4014732965009,216.22467771639043,0.0)",
           "rgba(229.69244935543279,192.4014732965009,216.22467771639043,0.0)",
           "rgba(229.69244935543279,192.4014732965009,216.22467771639043,0.0)",
           "rgba(229.69244935543279,192.4014732965009,216.22467771639043,1.0)",
           "rgba(229.69244935543279,192.4014732965009,216.22467771639043,1.0)",
           "rgba(229.69244935543279,192.4014732965009,216.22467771639043,1.0)",
           "rgba(229.69244935543279,192.4014732965009,216.22467771639043,1.0)",
           "rgba(70.2433628318584,133.81415929203538,154.88938053097345,1.0)",
           "rgba(229.69244935543279,192.4014732965009,216.22467771639043,1.0)",
           "rgba(229.69244935543279,192.4014732965009,216.22467771639043,1.0)",
           "rgba(229.69244935543279,192.4014732965009,216.22467771639043,1.0)",
           "rgba(229.69244935543279,192.4014732965009,216.22467771639043,1.0)",
           "rgba(229.69244935543279,192.4014732965009,216.22467771639043,0.0)",
           "rgba(229.69244935543279,192.4014732965009,216.22467771639043,0.0)",
           "rgba(70.2433628318584,133.81415929203538,154.88938053097345,1.0)",
           "rgba(70.2433628318584,133.81415929203538,154.88938053097345,1.0)",
           "rgba(70.2433628318584,133.81415929203538,154.88938053097345,1.0)",
           "rgba(229.69244935543279,192.4014732965009,216.22467771639043,1.0)",
           "rgba(229.69244935543279,192.4014732965009,216.22467771639043,1.0)",
           "rgba(229.69244935543279,192.4014732965009,216.22467771639043,1.0)",
           "rgba(229.69244935543279,192.4014732965009,216.22467771639043,0.9792077086223914)",
           "rgba(229.69244935543279,192.4014732965009,216.22467771639043,1.0)",
           "rgba(229.69244935543279,192.4014732965009,216.22467771639043,0.0)",
           "rgba(229.69244935543279,192.4014732965009,216.22467771639043,1.0)",
           "rgba(229.69244935543279,192.4014732965009,216.22467771639043,0.0)",
           "rgba(229.69244935543279,192.4014732965009,216.22467771639043,1.0)",
           "rgba(229.69244935543279,192.4014732965009,216.22467771639043,0.0)",
           "rgba(70.2433628318584,133.81415929203538,154.88938053097345,1.0)",
           "rgba(70.2433628318584,133.81415929203538,154.88938053097345,0.8011186209146056)",
           "rgba(229.69244935543279,192.4014732965009,216.22467771639043,1.0)",
           "rgba(229.69244935543279,192.4014732965009,216.22467771639043,1.0)",
           "rgba(229.69244935543279,192.4014732965009,216.22467771639043,1.0)",
           "rgba(229.69244935543279,192.4014732965009,216.22467771639043,1.0)",
           "rgba(229.69244935543279,192.4014732965009,216.22467771639043,1.0)",
           "rgba(229.69244935543279,192.4014732965009,216.22467771639043,0.0)",
           "rgba(229.69244935543279,192.4014732965009,216.22467771639043,1.0)",
           "rgba(229.69244935543279,192.4014732965009,216.22467771639043,1.0)",
           "rgba(229.69244935543279,192.4014732965009,216.22467771639043,0.0)",
           "rgba(70.2433628318584,133.81415929203538,154.88938053097345,1.0)",
           "rgba(229.69244935543279,192.4014732965009,216.22467771639043,0.0)",
           "rgba(70.2433628318584,133.81415929203538,154.88938053097345,1.0)",
           "rgba(70.2433628318584,133.81415929203538,154.88938053097345,0.9830015945213216)",
           "rgba(70.2433628318584,133.81415929203538,154.88938053097345,1.0)",
           "rgba(70.2433628318584,133.81415929203538,154.88938053097345,0.9616294415187687)",
           "rgba(229.69244935543279,192.4014732965009,216.22467771639043,1.0)",
           "rgba(229.69244935543279,192.4014732965009,216.22467771639043,1.0)",
           "rgba(229.69244935543279,192.4014732965009,216.22467771639043,1.0)",
           "rgba(229.69244935543279,192.4014732965009,216.22467771639043,1.0)",
           "rgba(229.69244935543279,192.4014732965009,216.22467771639043,1.0)",
           "rgba(229.69244935543279,192.4014732965009,216.22467771639043,1.0)",
           "rgba(229.69244935543279,192.4014732965009,216.22467771639043,1.0)",
           "rgba(229.69244935543279,192.4014732965009,216.22467771639043,1.0)",
           "rgba(229.69244935543279,192.4014732965009,216.22467771639043,1.0)",
           "rgba(229.69244935543279,192.4014732965009,216.22467771639043,1.0)",
           "rgba(229.69244935543279,192.4014732965009,216.22467771639043,1.0)",
           "rgba(229.69244935543279,192.4014732965009,216.22467771639043,0.0)",
           "rgba(70.2433628318584,133.81415929203538,154.88938053097345,1.0)",
           "rgba(229.69244935543279,192.4014732965009,216.22467771639043,0.0)",
           "rgba(70.2433628318584,133.81415929203538,154.88938053097345,1.0)",
           "rgba(70.2433628318584,133.81415929203538,154.88938053097345,1.0)",
           "rgba(229.69244935543279,192.4014732965009,216.22467771639043,1.0)",
           "rgba(229.69244935543279,192.4014732965009,216.22467771639043,1.0)",
           "rgba(229.69244935543279,192.4014732965009,216.22467771639043,1.0)",
           "rgba(229.69244935543279,192.4014732965009,216.22467771639043,1.0)",
           "rgba(229.69244935543279,192.4014732965009,216.22467771639043,1.0)",
           "rgba(229.69244935543279,192.4014732965009,216.22467771639043,1.0)",
           "rgba(229.69244935543279,192.4014732965009,216.22467771639043,1.0)",
           "rgba(229.69244935543279,192.4014732965009,216.22467771639043,0.9673380856182342)",
           "rgba(229.69244935543279,192.4014732965009,216.22467771639043,1.0)",
           "rgba(229.69244935543279,192.4014732965009,216.22467771639043,1.0)",
           "rgba(229.69244935543279,192.4014732965009,216.22467771639043,1.0)",
           "rgba(229.69244935543279,192.4014732965009,216.22467771639043,1.0)",
           "rgba(229.69244935543279,192.4014732965009,216.22467771639043,1.0)",
           "rgba(229.69244935543279,192.4014732965009,216.22467771639043,1.0)",
           "rgba(70.2433628318584,133.81415929203538,154.88938053097345,1.0)",
           "rgba(229.69244935543279,192.4014732965009,216.22467771639043,1.0)",
           "rgba(229.69244935543279,192.4014732965009,216.22467771639043,1.0)",
           "rgba(229.69244935543279,192.4014732965009,216.22467771639043,1.0)",
           "rgba(229.69244935543279,192.4014732965009,216.22467771639043,1.0)",
           "rgba(229.69244935543279,192.4014732965009,216.22467771639043,1.0)",
           "rgba(229.69244935543279,192.4014732965009,216.22467771639043,1.0)",
           "rgba(229.69244935543279,192.4014732965009,216.22467771639043,1.0)",
           "rgba(229.69244935543279,192.4014732965009,216.22467771639043,1.0)",
           "rgba(229.69244935543279,192.4014732965009,216.22467771639043,1.0)",
           "rgba(229.69244935543279,192.4014732965009,216.22467771639043,1.0)",
           "rgba(70.2433628318584,133.81415929203538,154.88938053097345,1.0)",
           "rgba(229.69244935543279,192.4014732965009,216.22467771639043,1.0)",
           "rgba(229.69244935543279,192.4014732965009,216.22467771639043,1.0)",
           "rgba(70.2433628318584,133.81415929203538,154.88938053097345,1.0)",
           "rgba(70.2433628318584,133.81415929203538,154.88938053097345,1.0)",
           "rgba(70.2433628318584,133.81415929203538,154.88938053097345,1.0)",
           "rgba(70.2433628318584,133.81415929203538,154.88938053097345,1.0)",
           "rgba(229.69244935543279,192.4014732965009,216.22467771639043,1.0)",
           "rgba(229.69244935543279,192.4014732965009,216.22467771639043,1.0)",
           "rgba(229.69244935543279,192.4014732965009,216.22467771639043,1.0)",
           "rgba(70.2433628318584,133.81415929203538,154.88938053097345,1.0)",
           "rgba(70.2433628318584,133.81415929203538,154.88938053097345,1.0)",
           "rgba(229.69244935543279,192.4014732965009,216.22467771639043,0.0)",
           "rgba(229.69244935543279,192.4014732965009,216.22467771639043,1.0)",
           "rgba(70.2433628318584,133.81415929203538,154.88938053097345,0.9775252199076787)",
           "rgba(70.2433628318584,133.81415929203538,154.88938053097345,1.0)",
           "rgba(229.69244935543279,192.4014732965009,216.22467771639043,1.0)",
           "rgba(70.2433628318584,133.81415929203538,154.88938053097345,1.0)",
           "rgba(229.69244935543279,192.4014732965009,216.22467771639043,1.0)",
           "rgba(229.69244935543279,192.4014732965009,216.22467771639043,1.0)",
           "rgba(229.69244935543279,192.4014732965009,216.22467771639043,1.0)",
           "rgba(229.69244935543279,192.4014732965009,216.22467771639043,1.0)",
           "rgba(229.69244935543279,192.4014732965009,216.22467771639043,1.0)",
           "rgba(229.69244935543279,192.4014732965009,216.22467771639043,1.0)",
           "rgba(229.69244935543279,192.4014732965009,216.22467771639043,1.0)",
           "rgba(229.69244935543279,192.4014732965009,216.22467771639043,1.0)",
           "rgba(229.69244935543279,192.4014732965009,216.22467771639043,0.0)",
           "rgba(229.69244935543279,192.4014732965009,216.22467771639043,0.0)",
           "rgba(229.69244935543279,192.4014732965009,216.22467771639043,1.0)",
           "rgba(70.2433628318584,133.81415929203538,154.88938053097345,1.0)",
           "rgba(70.2433628318584,133.81415929203538,154.88938053097345,1.0)",
           "rgba(70.2433628318584,133.81415929203538,154.88938053097345,0.9565007145952775)",
           "rgba(229.69244935543279,192.4014732965009,216.22467771639043,1.0)",
           "rgba(229.69244935543279,192.4014732965009,216.22467771639043,1.0)",
           "rgba(229.69244935543279,192.4014732965009,216.22467771639043,1.0)",
           "rgba(229.69244935543279,192.4014732965009,216.22467771639043,1.0)",
           "rgba(229.69244935543279,192.4014732965009,216.22467771639043,1.0)",
           "rgba(229.69244935543279,192.4014732965009,216.22467771639043,1.0)",
           "rgba(229.69244935543279,192.4014732965009,216.22467771639043,0.0)",
           "rgba(229.69244935543279,192.4014732965009,216.22467771639043,1.0)",
           "rgba(229.69244935543279,192.4014732965009,216.22467771639043,0.9832624162720306)",
           "rgba(229.69244935543279,192.4014732965009,216.22467771639043,1.0)",
           "rgba(229.69244935543279,192.4014732965009,216.22467771639043,1.0)",
           "rgba(229.69244935543279,192.4014732965009,216.22467771639043,0.0)",
           "rgba(70.2433628318584,133.81415929203538,154.88938053097345,1.0)",
           "rgba(70.2433628318584,133.81415929203538,154.88938053097345,1.0)",
           "rgba(229.69244935543279,192.4014732965009,216.22467771639043,1.0)",
           "rgba(229.69244935543279,192.4014732965009,216.22467771639043,1.0)",
           "rgba(70.2433628318584,133.81415929203538,154.88938053097345,1.0)",
           "rgba(70.2433628318584,133.81415929203538,154.88938053097345,1.0)",
           "rgba(229.69244935543279,192.4014732965009,216.22467771639043,1.0)",
           "rgba(229.69244935543279,192.4014732965009,216.22467771639043,1.0)",
           "rgba(229.69244935543279,192.4014732965009,216.22467771639043,1.0)",
           "rgba(70.2433628318584,133.81415929203538,154.88938053097345,1.0)",
           "rgba(229.69244935543279,192.4014732965009,216.22467771639043,1.0)",
           "rgba(229.69244935543279,192.4014732965009,216.22467771639043,1.0)",
           "rgba(229.69244935543279,192.4014732965009,216.22467771639043,1.0)",
           "rgba(229.69244935543279,192.4014732965009,216.22467771639043,1.0)",
           "rgba(229.69244935543279,192.4014732965009,216.22467771639043,1.0)",
           "rgba(229.69244935543279,192.4014732965009,216.22467771639043,1.0)",
           "rgba(229.69244935543279,192.4014732965009,216.22467771639043,1.0)",
           "rgba(229.69244935543279,192.4014732965009,216.22467771639043,0.0)",
           "rgba(229.69244935543279,192.4014732965009,216.22467771639043,0.0)",
           "rgba(229.69244935543279,192.4014732965009,216.22467771639043,1.0)",
           "rgba(70.2433628318584,133.81415929203538,154.88938053097345,1.0)",
           "rgba(229.69244935543279,192.4014732965009,216.22467771639043,1.0)",
           "rgba(229.69244935543279,192.4014732965009,216.22467771639043,1.0)",
           "rgba(229.69244935543279,192.4014732965009,216.22467771639043,1.0)",
           "rgba(229.69244935543279,192.4014732965009,216.22467771639043,1.0)",
           "rgba(229.69244935543279,192.4014732965009,216.22467771639043,1.0)",
           "rgba(229.69244935543279,192.4014732965009,216.22467771639043,1.0)",
           "rgba(229.69244935543279,192.4014732965009,216.22467771639043,1.0)",
           "rgba(229.69244935543279,192.4014732965009,216.22467771639043,0.0)",
           "rgba(70.2433628318584,133.81415929203538,154.88938053097345,0.9367769320431429)",
           "rgba(229.69244935543279,192.4014732965009,216.22467771639043,1.0)",
           "rgba(229.69244935543279,192.4014732965009,216.22467771639043,1.0)",
           "rgba(229.69244935543279,192.4014732965009,216.22467771639043,1.0)",
           "rgba(70.2433628318584,133.81415929203538,154.88938053097345,1.0)",
           "rgba(70.2433628318584,133.81415929203538,154.88938053097345,1.0)",
           "rgba(229.69244935543279,192.4014732965009,216.22467771639043,0.0)",
           "rgba(70.2433628318584,133.81415929203538,154.88938053097345,1.0)",
           "rgba(229.69244935543279,192.4014732965009,216.22467771639043,1.0)",
           "rgba(229.69244935543279,192.4014732965009,216.22467771639043,1.0)",
           "rgba(229.69244935543279,192.4014732965009,216.22467771639043,1.0)",
           "rgba(229.69244935543279,192.4014732965009,216.22467771639043,1.0)",
           "rgba(229.69244935543279,192.4014732965009,216.22467771639043,1.0)",
           "rgba(229.69244935543279,192.4014732965009,216.22467771639043,1.0)",
           "rgba(229.69244935543279,192.4014732965009,216.22467771639043,1.0)",
           "rgba(229.69244935543279,192.4014732965009,216.22467771639043,1.0)",
           "rgba(229.69244935543279,192.4014732965009,216.22467771639043,1.0)",
           "rgba(229.69244935543279,192.4014732965009,216.22467771639043,0.0)",
           "rgba(229.69244935543279,192.4014732965009,216.22467771639043,1.0)",
           "rgba(229.69244935543279,192.4014732965009,216.22467771639043,1.0)",
           "rgba(70.2433628318584,133.81415929203538,154.88938053097345,1.0)",
           "rgba(229.69244935543279,192.4014732965009,216.22467771639043,1.0)",
           "rgba(229.69244935543279,192.4014732965009,216.22467771639043,1.0)",
           "rgba(70.2433628318584,133.81415929203538,154.88938053097345,1.0)",
           "rgba(229.69244935543279,192.4014732965009,216.22467771639043,0.0)",
           "rgba(229.69244935543279,192.4014732965009,216.22467771639043,1.0)",
           "rgba(229.69244935543279,192.4014732965009,216.22467771639043,1.0)",
           "rgba(229.69244935543279,192.4014732965009,216.22467771639043,1.0)",
           "rgba(229.69244935543279,192.4014732965009,216.22467771639043,1.0)",
           "rgba(229.69244935543279,192.4014732965009,216.22467771639043,0.0)",
           "rgba(229.69244935543279,192.4014732965009,216.22467771639043,0.9732186144668191)",
           "rgba(229.69244935543279,192.4014732965009,216.22467771639043,1.0)",
           "rgba(229.69244935543279,192.4014732965009,216.22467771639043,1.0)",
           "rgba(229.69244935543279,192.4014732965009,216.22467771639043,1.0)",
           "rgba(70.2433628318584,133.81415929203538,154.88938053097345,1.0)",
           "rgba(70.2433628318584,133.81415929203538,154.88938053097345,0.7050601581351732)",
           "rgba(70.2433628318584,133.81415929203538,154.88938053097345,1.0)",
           "rgba(70.2433628318584,133.81415929203538,154.88938053097345,1.0)",
           "rgba(229.69244935543279,192.4014732965009,216.22467771639043,1.0)",
           "rgba(229.69244935543279,192.4014732965009,216.22467771639043,1.0)",
           "rgba(229.69244935543279,192.4014732965009,216.22467771639043,1.0)",
           "rgba(229.69244935543279,192.4014732965009,216.22467771639043,1.0)",
           "rgba(229.69244935543279,192.4014732965009,216.22467771639043,0.0)",
           "rgba(229.69244935543279,192.4014732965009,216.22467771639043,0.0)",
           "rgba(229.69244935543279,192.4014732965009,216.22467771639043,1.0)",
           "rgba(70.2433628318584,133.81415929203538,154.88938053097345,1.0)",
           "rgba(70.2433628318584,133.81415929203538,154.88938053097345,1.0)",
           "rgba(70.2433628318584,133.81415929203538,154.88938053097345,1.0)",
           "rgba(70.2433628318584,133.81415929203538,154.88938053097345,1.0)",
           "rgba(70.2433628318584,133.81415929203538,154.88938053097345,1.0)",
           "rgba(70.2433628318584,133.81415929203538,154.88938053097345,0.8294576541331089)",
           "rgba(70.2433628318584,133.81415929203538,154.88938053097345,1.0)",
           "rgba(229.69244935543279,192.4014732965009,216.22467771639043,1.0)",
           "rgba(229.69244935543279,192.4014732965009,216.22467771639043,1.0)",
           "rgba(229.69244935543279,192.4014732965009,216.22467771639043,1.0)",
           "rgba(229.69244935543279,192.4014732965009,216.22467771639043,1.0)",
           "rgba(229.69244935543279,192.4014732965009,216.22467771639043,1.0)",
           "rgba(229.69244935543279,192.4014732965009,216.22467771639043,1.0)",
           "rgba(229.69244935543279,192.4014732965009,216.22467771639043,1.0)",
           "rgba(229.69244935543279,192.4014732965009,216.22467771639043,1.0)",
           "rgba(229.69244935543279,192.4014732965009,216.22467771639043,0.0)",
           "rgba(229.69244935543279,192.4014732965009,216.22467771639043,0.0)",
           "rgba(229.69244935543279,192.4014732965009,216.22467771639043,0.0)",
           "rgba(229.69244935543279,192.4014732965009,216.22467771639043,1.0)",
           "rgba(70.2433628318584,133.81415929203538,154.88938053097345,1.0)",
           "rgba(229.69244935543279,192.4014732965009,216.22467771639043,1.0)",
           "rgba(229.69244935543279,192.4014732965009,216.22467771639043,1.0)",
           "rgba(229.69244935543279,192.4014732965009,216.22467771639043,1.0)",
           "rgba(229.69244935543279,192.4014732965009,216.22467771639043,1.0)",
           "rgba(229.69244935543279,192.4014732965009,216.22467771639043,1.0)",
           "rgba(229.69244935543279,192.4014732965009,216.22467771639043,1.0)",
           "rgba(229.69244935543279,192.4014732965009,216.22467771639043,1.0)",
           "rgba(70.2433628318584,133.81415929203538,154.88938053097345,1.0)",
           "rgba(229.69244935543279,192.4014732965009,216.22467771639043,1.0)",
           "rgba(70.2433628318584,133.81415929203538,154.88938053097345,1.0)",
           "rgba(70.2433628318584,133.81415929203538,154.88938053097345,1.0)",
           "rgba(229.69244935543279,192.4014732965009,216.22467771639043,1.0)",
           "rgba(70.2433628318584,133.81415929203538,154.88938053097345,1.0)",
           "rgba(70.2433628318584,133.81415929203538,154.88938053097345,1.0)",
           "rgba(70.2433628318584,133.81415929203538,154.88938053097345,1.0)",
           "rgba(70.2433628318584,133.81415929203538,154.88938053097345,1.0)",
           "rgba(229.69244935543279,192.4014732965009,216.22467771639043,1.0)",
           "rgba(229.69244935543279,192.4014732965009,216.22467771639043,1.0)",
           "rgba(229.69244935543279,192.4014732965009,216.22467771639043,1.0)",
           "rgba(229.69244935543279,192.4014732965009,216.22467771639043,1.0)",
           "rgba(229.69244935543279,192.4014732965009,216.22467771639043,0.0)",
           "rgba(229.69244935543279,192.4014732965009,216.22467771639043,1.0)",
           "rgba(229.69244935543279,192.4014732965009,216.22467771639043,1.0)",
           "rgba(229.69244935543279,192.4014732965009,216.22467771639043,1.0)",
           "rgba(229.69244935543279,192.4014732965009,216.22467771639043,1.0)",
           "rgba(229.69244935543279,192.4014732965009,216.22467771639043,1.0)",
           "rgba(70.2433628318584,133.81415929203538,154.88938053097345,1.0)",
           "rgba(70.2433628318584,133.81415929203538,154.88938053097345,1.0)",
           "rgba(229.69244935543279,192.4014732965009,216.22467771639043,0.0)",
           "rgba(229.69244935543279,192.4014732965009,216.22467771639043,1.0)",
           "rgba(229.69244935543279,192.4014732965009,216.22467771639043,1.0)",
           "rgba(229.69244935543279,192.4014732965009,216.22467771639043,1.0)",
           "rgba(229.69244935543279,192.4014732965009,216.22467771639043,0.0)",
           "rgba(229.69244935543279,192.4014732965009,216.22467771639043,0.0)",
           "rgba(229.69244935543279,192.4014732965009,216.22467771639043,1.0)",
           "rgba(229.69244935543279,192.4014732965009,216.22467771639043,0.0)",
           "rgba(229.69244935543279,192.4014732965009,216.22467771639043,1.0)",
           "rgba(70.2433628318584,133.81415929203538,154.88938053097345,1.0)",
           "rgba(70.2433628318584,133.81415929203538,154.88938053097345,1.0)",
           "rgba(229.69244935543279,192.4014732965009,216.22467771639043,1.0)",
           "rgba(229.69244935543279,192.4014732965009,216.22467771639043,1.0)",
           "rgba(229.69244935543279,192.4014732965009,216.22467771639043,1.0)",
           "rgba(229.69244935543279,192.4014732965009,216.22467771639043,1.0)",
           "rgba(229.69244935543279,192.4014732965009,216.22467771639043,1.0)",
           "rgba(229.69244935543279,192.4014732965009,216.22467771639043,1.0)",
           "rgba(229.69244935543279,192.4014732965009,216.22467771639043,1.0)",
           "rgba(229.69244935543279,192.4014732965009,216.22467771639043,1.0)",
           "rgba(229.69244935543279,192.4014732965009,216.22467771639043,0.0)",
           "rgba(229.69244935543279,192.4014732965009,216.22467771639043,1.0)",
           "rgba(229.69244935543279,192.4014732965009,216.22467771639043,1.0)",
           "rgba(70.2433628318584,133.81415929203538,154.88938053097345,1.0)",
           "rgba(70.2433628318584,133.81415929203538,154.88938053097345,1.0)",
           "rgba(229.69244935543279,192.4014732965009,216.22467771639043,1.0)",
           "rgba(229.69244935543279,192.4014732965009,216.22467771639043,1.0)",
           "rgba(70.2433628318584,133.81415929203538,154.88938053097345,1.0)",
           "rgba(70.2433628318584,133.81415929203538,154.88938053097345,1.0)",
           "rgba(229.69244935543279,192.4014732965009,216.22467771639043,1.0)",
           "rgba(229.69244935543279,192.4014732965009,216.22467771639043,1.0)",
           "rgba(229.69244935543279,192.4014732965009,216.22467771639043,1.0)",
           "rgba(229.69244935543279,192.4014732965009,216.22467771639043,1.0)",
           "rgba(229.69244935543279,192.4014732965009,216.22467771639043,0.944838772761475)",
           "rgba(229.69244935543279,192.4014732965009,216.22467771639043,1.0)",
           "rgba(70.2433628318584,133.81415929203538,154.88938053097345,0.8465616732800196)",
           "rgba(70.2433628318584,133.81415929203538,154.88938053097345,1.0)",
           "rgba(70.2433628318584,133.81415929203538,154.88938053097345,1.0)",
           "rgba(229.69244935543279,192.4014732965009,216.22467771639043,1.0)",
           "rgba(229.69244935543279,192.4014732965009,216.22467771639043,1.0)",
           "rgba(229.69244935543279,192.4014732965009,216.22467771639043,1.0)",
           "rgba(229.69244935543279,192.4014732965009,216.22467771639043,1.0)",
           "rgba(229.69244935543279,192.4014732965009,216.22467771639043,1.0)",
           "rgba(229.69244935543279,192.4014732965009,216.22467771639043,1.0)",
           "rgba(229.69244935543279,192.4014732965009,216.22467771639043,1.0)",
           "rgba(229.69244935543279,192.4014732965009,216.22467771639043,1.0)",
           "rgba(229.69244935543279,192.4014732965009,216.22467771639043,0.0)",
           "rgba(70.2433628318584,133.81415929203538,154.88938053097345,1.0)",
           "rgba(70.2433628318584,133.81415929203538,154.88938053097345,1.0)",
           "rgba(70.2433628318584,133.81415929203538,154.88938053097345,1.0)",
           "rgba(70.2433628318584,133.81415929203538,154.88938053097345,1.0)",
           "rgba(70.2433628318584,133.81415929203538,154.88938053097345,1.0)",
           "rgba(70.2433628318584,133.81415929203538,154.88938053097345,1.0)",
           "rgba(229.69244935543279,192.4014732965009,216.22467771639043,1.0)",
           "rgba(229.69244935543279,192.4014732965009,216.22467771639043,1.0)",
           "rgba(70.2433628318584,133.81415929203538,154.88938053097345,1.0)",
           "rgba(70.2433628318584,133.81415929203538,154.88938053097345,1.0)",
           "rgba(229.69244935543279,192.4014732965009,216.22467771639043,1.0)",
           "rgba(229.69244935543279,192.4014732965009,216.22467771639043,1.0)",
           "rgba(229.69244935543279,192.4014732965009,216.22467771639043,1.0)",
           "rgba(229.69244935543279,192.4014732965009,216.22467771639043,1.0)",
           "rgba(229.69244935543279,192.4014732965009,216.22467771639043,1.0)",
           "rgba(229.69244935543279,192.4014732965009,216.22467771639043,1.0)",
           "rgba(229.69244935543279,192.4014732965009,216.22467771639043,1.0)",
           "rgba(229.69244935543279,192.4014732965009,216.22467771639043,1.0)",
           "rgba(229.69244935543279,192.4014732965009,216.22467771639043,0.0)",
           "rgba(229.69244935543279,192.4014732965009,216.22467771639043,0.0)",
           "rgba(229.69244935543279,192.4014732965009,216.22467771639043,0.0)",
           "rgba(229.69244935543279,192.4014732965009,216.22467771639043,1.0)",
           "rgba(70.2433628318584,133.81415929203538,154.88938053097345,1.0)",
           "rgba(70.2433628318584,133.81415929203538,154.88938053097345,1.0)",
           "rgba(229.69244935543279,192.4014732965009,216.22467771639043,1.0)",
           "rgba(70.2433628318584,133.81415929203538,154.88938053097345,0.9227595290837433)",
           "rgba(70.2433628318584,133.81415929203538,154.88938053097345,1.0)",
           "rgba(70.2433628318584,133.81415929203538,154.88938053097345,1.0)",
           "rgba(229.69244935543279,192.4014732965009,216.22467771639043,1.0)",
           "rgba(229.69244935543279,192.4014732965009,216.22467771639043,1.0)",
           "rgba(229.69244935543279,192.4014732965009,216.22467771639043,1.0)",
           "rgba(229.69244935543279,192.4014732965009,216.22467771639043,1.0)",
           "rgba(229.69244935543279,192.4014732965009,216.22467771639043,1.0)",
           "rgba(229.69244935543279,192.4014732965009,216.22467771639043,1.0)",
           "rgba(229.69244935543279,192.4014732965009,216.22467771639043,0.0)",
           "rgba(229.69244935543279,192.4014732965009,216.22467771639043,1.0)",
           "rgba(70.2433628318584,133.81415929203538,154.88938053097345,1.0)",
           "rgba(70.2433628318584,133.81415929203538,154.88938053097345,1.0)",
           "rgba(70.2433628318584,133.81415929203538,154.88938053097345,0.7809795631219709)",
           "rgba(70.2433628318584,133.81415929203538,154.88938053097345,0.9227595290837433)",
           "rgba(70.2433628318584,133.81415929203538,154.88938053097345,1.0)",
           "rgba(70.2433628318584,133.81415929203538,154.88938053097345,1.0)",
           "rgba(70.2433628318584,133.81415929203538,154.88938053097345,1.0)",
           "rgba(229.69244935543279,192.4014732965009,216.22467771639043,1.0)",
           "rgba(229.69244935543279,192.4014732965009,216.22467771639043,1.0)",
           "rgba(229.69244935543279,192.4014732965009,216.22467771639043,1.0)",
           "rgba(229.69244935543279,192.4014732965009,216.22467771639043,1.0)",
           "rgba(229.69244935543279,192.4014732965009,216.22467771639043,1.0)",
           "rgba(229.69244935543279,192.4014732965009,216.22467771639043,1.0)",
           "rgba(229.69244935543279,192.4014732965009,216.22467771639043,0.0)",
           "rgba(229.69244935543279,192.4014732965009,216.22467771639043,1.0)",
           "rgba(229.69244935543279,192.4014732965009,216.22467771639043,1.0)",
           "rgba(229.69244935543279,192.4014732965009,216.22467771639043,1.0)",
           "rgba(229.69244935543279,192.4014732965009,216.22467771639043,1.0)",
           "rgba(229.69244935543279,192.4014732965009,216.22467771639043,1.0)",
           "rgba(229.69244935543279,192.4014732965009,216.22467771639043,0.9978609601174382)",
           "rgba(70.2433628318584,133.81415929203538,154.88938053097345,1.0)",
           "rgba(70.2433628318584,133.81415929203538,154.88938053097345,1.0)",
           "rgba(70.2433628318584,133.81415929203538,154.88938053097345,1.0)",
           "rgba(70.2433628318584,133.81415929203538,154.88938053097345,1.0)",
           "rgba(70.2433628318584,133.81415929203538,154.88938053097345,1.0)",
           "rgba(70.2433628318584,133.81415929203538,154.88938053097345,1.0)",
           "rgba(229.69244935543279,192.4014732965009,216.22467771639043,1.0)",
           "rgba(229.69244935543279,192.4014732965009,216.22467771639043,1.0)",
           "rgba(229.69244935543279,192.4014732965009,216.22467771639043,1.0)",
           "rgba(229.69244935543279,192.4014732965009,216.22467771639043,0.0)",
           "rgba(229.69244935543279,192.4014732965009,216.22467771639043,1.0)",
           "rgba(229.69244935543279,192.4014732965009,216.22467771639043,0.0)",
           "rgba(229.69244935543279,192.4014732965009,216.22467771639043,0.0)",
           "rgba(229.69244935543279,192.4014732965009,216.22467771639043,0.9978609601174382)",
           "rgba(229.69244935543279,192.4014732965009,216.22467771639043,1.0)",
           "rgba(70.2433628318584,133.81415929203538,154.88938053097345,0.7894228308055838)",
           "rgba(70.2433628318584,133.81415929203538,154.88938053097345,1.0)",
           "rgba(70.2433628318584,133.81415929203538,154.88938053097345,1.0)",
           "rgba(229.69244935543279,192.4014732965009,216.22467771639043,1.0)",
           "rgba(229.69244935543279,192.4014732965009,216.22467771639043,1.0)",
           "rgba(229.69244935543279,192.4014732965009,216.22467771639043,1.0)",
           "rgba(229.69244935543279,192.4014732965009,216.22467771639043,1.0)",
           "rgba(229.69244935543279,192.4014732965009,216.22467771639043,1.0)",
           "rgba(229.69244935543279,192.4014732965009,216.22467771639043,1.0)",
           "rgba(70.2433628318584,133.81415929203538,154.88938053097345,1.0)",
           "rgba(70.2433628318584,133.81415929203538,154.88938053097345,1.0)",
           "rgba(70.2433628318584,133.81415929203538,154.88938053097345,1.0)",
           "rgba(70.2433628318584,133.81415929203538,154.88938053097345,1.0)",
           "rgba(229.69244935543279,192.4014732965009,216.22467771639043,1.0)",
           "rgba(229.69244935543279,192.4014732965009,216.22467771639043,1.0)",
           "rgba(229.69244935543279,192.4014732965009,216.22467771639043,1.0)",
           "rgba(229.69244935543279,192.4014732965009,216.22467771639043,1.0)",
           "rgba(229.69244935543279,192.4014732965009,216.22467771639043,1.0)",
           "rgba(229.69244935543279,192.4014732965009,216.22467771639043,0.9978609601174382)",
           "rgba(229.69244935543279,192.4014732965009,216.22467771639043,0.0)",
           "rgba(229.69244935543279,192.4014732965009,216.22467771639043,0.0)",
           "rgba(70.2433628318584,133.81415929203538,154.88938053097345,1.0)",
           "rgba(229.69244935543279,192.4014732965009,216.22467771639043,0.0)",
           "rgba(70.2433628318584,133.81415929203538,154.88938053097345,1.0)",
           "rgba(70.2433628318584,133.81415929203538,154.88938053097345,1.0)",
           "rgba(229.69244935543279,192.4014732965009,216.22467771639043,1.0)",
           "rgba(229.69244935543279,192.4014732965009,216.22467771639043,1.0)",
           "rgba(229.69244935543279,192.4014732965009,216.22467771639043,1.0)",
           "rgba(229.69244935543279,192.4014732965009,216.22467771639043,1.0)",
           "rgba(229.69244935543279,192.4014732965009,216.22467771639043,1.0)",
           "rgba(229.69244935543279,192.4014732965009,216.22467771639043,0.9978609601174382)",
           "rgba(70.2433628318584,133.81415929203538,154.88938053097345,0.9775252199076787)",
           "rgba(70.2433628318584,133.81415929203538,154.88938053097345,1.0)",
           "rgba(70.2433628318584,133.81415929203538,154.88938053097345,0.6476976108663295)",
           "rgba(70.2433628318584,133.81415929203538,154.88938053097345,1.0)",
           "rgba(70.2433628318584,133.81415929203538,154.88938053097345,1.0)",
           "rgba(229.69244935543279,192.4014732965009,216.22467771639043,1.0)",
           "rgba(229.69244935543279,192.4014732965009,216.22467771639043,1.0)",
           "rgba(229.69244935543279,192.4014732965009,216.22467771639043,1.0)",
           "rgba(229.69244935543279,192.4014732965009,216.22467771639043,1.0)",
           "rgba(229.69244935543279,192.4014732965009,216.22467771639043,1.0)",
           "rgba(229.69244935543279,192.4014732965009,216.22467771639043,1.0)",
           "rgba(229.69244935543279,192.4014732965009,216.22467771639043,1.0)",
           "rgba(229.69244935543279,192.4014732965009,216.22467771639043,1.0)",
           "rgba(229.69244935543279,192.4014732965009,216.22467771639043,0.0)",
           "rgba(70.2433628318584,133.81415929203538,154.88938053097345,0.8011186209146056)",
           "rgba(70.2433628318584,133.81415929203538,154.88938053097345,1.0)",
           "rgba(229.69244935543279,192.4014732965009,216.22467771639043,1.0)",
           "rgba(229.69244935543279,192.4014732965009,216.22467771639043,1.0)",
           "rgba(229.69244935543279,192.4014732965009,216.22467771639043,1.0)",
           "rgba(70.2433628318584,133.81415929203538,154.88938053097345,0.9050124966251125)",
           "rgba(229.69244935543279,192.4014732965009,216.22467771639043,1.0)",
           "rgba(229.69244935543279,192.4014732965009,216.22467771639043,0.0)",
           "rgba(70.2433628318584,133.81415929203538,154.88938053097345,1.0)",
           "rgba(70.2433628318584,133.81415929203538,154.88938053097345,1.0)",
           "rgba(70.2433628318584,133.81415929203538,154.88938053097345,1.0)",
           "rgba(229.69244935543279,192.4014732965009,216.22467771639043,1.0)",
           "rgba(229.69244935543279,192.4014732965009,216.22467771639043,1.0)",
           "rgba(229.69244935543279,192.4014732965009,216.22467771639043,1.0)",
           "rgba(229.69244935543279,192.4014732965009,216.22467771639043,0.957769719006437)",
           "rgba(229.69244935543279,192.4014732965009,216.22467771639043,1.0)",
           "rgba(229.69244935543279,192.4014732965009,216.22467771639043,0.0)",
           "rgba(229.69244935543279,192.4014732965009,216.22467771639043,0.0)",
           "rgba(229.69244935543279,192.4014732965009,216.22467771639043,0.0)",
           "rgba(229.69244935543279,192.4014732965009,216.22467771639043,1.0)",
           "rgba(229.69244935543279,192.4014732965009,216.22467771639043,1.0)",
           "rgba(70.2433628318584,133.81415929203538,154.88938053097345,1.0)",
           "rgba(70.2433628318584,133.81415929203538,154.88938053097345,1.0)",
           "rgba(70.2433628318584,133.81415929203538,154.88938053097345,1.0)",
           "rgba(70.2433628318584,133.81415929203538,154.88938053097345,1.0)",
           "rgba(70.2433628318584,133.81415929203538,154.88938053097345,1.0)",
           "rgba(229.69244935543279,192.4014732965009,216.22467771639043,1.0)",
           "rgba(229.69244935543279,192.4014732965009,216.22467771639043,1.0)",
           "rgba(229.69244935543279,192.4014732965009,216.22467771639043,1.0)",
           "rgba(229.69244935543279,192.4014732965009,216.22467771639043,1.0)",
           "rgba(229.69244935543279,192.4014732965009,216.22467771639043,1.0)",
           "rgba(229.69244935543279,192.4014732965009,216.22467771639043,1.0)",
           "rgba(229.69244935543279,192.4014732965009,216.22467771639043,1.0)",
           "rgba(229.69244935543279,192.4014732965009,216.22467771639043,0.0)",
           "rgba(229.69244935543279,192.4014732965009,216.22467771639043,0.0)",
           "rgba(229.69244935543279,192.4014732965009,216.22467771639043,0.0)",
           "rgba(70.2433628318584,133.81415929203538,154.88938053097345,0.6023862534223671)",
           "rgba(70.2433628318584,133.81415929203538,154.88938053097345,1.0)",
           "rgba(70.2433628318584,133.81415929203538,154.88938053097345,1.0)",
           "rgba(70.2433628318584,133.81415929203538,154.88938053097345,1.0)",
           "rgba(70.2433628318584,133.81415929203538,154.88938053097345,1.0)"
          ],
          "opacity": 0.8,
          "size": 3
         },
         "mode": "markers",
         "type": "scatter3d",
         "x": [
          255,
          254,
          253,
          251,
          250,
          249,
          242,
          216,
          132,
          104,
          90,
          66,
          45,
          255,
          255,
          255,
          254,
          253,
          252,
          251,
          248,
          240,
          65,
          44,
          255,
          254,
          253,
          252,
          251,
          243,
          241,
          225,
          168,
          153,
          88,
          67,
          254,
          253,
          252,
          220,
          218,
          200,
          111,
          99,
          92,
          89,
          88,
          66,
          65,
          64,
          40,
          255,
          254,
          253,
          252,
          251,
          250,
          191,
          187,
          186,
          251,
          254,
          98,
          91,
          73,
          65,
          44,
          255,
          254,
          253,
          252,
          250,
          249,
          190,
          140,
          114,
          88,
          86,
          66,
          62,
          43,
          253,
          252,
          251,
          250,
          246,
          255,
          220,
          183,
          181,
          174,
          254,
          112,
          250,
          254,
          253,
          248,
          244,
          254,
          253,
          251,
          233,
          218,
          210,
          204,
          196,
          124,
          115,
          88,
          87,
          46,
          45,
          255,
          253,
          252,
          251,
          251,
          244,
          241,
          232,
          212,
          113,
          102,
          100,
          254,
          252,
          63,
          249,
          254,
          100,
          253,
          252,
          253,
          242,
          231,
          253,
          209,
          253,
          64,
          255,
          62,
          44,
          253,
          252,
          253,
          245,
          239,
          231,
          255,
          252,
          254,
          249,
          176,
          251,
          93,
          89,
          50,
          253,
          251,
          250,
          253,
          244,
          175,
          161,
          100,
          117,
          108,
          105,
          254,
          62,
          253,
          251,
          208,
          200,
          255,
          253,
          252,
          173,
          127,
          154,
          152,
          149,
          155,
          126,
          110,
          251,
          62,
          61,
          254,
          253,
          242,
          227,
          208,
          253,
          252,
          253,
          150,
          146,
          130,
          88,
          85,
          60,
          254,
          47,
          253,
          250,
          248,
          253,
          234,
          162,
          158,
          253,
          218,
          152,
          149,
          255,
          102,
          93,
          85,
          60,
          46,
          253,
          226,
          205,
          131,
          175,
          168,
          100,
          84,
          83,
          61,
          253,
          250,
          241,
          254,
          67,
          174,
          167,
          163,
          150,
          149,
          254,
          105,
          103,
          62,
          41,
          76,
          202,
          143,
          253,
          84,
          251,
          249,
          241,
          231,
          132,
          176,
          250,
          254,
          252,
          83,
          82,
          253,
          252,
          60,
          59,
          236,
          156,
          254,
          150,
          250,
          135,
          83,
          60,
          58,
          251,
          39,
          251,
          79,
          244,
          238,
          234,
          224,
          205,
          172,
          155,
          138,
          134,
          107,
          254,
          251,
          80,
          254,
          252,
          251,
          174,
          254,
          248,
          244,
          233,
          247,
          192,
          177,
          168,
          152,
          149,
          122,
          113,
          100,
          81,
          253,
          244,
          241,
          226,
          224,
          254,
          167,
          133,
          123,
          103,
          82,
          59,
          58,
          253,
          254,
          237,
          255,
          254,
          48,
          254,
          255,
          254,
          251,
          131,
          255,
          254,
          254,
          84,
          81,
          59,
          57,
          56,
          255,
          255,
          248,
          253,
          246,
          242,
          240,
          251,
          194,
          144,
          58,
          54,
          251,
          250,
          157,
          151,
          56,
          254,
          247,
          245,
          214,
          142,
          136,
          113,
          106,
          87,
          82,
          81,
          79,
          250,
          249,
          59,
          183,
          169,
          158,
          251,
          57,
          56,
          251,
          252,
          251,
          254,
          246,
          191,
          187,
          161,
          255,
          137,
          136,
          120,
          119,
          57,
          251,
          56,
          255,
          209,
          159,
          148,
          142,
          139,
          129,
          114,
          82,
          80,
          78,
          57,
          255,
          252,
          251,
          253,
          240,
          237,
          149,
          121,
          81,
          56,
          253,
          252,
          251,
          250,
          248,
          247,
          149,
          148,
          115,
          79,
          78,
          255,
          251,
          250,
          243,
          208,
          158,
          156,
          146,
          130,
          255,
          55,
          253,
          255,
          252,
          251,
          173,
          171,
          102,
          56,
          52,
          253,
          251,
          247,
          243,
          254,
          203,
          255,
          171,
          152,
          91,
          77,
          54,
          255,
          254,
          252,
          251,
          249,
          230,
          138,
          119,
          101,
          100,
          94,
          77,
          54,
          53,
          51,
          254,
          253,
          252,
          251,
          250,
          247,
          140,
          130,
          122,
          252,
          250,
          102,
          101,
          84,
          54,
          53,
          255,
          254,
          252,
          251,
          250,
          247,
          244,
          230,
          253,
          252,
          142,
          131,
          130,
          122,
          75,
          253,
          252,
          251,
          250,
          249,
          247,
          246,
          245,
          249,
          242,
          49,
          253,
          254,
          100,
          99,
          98,
          97,
          255,
          251,
          250,
          76,
          75,
          69,
          252,
          54,
          53,
          248,
          94,
          253,
          252,
          250,
          249,
          248,
          246,
          240,
          248,
          158,
          129,
          254,
          75,
          74,
          53,
          254,
          253,
          248,
          247,
          246,
          254,
          236,
          254,
          137,
          130,
          124,
          108,
          99,
          97,
          254,
          252,
          76,
          74,
          253,
          251,
          249,
          50,
          254,
          251,
          250,
          247,
          238,
          253,
          252,
          210,
          169,
          138,
          74,
          255,
          251,
          252,
          251,
          255,
          254,
          253,
          191,
          51,
          255,
          254,
          125,
          99,
          98,
          74,
          51,
          252,
          254,
          250,
          249,
          245,
          238,
          237,
          251,
          253,
          146,
          254,
          127,
          100,
          254,
          120,
          99,
          74,
          252,
          251,
          255,
          254,
          145,
          141,
          128,
          117,
          254,
          74,
          61,
          49,
          47,
          254,
          248,
          241,
          253,
          180,
          167,
          253,
          97,
          76,
          72,
          72,
          52,
          50,
          48,
          252,
          249,
          254,
          253,
          251,
          250,
          253,
          253,
          143,
          132,
          96,
          254,
          47,
          254,
          254,
          251,
          248,
          247,
          243,
          234,
          88,
          251,
          101,
          96,
          253,
          73,
          49,
          48,
          46,
          254,
          252,
          249,
          246,
          219,
          255,
          254,
          253,
          252,
          250,
          73,
          72,
          245,
          249,
          239,
          236,
          175,
          166,
          122,
          105,
          254,
          50,
          47,
          254,
          254,
          253,
          251,
          250,
          249,
          248,
          247,
          206,
          251,
          114,
          98,
          96,
          253,
          252,
          72,
          47,
          254,
          253,
          252,
          244,
          223,
          254,
          103,
          75,
          78,
          254,
          253,
          252,
          251,
          248,
          247,
          233,
          254,
          169,
          96,
          95,
          94,
          76,
          71,
          69,
          253,
          250,
          49,
          48,
          255,
          254,
          253,
          252,
          251,
          248,
          234,
          254,
          153,
          134,
          121,
          254,
          70,
          69,
          253,
          49,
          48,
          47,
          253,
          254,
          253,
          252,
          248,
          244,
          179,
          120,
          92,
          70,
          57,
          55,
          54,
          49,
          47,
          254,
          253,
          251,
          254,
          254,
          254,
          215,
          254,
          255,
          254,
          255,
          254,
          117,
          94,
          93,
          70,
          67,
          47,
          90,
          255,
          253,
          255,
          254,
          253,
          195,
          201,
          118,
          113,
          80,
          68,
          44,
          255,
          254,
          246,
          244,
          116,
          110,
          70,
          67,
          45,
          43,
          255,
          254,
          253,
          252,
          246,
          229,
          204,
          146,
          99,
          115,
          46,
          44,
          255,
          254,
          251,
          237,
          253,
          110,
          92,
          67,
          60,
          48,
          47,
          251,
          255,
          254,
          251,
          250,
          247,
          252,
          254,
          90,
          76,
          45,
          255,
          254,
          252,
          57,
          239,
          155,
          73,
          66,
          45,
          254,
          252,
          248,
          238,
          203,
          189,
          176,
          164,
          109,
          254,
          88,
          67,
          46,
          45,
          41,
          255,
          254,
          253,
          252,
          251,
          248,
          246,
          217,
          198,
          195,
          108,
          94,
          91,
          67,
          65
         ],
         "y": [
          202,
          206,
          203,
          237,
          238,
          224,
          222,
          223,
          146,
          166,
          216,
          152,
          72,
          215,
          214,
          212,
          203,
          206,
          209,
          222,
          217,
          237,
          156,
          74,
          209,
          207,
          206,
          217,
          229,
          242,
          203,
          224,
          246,
          138,
          214,
          156,
          208,
          208,
          206,
          197,
          227,
          231,
          162,
          157,
          209,
          213,
          212,
          145,
          154,
          141,
          67,
          213,
          210,
          209,
          226,
          222,
          209,
          227,
          212,
          230,
          247,
          176,
          206,
          212,
          75,
          142,
          69,
          214,
          212,
          211,
          209,
          209,
          255,
          222,
          137,
          160,
          211,
          211,
          147,
          154,
          69,
          211,
          211,
          229,
          252,
          214,
          205,
          214,
          227,
          229,
          228,
          164,
          213,
          241,
          186,
          204,
          242,
          242,
          213,
          213,
          235,
          241,
          209,
          223,
          197,
          218,
          134,
          215,
          209,
          209,
          67,
          69,
          207,
          213,
          216,
          236,
          223,
          202,
          201,
          214,
          218,
          213,
          158,
          157,
          182,
          198,
          146,
          239,
          186,
          231,
          214,
          236,
          215,
          203,
          218,
          215,
          191,
          214,
          141,
          215,
          146,
          63,
          220,
          220,
          226,
          205,
          200,
          201,
          211,
          223,
          172,
          236,
          224,
          245,
          152,
          207,
          61,
          218,
          231,
          229,
          217,
          205,
          223,
          223,
          233,
          209,
          208,
          209,
          165,
          142,
          220,
          245,
          203,
          193,
          211,
          207,
          215,
          223,
          128,
          225,
          224,
          223,
          212,
          129,
          206,
          244,
          137,
          148,
          187,
          221,
          236,
          196,
          214,
          215,
          215,
          219,
          220,
          220,
          128,
          213,
          205,
          146,
          175,
          63,
          223,
          227,
          252,
          212,
          197,
          224,
          222,
          209,
          219,
          220,
          223,
          202,
          143,
          198,
          205,
          134,
          60,
          224,
          198,
          211,
          203,
          201,
          220,
          202,
          203,
          202,
          141,
          222,
          245,
          250,
          196,
          146,
          213,
          220,
          219,
          218,
          213,
          211,
          206,
          150,
          138,
          59,
          181,
          188,
          213,
          221,
          201,
          232,
          242,
          252,
          227,
          179,
          202,
          218,
          213,
          211,
          201,
          201,
          215,
          221,
          136,
          139,
          246,
          214,
          220,
          214,
          238,
          206,
          199,
          126,
          135,
          246,
          51,
          244,
          190,
          227,
          246,
          252,
          192,
          185,
          207,
          214,
          197,
          218,
          142,
          171,
          232,
          199,
          189,
          215,
          209,
          227,
          190,
          240,
          239,
          251,
          243,
          197,
          207,
          182,
          212,
          214,
          244,
          119,
          195,
          198,
          225,
          236,
          247,
          187,
          187,
          167,
          208,
          212,
          237,
          209,
          198,
          120,
          121,
          214,
          188,
          250,
          208,
          192,
          91,
          194,
          204,
          194,
          232,
          234,
          200,
          198,
          200,
          197,
          196,
          128,
          125,
          133,
          212,
          211,
          250,
          205,
          238,
          219,
          251,
          229,
          189,
          211,
          118,
          103,
          250,
          238,
          194,
          208,
          130,
          177,
          237,
          249,
          183,
          212,
          211,
          116,
          194,
          185,
          193,
          194,
          194,
          245,
          237,
          127,
          208,
          195,
          208,
          246,
          121,
          114,
          246,
          249,
          249,
          192,
          246,
          177,
          195,
          209,
          213,
          206,
          198,
          116,
          187,
          119,
          248,
          119,
          205,
          182,
          177,
          205,
          202,
          207,
          208,
          198,
          189,
          194,
          191,
          114,
          250,
          249,
          247,
          227,
          250,
          238,
          209,
          200,
          191,
          125,
          247,
          247,
          240,
          248,
          244,
          246,
          202,
          202,
          197,
          185,
          191,
          253,
          237,
          248,
          222,
          180,
          190,
          197,
          202,
          199,
          213,
          111,
          217,
          248,
          250,
          249,
          173,
          172,
          231,
          117,
          115,
          247,
          247,
          244,
          233,
          189,
          176,
          203,
          170,
          207,
          105,
          187,
          123,
          245,
          248,
          245,
          246,
          244,
          220,
          191,
          201,
          112,
          229,
          187,
          187,
          106,
          114,
          116,
          248,
          245,
          247,
          244,
          245,
          242,
          197,
          196,
          208,
          246,
          236,
          104,
          229,
          103,
          111,
          107,
          244,
          244,
          238,
          212,
          243,
          237,
          239,
          231,
          211,
          219,
          196,
          197,
          198,
          198,
          185,
          242,
          244,
          241,
          236,
          246,
          240,
          239,
          238,
          241,
          236,
          93,
          211,
          163,
          230,
          233,
          231,
          232,
          242,
          242,
          244,
          185,
          181,
          102,
          205,
          113,
          103,
          241,
          223,
          244,
          211,
          245,
          239,
          241,
          240,
          246,
          231,
          174,
          230,
          173,
          177,
          181,
          101,
          242,
          204,
          240,
          235,
          241,
          178,
          233,
          190,
          182,
          196,
          191,
          194,
          229,
          229,
          183,
          205,
          177,
          179,
          246,
          242,
          240,
          98,
          185,
          207,
          230,
          208,
          245,
          216,
          240,
          217,
          164,
          192,
          178,
          213,
          244,
          217,
          233,
          214,
          206,
          208,
          168,
          109,
          216,
          191,
          188,
          226,
          230,
          98,
          97,
          222,
          169,
          236,
          238,
          241,
          240,
          241,
          228,
          214,
          162,
          200,
          193,
          230,
          168,
          190,
          223,
          93,
          220,
          246,
          210,
          208,
          234,
          186,
          194,
          171,
          188,
          170,
          92,
          95,
          91,
          201,
          243,
          241,
          218,
          161,
          159,
          220,
          229,
          178,
          175,
          178,
          97,
          108,
          92,
          217,
          207,
          200,
          219,
          216,
          244,
          244,
          210,
          171,
          169,
          93,
          197,
          89,
          180,
          220,
          210,
          244,
          246,
          243,
          240,
          214,
          214,
          230,
          226,
          216,
          177,
          94,
          91,
          100,
          184,
          195,
          202,
          244,
          233,
          201,
          212,
          210,
          216,
          226,
          175,
          176,
          236,
          212,
          231,
          239,
          173,
          156,
          175,
          175,
          189,
          91,
          89,
          179,
          194,
          191,
          235,
          211,
          211,
          211,
          210,
          240,
          211,
          184,
          219,
          226,
          210,
          210,
          172,
          88,
          174,
          198,
          214,
          243,
          229,
          193,
          220,
          169,
          187,
          162,
          203,
          201,
          204,
          240,
          239,
          229,
          192,
          154,
          225,
          225,
          226,
          169,
          167,
          163,
          212,
          208,
          86,
          94,
          229,
          181,
          196,
          211,
          213,
          242,
          233,
          187,
          150,
          226,
          193,
          170,
          169,
          163,
          224,
          98,
          85,
          83,
          226,
          185,
          200,
          206,
          243,
          245,
          154,
          173,
          222,
          160,
          82,
          82,
          81,
          80,
          82,
          212,
          212,
          210,
          184,
          185,
          191,
          231,
          193,
          199,
          195,
          203,
          195,
          178,
          222,
          222,
          158,
          163,
          81,
          217,
          205,
          205,
          213,
          155,
          210,
          203,
          234,
          179,
          172,
          162,
          166,
          80,
          200,
          188,
          245,
          243,
          173,
          173,
          155,
          164,
          79,
          85,
          201,
          192,
          229,
          224,
          244,
          217,
          239,
          146,
          232,
          220,
          80,
          77,
          197,
          193,
          209,
          230,
          222,
          165,
          219,
          158,
          79,
          76,
          78,
          249,
          199,
          194,
          226,
          224,
          224,
          220,
          192,
          161,
          153,
          82,
          211,
          199,
          220,
          136,
          220,
          146,
          161,
          157,
          76,
          201,
          223,
          221,
          198,
          226,
          231,
          149,
          224,
          161,
          190,
          216,
          164,
          79,
          75,
          74,
          206,
          202,
          203,
          227,
          208,
          244,
          220,
          208,
          232,
          208,
          214,
          219,
          218,
          161,
          151
         ],
         "z": [
          191,
          191,
          191,
          191,
          191,
          191,
          191,
          191,
          127,
          127,
          191,
          127,
          63,
          190,
          189,
          190,
          190,
          190,
          190,
          190,
          190,
          190,
          126,
          62,
          189,
          189,
          189,
          189,
          189,
          189,
          189,
          189,
          189,
          125,
          189,
          125,
          188,
          188,
          188,
          188,
          188,
          188,
          124,
          124,
          188,
          188,
          188,
          124,
          124,
          124,
          60,
          187,
          187,
          187,
          187,
          187,
          187,
          187,
          187,
          187,
          219,
          203,
          187,
          187,
          59,
          123,
          59,
          186,
          186,
          186,
          186,
          186,
          250,
          186,
          122,
          122,
          186,
          186,
          122,
          122,
          58,
          185,
          185,
          185,
          249,
          185,
          196,
          185,
          185,
          185,
          185,
          203,
          185,
          218,
          201,
          201,
          201,
          201,
          184,
          184,
          184,
          184,
          184,
          184,
          184,
          184,
          120,
          184,
          184,
          184,
          56,
          56,
          191,
          183,
          183,
          183,
          191,
          183,
          183,
          183,
          183,
          183,
          119,
          119,
          202,
          202,
          119,
          217,
          200,
          217,
          182,
          182,
          183,
          182,
          182,
          182,
          182,
          187,
          118,
          189,
          118,
          54,
          181,
          181,
          175,
          181,
          181,
          181,
          190,
          190,
          203,
          173,
          181,
          220,
          117,
          181,
          53,
          180,
          180,
          180,
          183,
          180,
          180,
          180,
          220,
          180,
          180,
          180,
          203,
          116,
          179,
          179,
          179,
          179,
          189,
          189,
          189,
          179,
          113,
          179,
          179,
          179,
          172,
          115,
          179,
          234,
          115,
          115,
          200,
          178,
          178,
          178,
          178,
          181,
          181,
          180,
          178,
          178,
          114,
          189,
          178,
          114,
          203,
          50,
          177,
          177,
          241,
          186,
          177,
          177,
          177,
          188,
          188,
          177,
          177,
          195,
          113,
          177,
          177,
          113,
          49,
          176,
          176,
          176,
          154,
          176,
          176,
          176,
          176,
          176,
          112,
          175,
          175,
          239,
          196,
          129,
          175,
          175,
          175,
          175,
          175,
          187,
          175,
          111,
          111,
          47,
          153,
          174,
          174,
          179,
          174,
          173,
          237,
          237,
          173,
          145,
          173,
          185,
          186,
          186,
          173,
          173,
          188,
          188,
          109,
          109,
          236,
          172,
          198,
          172,
          228,
          172,
          172,
          108,
          108,
          161,
          44,
          160,
          160,
          171,
          235,
          235,
          171,
          171,
          171,
          171,
          171,
          171,
          107,
          203,
          170,
          171,
          200,
          185,
          185,
          185,
          199,
          170,
          215,
          234,
          214,
          170,
          170,
          170,
          170,
          170,
          170,
          106,
          170,
          170,
          176,
          169,
          233,
          169,
          169,
          203,
          169,
          169,
          169,
          169,
          169,
          105,
          105,
          184,
          199,
          232,
          198,
          198,
          75,
          197,
          196,
          196,
          196,
          168,
          195,
          195,
          194,
          168,
          168,
          104,
          104,
          104,
          192,
          191,
          231,
          191,
          167,
          167,
          231,
          191,
          167,
          167,
          103,
          89,
          230,
          230,
          166,
          166,
          102,
          203,
          165,
          229,
          165,
          165,
          165,
          101,
          165,
          165,
          165,
          165,
          165,
          228,
          228,
          107,
          164,
          164,
          164,
          227,
          100,
          100,
          224,
          163,
          227,
          202,
          227,
          163,
          163,
          163,
          190,
          163,
          163,
          99,
          163,
          99,
          226,
          104,
          195,
          162,
          162,
          162,
          162,
          162,
          162,
          162,
          162,
          162,
          162,
          98,
          225,
          225,
          225,
          175,
          161,
          225,
          161,
          161,
          161,
          97,
          224,
          224,
          224,
          224,
          224,
          224,
          160,
          160,
          160,
          160,
          160,
          223,
          223,
          223,
          159,
          159,
          159,
          159,
          159,
          159,
          189,
          95,
          181,
          222,
          222,
          222,
          158,
          158,
          222,
          94,
          94,
          221,
          221,
          221,
          157,
          203,
          157,
          196,
          157,
          157,
          93,
          157,
          93,
          220,
          220,
          220,
          220,
          220,
          156,
          156,
          156,
          92,
          220,
          156,
          156,
          92,
          92,
          92,
          219,
          219,
          219,
          219,
          219,
          219,
          155,
          155,
          155,
          219,
          219,
          91,
          219,
          91,
          91,
          91,
          218,
          218,
          218,
          218,
          218,
          218,
          218,
          218,
          188,
          188,
          154,
          154,
          154,
          154,
          154,
          217,
          217,
          217,
          217,
          217,
          217,
          217,
          217,
          207,
          217,
          83,
          205,
          203,
          217,
          217,
          217,
          217,
          218,
          218,
          218,
          153,
          153,
          89,
          201,
          89,
          89,
          201,
          203,
          216,
          216,
          216,
          216,
          216,
          216,
          216,
          210,
          152,
          216,
          203,
          152,
          152,
          88,
          215,
          191,
          215,
          215,
          215,
          203,
          151,
          201,
          151,
          151,
          151,
          151,
          215,
          215,
          202,
          202,
          151,
          151,
          217,
          217,
          217,
          87,
          200,
          214,
          214,
          214,
          214,
          182,
          182,
          214,
          150,
          150,
          150,
          192,
          218,
          213,
          213,
          190,
          190,
          190,
          149,
          85,
          189,
          199,
          149,
          213,
          213,
          85,
          85,
          216,
          203,
          212,
          212,
          212,
          212,
          212,
          183,
          183,
          148,
          201,
          148,
          220,
          203,
          148,
          212,
          84,
          211,
          223,
          189,
          189,
          211,
          147,
          147,
          147,
          200,
          147,
          83,
          83,
          83,
          210,
          210,
          210,
          181,
          146,
          146,
          180,
          210,
          146,
          146,
          146,
          82,
          82,
          82,
          186,
          186,
          209,
          209,
          209,
          209,
          217,
          188,
          145,
          145,
          81,
          195,
          81,
          203,
          208,
          208,
          208,
          208,
          208,
          208,
          188,
          183,
          208,
          208,
          183,
          144,
          80,
          80,
          80,
          202,
          207,
          207,
          207,
          207,
          196,
          187,
          187,
          187,
          187,
          143,
          143,
          153,
          206,
          206,
          206,
          142,
          142,
          142,
          142,
          199,
          78,
          78,
          203,
          205,
          205,
          205,
          205,
          205,
          205,
          205,
          205,
          185,
          141,
          205,
          205,
          186,
          186,
          141,
          77,
          203,
          204,
          204,
          204,
          204,
          198,
          204,
          140,
          160,
          203,
          203,
          203,
          203,
          203,
          203,
          203,
          200,
          139,
          203,
          203,
          203,
          139,
          139,
          139,
          185,
          185,
          75,
          75,
          202,
          202,
          202,
          202,
          202,
          202,
          202,
          199,
          138,
          202,
          138,
          203,
          138,
          138,
          177,
          74,
          74,
          74,
          176,
          201,
          201,
          201,
          201,
          201,
          137,
          137,
          201,
          137,
          73,
          73,
          73,
          73,
          73,
          184,
          184,
          184,
          200,
          199,
          198,
          200,
          197,
          196,
          196,
          195,
          195,
          136,
          200,
          200,
          136,
          136,
          72,
          195,
          192,
          192,
          191,
          199,
          199,
          192,
          199,
          135,
          135,
          135,
          135,
          71,
          198,
          198,
          198,
          198,
          134,
          134,
          134,
          134,
          70,
          70,
          197,
          197,
          197,
          197,
          197,
          197,
          197,
          133,
          212,
          197,
          69,
          69,
          196,
          196,
          196,
          196,
          178,
          132,
          196,
          132,
          68,
          68,
          68,
          224,
          195,
          195,
          195,
          195,
          195,
          187,
          203,
          131,
          131,
          67,
          194,
          194,
          194,
          104,
          194,
          130,
          130,
          130,
          66,
          193,
          193,
          193,
          193,
          193,
          193,
          129,
          193,
          129,
          202,
          193,
          129,
          65,
          65,
          65,
          192,
          192,
          192,
          192,
          192,
          192,
          192,
          192,
          192,
          192,
          192,
          192,
          192,
          128,
          128
         ]
        }
       ],
       "layout": {
        "margin": {
         "b": 0,
         "l": 0,
         "r": 0,
         "t": 0
        },
        "template": {
         "data": {
          "bar": [
           {
            "error_x": {
             "color": "#2a3f5f"
            },
            "error_y": {
             "color": "#2a3f5f"
            },
            "marker": {
             "line": {
              "color": "#E5ECF6",
              "width": 0.5
             }
            },
            "type": "bar"
           }
          ],
          "barpolar": [
           {
            "marker": {
             "line": {
              "color": "#E5ECF6",
              "width": 0.5
             }
            },
            "type": "barpolar"
           }
          ],
          "carpet": [
           {
            "aaxis": {
             "endlinecolor": "#2a3f5f",
             "gridcolor": "white",
             "linecolor": "white",
             "minorgridcolor": "white",
             "startlinecolor": "#2a3f5f"
            },
            "baxis": {
             "endlinecolor": "#2a3f5f",
             "gridcolor": "white",
             "linecolor": "white",
             "minorgridcolor": "white",
             "startlinecolor": "#2a3f5f"
            },
            "type": "carpet"
           }
          ],
          "choropleth": [
           {
            "colorbar": {
             "outlinewidth": 0,
             "ticks": ""
            },
            "type": "choropleth"
           }
          ],
          "contour": [
           {
            "colorbar": {
             "outlinewidth": 0,
             "ticks": ""
            },
            "colorscale": [
             [
              0,
              "#0d0887"
             ],
             [
              0.1111111111111111,
              "#46039f"
             ],
             [
              0.2222222222222222,
              "#7201a8"
             ],
             [
              0.3333333333333333,
              "#9c179e"
             ],
             [
              0.4444444444444444,
              "#bd3786"
             ],
             [
              0.5555555555555556,
              "#d8576b"
             ],
             [
              0.6666666666666666,
              "#ed7953"
             ],
             [
              0.7777777777777778,
              "#fb9f3a"
             ],
             [
              0.8888888888888888,
              "#fdca26"
             ],
             [
              1,
              "#f0f921"
             ]
            ],
            "type": "contour"
           }
          ],
          "contourcarpet": [
           {
            "colorbar": {
             "outlinewidth": 0,
             "ticks": ""
            },
            "type": "contourcarpet"
           }
          ],
          "heatmap": [
           {
            "colorbar": {
             "outlinewidth": 0,
             "ticks": ""
            },
            "colorscale": [
             [
              0,
              "#0d0887"
             ],
             [
              0.1111111111111111,
              "#46039f"
             ],
             [
              0.2222222222222222,
              "#7201a8"
             ],
             [
              0.3333333333333333,
              "#9c179e"
             ],
             [
              0.4444444444444444,
              "#bd3786"
             ],
             [
              0.5555555555555556,
              "#d8576b"
             ],
             [
              0.6666666666666666,
              "#ed7953"
             ],
             [
              0.7777777777777778,
              "#fb9f3a"
             ],
             [
              0.8888888888888888,
              "#fdca26"
             ],
             [
              1,
              "#f0f921"
             ]
            ],
            "type": "heatmap"
           }
          ],
          "heatmapgl": [
           {
            "colorbar": {
             "outlinewidth": 0,
             "ticks": ""
            },
            "colorscale": [
             [
              0,
              "#0d0887"
             ],
             [
              0.1111111111111111,
              "#46039f"
             ],
             [
              0.2222222222222222,
              "#7201a8"
             ],
             [
              0.3333333333333333,
              "#9c179e"
             ],
             [
              0.4444444444444444,
              "#bd3786"
             ],
             [
              0.5555555555555556,
              "#d8576b"
             ],
             [
              0.6666666666666666,
              "#ed7953"
             ],
             [
              0.7777777777777778,
              "#fb9f3a"
             ],
             [
              0.8888888888888888,
              "#fdca26"
             ],
             [
              1,
              "#f0f921"
             ]
            ],
            "type": "heatmapgl"
           }
          ],
          "histogram": [
           {
            "marker": {
             "colorbar": {
              "outlinewidth": 0,
              "ticks": ""
             }
            },
            "type": "histogram"
           }
          ],
          "histogram2d": [
           {
            "colorbar": {
             "outlinewidth": 0,
             "ticks": ""
            },
            "colorscale": [
             [
              0,
              "#0d0887"
             ],
             [
              0.1111111111111111,
              "#46039f"
             ],
             [
              0.2222222222222222,
              "#7201a8"
             ],
             [
              0.3333333333333333,
              "#9c179e"
             ],
             [
              0.4444444444444444,
              "#bd3786"
             ],
             [
              0.5555555555555556,
              "#d8576b"
             ],
             [
              0.6666666666666666,
              "#ed7953"
             ],
             [
              0.7777777777777778,
              "#fb9f3a"
             ],
             [
              0.8888888888888888,
              "#fdca26"
             ],
             [
              1,
              "#f0f921"
             ]
            ],
            "type": "histogram2d"
           }
          ],
          "histogram2dcontour": [
           {
            "colorbar": {
             "outlinewidth": 0,
             "ticks": ""
            },
            "colorscale": [
             [
              0,
              "#0d0887"
             ],
             [
              0.1111111111111111,
              "#46039f"
             ],
             [
              0.2222222222222222,
              "#7201a8"
             ],
             [
              0.3333333333333333,
              "#9c179e"
             ],
             [
              0.4444444444444444,
              "#bd3786"
             ],
             [
              0.5555555555555556,
              "#d8576b"
             ],
             [
              0.6666666666666666,
              "#ed7953"
             ],
             [
              0.7777777777777778,
              "#fb9f3a"
             ],
             [
              0.8888888888888888,
              "#fdca26"
             ],
             [
              1,
              "#f0f921"
             ]
            ],
            "type": "histogram2dcontour"
           }
          ],
          "mesh3d": [
           {
            "colorbar": {
             "outlinewidth": 0,
             "ticks": ""
            },
            "type": "mesh3d"
           }
          ],
          "parcoords": [
           {
            "line": {
             "colorbar": {
              "outlinewidth": 0,
              "ticks": ""
             }
            },
            "type": "parcoords"
           }
          ],
          "pie": [
           {
            "automargin": true,
            "type": "pie"
           }
          ],
          "scatter": [
           {
            "marker": {
             "colorbar": {
              "outlinewidth": 0,
              "ticks": ""
             }
            },
            "type": "scatter"
           }
          ],
          "scatter3d": [
           {
            "line": {
             "colorbar": {
              "outlinewidth": 0,
              "ticks": ""
             }
            },
            "marker": {
             "colorbar": {
              "outlinewidth": 0,
              "ticks": ""
             }
            },
            "type": "scatter3d"
           }
          ],
          "scattercarpet": [
           {
            "marker": {
             "colorbar": {
              "outlinewidth": 0,
              "ticks": ""
             }
            },
            "type": "scattercarpet"
           }
          ],
          "scattergeo": [
           {
            "marker": {
             "colorbar": {
              "outlinewidth": 0,
              "ticks": ""
             }
            },
            "type": "scattergeo"
           }
          ],
          "scattergl": [
           {
            "marker": {
             "colorbar": {
              "outlinewidth": 0,
              "ticks": ""
             }
            },
            "type": "scattergl"
           }
          ],
          "scattermapbox": [
           {
            "marker": {
             "colorbar": {
              "outlinewidth": 0,
              "ticks": ""
             }
            },
            "type": "scattermapbox"
           }
          ],
          "scatterpolar": [
           {
            "marker": {
             "colorbar": {
              "outlinewidth": 0,
              "ticks": ""
             }
            },
            "type": "scatterpolar"
           }
          ],
          "scatterpolargl": [
           {
            "marker": {
             "colorbar": {
              "outlinewidth": 0,
              "ticks": ""
             }
            },
            "type": "scatterpolargl"
           }
          ],
          "scatterternary": [
           {
            "marker": {
             "colorbar": {
              "outlinewidth": 0,
              "ticks": ""
             }
            },
            "type": "scatterternary"
           }
          ],
          "surface": [
           {
            "colorbar": {
             "outlinewidth": 0,
             "ticks": ""
            },
            "colorscale": [
             [
              0,
              "#0d0887"
             ],
             [
              0.1111111111111111,
              "#46039f"
             ],
             [
              0.2222222222222222,
              "#7201a8"
             ],
             [
              0.3333333333333333,
              "#9c179e"
             ],
             [
              0.4444444444444444,
              "#bd3786"
             ],
             [
              0.5555555555555556,
              "#d8576b"
             ],
             [
              0.6666666666666666,
              "#ed7953"
             ],
             [
              0.7777777777777778,
              "#fb9f3a"
             ],
             [
              0.8888888888888888,
              "#fdca26"
             ],
             [
              1,
              "#f0f921"
             ]
            ],
            "type": "surface"
           }
          ],
          "table": [
           {
            "cells": {
             "fill": {
              "color": "#EBF0F8"
             },
             "line": {
              "color": "white"
             }
            },
            "header": {
             "fill": {
              "color": "#C8D4E3"
             },
             "line": {
              "color": "white"
             }
            },
            "type": "table"
           }
          ]
         },
         "layout": {
          "annotationdefaults": {
           "arrowcolor": "#2a3f5f",
           "arrowhead": 0,
           "arrowwidth": 1
          },
          "coloraxis": {
           "colorbar": {
            "outlinewidth": 0,
            "ticks": ""
           }
          },
          "colorscale": {
           "diverging": [
            [
             0,
             "#8e0152"
            ],
            [
             0.1,
             "#c51b7d"
            ],
            [
             0.2,
             "#de77ae"
            ],
            [
             0.3,
             "#f1b6da"
            ],
            [
             0.4,
             "#fde0ef"
            ],
            [
             0.5,
             "#f7f7f7"
            ],
            [
             0.6,
             "#e6f5d0"
            ],
            [
             0.7,
             "#b8e186"
            ],
            [
             0.8,
             "#7fbc41"
            ],
            [
             0.9,
             "#4d9221"
            ],
            [
             1,
             "#276419"
            ]
           ],
           "sequential": [
            [
             0,
             "#0d0887"
            ],
            [
             0.1111111111111111,
             "#46039f"
            ],
            [
             0.2222222222222222,
             "#7201a8"
            ],
            [
             0.3333333333333333,
             "#9c179e"
            ],
            [
             0.4444444444444444,
             "#bd3786"
            ],
            [
             0.5555555555555556,
             "#d8576b"
            ],
            [
             0.6666666666666666,
             "#ed7953"
            ],
            [
             0.7777777777777778,
             "#fb9f3a"
            ],
            [
             0.8888888888888888,
             "#fdca26"
            ],
            [
             1,
             "#f0f921"
            ]
           ],
           "sequentialminus": [
            [
             0,
             "#0d0887"
            ],
            [
             0.1111111111111111,
             "#46039f"
            ],
            [
             0.2222222222222222,
             "#7201a8"
            ],
            [
             0.3333333333333333,
             "#9c179e"
            ],
            [
             0.4444444444444444,
             "#bd3786"
            ],
            [
             0.5555555555555556,
             "#d8576b"
            ],
            [
             0.6666666666666666,
             "#ed7953"
            ],
            [
             0.7777777777777778,
             "#fb9f3a"
            ],
            [
             0.8888888888888888,
             "#fdca26"
            ],
            [
             1,
             "#f0f921"
            ]
           ]
          },
          "colorway": [
           "#636efa",
           "#EF553B",
           "#00cc96",
           "#ab63fa",
           "#FFA15A",
           "#19d3f3",
           "#FF6692",
           "#B6E880",
           "#FF97FF",
           "#FECB52"
          ],
          "font": {
           "color": "#2a3f5f"
          },
          "geo": {
           "bgcolor": "white",
           "lakecolor": "white",
           "landcolor": "#E5ECF6",
           "showlakes": true,
           "showland": true,
           "subunitcolor": "white"
          },
          "hoverlabel": {
           "align": "left"
          },
          "hovermode": "closest",
          "mapbox": {
           "style": "light"
          },
          "paper_bgcolor": "white",
          "plot_bgcolor": "#E5ECF6",
          "polar": {
           "angularaxis": {
            "gridcolor": "white",
            "linecolor": "white",
            "ticks": ""
           },
           "bgcolor": "#E5ECF6",
           "radialaxis": {
            "gridcolor": "white",
            "linecolor": "white",
            "ticks": ""
           }
          },
          "scene": {
           "xaxis": {
            "backgroundcolor": "#E5ECF6",
            "gridcolor": "white",
            "gridwidth": 2,
            "linecolor": "white",
            "showbackground": true,
            "ticks": "",
            "zerolinecolor": "white"
           },
           "yaxis": {
            "backgroundcolor": "#E5ECF6",
            "gridcolor": "white",
            "gridwidth": 2,
            "linecolor": "white",
            "showbackground": true,
            "ticks": "",
            "zerolinecolor": "white"
           },
           "zaxis": {
            "backgroundcolor": "#E5ECF6",
            "gridcolor": "white",
            "gridwidth": 2,
            "linecolor": "white",
            "showbackground": true,
            "ticks": "",
            "zerolinecolor": "white"
           }
          },
          "shapedefaults": {
           "line": {
            "color": "#2a3f5f"
           }
          },
          "ternary": {
           "aaxis": {
            "gridcolor": "white",
            "linecolor": "white",
            "ticks": ""
           },
           "baxis": {
            "gridcolor": "white",
            "linecolor": "white",
            "ticks": ""
           },
           "bgcolor": "#E5ECF6",
           "caxis": {
            "gridcolor": "white",
            "linecolor": "white",
            "ticks": ""
           }
          },
          "title": {
           "x": 0.05
          },
          "xaxis": {
           "automargin": true,
           "gridcolor": "white",
           "linecolor": "white",
           "ticks": "",
           "title": {
            "standoff": 15
           },
           "zerolinecolor": "white",
           "zerolinewidth": 2
          },
          "yaxis": {
           "automargin": true,
           "gridcolor": "white",
           "linecolor": "white",
           "ticks": "",
           "title": {
            "standoff": 15
           },
           "zerolinecolor": "white",
           "zerolinewidth": 2
          }
         }
        }
       }
      },
      "text/html": [
       "<div>\n",
       "        \n",
       "        \n",
       "            <div id=\"c61b7387-3f4c-491e-96c8-4df03f410893\" class=\"plotly-graph-div\" style=\"height:525px; width:100%;\"></div>\n",
       "            <script type=\"text/javascript\">\n",
       "                require([\"plotly\"], function(Plotly) {\n",
       "                    window.PLOTLYENV=window.PLOTLYENV || {};\n",
       "                    \n",
       "                if (document.getElementById(\"c61b7387-3f4c-491e-96c8-4df03f410893\")) {\n",
       "                    Plotly.newPlot(\n",
       "                        'c61b7387-3f4c-491e-96c8-4df03f410893',\n",
       "                        [{\"marker\": {\"color\": [\"rgba(229.69244935543279,192.4014732965009,216.22467771639043,1.0)\", \"rgba(229.69244935543279,192.4014732965009,216.22467771639043,1.0)\", \"rgba(229.69244935543279,192.4014732965009,216.22467771639043,1.0)\", \"rgba(229.69244935543279,192.4014732965009,216.22467771639043,1.0)\", \"rgba(229.69244935543279,192.4014732965009,216.22467771639043,1.0)\", \"rgba(229.69244935543279,192.4014732965009,216.22467771639043,1.0)\", \"rgba(229.69244935543279,192.4014732965009,216.22467771639043,1.0)\", \"rgba(229.69244935543279,192.4014732965009,216.22467771639043,0.9832624162720306)\", \"rgba(229.69244935543279,192.4014732965009,216.22467771639043,0.0)\", \"rgba(229.69244935543279,192.4014732965009,216.22467771639043,0.9915252709180933)\", \"rgba(70.2433628318584,133.81415929203538,154.88938053097345,1.0)\", \"rgba(70.2433628318584,133.81415929203538,154.88938053097345,1.0)\", \"rgba(70.2433628318584,133.81415929203538,154.88938053097345,1.0)\", \"rgba(229.69244935543279,192.4014732965009,216.22467771639043,1.0)\", \"rgba(229.69244935543279,192.4014732965009,216.22467771639043,1.0)\", \"rgba(229.69244935543279,192.4014732965009,216.22467771639043,1.0)\", \"rgba(229.69244935543279,192.4014732965009,216.22467771639043,1.0)\", \"rgba(229.69244935543279,192.4014732965009,216.22467771639043,1.0)\", \"rgba(229.69244935543279,192.4014732965009,216.22467771639043,1.0)\", \"rgba(229.69244935543279,192.4014732965009,216.22467771639043,1.0)\", \"rgba(229.69244935543279,192.4014732965009,216.22467771639043,1.0)\", \"rgba(229.69244935543279,192.4014732965009,216.22467771639043,1.0)\", \"rgba(70.2433628318584,133.81415929203538,154.88938053097345,0.9775252199076787)\", \"rgba(70.2433628318584,133.81415929203538,154.88938053097345,1.0)\", \"rgba(229.69244935543279,192.4014732965009,216.22467771639043,1.0)\", \"rgba(229.69244935543279,192.4014732965009,216.22467771639043,1.0)\", \"rgba(229.69244935543279,192.4014732965009,216.22467771639043,1.0)\", \"rgba(229.69244935543279,192.4014732965009,216.22467771639043,1.0)\", \"rgba(229.69244935543279,192.4014732965009,216.22467771639043,1.0)\", \"rgba(229.69244935543279,192.4014732965009,216.22467771639043,1.0)\", \"rgba(229.69244935543279,192.4014732965009,216.22467771639043,1.0)\", \"rgba(229.69244935543279,192.4014732965009,216.22467771639043,0.9832624162720306)\", \"rgba(229.69244935543279,192.4014732965009,216.22467771639043,0.0)\", \"rgba(229.69244935543279,192.4014732965009,216.22467771639043,0.0)\", \"rgba(70.2433628318584,133.81415929203538,154.88938053097345,1.0)\", \"rgba(70.2433628318584,133.81415929203538,154.88938053097345,1.0)\", \"rgba(229.69244935543279,192.4014732965009,216.22467771639043,1.0)\", \"rgba(229.69244935543279,192.4014732965009,216.22467771639043,1.0)\", \"rgba(229.69244935543279,192.4014732965009,216.22467771639043,1.0)\", \"rgba(229.69244935543279,192.4014732965009,216.22467771639043,0.0)\", \"rgba(229.69244935543279,192.4014732965009,216.22467771639043,0.0)\", \"rgba(229.69244935543279,192.4014732965009,216.22467771639043,1.0)\", \"rgba(229.69244935543279,192.4014732965009,216.22467771639043,0.9732186144668191)\", \"rgba(229.69244935543279,192.4014732965009,216.22467771639043,0.9673380856182342)\", \"rgba(70.2433628318584,133.81415929203538,154.88938053097345,1.0)\", \"rgba(70.2433628318584,133.81415929203538,154.88938053097345,1.0)\", \"rgba(70.2433628318584,133.81415929203538,154.88938053097345,1.0)\", \"rgba(70.2433628318584,133.81415929203538,154.88938053097345,1.0)\", \"rgba(70.2433628318584,133.81415929203538,154.88938053097345,1.0)\", \"rgba(70.2433628318584,133.81415929203538,154.88938053097345,0.8573463331948968)\", \"rgba(70.2433628318584,133.81415929203538,154.88938053097345,0.7782247765375383)\", \"rgba(229.69244935543279,192.4014732965009,216.22467771639043,1.0)\", \"rgba(229.69244935543279,192.4014732965009,216.22467771639043,1.0)\", \"rgba(229.69244935543279,192.4014732965009,216.22467771639043,1.0)\", \"rgba(229.69244935543279,192.4014732965009,216.22467771639043,1.0)\", \"rgba(229.69244935543279,192.4014732965009,216.22467771639043,1.0)\", \"rgba(229.69244935543279,192.4014732965009,216.22467771639043,1.0)\", \"rgba(229.69244935543279,192.4014732965009,216.22467771639043,0.9832624162720306)\", \"rgba(229.69244935543279,192.4014732965009,216.22467771639043,0.0)\", \"rgba(229.69244935543279,192.4014732965009,216.22467771639043,1.0)\", \"rgba(229.69244935543279,192.4014732965009,216.22467771639043,1.0)\", \"rgba(229.69244935543279,192.4014732965009,216.22467771639043,1.0)\", \"rgba(70.2433628318584,133.81415929203538,154.88938053097345,0.7809795631219709)\", \"rgba(70.2433628318584,133.81415929203538,154.88938053097345,1.0)\", \"rgba(229.69244935543279,192.4014732965009,216.22467771639043,0.0)\", \"rgba(70.2433628318584,133.81415929203538,154.88938053097345,0.9007334537569819)\", \"rgba(70.2433628318584,133.81415929203538,154.88938053097345,0.9320337272260424)\", \"rgba(229.69244935543279,192.4014732965009,216.22467771639043,1.0)\", \"rgba(229.69244935543279,192.4014732965009,216.22467771639043,1.0)\", \"rgba(229.69244935543279,192.4014732965009,216.22467771639043,1.0)\", \"rgba(229.69244935543279,192.4014732965009,216.22467771639043,1.0)\", \"rgba(229.69244935543279,192.4014732965009,216.22467771639043,1.0)\", \"rgba(229.69244935543279,192.4014732965009,216.22467771639043,0.0)\", \"rgba(229.69244935543279,192.4014732965009,216.22467771639043,1.0)\", \"rgba(229.69244935543279,192.4014732965009,216.22467771639043,0.0)\", \"rgba(229.69244935543279,192.4014732965009,216.22467771639043,0.0)\", \"rgba(70.2433628318584,133.81415929203538,154.88938053097345,1.0)\", \"rgba(70.2433628318584,133.81415929203538,154.88938053097345,1.0)\", \"rgba(70.2433628318584,133.81415929203538,154.88938053097345,1.0)\", \"rgba(70.2433628318584,133.81415929203538,154.88938053097345,0.9830015945213216)\", \"rgba(70.2433628318584,133.81415929203538,154.88938053097345,0.8610338613230188)\", \"rgba(229.69244935543279,192.4014732965009,216.22467771639043,1.0)\", \"rgba(229.69244935543279,192.4014732965009,216.22467771639043,1.0)\", \"rgba(229.69244935543279,192.4014732965009,216.22467771639043,1.0)\", \"rgba(229.69244935543279,192.4014732965009,216.22467771639043,0.0)\", \"rgba(229.69244935543279,192.4014732965009,216.22467771639043,1.0)\", \"rgba(229.69244935543279,192.4014732965009,216.22467771639043,1.0)\", \"rgba(229.69244935543279,192.4014732965009,216.22467771639043,1.0)\", \"rgba(229.69244935543279,192.4014732965009,216.22467771639043,1.0)\", \"rgba(229.69244935543279,192.4014732965009,216.22467771639043,1.0)\", \"rgba(229.69244935543279,192.4014732965009,216.22467771639043,1.0)\", \"rgba(229.69244935543279,192.4014732965009,216.22467771639043,1.0)\", \"rgba(70.2433628318584,133.81415929203538,154.88938053097345,0.5876916930707952)\", \"rgba(229.69244935543279,192.4014732965009,216.22467771639043,1.0)\", \"rgba(229.69244935543279,192.4014732965009,216.22467771639043,1.0)\", \"rgba(229.69244935543279,192.4014732965009,216.22467771639043,1.0)\", \"rgba(229.69244935543279,192.4014732965009,216.22467771639043,1.0)\", \"rgba(229.69244935543279,192.4014732965009,216.22467771639043,1.0)\", \"rgba(229.69244935543279,192.4014732965009,216.22467771639043,1.0)\", \"rgba(229.69244935543279,192.4014732965009,216.22467771639043,1.0)\", \"rgba(229.69244935543279,192.4014732965009,216.22467771639043,1.0)\", \"rgba(229.69244935543279,192.4014732965009,216.22467771639043,0.0)\", \"rgba(229.69244935543279,192.4014732965009,216.22467771639043,0.9812287793146774)\", \"rgba(229.69244935543279,192.4014732965009,216.22467771639043,1.0)\", \"rgba(229.69244935543279,192.4014732965009,216.22467771639043,0.0)\", \"rgba(229.69244935543279,192.4014732965009,216.22467771639043,0.9634764411181216)\", \"rgba(229.69244935543279,192.4014732965009,216.22467771639043,0.0)\", \"rgba(229.69244935543279,192.4014732965009,216.22467771639043,0.0)\", \"rgba(70.2433628318584,133.81415929203538,154.88938053097345,1.0)\", \"rgba(70.2433628318584,133.81415929203538,154.88938053097345,1.0)\", \"rgba(70.2433628318584,133.81415929203538,154.88938053097345,0.9367769320431429)\", \"rgba(70.2433628318584,133.81415929203538,154.88938053097345,0.8573463331948968)\", \"rgba(229.69244935543279,192.4014732965009,216.22467771639043,1.0)\", \"rgba(229.69244935543279,192.4014732965009,216.22467771639043,1.0)\", \"rgba(229.69244935543279,192.4014732965009,216.22467771639043,1.0)\", \"rgba(229.69244935543279,192.4014732965009,216.22467771639043,1.0)\", \"rgba(229.69244935543279,192.4014732965009,216.22467771639043,1.0)\", \"rgba(229.69244935543279,192.4014732965009,216.22467771639043,1.0)\", \"rgba(229.69244935543279,192.4014732965009,216.22467771639043,1.0)\", \"rgba(229.69244935543279,192.4014732965009,216.22467771639043,1.0)\", \"rgba(229.69244935543279,192.4014732965009,216.22467771639043,0.9832624162720306)\", \"rgba(229.69244935543279,192.4014732965009,216.22467771639043,0.0)\", \"rgba(229.69244935543279,192.4014732965009,216.22467771639043,0.0)\", \"rgba(229.69244935543279,192.4014732965009,216.22467771639043,0.9466540266400636)\", \"rgba(229.69244935543279,192.4014732965009,216.22467771639043,1.0)\", \"rgba(229.69244935543279,192.4014732965009,216.22467771639043,1.0)\", \"rgba(70.2433628318584,133.81415929203538,154.88938053097345,1.0)\", \"rgba(229.69244935543279,192.4014732965009,216.22467771639043,1.0)\", \"rgba(229.69244935543279,192.4014732965009,216.22467771639043,1.0)\", \"rgba(70.2433628318584,133.81415929203538,154.88938053097345,1.0)\", \"rgba(229.69244935543279,192.4014732965009,216.22467771639043,1.0)\", \"rgba(229.69244935543279,192.4014732965009,216.22467771639043,1.0)\", \"rgba(229.69244935543279,192.4014732965009,216.22467771639043,1.0)\", \"rgba(229.69244935543279,192.4014732965009,216.22467771639043,1.0)\", \"rgba(229.69244935543279,192.4014732965009,216.22467771639043,0.957769719006437)\", \"rgba(229.69244935543279,192.4014732965009,216.22467771639043,1.0)\", \"rgba(229.69244935543279,192.4014732965009,216.22467771639043,0.0)\", \"rgba(229.69244935543279,192.4014732965009,216.22467771639043,1.0)\", \"rgba(70.2433628318584,133.81415929203538,154.88938053097345,1.0)\", \"rgba(229.69244935543279,192.4014732965009,216.22467771639043,1.0)\", \"rgba(70.2433628318584,133.81415929203538,154.88938053097345,1.0)\", \"rgba(70.2433628318584,133.81415929203538,154.88938053097345,0.726365859579861)\", \"rgba(229.69244935543279,192.4014732965009,216.22467771639043,1.0)\", \"rgba(229.69244935543279,192.4014732965009,216.22467771639043,1.0)\", \"rgba(229.69244935543279,192.4014732965009,216.22467771639043,1.0)\", \"rgba(229.69244935543279,192.4014732965009,216.22467771639043,1.0)\", \"rgba(229.69244935543279,192.4014732965009,216.22467771639043,1.0)\", \"rgba(229.69244935543279,192.4014732965009,216.22467771639043,1.0)\", \"rgba(229.69244935543279,192.4014732965009,216.22467771639043,1.0)\", \"rgba(229.69244935543279,192.4014732965009,216.22467771639043,1.0)\", \"rgba(229.69244935543279,192.4014732965009,216.22467771639043,1.0)\", \"rgba(229.69244935543279,192.4014732965009,216.22467771639043,1.0)\", \"rgba(229.69244935543279,192.4014732965009,216.22467771639043,1.0)\", \"rgba(229.69244935543279,192.4014732965009,216.22467771639043,1.0)\", \"rgba(229.69244935543279,192.4014732965009,216.22467771639043,0.0)\", \"rgba(70.2433628318584,133.81415929203538,154.88938053097345,1.0)\", \"rgba(70.2433628318584,133.81415929203538,154.88938053097345,0.591264319856153)\", \"rgba(229.69244935543279,192.4014732965009,216.22467771639043,1.0)\", \"rgba(229.69244935543279,192.4014732965009,216.22467771639043,1.0)\", \"rgba(229.69244935543279,192.4014732965009,216.22467771639043,1.0)\", \"rgba(229.69244935543279,192.4014732965009,216.22467771639043,1.0)\", \"rgba(229.69244935543279,192.4014732965009,216.22467771639043,1.0)\", \"rgba(229.69244935543279,192.4014732965009,216.22467771639043,1.0)\", \"rgba(229.69244935543279,192.4014732965009,216.22467771639043,1.0)\", \"rgba(70.2433628318584,133.81415929203538,154.88938053097345,1.0)\", \"rgba(229.69244935543279,192.4014732965009,216.22467771639043,0.0)\", \"rgba(70.2433628318584,133.81415929203538,154.88938053097345,0.7497276193845162)\", \"rgba(70.2433628318584,133.81415929203538,154.88938053097345,0.7521897856819186)\", \"rgba(229.69244935543279,192.4014732965009,216.22467771639043,1.0)\", \"rgba(70.2433628318584,133.81415929203538,154.88938053097345,1.0)\", \"rgba(229.69244935543279,192.4014732965009,216.22467771639043,1.0)\", \"rgba(229.69244935543279,192.4014732965009,216.22467771639043,1.0)\", \"rgba(229.69244935543279,192.4014732965009,216.22467771639043,0.0)\", \"rgba(229.69244935543279,192.4014732965009,216.22467771639043,0.0)\", \"rgba(229.69244935543279,192.4014732965009,216.22467771639043,1.0)\", \"rgba(229.69244935543279,192.4014732965009,216.22467771639043,1.0)\", \"rgba(229.69244935543279,192.4014732965009,216.22467771639043,1.0)\", \"rgba(229.69244935543279,192.4014732965009,216.22467771639043,1.0)\", \"rgba(229.69244935543279,192.4014732965009,216.22467771639043,0.0)\", \"rgba(229.69244935543279,192.4014732965009,216.22467771639043,1.0)\", \"rgba(229.69244935543279,192.4014732965009,216.22467771639043,1.0)\", \"rgba(229.69244935543279,192.4014732965009,216.22467771639043,1.0)\", \"rgba(229.69244935543279,192.4014732965009,216.22467771639043,1.0)\", \"rgba(229.69244935543279,192.4014732965009,216.22467771639043,0.0)\", \"rgba(70.2433628318584,133.81415929203538,154.88938053097345,0.6430097498961727)\", \"rgba(229.69244935543279,192.4014732965009,216.22467771639043,1.0)\", \"rgba(70.2433628318584,133.81415929203538,154.88938053097345,0.9775252199076787)\", \"rgba(70.2433628318584,133.81415929203538,154.88938053097345,0.8610338613230188)\", \"rgba(229.69244935543279,192.4014732965009,216.22467771639043,1.0)\", \"rgba(229.69244935543279,192.4014732965009,216.22467771639043,1.0)\", \"rgba(229.69244935543279,192.4014732965009,216.22467771639043,1.0)\", \"rgba(229.69244935543279,192.4014732965009,216.22467771639043,0.0)\", \"rgba(229.69244935543279,192.4014732965009,216.22467771639043,0.0)\", \"rgba(229.69244935543279,192.4014732965009,216.22467771639043,1.0)\", \"rgba(229.69244935543279,192.4014732965009,216.22467771639043,1.0)\", \"rgba(229.69244935543279,192.4014732965009,216.22467771639043,1.0)\", \"rgba(229.69244935543279,192.4014732965009,216.22467771639043,1.0)\", \"rgba(229.69244935543279,192.4014732965009,216.22467771639043,1.0)\", \"rgba(229.69244935543279,192.4014732965009,216.22467771639043,0.0)\", \"rgba(70.2433628318584,133.81415929203538,154.88938053097345,1.0)\", \"rgba(70.2433628318584,133.81415929203538,154.88938053097345,1.0)\", \"rgba(70.2433628318584,133.81415929203538,154.88938053097345,0.9227595290837433)\", \"rgba(229.69244935543279,192.4014732965009,216.22467771639043,1.0)\", \"rgba(70.2433628318584,133.81415929203538,154.88938053097345,0.5936825889256334)\", \"rgba(229.69244935543279,192.4014732965009,216.22467771639043,1.0)\", \"rgba(229.69244935543279,192.4014732965009,216.22467771639043,1.0)\", \"rgba(229.69244935543279,192.4014732965009,216.22467771639043,1.0)\", \"rgba(229.69244935543279,192.4014732965009,216.22467771639043,1.0)\", \"rgba(229.69244935543279,192.4014732965009,216.22467771639043,1.0)\", \"rgba(229.69244935543279,192.4014732965009,216.22467771639043,1.0)\", \"rgba(229.69244935543279,192.4014732965009,216.22467771639043,1.0)\", \"rgba(229.69244935543279,192.4014732965009,216.22467771639043,1.0)\", \"rgba(229.69244935543279,192.4014732965009,216.22467771639043,1.0)\", \"rgba(229.69244935543279,192.4014732965009,216.22467771639043,1.0)\", \"rgba(229.69244935543279,192.4014732965009,216.22467771639043,1.0)\", \"rgba(229.69244935543279,192.4014732965009,216.22467771639043,1.0)\", \"rgba(229.69244935543279,192.4014732965009,216.22467771639043,0.0)\", \"rgba(70.2433628318584,133.81415929203538,154.88938053097345,0.8261595987094035)\", \"rgba(70.2433628318584,133.81415929203538,154.88938053097345,1.0)\", \"rgba(70.2433628318584,133.81415929203538,154.88938053097345,0.9775252199076787)\", \"rgba(70.2433628318584,133.81415929203538,154.88938053097345,0.6461236167757218)\", \"rgba(229.69244935543279,192.4014732965009,216.22467771639043,1.0)\", \"rgba(229.69244935543279,192.4014732965009,216.22467771639043,0.0)\", \"rgba(229.69244935543279,192.4014732965009,216.22467771639043,0.0)\", \"rgba(229.69244935543279,192.4014732965009,216.22467771639043,1.0)\", \"rgba(229.69244935543279,192.4014732965009,216.22467771639043,0.0)\", \"rgba(229.69244935543279,192.4014732965009,216.22467771639043,1.0)\", \"rgba(70.2433628318584,133.81415929203538,154.88938053097345,0.6238110863820975)\", \"rgba(70.2433628318584,133.81415929203538,154.88938053097345,1.0)\", \"rgba(70.2433628318584,133.81415929203538,154.88938053097345,1.0)\", \"rgba(70.2433628318584,133.81415929203538,154.88938053097345,1.0)\", \"rgba(229.69244935543279,192.4014732965009,216.22467771639043,1.0)\", \"rgba(229.69244935543279,192.4014732965009,216.22467771639043,1.0)\", \"rgba(229.69244935543279,192.4014732965009,216.22467771639043,1.0)\", \"rgba(229.69244935543279,192.4014732965009,216.22467771639043,1.0)\", \"rgba(70.2433628318584,133.81415929203538,154.88938053097345,0.8610338613230188)\", \"rgba(229.69244935543279,192.4014732965009,216.22467771639043,1.0)\", \"rgba(229.69244935543279,192.4014732965009,216.22467771639043,1.0)\", \"rgba(229.69244935543279,192.4014732965009,216.22467771639043,1.0)\", \"rgba(229.69244935543279,192.4014732965009,216.22467771639043,1.0)\", \"rgba(229.69244935543279,192.4014732965009,216.22467771639043,1.0)\", \"rgba(229.69244935543279,192.4014732965009,216.22467771639043,1.0)\", \"rgba(70.2433628318584,133.81415929203538,154.88938053097345,0.6590473688161075)\", \"rgba(229.69244935543279,192.4014732965009,216.22467771639043,0.0)\", \"rgba(70.2433628318584,133.81415929203538,154.88938053097345,1.0)\", \"rgba(70.2433628318584,133.81415929203538,154.88938053097345,0.583027399541909)\", \"rgba(70.2433628318584,133.81415929203538,154.88938053097345,1.0)\", \"rgba(229.69244935543279,192.4014732965009,216.22467771639043,0.0)\", \"rgba(229.69244935543279,192.4014732965009,216.22467771639043,1.0)\", \"rgba(229.69244935543279,192.4014732965009,216.22467771639043,1.0)\", \"rgba(70.2433628318584,133.81415929203538,154.88938053097345,1.0)\", \"rgba(229.69244935543279,192.4014732965009,216.22467771639043,1.0)\", \"rgba(229.69244935543279,192.4014732965009,216.22467771639043,1.0)\", \"rgba(229.69244935543279,192.4014732965009,216.22467771639043,1.0)\", \"rgba(229.69244935543279,192.4014732965009,216.22467771639043,0.0)\", \"rgba(229.69244935543279,192.4014732965009,216.22467771639043,0.977199075310085)\", \"rgba(229.69244935543279,192.4014732965009,216.22467771639043,0.0)\", \"rgba(229.69244935543279,192.4014732965009,216.22467771639043,1.0)\", \"rgba(229.69244935543279,192.4014732965009,216.22467771639043,1.0)\", \"rgba(229.69244935543279,192.4014732965009,216.22467771639043,1.0)\", \"rgba(70.2433628318584,133.81415929203538,154.88938053097345,1.0)\", \"rgba(70.2433628318584,133.81415929203538,154.88938053097345,1.0)\", \"rgba(229.69244935543279,192.4014732965009,216.22467771639043,1.0)\", \"rgba(229.69244935543279,192.4014732965009,216.22467771639043,1.0)\", \"rgba(70.2433628318584,133.81415929203538,154.88938053097345,0.9830015945213216)\", \"rgba(70.2433628318584,133.81415929203538,154.88938053097345,1.0)\", \"rgba(229.69244935543279,192.4014732965009,216.22467771639043,1.0)\", \"rgba(229.69244935543279,192.4014732965009,216.22467771639043,1.0)\", \"rgba(229.69244935543279,192.4014732965009,216.22467771639043,1.0)\", \"rgba(229.69244935543279,192.4014732965009,216.22467771639043,1.0)\", \"rgba(229.69244935543279,192.4014732965009,216.22467771639043,1.0)\", \"rgba(229.69244935543279,192.4014732965009,216.22467771639043,1.0)\", \"rgba(70.2433628318584,133.81415929203538,154.88938053097345,1.0)\", \"rgba(70.2433628318584,133.81415929203538,154.88938053097345,0.9830015945213216)\", \"rgba(70.2433628318584,133.81415929203538,154.88938053097345,1.0)\", \"rgba(229.69244935543279,192.4014732965009,216.22467771639043,0.9692864019639696)\", \"rgba(229.69244935543279,192.4014732965009,216.22467771639043,0.0)\", \"rgba(229.69244935543279,192.4014732965009,216.22467771639043,1.0)\", \"rgba(70.2433628318584,133.81415929203538,154.88938053097345,1.0)\", \"rgba(229.69244935543279,192.4014732965009,216.22467771639043,1.0)\", \"rgba(229.69244935543279,192.4014732965009,216.22467771639043,1.0)\", \"rgba(229.69244935543279,192.4014732965009,216.22467771639043,1.0)\", \"rgba(229.69244935543279,192.4014732965009,216.22467771639043,0.0)\", \"rgba(229.69244935543279,192.4014732965009,216.22467771639043,0.0)\", \"rgba(229.69244935543279,192.4014732965009,216.22467771639043,1.0)\", \"rgba(229.69244935543279,192.4014732965009,216.22467771639043,1.0)\", \"rgba(229.69244935543279,192.4014732965009,216.22467771639043,0.9732186144668191)\", \"rgba(229.69244935543279,192.4014732965009,216.22467771639043,1.0)\", \"rgba(229.69244935543279,192.4014732965009,216.22467771639043,0.0)\", \"rgba(229.69244935543279,192.4014732965009,216.22467771639043,1.0)\", \"rgba(229.69244935543279,192.4014732965009,216.22467771639043,1.0)\", \"rgba(70.2433628318584,133.81415929203538,154.88938053097345,1.0)\", \"rgba(229.69244935543279,192.4014732965009,216.22467771639043,1.0)\", \"rgba(229.69244935543279,192.4014732965009,216.22467771639043,1.0)\", \"rgba(229.69244935543279,192.4014732965009,216.22467771639043,1.0)\", \"rgba(229.69244935543279,192.4014732965009,216.22467771639043,1.0)\", \"rgba(229.69244935543279,192.4014732965009,216.22467771639043,1.0)\", \"rgba(229.69244935543279,192.4014732965009,216.22467771639043,1.0)\", \"rgba(229.69244935543279,192.4014732965009,216.22467771639043,1.0)\", \"rgba(229.69244935543279,192.4014732965009,216.22467771639043,0.9957355882472655)\", \"rgba(229.69244935543279,192.4014732965009,216.22467771639043,1.0)\", \"rgba(229.69244935543279,192.4014732965009,216.22467771639043,0.0)\", \"rgba(229.69244935543279,192.4014732965009,216.22467771639043,0.0)\", \"rgba(229.69244935543279,192.4014732965009,216.22467771639043,0.0)\", \"rgba(229.69244935543279,192.4014732965009,216.22467771639043,1.0)\", \"rgba(229.69244935543279,192.4014732965009,216.22467771639043,1.0)\", \"rgba(229.69244935543279,192.4014732965009,216.22467771639043,0.0)\", \"rgba(229.69244935543279,192.4014732965009,216.22467771639043,0.0)\", \"rgba(229.69244935543279,192.4014732965009,216.22467771639043,0.0)\", \"rgba(70.2433628318584,133.81415929203538,154.88938053097345,1.0)\", \"rgba(229.69244935543279,192.4014732965009,216.22467771639043,1.0)\", \"rgba(229.69244935543279,192.4014732965009,216.22467771639043,1.0)\", \"rgba(229.69244935543279,192.4014732965009,216.22467771639043,1.0)\", \"rgba(229.69244935543279,192.4014732965009,216.22467771639043,0.0)\", \"rgba(229.69244935543279,192.4014732965009,216.22467771639043,0.0)\", \"rgba(229.69244935543279,192.4014732965009,216.22467771639043,1.0)\", \"rgba(229.69244935543279,192.4014732965009,216.22467771639043,1.0)\", \"rgba(229.69244935543279,192.4014732965009,216.22467771639043,1.0)\", \"rgba(229.69244935543279,192.4014732965009,216.22467771639043,0.0)\", \"rgba(229.69244935543279,192.4014732965009,216.22467771639043,0.0)\", \"rgba(70.2433628318584,133.81415929203538,154.88938053097345,1.0)\", \"rgba(70.2433628318584,133.81415929203538,154.88938053097345,1.0)\", \"rgba(70.2433628318584,133.81415929203538,154.88938053097345,1.0)\", \"rgba(229.69244935543279,192.4014732965009,216.22467771639043,1.0)\", \"rgba(229.69244935543279,192.4014732965009,216.22467771639043,1.0)\", \"rgba(229.69244935543279,192.4014732965009,216.22467771639043,1.0)\", \"rgba(229.69244935543279,192.4014732965009,216.22467771639043,1.0)\", \"rgba(229.69244935543279,192.4014732965009,216.22467771639043,1.0)\", \"rgba(70.2433628318584,133.81415929203538,154.88938053097345,1.0)\", \"rgba(229.69244935543279,192.4014732965009,216.22467771639043,1.0)\", \"rgba(229.69244935543279,192.4014732965009,216.22467771639043,1.0)\", \"rgba(229.69244935543279,192.4014732965009,216.22467771639043,1.0)\", \"rgba(229.69244935543279,192.4014732965009,216.22467771639043,1.0)\", \"rgba(229.69244935543279,192.4014732965009,216.22467771639043,0.0)\", \"rgba(229.69244935543279,192.4014732965009,216.22467771639043,1.0)\", \"rgba(229.69244935543279,192.4014732965009,216.22467771639043,1.0)\", \"rgba(229.69244935543279,192.4014732965009,216.22467771639043,1.0)\", \"rgba(70.2433628318584,133.81415929203538,154.88938053097345,1.0)\", \"rgba(70.2433628318584,133.81415929203538,154.88938053097345,1.0)\", \"rgba(70.2433628318584,133.81415929203538,154.88938053097345,1.0)\", \"rgba(70.2433628318584,133.81415929203538,154.88938053097345,1.0)\", \"rgba(70.2433628318584,133.81415929203538,154.88938053097345,0.9367769320431429)\", \"rgba(229.69244935543279,192.4014732965009,216.22467771639043,1.0)\", \"rgba(229.69244935543279,192.4014732965009,216.22467771639043,1.0)\", \"rgba(229.69244935543279,192.4014732965009,216.22467771639043,1.0)\", \"rgba(229.69244935543279,192.4014732965009,216.22467771639043,1.0)\", \"rgba(229.69244935543279,192.4014732965009,216.22467771639043,1.0)\", \"rgba(229.69244935543279,192.4014732965009,216.22467771639043,0.9732186144668191)\", \"rgba(229.69244935543279,192.4014732965009,216.22467771639043,1.0)\", \"rgba(229.69244935543279,192.4014732965009,216.22467771639043,1.0)\", \"rgba(229.69244935543279,192.4014732965009,216.22467771639043,0.0)\", \"rgba(229.69244935543279,192.4014732965009,216.22467771639043,1.0)\", \"rgba(70.2433628318584,133.81415929203538,154.88938053097345,0.9830015945213216)\", \"rgba(70.2433628318584,133.81415929203538,154.88938053097345,0.9775252199076787)\", \"rgba(229.69244935543279,192.4014732965009,216.22467771639043,1.0)\", \"rgba(229.69244935543279,192.4014732965009,216.22467771639043,1.0)\", \"rgba(229.69244935543279,192.4014732965009,216.22467771639043,0.9654014708917735)\", \"rgba(229.69244935543279,192.4014732965009,216.22467771639043,1.0)\", \"rgba(70.2433628318584,133.81415929203538,154.88938053097345,0.9565007145952775)\", \"rgba(229.69244935543279,192.4014732965009,216.22467771639043,1.0)\", \"rgba(229.69244935543279,192.4014732965009,216.22467771639043,1.0)\", \"rgba(229.69244935543279,192.4014732965009,216.22467771639043,1.0)\", \"rgba(229.69244935543279,192.4014732965009,216.22467771639043,0.0)\", \"rgba(229.69244935543279,192.4014732965009,216.22467771639043,1.0)\", \"rgba(229.69244935543279,192.4014732965009,216.22467771639043,1.0)\", \"rgba(229.69244935543279,192.4014732965009,216.22467771639043,0.0)\", \"rgba(229.69244935543279,192.4014732965009,216.22467771639043,0.9171451546276848)\", \"rgba(70.2433628318584,133.81415929203538,154.88938053097345,0.7865780545954884)\", \"rgba(70.2433628318584,133.81415929203538,154.88938053097345,1.0)\", \"rgba(70.2433628318584,133.81415929203538,154.88938053097345,1.0)\", \"rgba(70.2433628318584,133.81415929203538,154.88938053097345,1.0)\", \"rgba(229.69244935543279,192.4014732965009,216.22467771639043,1.0)\", \"rgba(229.69244935543279,192.4014732965009,216.22467771639043,1.0)\", \"rgba(70.2433628318584,133.81415929203538,154.88938053097345,1.0)\", \"rgba(229.69244935543279,192.4014732965009,216.22467771639043,0.0)\", \"rgba(229.69244935543279,192.4014732965009,216.22467771639043,0.944838772761475)\", \"rgba(229.69244935543279,192.4014732965009,216.22467771639043,1.0)\", \"rgba(229.69244935543279,192.4014732965009,216.22467771639043,1.0)\", \"rgba(70.2433628318584,133.81415929203538,154.88938053097345,1.0)\", \"rgba(70.2433628318584,133.81415929203538,154.88938053097345,1.0)\", \"rgba(229.69244935543279,192.4014732965009,216.22467771639043,1.0)\", \"rgba(229.69244935543279,192.4014732965009,216.22467771639043,0.0)\", \"rgba(229.69244935543279,192.4014732965009,216.22467771639043,1.0)\", \"rgba(229.69244935543279,192.4014732965009,216.22467771639043,1.0)\", \"rgba(229.69244935543279,192.4014732965009,216.22467771639043,1.0)\", \"rgba(229.69244935543279,192.4014732965009,216.22467771639043,0.0)\", \"rgba(229.69244935543279,192.4014732965009,216.22467771639043,0.0)\", \"rgba(229.69244935543279,192.4014732965009,216.22467771639043,1.0)\", \"rgba(229.69244935543279,192.4014732965009,216.22467771639043,1.0)\", \"rgba(229.69244935543279,192.4014732965009,216.22467771639043,1.0)\", \"rgba(229.69244935543279,192.4014732965009,216.22467771639043,1.0)\", \"rgba(229.69244935543279,192.4014732965009,216.22467771639043,0.0)\", \"rgba(229.69244935543279,192.4014732965009,216.22467771639043,0.9359165826205134)\", \"rgba(70.2433628318584,133.81415929203538,154.88938053097345,1.0)\", \"rgba(229.69244935543279,192.4014732965009,216.22467771639043,1.0)\", \"rgba(70.2433628318584,133.81415929203538,154.88938053097345,1.0)\", \"rgba(229.69244935543279,192.4014732965009,216.22467771639043,1.0)\", \"rgba(229.69244935543279,192.4014732965009,216.22467771639043,0.0)\", \"rgba(229.69244935543279,192.4014732965009,216.22467771639043,0.0)\", \"rgba(229.69244935543279,192.4014732965009,216.22467771639043,1.0)\", \"rgba(229.69244935543279,192.4014732965009,216.22467771639043,1.0)\", \"rgba(229.69244935543279,192.4014732965009,216.22467771639043,1.0)\", \"rgba(229.69244935543279,192.4014732965009,216.22467771639043,1.0)\", \"rgba(229.69244935543279,192.4014732965009,216.22467771639043,0.9306830844693976)\", \"rgba(70.2433628318584,133.81415929203538,154.88938053097345,1.0)\", \"rgba(70.2433628318584,133.81415929203538,154.88938053097345,1.0)\", \"rgba(70.2433628318584,133.81415929203538,154.88938053097345,1.0)\", \"rgba(70.2433628318584,133.81415929203538,154.88938053097345,1.0)\", \"rgba(229.69244935543279,192.4014732965009,216.22467771639043,1.0)\", \"rgba(229.69244935543279,192.4014732965009,216.22467771639043,1.0)\", \"rgba(229.69244935543279,192.4014732965009,216.22467771639043,1.0)\", \"rgba(229.69244935543279,192.4014732965009,216.22467771639043,1.0)\", \"rgba(229.69244935543279,192.4014732965009,216.22467771639043,0.0)\", \"rgba(229.69244935543279,192.4014732965009,216.22467771639043,1.0)\", \"rgba(229.69244935543279,192.4014732965009,216.22467771639043,1.0)\", \"rgba(229.69244935543279,192.4014732965009,216.22467771639043,1.0)\", \"rgba(70.2433628318584,133.81415929203538,154.88938053097345,1.0)\", \"rgba(70.2433628318584,133.81415929203538,154.88938053097345,0.9830015945213216)\", \"rgba(229.69244935543279,192.4014732965009,216.22467771639043,1.0)\", \"rgba(229.69244935543279,192.4014732965009,216.22467771639043,1.0)\", \"rgba(229.69244935543279,192.4014732965009,216.22467771639043,1.0)\", \"rgba(229.69244935543279,192.4014732965009,216.22467771639043,1.0)\", \"rgba(229.69244935543279,192.4014732965009,216.22467771639043,1.0)\", \"rgba(229.69244935543279,192.4014732965009,216.22467771639043,1.0)\", \"rgba(229.69244935543279,192.4014732965009,216.22467771639043,1.0)\", \"rgba(229.69244935543279,192.4014732965009,216.22467771639043,1.0)\", \"rgba(229.69244935543279,192.4014732965009,216.22467771639043,1.0)\", \"rgba(70.2433628318584,133.81415929203538,154.88938053097345,1.0)\", \"rgba(70.2433628318584,133.81415929203538,154.88938053097345,1.0)\", \"rgba(229.69244935543279,192.4014732965009,216.22467771639043,1.0)\", \"rgba(229.69244935543279,192.4014732965009,216.22467771639043,1.0)\", \"rgba(229.69244935543279,192.4014732965009,216.22467771639043,1.0)\", \"rgba(229.69244935543279,192.4014732965009,216.22467771639043,0.0)\", \"rgba(229.69244935543279,192.4014732965009,216.22467771639043,0.0)\", \"rgba(229.69244935543279,192.4014732965009,216.22467771639043,0.0)\", \"rgba(229.69244935543279,192.4014732965009,216.22467771639043,1.0)\", \"rgba(229.69244935543279,192.4014732965009,216.22467771639043,1.0)\", \"rgba(229.69244935543279,192.4014732965009,216.22467771639043,1.0)\", \"rgba(229.69244935543279,192.4014732965009,216.22467771639043,1.0)\", \"rgba(70.2433628318584,133.81415929203538,154.88938053097345,1.0)\", \"rgba(229.69244935543279,192.4014732965009,216.22467771639043,1.0)\", \"rgba(229.69244935543279,192.4014732965009,216.22467771639043,1.0)\", \"rgba(229.69244935543279,192.4014732965009,216.22467771639043,1.0)\", \"rgba(229.69244935543279,192.4014732965009,216.22467771639043,1.0)\", \"rgba(229.69244935543279,192.4014732965009,216.22467771639043,0.0)\", \"rgba(229.69244935543279,192.4014732965009,216.22467771639043,0.0)\", \"rgba(70.2433628318584,133.81415929203538,154.88938053097345,1.0)\", \"rgba(70.2433628318584,133.81415929203538,154.88938053097345,1.0)\", \"rgba(70.2433628318584,133.81415929203538,154.88938053097345,1.0)\", \"rgba(229.69244935543279,192.4014732965009,216.22467771639043,1.0)\", \"rgba(229.69244935543279,192.4014732965009,216.22467771639043,1.0)\", \"rgba(229.69244935543279,192.4014732965009,216.22467771639043,1.0)\", \"rgba(229.69244935543279,192.4014732965009,216.22467771639043,0.9792077086223914)\", \"rgba(229.69244935543279,192.4014732965009,216.22467771639043,1.0)\", \"rgba(229.69244935543279,192.4014732965009,216.22467771639043,0.0)\", \"rgba(229.69244935543279,192.4014732965009,216.22467771639043,1.0)\", \"rgba(229.69244935543279,192.4014732965009,216.22467771639043,0.0)\", \"rgba(229.69244935543279,192.4014732965009,216.22467771639043,1.0)\", \"rgba(229.69244935543279,192.4014732965009,216.22467771639043,0.0)\", \"rgba(70.2433628318584,133.81415929203538,154.88938053097345,1.0)\", \"rgba(70.2433628318584,133.81415929203538,154.88938053097345,0.8011186209146056)\", \"rgba(229.69244935543279,192.4014732965009,216.22467771639043,1.0)\", \"rgba(229.69244935543279,192.4014732965009,216.22467771639043,1.0)\", \"rgba(229.69244935543279,192.4014732965009,216.22467771639043,1.0)\", \"rgba(229.69244935543279,192.4014732965009,216.22467771639043,1.0)\", \"rgba(229.69244935543279,192.4014732965009,216.22467771639043,1.0)\", \"rgba(229.69244935543279,192.4014732965009,216.22467771639043,0.0)\", \"rgba(229.69244935543279,192.4014732965009,216.22467771639043,1.0)\", \"rgba(229.69244935543279,192.4014732965009,216.22467771639043,1.0)\", \"rgba(229.69244935543279,192.4014732965009,216.22467771639043,0.0)\", \"rgba(70.2433628318584,133.81415929203538,154.88938053097345,1.0)\", \"rgba(229.69244935543279,192.4014732965009,216.22467771639043,0.0)\", \"rgba(70.2433628318584,133.81415929203538,154.88938053097345,1.0)\", \"rgba(70.2433628318584,133.81415929203538,154.88938053097345,0.9830015945213216)\", \"rgba(70.2433628318584,133.81415929203538,154.88938053097345,1.0)\", \"rgba(70.2433628318584,133.81415929203538,154.88938053097345,0.9616294415187687)\", \"rgba(229.69244935543279,192.4014732965009,216.22467771639043,1.0)\", \"rgba(229.69244935543279,192.4014732965009,216.22467771639043,1.0)\", \"rgba(229.69244935543279,192.4014732965009,216.22467771639043,1.0)\", \"rgba(229.69244935543279,192.4014732965009,216.22467771639043,1.0)\", \"rgba(229.69244935543279,192.4014732965009,216.22467771639043,1.0)\", \"rgba(229.69244935543279,192.4014732965009,216.22467771639043,1.0)\", \"rgba(229.69244935543279,192.4014732965009,216.22467771639043,1.0)\", \"rgba(229.69244935543279,192.4014732965009,216.22467771639043,1.0)\", \"rgba(229.69244935543279,192.4014732965009,216.22467771639043,1.0)\", \"rgba(229.69244935543279,192.4014732965009,216.22467771639043,1.0)\", \"rgba(229.69244935543279,192.4014732965009,216.22467771639043,1.0)\", \"rgba(229.69244935543279,192.4014732965009,216.22467771639043,0.0)\", \"rgba(70.2433628318584,133.81415929203538,154.88938053097345,1.0)\", \"rgba(229.69244935543279,192.4014732965009,216.22467771639043,0.0)\", \"rgba(70.2433628318584,133.81415929203538,154.88938053097345,1.0)\", \"rgba(70.2433628318584,133.81415929203538,154.88938053097345,1.0)\", \"rgba(229.69244935543279,192.4014732965009,216.22467771639043,1.0)\", \"rgba(229.69244935543279,192.4014732965009,216.22467771639043,1.0)\", \"rgba(229.69244935543279,192.4014732965009,216.22467771639043,1.0)\", \"rgba(229.69244935543279,192.4014732965009,216.22467771639043,1.0)\", \"rgba(229.69244935543279,192.4014732965009,216.22467771639043,1.0)\", \"rgba(229.69244935543279,192.4014732965009,216.22467771639043,1.0)\", \"rgba(229.69244935543279,192.4014732965009,216.22467771639043,1.0)\", \"rgba(229.69244935543279,192.4014732965009,216.22467771639043,0.9673380856182342)\", \"rgba(229.69244935543279,192.4014732965009,216.22467771639043,1.0)\", \"rgba(229.69244935543279,192.4014732965009,216.22467771639043,1.0)\", \"rgba(229.69244935543279,192.4014732965009,216.22467771639043,1.0)\", \"rgba(229.69244935543279,192.4014732965009,216.22467771639043,1.0)\", \"rgba(229.69244935543279,192.4014732965009,216.22467771639043,1.0)\", \"rgba(229.69244935543279,192.4014732965009,216.22467771639043,1.0)\", \"rgba(70.2433628318584,133.81415929203538,154.88938053097345,1.0)\", \"rgba(229.69244935543279,192.4014732965009,216.22467771639043,1.0)\", \"rgba(229.69244935543279,192.4014732965009,216.22467771639043,1.0)\", \"rgba(229.69244935543279,192.4014732965009,216.22467771639043,1.0)\", \"rgba(229.69244935543279,192.4014732965009,216.22467771639043,1.0)\", \"rgba(229.69244935543279,192.4014732965009,216.22467771639043,1.0)\", \"rgba(229.69244935543279,192.4014732965009,216.22467771639043,1.0)\", \"rgba(229.69244935543279,192.4014732965009,216.22467771639043,1.0)\", \"rgba(229.69244935543279,192.4014732965009,216.22467771639043,1.0)\", \"rgba(229.69244935543279,192.4014732965009,216.22467771639043,1.0)\", \"rgba(229.69244935543279,192.4014732965009,216.22467771639043,1.0)\", \"rgba(70.2433628318584,133.81415929203538,154.88938053097345,1.0)\", \"rgba(229.69244935543279,192.4014732965009,216.22467771639043,1.0)\", \"rgba(229.69244935543279,192.4014732965009,216.22467771639043,1.0)\", \"rgba(70.2433628318584,133.81415929203538,154.88938053097345,1.0)\", \"rgba(70.2433628318584,133.81415929203538,154.88938053097345,1.0)\", \"rgba(70.2433628318584,133.81415929203538,154.88938053097345,1.0)\", \"rgba(70.2433628318584,133.81415929203538,154.88938053097345,1.0)\", \"rgba(229.69244935543279,192.4014732965009,216.22467771639043,1.0)\", \"rgba(229.69244935543279,192.4014732965009,216.22467771639043,1.0)\", \"rgba(229.69244935543279,192.4014732965009,216.22467771639043,1.0)\", \"rgba(70.2433628318584,133.81415929203538,154.88938053097345,1.0)\", \"rgba(70.2433628318584,133.81415929203538,154.88938053097345,1.0)\", \"rgba(229.69244935543279,192.4014732965009,216.22467771639043,0.0)\", \"rgba(229.69244935543279,192.4014732965009,216.22467771639043,1.0)\", \"rgba(70.2433628318584,133.81415929203538,154.88938053097345,0.9775252199076787)\", \"rgba(70.2433628318584,133.81415929203538,154.88938053097345,1.0)\", \"rgba(229.69244935543279,192.4014732965009,216.22467771639043,1.0)\", \"rgba(70.2433628318584,133.81415929203538,154.88938053097345,1.0)\", \"rgba(229.69244935543279,192.4014732965009,216.22467771639043,1.0)\", \"rgba(229.69244935543279,192.4014732965009,216.22467771639043,1.0)\", \"rgba(229.69244935543279,192.4014732965009,216.22467771639043,1.0)\", \"rgba(229.69244935543279,192.4014732965009,216.22467771639043,1.0)\", \"rgba(229.69244935543279,192.4014732965009,216.22467771639043,1.0)\", \"rgba(229.69244935543279,192.4014732965009,216.22467771639043,1.0)\", \"rgba(229.69244935543279,192.4014732965009,216.22467771639043,1.0)\", \"rgba(229.69244935543279,192.4014732965009,216.22467771639043,1.0)\", \"rgba(229.69244935543279,192.4014732965009,216.22467771639043,0.0)\", \"rgba(229.69244935543279,192.4014732965009,216.22467771639043,0.0)\", \"rgba(229.69244935543279,192.4014732965009,216.22467771639043,1.0)\", \"rgba(70.2433628318584,133.81415929203538,154.88938053097345,1.0)\", \"rgba(70.2433628318584,133.81415929203538,154.88938053097345,1.0)\", \"rgba(70.2433628318584,133.81415929203538,154.88938053097345,0.9565007145952775)\", \"rgba(229.69244935543279,192.4014732965009,216.22467771639043,1.0)\", \"rgba(229.69244935543279,192.4014732965009,216.22467771639043,1.0)\", \"rgba(229.69244935543279,192.4014732965009,216.22467771639043,1.0)\", \"rgba(229.69244935543279,192.4014732965009,216.22467771639043,1.0)\", \"rgba(229.69244935543279,192.4014732965009,216.22467771639043,1.0)\", \"rgba(229.69244935543279,192.4014732965009,216.22467771639043,1.0)\", \"rgba(229.69244935543279,192.4014732965009,216.22467771639043,0.0)\", \"rgba(229.69244935543279,192.4014732965009,216.22467771639043,1.0)\", \"rgba(229.69244935543279,192.4014732965009,216.22467771639043,0.9832624162720306)\", \"rgba(229.69244935543279,192.4014732965009,216.22467771639043,1.0)\", \"rgba(229.69244935543279,192.4014732965009,216.22467771639043,1.0)\", \"rgba(229.69244935543279,192.4014732965009,216.22467771639043,0.0)\", \"rgba(70.2433628318584,133.81415929203538,154.88938053097345,1.0)\", \"rgba(70.2433628318584,133.81415929203538,154.88938053097345,1.0)\", \"rgba(229.69244935543279,192.4014732965009,216.22467771639043,1.0)\", \"rgba(229.69244935543279,192.4014732965009,216.22467771639043,1.0)\", \"rgba(70.2433628318584,133.81415929203538,154.88938053097345,1.0)\", \"rgba(70.2433628318584,133.81415929203538,154.88938053097345,1.0)\", \"rgba(229.69244935543279,192.4014732965009,216.22467771639043,1.0)\", \"rgba(229.69244935543279,192.4014732965009,216.22467771639043,1.0)\", \"rgba(229.69244935543279,192.4014732965009,216.22467771639043,1.0)\", \"rgba(70.2433628318584,133.81415929203538,154.88938053097345,1.0)\", \"rgba(229.69244935543279,192.4014732965009,216.22467771639043,1.0)\", \"rgba(229.69244935543279,192.4014732965009,216.22467771639043,1.0)\", \"rgba(229.69244935543279,192.4014732965009,216.22467771639043,1.0)\", \"rgba(229.69244935543279,192.4014732965009,216.22467771639043,1.0)\", \"rgba(229.69244935543279,192.4014732965009,216.22467771639043,1.0)\", \"rgba(229.69244935543279,192.4014732965009,216.22467771639043,1.0)\", \"rgba(229.69244935543279,192.4014732965009,216.22467771639043,1.0)\", \"rgba(229.69244935543279,192.4014732965009,216.22467771639043,0.0)\", \"rgba(229.69244935543279,192.4014732965009,216.22467771639043,0.0)\", \"rgba(229.69244935543279,192.4014732965009,216.22467771639043,1.0)\", \"rgba(70.2433628318584,133.81415929203538,154.88938053097345,1.0)\", \"rgba(229.69244935543279,192.4014732965009,216.22467771639043,1.0)\", \"rgba(229.69244935543279,192.4014732965009,216.22467771639043,1.0)\", \"rgba(229.69244935543279,192.4014732965009,216.22467771639043,1.0)\", \"rgba(229.69244935543279,192.4014732965009,216.22467771639043,1.0)\", \"rgba(229.69244935543279,192.4014732965009,216.22467771639043,1.0)\", \"rgba(229.69244935543279,192.4014732965009,216.22467771639043,1.0)\", \"rgba(229.69244935543279,192.4014732965009,216.22467771639043,1.0)\", \"rgba(229.69244935543279,192.4014732965009,216.22467771639043,0.0)\", \"rgba(70.2433628318584,133.81415929203538,154.88938053097345,0.9367769320431429)\", \"rgba(229.69244935543279,192.4014732965009,216.22467771639043,1.0)\", \"rgba(229.69244935543279,192.4014732965009,216.22467771639043,1.0)\", \"rgba(229.69244935543279,192.4014732965009,216.22467771639043,1.0)\", \"rgba(70.2433628318584,133.81415929203538,154.88938053097345,1.0)\", \"rgba(70.2433628318584,133.81415929203538,154.88938053097345,1.0)\", \"rgba(229.69244935543279,192.4014732965009,216.22467771639043,0.0)\", \"rgba(70.2433628318584,133.81415929203538,154.88938053097345,1.0)\", \"rgba(229.69244935543279,192.4014732965009,216.22467771639043,1.0)\", \"rgba(229.69244935543279,192.4014732965009,216.22467771639043,1.0)\", \"rgba(229.69244935543279,192.4014732965009,216.22467771639043,1.0)\", \"rgba(229.69244935543279,192.4014732965009,216.22467771639043,1.0)\", \"rgba(229.69244935543279,192.4014732965009,216.22467771639043,1.0)\", \"rgba(229.69244935543279,192.4014732965009,216.22467771639043,1.0)\", \"rgba(229.69244935543279,192.4014732965009,216.22467771639043,1.0)\", \"rgba(229.69244935543279,192.4014732965009,216.22467771639043,1.0)\", \"rgba(229.69244935543279,192.4014732965009,216.22467771639043,1.0)\", \"rgba(229.69244935543279,192.4014732965009,216.22467771639043,0.0)\", \"rgba(229.69244935543279,192.4014732965009,216.22467771639043,1.0)\", \"rgba(229.69244935543279,192.4014732965009,216.22467771639043,1.0)\", \"rgba(70.2433628318584,133.81415929203538,154.88938053097345,1.0)\", \"rgba(229.69244935543279,192.4014732965009,216.22467771639043,1.0)\", \"rgba(229.69244935543279,192.4014732965009,216.22467771639043,1.0)\", \"rgba(70.2433628318584,133.81415929203538,154.88938053097345,1.0)\", \"rgba(229.69244935543279,192.4014732965009,216.22467771639043,0.0)\", \"rgba(229.69244935543279,192.4014732965009,216.22467771639043,1.0)\", \"rgba(229.69244935543279,192.4014732965009,216.22467771639043,1.0)\", \"rgba(229.69244935543279,192.4014732965009,216.22467771639043,1.0)\", \"rgba(229.69244935543279,192.4014732965009,216.22467771639043,1.0)\", \"rgba(229.69244935543279,192.4014732965009,216.22467771639043,0.0)\", \"rgba(229.69244935543279,192.4014732965009,216.22467771639043,0.9732186144668191)\", \"rgba(229.69244935543279,192.4014732965009,216.22467771639043,1.0)\", \"rgba(229.69244935543279,192.4014732965009,216.22467771639043,1.0)\", \"rgba(229.69244935543279,192.4014732965009,216.22467771639043,1.0)\", \"rgba(70.2433628318584,133.81415929203538,154.88938053097345,1.0)\", \"rgba(70.2433628318584,133.81415929203538,154.88938053097345,0.7050601581351732)\", \"rgba(70.2433628318584,133.81415929203538,154.88938053097345,1.0)\", \"rgba(70.2433628318584,133.81415929203538,154.88938053097345,1.0)\", \"rgba(229.69244935543279,192.4014732965009,216.22467771639043,1.0)\", \"rgba(229.69244935543279,192.4014732965009,216.22467771639043,1.0)\", \"rgba(229.69244935543279,192.4014732965009,216.22467771639043,1.0)\", \"rgba(229.69244935543279,192.4014732965009,216.22467771639043,1.0)\", \"rgba(229.69244935543279,192.4014732965009,216.22467771639043,0.0)\", \"rgba(229.69244935543279,192.4014732965009,216.22467771639043,0.0)\", \"rgba(229.69244935543279,192.4014732965009,216.22467771639043,1.0)\", \"rgba(70.2433628318584,133.81415929203538,154.88938053097345,1.0)\", \"rgba(70.2433628318584,133.81415929203538,154.88938053097345,1.0)\", \"rgba(70.2433628318584,133.81415929203538,154.88938053097345,1.0)\", \"rgba(70.2433628318584,133.81415929203538,154.88938053097345,1.0)\", \"rgba(70.2433628318584,133.81415929203538,154.88938053097345,1.0)\", \"rgba(70.2433628318584,133.81415929203538,154.88938053097345,0.8294576541331089)\", \"rgba(70.2433628318584,133.81415929203538,154.88938053097345,1.0)\", \"rgba(229.69244935543279,192.4014732965009,216.22467771639043,1.0)\", \"rgba(229.69244935543279,192.4014732965009,216.22467771639043,1.0)\", \"rgba(229.69244935543279,192.4014732965009,216.22467771639043,1.0)\", \"rgba(229.69244935543279,192.4014732965009,216.22467771639043,1.0)\", \"rgba(229.69244935543279,192.4014732965009,216.22467771639043,1.0)\", \"rgba(229.69244935543279,192.4014732965009,216.22467771639043,1.0)\", \"rgba(229.69244935543279,192.4014732965009,216.22467771639043,1.0)\", \"rgba(229.69244935543279,192.4014732965009,216.22467771639043,1.0)\", \"rgba(229.69244935543279,192.4014732965009,216.22467771639043,0.0)\", \"rgba(229.69244935543279,192.4014732965009,216.22467771639043,0.0)\", \"rgba(229.69244935543279,192.4014732965009,216.22467771639043,0.0)\", \"rgba(229.69244935543279,192.4014732965009,216.22467771639043,1.0)\", \"rgba(70.2433628318584,133.81415929203538,154.88938053097345,1.0)\", \"rgba(229.69244935543279,192.4014732965009,216.22467771639043,1.0)\", \"rgba(229.69244935543279,192.4014732965009,216.22467771639043,1.0)\", \"rgba(229.69244935543279,192.4014732965009,216.22467771639043,1.0)\", \"rgba(229.69244935543279,192.4014732965009,216.22467771639043,1.0)\", \"rgba(229.69244935543279,192.4014732965009,216.22467771639043,1.0)\", \"rgba(229.69244935543279,192.4014732965009,216.22467771639043,1.0)\", \"rgba(229.69244935543279,192.4014732965009,216.22467771639043,1.0)\", \"rgba(70.2433628318584,133.81415929203538,154.88938053097345,1.0)\", \"rgba(229.69244935543279,192.4014732965009,216.22467771639043,1.0)\", \"rgba(70.2433628318584,133.81415929203538,154.88938053097345,1.0)\", \"rgba(70.2433628318584,133.81415929203538,154.88938053097345,1.0)\", \"rgba(229.69244935543279,192.4014732965009,216.22467771639043,1.0)\", \"rgba(70.2433628318584,133.81415929203538,154.88938053097345,1.0)\", \"rgba(70.2433628318584,133.81415929203538,154.88938053097345,1.0)\", \"rgba(70.2433628318584,133.81415929203538,154.88938053097345,1.0)\", \"rgba(70.2433628318584,133.81415929203538,154.88938053097345,1.0)\", \"rgba(229.69244935543279,192.4014732965009,216.22467771639043,1.0)\", \"rgba(229.69244935543279,192.4014732965009,216.22467771639043,1.0)\", \"rgba(229.69244935543279,192.4014732965009,216.22467771639043,1.0)\", \"rgba(229.69244935543279,192.4014732965009,216.22467771639043,1.0)\", \"rgba(229.69244935543279,192.4014732965009,216.22467771639043,0.0)\", \"rgba(229.69244935543279,192.4014732965009,216.22467771639043,1.0)\", \"rgba(229.69244935543279,192.4014732965009,216.22467771639043,1.0)\", \"rgba(229.69244935543279,192.4014732965009,216.22467771639043,1.0)\", \"rgba(229.69244935543279,192.4014732965009,216.22467771639043,1.0)\", \"rgba(229.69244935543279,192.4014732965009,216.22467771639043,1.0)\", \"rgba(70.2433628318584,133.81415929203538,154.88938053097345,1.0)\", \"rgba(70.2433628318584,133.81415929203538,154.88938053097345,1.0)\", \"rgba(229.69244935543279,192.4014732965009,216.22467771639043,0.0)\", \"rgba(229.69244935543279,192.4014732965009,216.22467771639043,1.0)\", \"rgba(229.69244935543279,192.4014732965009,216.22467771639043,1.0)\", \"rgba(229.69244935543279,192.4014732965009,216.22467771639043,1.0)\", \"rgba(229.69244935543279,192.4014732965009,216.22467771639043,0.0)\", \"rgba(229.69244935543279,192.4014732965009,216.22467771639043,0.0)\", \"rgba(229.69244935543279,192.4014732965009,216.22467771639043,1.0)\", \"rgba(229.69244935543279,192.4014732965009,216.22467771639043,0.0)\", \"rgba(229.69244935543279,192.4014732965009,216.22467771639043,1.0)\", \"rgba(70.2433628318584,133.81415929203538,154.88938053097345,1.0)\", \"rgba(70.2433628318584,133.81415929203538,154.88938053097345,1.0)\", \"rgba(229.69244935543279,192.4014732965009,216.22467771639043,1.0)\", \"rgba(229.69244935543279,192.4014732965009,216.22467771639043,1.0)\", \"rgba(229.69244935543279,192.4014732965009,216.22467771639043,1.0)\", \"rgba(229.69244935543279,192.4014732965009,216.22467771639043,1.0)\", \"rgba(229.69244935543279,192.4014732965009,216.22467771639043,1.0)\", \"rgba(229.69244935543279,192.4014732965009,216.22467771639043,1.0)\", \"rgba(229.69244935543279,192.4014732965009,216.22467771639043,1.0)\", \"rgba(229.69244935543279,192.4014732965009,216.22467771639043,1.0)\", \"rgba(229.69244935543279,192.4014732965009,216.22467771639043,0.0)\", \"rgba(229.69244935543279,192.4014732965009,216.22467771639043,1.0)\", \"rgba(229.69244935543279,192.4014732965009,216.22467771639043,1.0)\", \"rgba(70.2433628318584,133.81415929203538,154.88938053097345,1.0)\", \"rgba(70.2433628318584,133.81415929203538,154.88938053097345,1.0)\", \"rgba(229.69244935543279,192.4014732965009,216.22467771639043,1.0)\", \"rgba(229.69244935543279,192.4014732965009,216.22467771639043,1.0)\", \"rgba(70.2433628318584,133.81415929203538,154.88938053097345,1.0)\", \"rgba(70.2433628318584,133.81415929203538,154.88938053097345,1.0)\", \"rgba(229.69244935543279,192.4014732965009,216.22467771639043,1.0)\", \"rgba(229.69244935543279,192.4014732965009,216.22467771639043,1.0)\", \"rgba(229.69244935543279,192.4014732965009,216.22467771639043,1.0)\", \"rgba(229.69244935543279,192.4014732965009,216.22467771639043,1.0)\", \"rgba(229.69244935543279,192.4014732965009,216.22467771639043,0.944838772761475)\", \"rgba(229.69244935543279,192.4014732965009,216.22467771639043,1.0)\", \"rgba(70.2433628318584,133.81415929203538,154.88938053097345,0.8465616732800196)\", \"rgba(70.2433628318584,133.81415929203538,154.88938053097345,1.0)\", \"rgba(70.2433628318584,133.81415929203538,154.88938053097345,1.0)\", \"rgba(229.69244935543279,192.4014732965009,216.22467771639043,1.0)\", \"rgba(229.69244935543279,192.4014732965009,216.22467771639043,1.0)\", \"rgba(229.69244935543279,192.4014732965009,216.22467771639043,1.0)\", \"rgba(229.69244935543279,192.4014732965009,216.22467771639043,1.0)\", \"rgba(229.69244935543279,192.4014732965009,216.22467771639043,1.0)\", \"rgba(229.69244935543279,192.4014732965009,216.22467771639043,1.0)\", \"rgba(229.69244935543279,192.4014732965009,216.22467771639043,1.0)\", \"rgba(229.69244935543279,192.4014732965009,216.22467771639043,1.0)\", \"rgba(229.69244935543279,192.4014732965009,216.22467771639043,0.0)\", \"rgba(70.2433628318584,133.81415929203538,154.88938053097345,1.0)\", \"rgba(70.2433628318584,133.81415929203538,154.88938053097345,1.0)\", \"rgba(70.2433628318584,133.81415929203538,154.88938053097345,1.0)\", \"rgba(70.2433628318584,133.81415929203538,154.88938053097345,1.0)\", \"rgba(70.2433628318584,133.81415929203538,154.88938053097345,1.0)\", \"rgba(70.2433628318584,133.81415929203538,154.88938053097345,1.0)\", \"rgba(229.69244935543279,192.4014732965009,216.22467771639043,1.0)\", \"rgba(229.69244935543279,192.4014732965009,216.22467771639043,1.0)\", \"rgba(70.2433628318584,133.81415929203538,154.88938053097345,1.0)\", \"rgba(70.2433628318584,133.81415929203538,154.88938053097345,1.0)\", \"rgba(229.69244935543279,192.4014732965009,216.22467771639043,1.0)\", \"rgba(229.69244935543279,192.4014732965009,216.22467771639043,1.0)\", \"rgba(229.69244935543279,192.4014732965009,216.22467771639043,1.0)\", \"rgba(229.69244935543279,192.4014732965009,216.22467771639043,1.0)\", \"rgba(229.69244935543279,192.4014732965009,216.22467771639043,1.0)\", \"rgba(229.69244935543279,192.4014732965009,216.22467771639043,1.0)\", \"rgba(229.69244935543279,192.4014732965009,216.22467771639043,1.0)\", \"rgba(229.69244935543279,192.4014732965009,216.22467771639043,1.0)\", \"rgba(229.69244935543279,192.4014732965009,216.22467771639043,0.0)\", \"rgba(229.69244935543279,192.4014732965009,216.22467771639043,0.0)\", \"rgba(229.69244935543279,192.4014732965009,216.22467771639043,0.0)\", \"rgba(229.69244935543279,192.4014732965009,216.22467771639043,1.0)\", \"rgba(70.2433628318584,133.81415929203538,154.88938053097345,1.0)\", \"rgba(70.2433628318584,133.81415929203538,154.88938053097345,1.0)\", \"rgba(229.69244935543279,192.4014732965009,216.22467771639043,1.0)\", \"rgba(70.2433628318584,133.81415929203538,154.88938053097345,0.9227595290837433)\", \"rgba(70.2433628318584,133.81415929203538,154.88938053097345,1.0)\", \"rgba(70.2433628318584,133.81415929203538,154.88938053097345,1.0)\", \"rgba(229.69244935543279,192.4014732965009,216.22467771639043,1.0)\", \"rgba(229.69244935543279,192.4014732965009,216.22467771639043,1.0)\", \"rgba(229.69244935543279,192.4014732965009,216.22467771639043,1.0)\", \"rgba(229.69244935543279,192.4014732965009,216.22467771639043,1.0)\", \"rgba(229.69244935543279,192.4014732965009,216.22467771639043,1.0)\", \"rgba(229.69244935543279,192.4014732965009,216.22467771639043,1.0)\", \"rgba(229.69244935543279,192.4014732965009,216.22467771639043,0.0)\", \"rgba(229.69244935543279,192.4014732965009,216.22467771639043,1.0)\", \"rgba(70.2433628318584,133.81415929203538,154.88938053097345,1.0)\", \"rgba(70.2433628318584,133.81415929203538,154.88938053097345,1.0)\", \"rgba(70.2433628318584,133.81415929203538,154.88938053097345,0.7809795631219709)\", \"rgba(70.2433628318584,133.81415929203538,154.88938053097345,0.9227595290837433)\", \"rgba(70.2433628318584,133.81415929203538,154.88938053097345,1.0)\", \"rgba(70.2433628318584,133.81415929203538,154.88938053097345,1.0)\", \"rgba(70.2433628318584,133.81415929203538,154.88938053097345,1.0)\", \"rgba(229.69244935543279,192.4014732965009,216.22467771639043,1.0)\", \"rgba(229.69244935543279,192.4014732965009,216.22467771639043,1.0)\", \"rgba(229.69244935543279,192.4014732965009,216.22467771639043,1.0)\", \"rgba(229.69244935543279,192.4014732965009,216.22467771639043,1.0)\", \"rgba(229.69244935543279,192.4014732965009,216.22467771639043,1.0)\", \"rgba(229.69244935543279,192.4014732965009,216.22467771639043,1.0)\", \"rgba(229.69244935543279,192.4014732965009,216.22467771639043,0.0)\", \"rgba(229.69244935543279,192.4014732965009,216.22467771639043,1.0)\", \"rgba(229.69244935543279,192.4014732965009,216.22467771639043,1.0)\", \"rgba(229.69244935543279,192.4014732965009,216.22467771639043,1.0)\", \"rgba(229.69244935543279,192.4014732965009,216.22467771639043,1.0)\", \"rgba(229.69244935543279,192.4014732965009,216.22467771639043,1.0)\", \"rgba(229.69244935543279,192.4014732965009,216.22467771639043,0.9978609601174382)\", \"rgba(70.2433628318584,133.81415929203538,154.88938053097345,1.0)\", \"rgba(70.2433628318584,133.81415929203538,154.88938053097345,1.0)\", \"rgba(70.2433628318584,133.81415929203538,154.88938053097345,1.0)\", \"rgba(70.2433628318584,133.81415929203538,154.88938053097345,1.0)\", \"rgba(70.2433628318584,133.81415929203538,154.88938053097345,1.0)\", \"rgba(70.2433628318584,133.81415929203538,154.88938053097345,1.0)\", \"rgba(229.69244935543279,192.4014732965009,216.22467771639043,1.0)\", \"rgba(229.69244935543279,192.4014732965009,216.22467771639043,1.0)\", \"rgba(229.69244935543279,192.4014732965009,216.22467771639043,1.0)\", \"rgba(229.69244935543279,192.4014732965009,216.22467771639043,0.0)\", \"rgba(229.69244935543279,192.4014732965009,216.22467771639043,1.0)\", \"rgba(229.69244935543279,192.4014732965009,216.22467771639043,0.0)\", \"rgba(229.69244935543279,192.4014732965009,216.22467771639043,0.0)\", \"rgba(229.69244935543279,192.4014732965009,216.22467771639043,0.9978609601174382)\", \"rgba(229.69244935543279,192.4014732965009,216.22467771639043,1.0)\", \"rgba(70.2433628318584,133.81415929203538,154.88938053097345,0.7894228308055838)\", \"rgba(70.2433628318584,133.81415929203538,154.88938053097345,1.0)\", \"rgba(70.2433628318584,133.81415929203538,154.88938053097345,1.0)\", \"rgba(229.69244935543279,192.4014732965009,216.22467771639043,1.0)\", \"rgba(229.69244935543279,192.4014732965009,216.22467771639043,1.0)\", \"rgba(229.69244935543279,192.4014732965009,216.22467771639043,1.0)\", \"rgba(229.69244935543279,192.4014732965009,216.22467771639043,1.0)\", \"rgba(229.69244935543279,192.4014732965009,216.22467771639043,1.0)\", \"rgba(229.69244935543279,192.4014732965009,216.22467771639043,1.0)\", \"rgba(70.2433628318584,133.81415929203538,154.88938053097345,1.0)\", \"rgba(70.2433628318584,133.81415929203538,154.88938053097345,1.0)\", \"rgba(70.2433628318584,133.81415929203538,154.88938053097345,1.0)\", \"rgba(70.2433628318584,133.81415929203538,154.88938053097345,1.0)\", \"rgba(229.69244935543279,192.4014732965009,216.22467771639043,1.0)\", \"rgba(229.69244935543279,192.4014732965009,216.22467771639043,1.0)\", \"rgba(229.69244935543279,192.4014732965009,216.22467771639043,1.0)\", \"rgba(229.69244935543279,192.4014732965009,216.22467771639043,1.0)\", \"rgba(229.69244935543279,192.4014732965009,216.22467771639043,1.0)\", \"rgba(229.69244935543279,192.4014732965009,216.22467771639043,0.9978609601174382)\", \"rgba(229.69244935543279,192.4014732965009,216.22467771639043,0.0)\", \"rgba(229.69244935543279,192.4014732965009,216.22467771639043,0.0)\", \"rgba(70.2433628318584,133.81415929203538,154.88938053097345,1.0)\", \"rgba(229.69244935543279,192.4014732965009,216.22467771639043,0.0)\", \"rgba(70.2433628318584,133.81415929203538,154.88938053097345,1.0)\", \"rgba(70.2433628318584,133.81415929203538,154.88938053097345,1.0)\", \"rgba(229.69244935543279,192.4014732965009,216.22467771639043,1.0)\", \"rgba(229.69244935543279,192.4014732965009,216.22467771639043,1.0)\", \"rgba(229.69244935543279,192.4014732965009,216.22467771639043,1.0)\", \"rgba(229.69244935543279,192.4014732965009,216.22467771639043,1.0)\", \"rgba(229.69244935543279,192.4014732965009,216.22467771639043,1.0)\", \"rgba(229.69244935543279,192.4014732965009,216.22467771639043,0.9978609601174382)\", \"rgba(70.2433628318584,133.81415929203538,154.88938053097345,0.9775252199076787)\", \"rgba(70.2433628318584,133.81415929203538,154.88938053097345,1.0)\", \"rgba(70.2433628318584,133.81415929203538,154.88938053097345,0.6476976108663295)\", \"rgba(70.2433628318584,133.81415929203538,154.88938053097345,1.0)\", \"rgba(70.2433628318584,133.81415929203538,154.88938053097345,1.0)\", \"rgba(229.69244935543279,192.4014732965009,216.22467771639043,1.0)\", \"rgba(229.69244935543279,192.4014732965009,216.22467771639043,1.0)\", \"rgba(229.69244935543279,192.4014732965009,216.22467771639043,1.0)\", \"rgba(229.69244935543279,192.4014732965009,216.22467771639043,1.0)\", \"rgba(229.69244935543279,192.4014732965009,216.22467771639043,1.0)\", \"rgba(229.69244935543279,192.4014732965009,216.22467771639043,1.0)\", \"rgba(229.69244935543279,192.4014732965009,216.22467771639043,1.0)\", \"rgba(229.69244935543279,192.4014732965009,216.22467771639043,1.0)\", \"rgba(229.69244935543279,192.4014732965009,216.22467771639043,0.0)\", \"rgba(70.2433628318584,133.81415929203538,154.88938053097345,0.8011186209146056)\", \"rgba(70.2433628318584,133.81415929203538,154.88938053097345,1.0)\", \"rgba(229.69244935543279,192.4014732965009,216.22467771639043,1.0)\", \"rgba(229.69244935543279,192.4014732965009,216.22467771639043,1.0)\", \"rgba(229.69244935543279,192.4014732965009,216.22467771639043,1.0)\", \"rgba(70.2433628318584,133.81415929203538,154.88938053097345,0.9050124966251125)\", \"rgba(229.69244935543279,192.4014732965009,216.22467771639043,1.0)\", \"rgba(229.69244935543279,192.4014732965009,216.22467771639043,0.0)\", \"rgba(70.2433628318584,133.81415929203538,154.88938053097345,1.0)\", \"rgba(70.2433628318584,133.81415929203538,154.88938053097345,1.0)\", \"rgba(70.2433628318584,133.81415929203538,154.88938053097345,1.0)\", \"rgba(229.69244935543279,192.4014732965009,216.22467771639043,1.0)\", \"rgba(229.69244935543279,192.4014732965009,216.22467771639043,1.0)\", \"rgba(229.69244935543279,192.4014732965009,216.22467771639043,1.0)\", \"rgba(229.69244935543279,192.4014732965009,216.22467771639043,0.957769719006437)\", \"rgba(229.69244935543279,192.4014732965009,216.22467771639043,1.0)\", \"rgba(229.69244935543279,192.4014732965009,216.22467771639043,0.0)\", \"rgba(229.69244935543279,192.4014732965009,216.22467771639043,0.0)\", \"rgba(229.69244935543279,192.4014732965009,216.22467771639043,0.0)\", \"rgba(229.69244935543279,192.4014732965009,216.22467771639043,1.0)\", \"rgba(229.69244935543279,192.4014732965009,216.22467771639043,1.0)\", \"rgba(70.2433628318584,133.81415929203538,154.88938053097345,1.0)\", \"rgba(70.2433628318584,133.81415929203538,154.88938053097345,1.0)\", \"rgba(70.2433628318584,133.81415929203538,154.88938053097345,1.0)\", \"rgba(70.2433628318584,133.81415929203538,154.88938053097345,1.0)\", \"rgba(70.2433628318584,133.81415929203538,154.88938053097345,1.0)\", \"rgba(229.69244935543279,192.4014732965009,216.22467771639043,1.0)\", \"rgba(229.69244935543279,192.4014732965009,216.22467771639043,1.0)\", \"rgba(229.69244935543279,192.4014732965009,216.22467771639043,1.0)\", \"rgba(229.69244935543279,192.4014732965009,216.22467771639043,1.0)\", \"rgba(229.69244935543279,192.4014732965009,216.22467771639043,1.0)\", \"rgba(229.69244935543279,192.4014732965009,216.22467771639043,1.0)\", \"rgba(229.69244935543279,192.4014732965009,216.22467771639043,1.0)\", \"rgba(229.69244935543279,192.4014732965009,216.22467771639043,0.0)\", \"rgba(229.69244935543279,192.4014732965009,216.22467771639043,0.0)\", \"rgba(229.69244935543279,192.4014732965009,216.22467771639043,0.0)\", \"rgba(70.2433628318584,133.81415929203538,154.88938053097345,0.6023862534223671)\", \"rgba(70.2433628318584,133.81415929203538,154.88938053097345,1.0)\", \"rgba(70.2433628318584,133.81415929203538,154.88938053097345,1.0)\", \"rgba(70.2433628318584,133.81415929203538,154.88938053097345,1.0)\", \"rgba(70.2433628318584,133.81415929203538,154.88938053097345,1.0)\"], \"opacity\": 0.8, \"size\": 3}, \"mode\": \"markers\", \"type\": \"scatter3d\", \"x\": [255.0, 254.0, 253.0, 251.0, 250.0, 249.0, 242.0, 216.0, 132.0, 104.0, 90.0, 66.0, 45.0, 255.0, 255.0, 255.0, 254.0, 253.0, 252.0, 251.0, 248.0, 240.0, 65.0, 44.0, 255.0, 254.0, 253.0, 252.0, 251.0, 243.0, 241.0, 225.0, 168.0, 153.0, 88.0, 67.0, 254.0, 253.0, 252.0, 220.0, 218.0, 200.0, 111.0, 99.0, 92.0, 89.0, 88.0, 66.0, 65.0, 64.0, 40.0, 255.0, 254.0, 253.0, 252.0, 251.0, 250.0, 191.0, 187.0, 186.0, 251.0, 254.0, 98.0, 91.0, 73.0, 65.0, 44.0, 255.0, 254.0, 253.0, 252.0, 250.0, 249.0, 190.0, 140.0, 114.0, 88.0, 86.0, 66.0, 62.0, 43.0, 253.0, 252.0, 251.0, 250.0, 246.0, 255.0, 220.0, 183.0, 181.0, 174.0, 254.0, 112.0, 250.0, 254.0, 253.0, 248.0, 244.0, 254.0, 253.0, 251.0, 233.0, 218.0, 210.0, 204.0, 196.0, 124.0, 115.0, 88.0, 87.0, 46.0, 45.0, 255.0, 253.0, 252.0, 251.0, 251.0, 244.0, 241.0, 232.0, 212.0, 113.0, 102.0, 100.0, 254.0, 252.0, 63.0, 249.0, 254.0, 100.0, 253.0, 252.0, 253.0, 242.0, 231.0, 253.0, 209.0, 253.0, 64.0, 255.0, 62.0, 44.0, 253.0, 252.0, 253.0, 245.0, 239.0, 231.0, 255.0, 252.0, 254.0, 249.0, 176.0, 251.0, 93.0, 89.0, 50.0, 253.0, 251.0, 250.0, 253.0, 244.0, 175.0, 161.0, 100.0, 117.0, 108.0, 105.0, 254.0, 62.0, 253.0, 251.0, 208.0, 200.0, 255.0, 253.0, 252.0, 173.0, 127.0, 154.0, 152.0, 149.0, 155.0, 126.0, 110.0, 251.0, 62.0, 61.0, 254.0, 253.0, 242.0, 227.0, 208.0, 253.0, 252.0, 253.0, 150.0, 146.0, 130.0, 88.0, 85.0, 60.0, 254.0, 47.0, 253.0, 250.0, 248.0, 253.0, 234.0, 162.0, 158.0, 253.0, 218.0, 152.0, 149.0, 255.0, 102.0, 93.0, 85.0, 60.0, 46.0, 253.0, 226.0, 205.0, 131.0, 175.0, 168.0, 100.0, 84.0, 83.0, 61.0, 253.0, 250.0, 241.0, 254.0, 67.0, 174.0, 167.0, 163.0, 150.0, 149.0, 254.0, 105.0, 103.0, 62.0, 41.0, 76.0, 202.0, 143.0, 253.0, 84.0, 251.0, 249.0, 241.0, 231.0, 132.0, 176.0, 250.0, 254.0, 252.0, 83.0, 82.0, 253.0, 252.0, 60.0, 59.0, 236.0, 156.0, 254.0, 150.0, 250.0, 135.0, 83.0, 60.0, 58.0, 251.0, 39.0, 251.0, 79.0, 244.0, 238.0, 234.0, 224.0, 205.0, 172.0, 155.0, 138.0, 134.0, 107.0, 254.0, 251.0, 80.0, 254.0, 252.0, 251.0, 174.0, 254.0, 248.0, 244.0, 233.0, 247.0, 192.0, 177.0, 168.0, 152.0, 149.0, 122.0, 113.0, 100.0, 81.0, 253.0, 244.0, 241.0, 226.0, 224.0, 254.0, 167.0, 133.0, 123.0, 103.0, 82.0, 59.0, 58.0, 253.0, 254.0, 237.0, 255.0, 254.0, 48.0, 254.0, 255.0, 254.0, 251.0, 131.0, 255.0, 254.0, 254.0, 84.0, 81.0, 59.0, 57.0, 56.0, 255.0, 255.0, 248.0, 253.0, 246.0, 242.0, 240.0, 251.0, 194.0, 144.0, 58.0, 54.0, 251.0, 250.0, 157.0, 151.0, 56.0, 254.0, 247.0, 245.0, 214.0, 142.0, 136.0, 113.0, 106.0, 87.0, 82.0, 81.0, 79.0, 250.0, 249.0, 59.0, 183.0, 169.0, 158.0, 251.0, 57.0, 56.0, 251.0, 252.0, 251.0, 254.0, 246.0, 191.0, 187.0, 161.0, 255.0, 137.0, 136.0, 120.0, 119.0, 57.0, 251.0, 56.0, 255.0, 209.0, 159.0, 148.0, 142.0, 139.0, 129.0, 114.0, 82.0, 80.0, 78.0, 57.0, 255.0, 252.0, 251.0, 253.0, 240.0, 237.0, 149.0, 121.0, 81.0, 56.0, 253.0, 252.0, 251.0, 250.0, 248.0, 247.0, 149.0, 148.0, 115.0, 79.0, 78.0, 255.0, 251.0, 250.0, 243.0, 208.0, 158.0, 156.0, 146.0, 130.0, 255.0, 55.0, 253.0, 255.0, 252.0, 251.0, 173.0, 171.0, 102.0, 56.0, 52.0, 253.0, 251.0, 247.0, 243.0, 254.0, 203.0, 255.0, 171.0, 152.0, 91.0, 77.0, 54.0, 255.0, 254.0, 252.0, 251.0, 249.0, 230.0, 138.0, 119.0, 101.0, 100.0, 94.0, 77.0, 54.0, 53.0, 51.0, 254.0, 253.0, 252.0, 251.0, 250.0, 247.0, 140.0, 130.0, 122.0, 252.0, 250.0, 102.0, 101.0, 84.0, 54.0, 53.0, 255.0, 254.0, 252.0, 251.0, 250.0, 247.0, 244.0, 230.0, 253.0, 252.0, 142.0, 131.0, 130.0, 122.0, 75.0, 253.0, 252.0, 251.0, 250.0, 249.0, 247.0, 246.0, 245.0, 249.0, 242.0, 49.0, 253.0, 254.0, 100.0, 99.0, 98.0, 97.0, 255.0, 251.0, 250.0, 76.0, 75.0, 69.0, 252.0, 54.0, 53.0, 248.0, 94.0, 253.0, 252.0, 250.0, 249.0, 248.0, 246.0, 240.0, 248.0, 158.0, 129.0, 254.0, 75.0, 74.0, 53.0, 254.0, 253.0, 248.0, 247.0, 246.0, 254.0, 236.0, 254.0, 137.0, 130.0, 124.0, 108.0, 99.0, 97.0, 254.0, 252.0, 76.0, 74.0, 253.0, 251.0, 249.0, 50.0, 254.0, 251.0, 250.0, 247.0, 238.0, 253.0, 252.0, 210.0, 169.0, 138.0, 74.0, 255.0, 251.0, 252.0, 251.0, 255.0, 254.0, 253.0, 191.0, 51.0, 255.0, 254.0, 125.0, 99.0, 98.0, 74.0, 51.0, 252.0, 254.0, 250.0, 249.0, 245.0, 238.0, 237.0, 251.0, 253.0, 146.0, 254.0, 127.0, 100.0, 254.0, 120.0, 99.0, 74.0, 252.0, 251.0, 255.0, 254.0, 145.0, 141.0, 128.0, 117.0, 254.0, 74.0, 61.0, 49.0, 47.0, 254.0, 248.0, 241.0, 253.0, 180.0, 167.0, 253.0, 97.0, 76.0, 72.0, 72.0, 52.0, 50.0, 48.0, 252.0, 249.0, 254.0, 253.0, 251.0, 250.0, 253.0, 253.0, 143.0, 132.0, 96.0, 254.0, 47.0, 254.0, 254.0, 251.0, 248.0, 247.0, 243.0, 234.0, 88.0, 251.0, 101.0, 96.0, 253.0, 73.0, 49.0, 48.0, 46.0, 254.0, 252.0, 249.0, 246.0, 219.0, 255.0, 254.0, 253.0, 252.0, 250.0, 73.0, 72.0, 245.0, 249.0, 239.0, 236.0, 175.0, 166.0, 122.0, 105.0, 254.0, 50.0, 47.0, 254.0, 254.0, 253.0, 251.0, 250.0, 249.0, 248.0, 247.0, 206.0, 251.0, 114.0, 98.0, 96.0, 253.0, 252.0, 72.0, 47.0, 254.0, 253.0, 252.0, 244.0, 223.0, 254.0, 103.0, 75.0, 78.0, 254.0, 253.0, 252.0, 251.0, 248.0, 247.0, 233.0, 254.0, 169.0, 96.0, 95.0, 94.0, 76.0, 71.0, 69.0, 253.0, 250.0, 49.0, 48.0, 255.0, 254.0, 253.0, 252.0, 251.0, 248.0, 234.0, 254.0, 153.0, 134.0, 121.0, 254.0, 70.0, 69.0, 253.0, 49.0, 48.0, 47.0, 253.0, 254.0, 253.0, 252.0, 248.0, 244.0, 179.0, 120.0, 92.0, 70.0, 57.0, 55.0, 54.0, 49.0, 47.0, 254.0, 253.0, 251.0, 254.0, 254.0, 254.0, 215.0, 254.0, 255.0, 254.0, 255.0, 254.0, 117.0, 94.0, 93.0, 70.0, 67.0, 47.0, 90.0, 255.0, 253.0, 255.0, 254.0, 253.0, 195.0, 201.0, 118.0, 113.0, 80.0, 68.0, 44.0, 255.0, 254.0, 246.0, 244.0, 116.0, 110.0, 70.0, 67.0, 45.0, 43.0, 255.0, 254.0, 253.0, 252.0, 246.0, 229.0, 204.0, 146.0, 99.0, 115.0, 46.0, 44.0, 255.0, 254.0, 251.0, 237.0, 253.0, 110.0, 92.0, 67.0, 60.0, 48.0, 47.0, 251.0, 255.0, 254.0, 251.0, 250.0, 247.0, 252.0, 254.0, 90.0, 76.0, 45.0, 255.0, 254.0, 252.0, 57.0, 239.0, 155.0, 73.0, 66.0, 45.0, 254.0, 252.0, 248.0, 238.0, 203.0, 189.0, 176.0, 164.0, 109.0, 254.0, 88.0, 67.0, 46.0, 45.0, 41.0, 255.0, 254.0, 253.0, 252.0, 251.0, 248.0, 246.0, 217.0, 198.0, 195.0, 108.0, 94.0, 91.0, 67.0, 65.0], \"y\": [202.0, 206.0, 203.0, 237.0, 238.0, 224.0, 222.0, 223.0, 146.0, 166.0, 216.0, 152.0, 72.0, 215.0, 214.0, 212.0, 203.0, 206.0, 209.0, 222.0, 217.0, 237.0, 156.0, 74.0, 209.0, 207.0, 206.0, 217.0, 229.0, 242.0, 203.0, 224.0, 246.0, 138.0, 214.0, 156.0, 208.0, 208.0, 206.0, 197.0, 227.0, 231.0, 162.0, 157.0, 209.0, 213.0, 212.0, 145.0, 154.0, 141.0, 67.0, 213.0, 210.0, 209.0, 226.0, 222.0, 209.0, 227.0, 212.0, 230.0, 247.0, 176.0, 206.0, 212.0, 75.0, 142.0, 69.0, 214.0, 212.0, 211.0, 209.0, 209.0, 255.0, 222.0, 137.0, 160.0, 211.0, 211.0, 147.0, 154.0, 69.0, 211.0, 211.0, 229.0, 252.0, 214.0, 205.0, 214.0, 227.0, 229.0, 228.0, 164.0, 213.0, 241.0, 186.0, 204.0, 242.0, 242.0, 213.0, 213.0, 235.0, 241.0, 209.0, 223.0, 197.0, 218.0, 134.0, 215.0, 209.0, 209.0, 67.0, 69.0, 207.0, 213.0, 216.0, 236.0, 223.0, 202.0, 201.0, 214.0, 218.0, 213.0, 158.0, 157.0, 182.0, 198.0, 146.0, 239.0, 186.0, 231.0, 214.0, 236.0, 215.0, 203.0, 218.0, 215.0, 191.0, 214.0, 141.0, 215.0, 146.0, 63.0, 220.0, 220.0, 226.0, 205.0, 200.0, 201.0, 211.0, 223.0, 172.0, 236.0, 224.0, 245.0, 152.0, 207.0, 61.0, 218.0, 231.0, 229.0, 217.0, 205.0, 223.0, 223.0, 233.0, 209.0, 208.0, 209.0, 165.0, 142.0, 220.0, 245.0, 203.0, 193.0, 211.0, 207.0, 215.0, 223.0, 128.0, 225.0, 224.0, 223.0, 212.0, 129.0, 206.0, 244.0, 137.0, 148.0, 187.0, 221.0, 236.0, 196.0, 214.0, 215.0, 215.0, 219.0, 220.0, 220.0, 128.0, 213.0, 205.0, 146.0, 175.0, 63.0, 223.0, 227.0, 252.0, 212.0, 197.0, 224.0, 222.0, 209.0, 219.0, 220.0, 223.0, 202.0, 143.0, 198.0, 205.0, 134.0, 60.0, 224.0, 198.0, 211.0, 203.0, 201.0, 220.0, 202.0, 203.0, 202.0, 141.0, 222.0, 245.0, 250.0, 196.0, 146.0, 213.0, 220.0, 219.0, 218.0, 213.0, 211.0, 206.0, 150.0, 138.0, 59.0, 181.0, 188.0, 213.0, 221.0, 201.0, 232.0, 242.0, 252.0, 227.0, 179.0, 202.0, 218.0, 213.0, 211.0, 201.0, 201.0, 215.0, 221.0, 136.0, 139.0, 246.0, 214.0, 220.0, 214.0, 238.0, 206.0, 199.0, 126.0, 135.0, 246.0, 51.0, 244.0, 190.0, 227.0, 246.0, 252.0, 192.0, 185.0, 207.0, 214.0, 197.0, 218.0, 142.0, 171.0, 232.0, 199.0, 189.0, 215.0, 209.0, 227.0, 190.0, 240.0, 239.0, 251.0, 243.0, 197.0, 207.0, 182.0, 212.0, 214.0, 244.0, 119.0, 195.0, 198.0, 225.0, 236.0, 247.0, 187.0, 187.0, 167.0, 208.0, 212.0, 237.0, 209.0, 198.0, 120.0, 121.0, 214.0, 188.0, 250.0, 208.0, 192.0, 91.0, 194.0, 204.0, 194.0, 232.0, 234.0, 200.0, 198.0, 200.0, 197.0, 196.0, 128.0, 125.0, 133.0, 212.0, 211.0, 250.0, 205.0, 238.0, 219.0, 251.0, 229.0, 189.0, 211.0, 118.0, 103.0, 250.0, 238.0, 194.0, 208.0, 130.0, 177.0, 237.0, 249.0, 183.0, 212.0, 211.0, 116.0, 194.0, 185.0, 193.0, 194.0, 194.0, 245.0, 237.0, 127.0, 208.0, 195.0, 208.0, 246.0, 121.0, 114.0, 246.0, 249.0, 249.0, 192.0, 246.0, 177.0, 195.0, 209.0, 213.0, 206.0, 198.0, 116.0, 187.0, 119.0, 248.0, 119.0, 205.0, 182.0, 177.0, 205.0, 202.0, 207.0, 208.0, 198.0, 189.0, 194.0, 191.0, 114.0, 250.0, 249.0, 247.0, 227.0, 250.0, 238.0, 209.0, 200.0, 191.0, 125.0, 247.0, 247.0, 240.0, 248.0, 244.0, 246.0, 202.0, 202.0, 197.0, 185.0, 191.0, 253.0, 237.0, 248.0, 222.0, 180.0, 190.0, 197.0, 202.0, 199.0, 213.0, 111.0, 217.0, 248.0, 250.0, 249.0, 173.0, 172.0, 231.0, 117.0, 115.0, 247.0, 247.0, 244.0, 233.0, 189.0, 176.0, 203.0, 170.0, 207.0, 105.0, 187.0, 123.0, 245.0, 248.0, 245.0, 246.0, 244.0, 220.0, 191.0, 201.0, 112.0, 229.0, 187.0, 187.0, 106.0, 114.0, 116.0, 248.0, 245.0, 247.0, 244.0, 245.0, 242.0, 197.0, 196.0, 208.0, 246.0, 236.0, 104.0, 229.0, 103.0, 111.0, 107.0, 244.0, 244.0, 238.0, 212.0, 243.0, 237.0, 239.0, 231.0, 211.0, 219.0, 196.0, 197.0, 198.0, 198.0, 185.0, 242.0, 244.0, 241.0, 236.0, 246.0, 240.0, 239.0, 238.0, 241.0, 236.0, 93.0, 211.0, 163.0, 230.0, 233.0, 231.0, 232.0, 242.0, 242.0, 244.0, 185.0, 181.0, 102.0, 205.0, 113.0, 103.0, 241.0, 223.0, 244.0, 211.0, 245.0, 239.0, 241.0, 240.0, 246.0, 231.0, 174.0, 230.0, 173.0, 177.0, 181.0, 101.0, 242.0, 204.0, 240.0, 235.0, 241.0, 178.0, 233.0, 190.0, 182.0, 196.0, 191.0, 194.0, 229.0, 229.0, 183.0, 205.0, 177.0, 179.0, 246.0, 242.0, 240.0, 98.0, 185.0, 207.0, 230.0, 208.0, 245.0, 216.0, 240.0, 217.0, 164.0, 192.0, 178.0, 213.0, 244.0, 217.0, 233.0, 214.0, 206.0, 208.0, 168.0, 109.0, 216.0, 191.0, 188.0, 226.0, 230.0, 98.0, 97.0, 222.0, 169.0, 236.0, 238.0, 241.0, 240.0, 241.0, 228.0, 214.0, 162.0, 200.0, 193.0, 230.0, 168.0, 190.0, 223.0, 93.0, 220.0, 246.0, 210.0, 208.0, 234.0, 186.0, 194.0, 171.0, 188.0, 170.0, 92.0, 95.0, 91.0, 201.0, 243.0, 241.0, 218.0, 161.0, 159.0, 220.0, 229.0, 178.0, 175.0, 178.0, 97.0, 108.0, 92.0, 217.0, 207.0, 200.0, 219.0, 216.0, 244.0, 244.0, 210.0, 171.0, 169.0, 93.0, 197.0, 89.0, 180.0, 220.0, 210.0, 244.0, 246.0, 243.0, 240.0, 214.0, 214.0, 230.0, 226.0, 216.0, 177.0, 94.0, 91.0, 100.0, 184.0, 195.0, 202.0, 244.0, 233.0, 201.0, 212.0, 210.0, 216.0, 226.0, 175.0, 176.0, 236.0, 212.0, 231.0, 239.0, 173.0, 156.0, 175.0, 175.0, 189.0, 91.0, 89.0, 179.0, 194.0, 191.0, 235.0, 211.0, 211.0, 211.0, 210.0, 240.0, 211.0, 184.0, 219.0, 226.0, 210.0, 210.0, 172.0, 88.0, 174.0, 198.0, 214.0, 243.0, 229.0, 193.0, 220.0, 169.0, 187.0, 162.0, 203.0, 201.0, 204.0, 240.0, 239.0, 229.0, 192.0, 154.0, 225.0, 225.0, 226.0, 169.0, 167.0, 163.0, 212.0, 208.0, 86.0, 94.0, 229.0, 181.0, 196.0, 211.0, 213.0, 242.0, 233.0, 187.0, 150.0, 226.0, 193.0, 170.0, 169.0, 163.0, 224.0, 98.0, 85.0, 83.0, 226.0, 185.0, 200.0, 206.0, 243.0, 245.0, 154.0, 173.0, 222.0, 160.0, 82.0, 82.0, 81.0, 80.0, 82.0, 212.0, 212.0, 210.0, 184.0, 185.0, 191.0, 231.0, 193.0, 199.0, 195.0, 203.0, 195.0, 178.0, 222.0, 222.0, 158.0, 163.0, 81.0, 217.0, 205.0, 205.0, 213.0, 155.0, 210.0, 203.0, 234.0, 179.0, 172.0, 162.0, 166.0, 80.0, 200.0, 188.0, 245.0, 243.0, 173.0, 173.0, 155.0, 164.0, 79.0, 85.0, 201.0, 192.0, 229.0, 224.0, 244.0, 217.0, 239.0, 146.0, 232.0, 220.0, 80.0, 77.0, 197.0, 193.0, 209.0, 230.0, 222.0, 165.0, 219.0, 158.0, 79.0, 76.0, 78.0, 249.0, 199.0, 194.0, 226.0, 224.0, 224.0, 220.0, 192.0, 161.0, 153.0, 82.0, 211.0, 199.0, 220.0, 136.0, 220.0, 146.0, 161.0, 157.0, 76.0, 201.0, 223.0, 221.0, 198.0, 226.0, 231.0, 149.0, 224.0, 161.0, 190.0, 216.0, 164.0, 79.0, 75.0, 74.0, 206.0, 202.0, 203.0, 227.0, 208.0, 244.0, 220.0, 208.0, 232.0, 208.0, 214.0, 219.0, 218.0, 161.0, 151.0], \"z\": [191.0, 191.0, 191.0, 191.0, 191.0, 191.0, 191.0, 191.0, 127.0, 127.0, 191.0, 127.0, 63.0, 190.0, 189.0, 190.0, 190.0, 190.0, 190.0, 190.0, 190.0, 190.0, 126.0, 62.0, 189.0, 189.0, 189.0, 189.0, 189.0, 189.0, 189.0, 189.0, 189.0, 125.0, 189.0, 125.0, 188.0, 188.0, 188.0, 188.0, 188.0, 188.0, 124.0, 124.0, 188.0, 188.0, 188.0, 124.0, 124.0, 124.0, 60.0, 187.0, 187.0, 187.0, 187.0, 187.0, 187.0, 187.0, 187.0, 187.0, 219.0, 203.0, 187.0, 187.0, 59.0, 123.0, 59.0, 186.0, 186.0, 186.0, 186.0, 186.0, 250.0, 186.0, 122.0, 122.0, 186.0, 186.0, 122.0, 122.0, 58.0, 185.0, 185.0, 185.0, 249.0, 185.0, 196.0, 185.0, 185.0, 185.0, 185.0, 203.0, 185.0, 218.0, 201.0, 201.0, 201.0, 201.0, 184.0, 184.0, 184.0, 184.0, 184.0, 184.0, 184.0, 184.0, 120.0, 184.0, 184.0, 184.0, 56.0, 56.0, 191.0, 183.0, 183.0, 183.0, 191.0, 183.0, 183.0, 183.0, 183.0, 183.0, 119.0, 119.0, 202.0, 202.0, 119.0, 217.0, 200.0, 217.0, 182.0, 182.0, 183.0, 182.0, 182.0, 182.0, 182.0, 187.0, 118.0, 189.0, 118.0, 54.0, 181.0, 181.0, 175.0, 181.0, 181.0, 181.0, 190.0, 190.0, 203.0, 173.0, 181.0, 220.0, 117.0, 181.0, 53.0, 180.0, 180.0, 180.0, 183.0, 180.0, 180.0, 180.0, 220.0, 180.0, 180.0, 180.0, 203.0, 116.0, 179.0, 179.0, 179.0, 179.0, 189.0, 189.0, 189.0, 179.0, 113.0, 179.0, 179.0, 179.0, 172.0, 115.0, 179.0, 234.0, 115.0, 115.0, 200.0, 178.0, 178.0, 178.0, 178.0, 181.0, 181.0, 180.0, 178.0, 178.0, 114.0, 189.0, 178.0, 114.0, 203.0, 50.0, 177.0, 177.0, 241.0, 186.0, 177.0, 177.0, 177.0, 188.0, 188.0, 177.0, 177.0, 195.0, 113.0, 177.0, 177.0, 113.0, 49.0, 176.0, 176.0, 176.0, 154.0, 176.0, 176.0, 176.0, 176.0, 176.0, 112.0, 175.0, 175.0, 239.0, 196.0, 129.0, 175.0, 175.0, 175.0, 175.0, 175.0, 187.0, 175.0, 111.0, 111.0, 47.0, 153.0, 174.0, 174.0, 179.0, 174.0, 173.0, 237.0, 237.0, 173.0, 145.0, 173.0, 185.0, 186.0, 186.0, 173.0, 173.0, 188.0, 188.0, 109.0, 109.0, 236.0, 172.0, 198.0, 172.0, 228.0, 172.0, 172.0, 108.0, 108.0, 161.0, 44.0, 160.0, 160.0, 171.0, 235.0, 235.0, 171.0, 171.0, 171.0, 171.0, 171.0, 171.0, 107.0, 203.0, 170.0, 171.0, 200.0, 185.0, 185.0, 185.0, 199.0, 170.0, 215.0, 234.0, 214.0, 170.0, 170.0, 170.0, 170.0, 170.0, 170.0, 106.0, 170.0, 170.0, 176.0, 169.0, 233.0, 169.0, 169.0, 203.0, 169.0, 169.0, 169.0, 169.0, 169.0, 105.0, 105.0, 184.0, 199.0, 232.0, 198.0, 198.0, 75.0, 197.0, 196.0, 196.0, 196.0, 168.0, 195.0, 195.0, 194.0, 168.0, 168.0, 104.0, 104.0, 104.0, 192.0, 191.0, 231.0, 191.0, 167.0, 167.0, 231.0, 191.0, 167.0, 167.0, 103.0, 89.0, 230.0, 230.0, 166.0, 166.0, 102.0, 203.0, 165.0, 229.0, 165.0, 165.0, 165.0, 101.0, 165.0, 165.0, 165.0, 165.0, 165.0, 228.0, 228.0, 107.0, 164.0, 164.0, 164.0, 227.0, 100.0, 100.0, 224.0, 163.0, 227.0, 202.0, 227.0, 163.0, 163.0, 163.0, 190.0, 163.0, 163.0, 99.0, 163.0, 99.0, 226.0, 104.0, 195.0, 162.0, 162.0, 162.0, 162.0, 162.0, 162.0, 162.0, 162.0, 162.0, 162.0, 98.0, 225.0, 225.0, 225.0, 175.0, 161.0, 225.0, 161.0, 161.0, 161.0, 97.0, 224.0, 224.0, 224.0, 224.0, 224.0, 224.0, 160.0, 160.0, 160.0, 160.0, 160.0, 223.0, 223.0, 223.0, 159.0, 159.0, 159.0, 159.0, 159.0, 159.0, 189.0, 95.0, 181.0, 222.0, 222.0, 222.0, 158.0, 158.0, 222.0, 94.0, 94.0, 221.0, 221.0, 221.0, 157.0, 203.0, 157.0, 196.0, 157.0, 157.0, 93.0, 157.0, 93.0, 220.0, 220.0, 220.0, 220.0, 220.0, 156.0, 156.0, 156.0, 92.0, 220.0, 156.0, 156.0, 92.0, 92.0, 92.0, 219.0, 219.0, 219.0, 219.0, 219.0, 219.0, 155.0, 155.0, 155.0, 219.0, 219.0, 91.0, 219.0, 91.0, 91.0, 91.0, 218.0, 218.0, 218.0, 218.0, 218.0, 218.0, 218.0, 218.0, 188.0, 188.0, 154.0, 154.0, 154.0, 154.0, 154.0, 217.0, 217.0, 217.0, 217.0, 217.0, 217.0, 217.0, 217.0, 207.0, 217.0, 83.0, 205.0, 203.0, 217.0, 217.0, 217.0, 217.0, 218.0, 218.0, 218.0, 153.0, 153.0, 89.0, 201.0, 89.0, 89.0, 201.0, 203.0, 216.0, 216.0, 216.0, 216.0, 216.0, 216.0, 216.0, 210.0, 152.0, 216.0, 203.0, 152.0, 152.0, 88.0, 215.0, 191.0, 215.0, 215.0, 215.0, 203.0, 151.0, 201.0, 151.0, 151.0, 151.0, 151.0, 215.0, 215.0, 202.0, 202.0, 151.0, 151.0, 217.0, 217.0, 217.0, 87.0, 200.0, 214.0, 214.0, 214.0, 214.0, 182.0, 182.0, 214.0, 150.0, 150.0, 150.0, 192.0, 218.0, 213.0, 213.0, 190.0, 190.0, 190.0, 149.0, 85.0, 189.0, 199.0, 149.0, 213.0, 213.0, 85.0, 85.0, 216.0, 203.0, 212.0, 212.0, 212.0, 212.0, 212.0, 183.0, 183.0, 148.0, 201.0, 148.0, 220.0, 203.0, 148.0, 212.0, 84.0, 211.0, 223.0, 189.0, 189.0, 211.0, 147.0, 147.0, 147.0, 200.0, 147.0, 83.0, 83.0, 83.0, 210.0, 210.0, 210.0, 181.0, 146.0, 146.0, 180.0, 210.0, 146.0, 146.0, 146.0, 82.0, 82.0, 82.0, 186.0, 186.0, 209.0, 209.0, 209.0, 209.0, 217.0, 188.0, 145.0, 145.0, 81.0, 195.0, 81.0, 203.0, 208.0, 208.0, 208.0, 208.0, 208.0, 208.0, 188.0, 183.0, 208.0, 208.0, 183.0, 144.0, 80.0, 80.0, 80.0, 202.0, 207.0, 207.0, 207.0, 207.0, 196.0, 187.0, 187.0, 187.0, 187.0, 143.0, 143.0, 153.0, 206.0, 206.0, 206.0, 142.0, 142.0, 142.0, 142.0, 199.0, 78.0, 78.0, 203.0, 205.0, 205.0, 205.0, 205.0, 205.0, 205.0, 205.0, 205.0, 185.0, 141.0, 205.0, 205.0, 186.0, 186.0, 141.0, 77.0, 203.0, 204.0, 204.0, 204.0, 204.0, 198.0, 204.0, 140.0, 160.0, 203.0, 203.0, 203.0, 203.0, 203.0, 203.0, 203.0, 200.0, 139.0, 203.0, 203.0, 203.0, 139.0, 139.0, 139.0, 185.0, 185.0, 75.0, 75.0, 202.0, 202.0, 202.0, 202.0, 202.0, 202.0, 202.0, 199.0, 138.0, 202.0, 138.0, 203.0, 138.0, 138.0, 177.0, 74.0, 74.0, 74.0, 176.0, 201.0, 201.0, 201.0, 201.0, 201.0, 137.0, 137.0, 201.0, 137.0, 73.0, 73.0, 73.0, 73.0, 73.0, 184.0, 184.0, 184.0, 200.0, 199.0, 198.0, 200.0, 197.0, 196.0, 196.0, 195.0, 195.0, 136.0, 200.0, 200.0, 136.0, 136.0, 72.0, 195.0, 192.0, 192.0, 191.0, 199.0, 199.0, 192.0, 199.0, 135.0, 135.0, 135.0, 135.0, 71.0, 198.0, 198.0, 198.0, 198.0, 134.0, 134.0, 134.0, 134.0, 70.0, 70.0, 197.0, 197.0, 197.0, 197.0, 197.0, 197.0, 197.0, 133.0, 212.0, 197.0, 69.0, 69.0, 196.0, 196.0, 196.0, 196.0, 178.0, 132.0, 196.0, 132.0, 68.0, 68.0, 68.0, 224.0, 195.0, 195.0, 195.0, 195.0, 195.0, 187.0, 203.0, 131.0, 131.0, 67.0, 194.0, 194.0, 194.0, 104.0, 194.0, 130.0, 130.0, 130.0, 66.0, 193.0, 193.0, 193.0, 193.0, 193.0, 193.0, 129.0, 193.0, 129.0, 202.0, 193.0, 129.0, 65.0, 65.0, 65.0, 192.0, 192.0, 192.0, 192.0, 192.0, 192.0, 192.0, 192.0, 192.0, 192.0, 192.0, 192.0, 192.0, 128.0, 128.0]}],\n",
       "                        {\"margin\": {\"b\": 0, \"l\": 0, \"r\": 0, \"t\": 0}, \"template\": {\"data\": {\"bar\": [{\"error_x\": {\"color\": \"#2a3f5f\"}, \"error_y\": {\"color\": \"#2a3f5f\"}, \"marker\": {\"line\": {\"color\": \"#E5ECF6\", \"width\": 0.5}}, \"type\": \"bar\"}], \"barpolar\": [{\"marker\": {\"line\": {\"color\": \"#E5ECF6\", \"width\": 0.5}}, \"type\": \"barpolar\"}], \"carpet\": [{\"aaxis\": {\"endlinecolor\": \"#2a3f5f\", \"gridcolor\": \"white\", \"linecolor\": \"white\", \"minorgridcolor\": \"white\", \"startlinecolor\": \"#2a3f5f\"}, \"baxis\": {\"endlinecolor\": \"#2a3f5f\", \"gridcolor\": \"white\", \"linecolor\": \"white\", \"minorgridcolor\": \"white\", \"startlinecolor\": \"#2a3f5f\"}, \"type\": \"carpet\"}], \"choropleth\": [{\"colorbar\": {\"outlinewidth\": 0, \"ticks\": \"\"}, \"type\": \"choropleth\"}], \"contour\": [{\"colorbar\": {\"outlinewidth\": 0, \"ticks\": \"\"}, \"colorscale\": [[0.0, \"#0d0887\"], [0.1111111111111111, \"#46039f\"], [0.2222222222222222, \"#7201a8\"], [0.3333333333333333, \"#9c179e\"], [0.4444444444444444, \"#bd3786\"], [0.5555555555555556, \"#d8576b\"], [0.6666666666666666, \"#ed7953\"], [0.7777777777777778, \"#fb9f3a\"], [0.8888888888888888, \"#fdca26\"], [1.0, \"#f0f921\"]], \"type\": \"contour\"}], \"contourcarpet\": [{\"colorbar\": {\"outlinewidth\": 0, \"ticks\": \"\"}, \"type\": \"contourcarpet\"}], \"heatmap\": [{\"colorbar\": {\"outlinewidth\": 0, \"ticks\": \"\"}, \"colorscale\": [[0.0, \"#0d0887\"], [0.1111111111111111, \"#46039f\"], [0.2222222222222222, \"#7201a8\"], [0.3333333333333333, \"#9c179e\"], [0.4444444444444444, \"#bd3786\"], [0.5555555555555556, \"#d8576b\"], [0.6666666666666666, \"#ed7953\"], [0.7777777777777778, \"#fb9f3a\"], [0.8888888888888888, \"#fdca26\"], [1.0, \"#f0f921\"]], \"type\": \"heatmap\"}], \"heatmapgl\": [{\"colorbar\": {\"outlinewidth\": 0, \"ticks\": \"\"}, \"colorscale\": [[0.0, \"#0d0887\"], [0.1111111111111111, \"#46039f\"], [0.2222222222222222, \"#7201a8\"], [0.3333333333333333, \"#9c179e\"], [0.4444444444444444, \"#bd3786\"], [0.5555555555555556, \"#d8576b\"], [0.6666666666666666, \"#ed7953\"], [0.7777777777777778, \"#fb9f3a\"], [0.8888888888888888, \"#fdca26\"], [1.0, \"#f0f921\"]], \"type\": \"heatmapgl\"}], \"histogram\": [{\"marker\": {\"colorbar\": {\"outlinewidth\": 0, \"ticks\": \"\"}}, \"type\": \"histogram\"}], \"histogram2d\": [{\"colorbar\": {\"outlinewidth\": 0, \"ticks\": \"\"}, \"colorscale\": [[0.0, \"#0d0887\"], [0.1111111111111111, \"#46039f\"], [0.2222222222222222, \"#7201a8\"], [0.3333333333333333, \"#9c179e\"], [0.4444444444444444, \"#bd3786\"], [0.5555555555555556, \"#d8576b\"], [0.6666666666666666, \"#ed7953\"], [0.7777777777777778, \"#fb9f3a\"], [0.8888888888888888, \"#fdca26\"], [1.0, \"#f0f921\"]], \"type\": \"histogram2d\"}], \"histogram2dcontour\": [{\"colorbar\": {\"outlinewidth\": 0, \"ticks\": \"\"}, \"colorscale\": [[0.0, \"#0d0887\"], [0.1111111111111111, \"#46039f\"], [0.2222222222222222, \"#7201a8\"], [0.3333333333333333, \"#9c179e\"], [0.4444444444444444, \"#bd3786\"], [0.5555555555555556, \"#d8576b\"], [0.6666666666666666, \"#ed7953\"], [0.7777777777777778, \"#fb9f3a\"], [0.8888888888888888, \"#fdca26\"], [1.0, \"#f0f921\"]], \"type\": \"histogram2dcontour\"}], \"mesh3d\": [{\"colorbar\": {\"outlinewidth\": 0, \"ticks\": \"\"}, \"type\": \"mesh3d\"}], \"parcoords\": [{\"line\": {\"colorbar\": {\"outlinewidth\": 0, \"ticks\": \"\"}}, \"type\": \"parcoords\"}], \"pie\": [{\"automargin\": true, \"type\": \"pie\"}], \"scatter\": [{\"marker\": {\"colorbar\": {\"outlinewidth\": 0, \"ticks\": \"\"}}, \"type\": \"scatter\"}], \"scatter3d\": [{\"line\": {\"colorbar\": {\"outlinewidth\": 0, \"ticks\": \"\"}}, \"marker\": {\"colorbar\": {\"outlinewidth\": 0, \"ticks\": \"\"}}, \"type\": \"scatter3d\"}], \"scattercarpet\": [{\"marker\": {\"colorbar\": {\"outlinewidth\": 0, \"ticks\": \"\"}}, \"type\": \"scattercarpet\"}], \"scattergeo\": [{\"marker\": {\"colorbar\": {\"outlinewidth\": 0, \"ticks\": \"\"}}, \"type\": \"scattergeo\"}], \"scattergl\": [{\"marker\": {\"colorbar\": {\"outlinewidth\": 0, \"ticks\": \"\"}}, \"type\": \"scattergl\"}], \"scattermapbox\": [{\"marker\": {\"colorbar\": {\"outlinewidth\": 0, \"ticks\": \"\"}}, \"type\": \"scattermapbox\"}], \"scatterpolar\": [{\"marker\": {\"colorbar\": {\"outlinewidth\": 0, \"ticks\": \"\"}}, \"type\": \"scatterpolar\"}], \"scatterpolargl\": [{\"marker\": {\"colorbar\": {\"outlinewidth\": 0, \"ticks\": \"\"}}, \"type\": \"scatterpolargl\"}], \"scatterternary\": [{\"marker\": {\"colorbar\": {\"outlinewidth\": 0, \"ticks\": \"\"}}, \"type\": \"scatterternary\"}], \"surface\": [{\"colorbar\": {\"outlinewidth\": 0, \"ticks\": \"\"}, \"colorscale\": [[0.0, \"#0d0887\"], [0.1111111111111111, \"#46039f\"], [0.2222222222222222, \"#7201a8\"], [0.3333333333333333, \"#9c179e\"], [0.4444444444444444, \"#bd3786\"], [0.5555555555555556, \"#d8576b\"], [0.6666666666666666, \"#ed7953\"], [0.7777777777777778, \"#fb9f3a\"], [0.8888888888888888, \"#fdca26\"], [1.0, \"#f0f921\"]], \"type\": \"surface\"}], \"table\": [{\"cells\": {\"fill\": {\"color\": \"#EBF0F8\"}, \"line\": {\"color\": \"white\"}}, \"header\": {\"fill\": {\"color\": \"#C8D4E3\"}, \"line\": {\"color\": \"white\"}}, \"type\": \"table\"}]}, \"layout\": {\"annotationdefaults\": {\"arrowcolor\": \"#2a3f5f\", \"arrowhead\": 0, \"arrowwidth\": 1}, \"coloraxis\": {\"colorbar\": {\"outlinewidth\": 0, \"ticks\": \"\"}}, \"colorscale\": {\"diverging\": [[0, \"#8e0152\"], [0.1, \"#c51b7d\"], [0.2, \"#de77ae\"], [0.3, \"#f1b6da\"], [0.4, \"#fde0ef\"], [0.5, \"#f7f7f7\"], [0.6, \"#e6f5d0\"], [0.7, \"#b8e186\"], [0.8, \"#7fbc41\"], [0.9, \"#4d9221\"], [1, \"#276419\"]], \"sequential\": [[0.0, \"#0d0887\"], [0.1111111111111111, \"#46039f\"], [0.2222222222222222, \"#7201a8\"], [0.3333333333333333, \"#9c179e\"], [0.4444444444444444, \"#bd3786\"], [0.5555555555555556, \"#d8576b\"], [0.6666666666666666, \"#ed7953\"], [0.7777777777777778, \"#fb9f3a\"], [0.8888888888888888, \"#fdca26\"], [1.0, \"#f0f921\"]], \"sequentialminus\": [[0.0, \"#0d0887\"], [0.1111111111111111, \"#46039f\"], [0.2222222222222222, \"#7201a8\"], [0.3333333333333333, \"#9c179e\"], [0.4444444444444444, \"#bd3786\"], [0.5555555555555556, \"#d8576b\"], [0.6666666666666666, \"#ed7953\"], [0.7777777777777778, \"#fb9f3a\"], [0.8888888888888888, \"#fdca26\"], [1.0, \"#f0f921\"]]}, \"colorway\": [\"#636efa\", \"#EF553B\", \"#00cc96\", \"#ab63fa\", \"#FFA15A\", \"#19d3f3\", \"#FF6692\", \"#B6E880\", \"#FF97FF\", \"#FECB52\"], \"font\": {\"color\": \"#2a3f5f\"}, \"geo\": {\"bgcolor\": \"white\", \"lakecolor\": \"white\", \"landcolor\": \"#E5ECF6\", \"showlakes\": true, \"showland\": true, \"subunitcolor\": \"white\"}, \"hoverlabel\": {\"align\": \"left\"}, \"hovermode\": \"closest\", \"mapbox\": {\"style\": \"light\"}, \"paper_bgcolor\": \"white\", \"plot_bgcolor\": \"#E5ECF6\", \"polar\": {\"angularaxis\": {\"gridcolor\": \"white\", \"linecolor\": \"white\", \"ticks\": \"\"}, \"bgcolor\": \"#E5ECF6\", \"radialaxis\": {\"gridcolor\": \"white\", \"linecolor\": \"white\", \"ticks\": \"\"}}, \"scene\": {\"xaxis\": {\"backgroundcolor\": \"#E5ECF6\", \"gridcolor\": \"white\", \"gridwidth\": 2, \"linecolor\": \"white\", \"showbackground\": true, \"ticks\": \"\", \"zerolinecolor\": \"white\"}, \"yaxis\": {\"backgroundcolor\": \"#E5ECF6\", \"gridcolor\": \"white\", \"gridwidth\": 2, \"linecolor\": \"white\", \"showbackground\": true, \"ticks\": \"\", \"zerolinecolor\": \"white\"}, \"zaxis\": {\"backgroundcolor\": \"#E5ECF6\", \"gridcolor\": \"white\", \"gridwidth\": 2, \"linecolor\": \"white\", \"showbackground\": true, \"ticks\": \"\", \"zerolinecolor\": \"white\"}}, \"shapedefaults\": {\"line\": {\"color\": \"#2a3f5f\"}}, \"ternary\": {\"aaxis\": {\"gridcolor\": \"white\", \"linecolor\": \"white\", \"ticks\": \"\"}, \"baxis\": {\"gridcolor\": \"white\", \"linecolor\": \"white\", \"ticks\": \"\"}, \"bgcolor\": \"#E5ECF6\", \"caxis\": {\"gridcolor\": \"white\", \"linecolor\": \"white\", \"ticks\": \"\"}}, \"title\": {\"x\": 0.05}, \"xaxis\": {\"automargin\": true, \"gridcolor\": \"white\", \"linecolor\": \"white\", \"ticks\": \"\", \"title\": {\"standoff\": 15}, \"zerolinecolor\": \"white\", \"zerolinewidth\": 2}, \"yaxis\": {\"automargin\": true, \"gridcolor\": \"white\", \"linecolor\": \"white\", \"ticks\": \"\", \"title\": {\"standoff\": 15}, \"zerolinecolor\": \"white\", \"zerolinewidth\": 2}}}},\n",
       "                        {\"responsive\": true}\n",
       "                    ).then(function(){\n",
       "                            \n",
       "var gd = document.getElementById('c61b7387-3f4c-491e-96c8-4df03f410893');\n",
       "var x = new MutationObserver(function (mutations, observer) {{\n",
       "        var display = window.getComputedStyle(gd).display;\n",
       "        if (!display || display === 'none') {{\n",
       "            console.log([gd, 'removed!']);\n",
       "            Plotly.purge(gd);\n",
       "            observer.disconnect();\n",
       "        }}\n",
       "}});\n",
       "\n",
       "// Listen for the removal of the full notebook cells\n",
       "var notebookContainer = gd.closest('#notebook-container');\n",
       "if (notebookContainer) {{\n",
       "    x.observe(notebookContainer, {childList: true});\n",
       "}}\n",
       "\n",
       "// Listen for the clearing of the current output cell\n",
       "var outputEl = gd.closest('.output');\n",
       "if (outputEl) {{\n",
       "    x.observe(outputEl, {childList: true});\n",
       "}}\n",
       "\n",
       "                        })\n",
       "                };\n",
       "                });\n",
       "            </script>\n",
       "        </div>"
      ]
     },
     "metadata": {},
     "output_type": "display_data"
    }
   ],
   "source": [
    "confidence_colors=[\n",
    "    \"rgba({0},{1},{2},{3})\".format(*clusters[l,:],p) \n",
    "#     \"rgba({0},{1},{2},{3})\".format(*clusters[l,:],max(p-0.10,0)) \n",
    "    for l,p in zip(clusterer.labels_, clusterer.probabilities_)\n",
    "]\n",
    "\n",
    "fig = go.Figure(data=[go.Scatter3d(\n",
    "    x=Xs,\n",
    "    y=Zs,\n",
    "    z=Ys,\n",
    "    mode='markers',\n",
    "    marker=dict(\n",
    "        size=3,\n",
    "        color=confidence_colors,                # set color to an array/list of desired values\n",
    "        opacity=0.8\n",
    "    )\n",
    ")])\n",
    "\n",
    "fig.update_layout(margin=dict(l=0, r=0, b=0, t=0))\n",
    "fig.show()"
   ]
  },
  {
   "cell_type": "code",
   "execution_count": 25,
   "metadata": {},
   "outputs": [
    {
     "name": "stdout",
     "output_type": "stream",
     "text": [
      "40\n"
     ]
    }
   ],
   "source": [
    "methods = [\n",
    " 'alpha',\n",
    " 'cluster_persistence_',\n",
    " 'condensed_tree_',\n",
    " 'core_dist_n_jobs',\n",
    " 'fit_predict',\n",
    " 'generate_prediction_data',\n",
    " 'get_params',\n",
    " 'labels_',\n",
    " 'leaf_size',\n",
    " 'minimum_spanning_tree_',\n",
    " 'outlier_scores_',\n",
    " 'prediction_data',\n",
    " 'prediction_data_',\n",
    " 'probabilities_',\n",
    " 'relative_validity_',\n",
    " 'single_linkage_tree_'\n",
    "]\n",
    "\n",
    "# getattr(clusterer, methods[10])()\n",
    "\n",
    "# print(clusterer.probabilities_)\n",
    "# print(clusterer.labels_)\n",
    "print(clusterer.leaf_size)\n"
   ]
  },
  {
   "cell_type": "code",
   "execution_count": null,
   "metadata": {},
   "outputs": [],
   "source": []
  },
  {
   "cell_type": "code",
   "execution_count": 26,
   "metadata": {},
   "outputs": [
    {
     "data": {
      "text/plain": [
       "<matplotlib.axes._subplots.AxesSubplot at 0x7f5b32389a60>"
      ]
     },
     "execution_count": 26,
     "metadata": {},
     "output_type": "execute_result"
    },
    {
     "data": {
      "image/png": "[encoded data removed]",
      "text/plain": [
       "<Figure size 432x288 with 2 Axes>"
      ]
     },
     "metadata": {
      "needs_background": "light"
     },
     "output_type": "display_data"
    }
   ],
   "source": [
    "clusterer.condensed_tree_.plot()"
   ]
  },
  {
   "cell_type": "code",
   "execution_count": 27,
   "metadata": {},
   "outputs": [
    {
     "data": {
      "text/html": [
       "<span style='background: #46859a'> #46859a </span><br/><span style='background: #e5c0d8'> #e5c0d8 </span>"
      ],
      "text/plain": [
       "<IPython.core.display.HTML object>"
      ]
     },
     "execution_count": 27,
     "metadata": {},
     "output_type": "execute_result"
    }
   ],
   "source": [
    "rgb2hex = lambda rgb: '#%s' % ''.join(('%02x' % int(p) for p in rgb))\n",
    "\n",
    "hues = list(map(lambda c: rgb_to_hls(*c), clusters))\n",
    "hues.sort(key=lambda c: c[0])\n",
    "hues = list(map(lambda c: hls_to_rgb(*c), hues))\n",
    "\n",
    "HTML(\n",
    "    \"<br/>\".join(\n",
    "        [\"<span style='background: {0}'> {0} </span>\".format(rgb2hex(c)) for c in hues]\n",
    "    )\n",
    ")\n",
    "\n",
    "# for i in range(cluster_n):\n",
    "#     c=clusters[i]\n",
    "# #     print(f\"\\x1b[48;2;{c[0]};{c[1]};{c[2]}m{rgb2hex(c)}\\x1b[0m\")\n",
    "#     color=rgb2hex(c)\n",
    "#     source+=f\"<span style='background: {color}'> {color} </span>\"\n",
    "# HTML(source)"
   ]
  },
  {
   "cell_type": "code",
   "execution_count": 28,
   "metadata": {},
   "outputs": [
    {
     "ename": "KeyError",
     "evalue": "'r'",
     "output_type": "error",
     "traceback": [
      "\u001b[0;31m----------------------------------------------------------------------\u001b[0m",
      "\u001b[0;31mKeyError\u001b[0m                             Traceback (most recent call last)",
      "\u001b[0;32m<ipython-input-28-4595da836c5b>\u001b[0m in \u001b[0;36m<module>\u001b[0;34m\u001b[0m\n\u001b[1;32m     39\u001b[0m \u001b[0;34m\u001b[0m\u001b[0m\n\u001b[1;32m     40\u001b[0m \u001b[0;32mfor\u001b[0m \u001b[0mi\u001b[0m \u001b[0;32min\u001b[0m \u001b[0mrange\u001b[0m\u001b[0;34m(\u001b[0m\u001b[0;36m2\u001b[0m\u001b[0;34m)\u001b[0m\u001b[0;34m:\u001b[0m\u001b[0;34m\u001b[0m\u001b[0;34m\u001b[0m\u001b[0m\n\u001b[0;32m---> 41\u001b[0;31m     \u001b[0mradargb\u001b[0m\u001b[0;34m(\u001b[0m\u001b[0mi\u001b[0m\u001b[0;34m,\u001b[0m\u001b[0;36m255\u001b[0m\u001b[0;34m,\u001b[0m\u001b[0;36m255\u001b[0m\u001b[0;34m)\u001b[0m\u001b[0;34m\u001b[0m\u001b[0;34m\u001b[0m\u001b[0m\n\u001b[0m\u001b[1;32m     42\u001b[0m \u001b[0;34m\u001b[0m\u001b[0m\n\u001b[1;32m     43\u001b[0m \u001b[0;31m# y = interact(radargb, r=(0,255), g=(0,255), b=(0,255) );\u001b[0m\u001b[0;34m\u001b[0m\u001b[0;34m\u001b[0m\u001b[0;34m\u001b[0m\u001b[0m\n",
      "\u001b[0;32m<ipython-input-28-4595da836c5b>\u001b[0m in \u001b[0;36mradargb\u001b[0;34m(r, g, b)\u001b[0m\n\u001b[1;32m     29\u001b[0m     )\n\u001b[1;32m     30\u001b[0m \u001b[0;34m\u001b[0m\u001b[0m\n\u001b[0;32m---> 31\u001b[0;31m     fig.update(\n\u001b[0m\u001b[1;32m     32\u001b[0m         \u001b[0mr\u001b[0m\u001b[0;34m=\u001b[0m\u001b[0;34m[\u001b[0m\u001b[0mr\u001b[0m\u001b[0;34m,\u001b[0m\u001b[0mg\u001b[0m\u001b[0;34m,\u001b[0m\u001b[0mb\u001b[0m\u001b[0;34m]\u001b[0m\u001b[0;34m\u001b[0m\u001b[0;34m\u001b[0m\u001b[0m\n\u001b[1;32m     33\u001b[0m     )\n",
      "\u001b[0;32m~/Desktop/rgb-plot/venv/lib/python3.8/site-packages/plotly/basedatatypes.py\u001b[0m in \u001b[0;36mupdate\u001b[0;34m(self, dict1, overwrite, **kwargs)\u001b[0m\n\u001b[1;32m    487\u001b[0m                 \u001b[0;32mif\u001b[0m \u001b[0md\u001b[0m\u001b[0;34m:\u001b[0m\u001b[0;34m\u001b[0m\u001b[0;34m\u001b[0m\u001b[0m\n\u001b[1;32m    488\u001b[0m                     \u001b[0;32mfor\u001b[0m \u001b[0mk\u001b[0m\u001b[0;34m,\u001b[0m \u001b[0mv\u001b[0m \u001b[0;32min\u001b[0m \u001b[0md\u001b[0m\u001b[0;34m.\u001b[0m\u001b[0mitems\u001b[0m\u001b[0;34m(\u001b[0m\u001b[0;34m)\u001b[0m\u001b[0;34m:\u001b[0m\u001b[0;34m\u001b[0m\u001b[0;34m\u001b[0m\u001b[0m\n\u001b[0;32m--> 489\u001b[0;31m                         \u001b[0mupdate_target\u001b[0m \u001b[0;34m=\u001b[0m \u001b[0mself\u001b[0m\u001b[0;34m[\u001b[0m\u001b[0mk\u001b[0m\u001b[0;34m]\u001b[0m\u001b[0;34m\u001b[0m\u001b[0;34m\u001b[0m\u001b[0m\n\u001b[0m\u001b[1;32m    490\u001b[0m                         \u001b[0;32mif\u001b[0m \u001b[0mupdate_target\u001b[0m \u001b[0;34m==\u001b[0m \u001b[0;34m(\u001b[0m\u001b[0;34m)\u001b[0m \u001b[0;32mor\u001b[0m \u001b[0moverwrite\u001b[0m\u001b[0;34m:\u001b[0m\u001b[0;34m\u001b[0m\u001b[0;34m\u001b[0m\u001b[0m\n\u001b[1;32m    491\u001b[0m                             \u001b[0;32mif\u001b[0m \u001b[0mk\u001b[0m \u001b[0;34m==\u001b[0m \u001b[0;34m\"data\"\u001b[0m\u001b[0;34m:\u001b[0m\u001b[0;34m\u001b[0m\u001b[0;34m\u001b[0m\u001b[0m\n",
      "\u001b[0;32m~/Desktop/rgb-plot/venv/lib/python3.8/site-packages/plotly/basedatatypes.py\u001b[0m in \u001b[0;36m__getitem__\u001b[0;34m(self, prop)\u001b[0m\n\u001b[1;32m    370\u001b[0m                 \u001b[0;32mreturn\u001b[0m \u001b[0mself\u001b[0m\u001b[0;34m.\u001b[0m\u001b[0m_frames_validator\u001b[0m\u001b[0;34m.\u001b[0m\u001b[0mpresent\u001b[0m\u001b[0;34m(\u001b[0m\u001b[0mself\u001b[0m\u001b[0;34m.\u001b[0m\u001b[0m_frame_objs\u001b[0m\u001b[0;34m)\u001b[0m\u001b[0;34m\u001b[0m\u001b[0;34m\u001b[0m\u001b[0m\n\u001b[1;32m    371\u001b[0m             \u001b[0;32melse\u001b[0m\u001b[0;34m:\u001b[0m\u001b[0;34m\u001b[0m\u001b[0;34m\u001b[0m\u001b[0m\n\u001b[0;32m--> 372\u001b[0;31m                 \u001b[0;32mraise\u001b[0m \u001b[0mKeyError\u001b[0m\u001b[0;34m(\u001b[0m\u001b[0morig_prop\u001b[0m\u001b[0;34m)\u001b[0m\u001b[0;34m\u001b[0m\u001b[0;34m\u001b[0m\u001b[0m\n\u001b[0m\u001b[1;32m    373\u001b[0m \u001b[0;34m\u001b[0m\u001b[0m\n\u001b[1;32m    374\u001b[0m         \u001b[0;31m# Handle non-scalar case\u001b[0m\u001b[0;34m\u001b[0m\u001b[0;34m\u001b[0m\u001b[0;34m\u001b[0m\u001b[0m\n",
      "\u001b[0;31mKeyError\u001b[0m: 'r'"
     ]
    }
   ],
   "source": [
    "import plotly.express as px\n",
    "import pandas as pd\n",
    "df = pd.DataFrame(\n",
    "    dict(\n",
    "        r=[128,128,128],\n",
    "        theta=['red','green','blue']\n",
    "    )\n",
    ")\n",
    "fig = px.line_polar(\n",
    "    df,\n",
    "    r='r',\n",
    "    theta='theta',\n",
    "    line_close=True,\n",
    ")\n",
    "fig.update_layout(\n",
    "  polar=dict(\n",
    "    radialaxis=dict(\n",
    "      visible=True,\n",
    "      range=[0, 255]\n",
    "    )),\n",
    "  showlegend=False\n",
    ")\n",
    "def radargb(r,g,b):\n",
    "    global fig\n",
    "    \n",
    "    fig.update_traces(\n",
    "        fill='toself',\n",
    "        fillcolor=f\"rgb({r},{g},{b})\"\n",
    "    )\n",
    "    \n",
    "    fig.update(\n",
    "        r=[r,g,b]\n",
    "    )\n",
    "\n",
    "    \n",
    "    print(dir(fig))\n",
    "    fig.update()\n",
    "    fig.show()\n",
    "\n",
    "for i in range(2):\n",
    "    radargb(i,255,255)\n",
    "\n",
    "# y = interact(radargb, r=(0,255), g=(0,255), b=(0,255) );"
   ]
  },
  {
   "cell_type": "code",
   "execution_count": null,
   "metadata": {},
   "outputs": [],
   "source": []
  }
 ],
 "metadata": {
  "anaconda-cloud": {},
  "kernelspec": {
   "display_name": "Python 3",
   "language": "python",
   "name": "python3"
  },
  "language_info": {
   "codemirror_mode": {
    "name": "ipython",
    "version": 3
   },
   "file_extension": ".py",
   "mimetype": "text/x-python",
   "name": "python",
   "nbconvert_exporter": "python",
   "pygments_lexer": "ipython3",
   "version": "3.8.1"
  },
  "widgets": {
   "application/vnd.jupyter.widget-state+json": {
    "state": {
     "020a11d2876c48df958fe163d9260443": {
      "buffers": [
       {
        "data": "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",
        "encoding": "base64",
        "path": [
         "lines",
         0,
         "data"
        ]
       },
       {
        "data": "+/////z////9/////v////////8AAAAAAQAAAAIAAAADAAAABAAAAPv////8/////f////7/////////AAAAAAEAAAACAAAAAwAAAAQAAAD7/////P////3////+/////////wAAAAABAAAAAgAAAAMAAAAEAAAA+/////z////9/////v////////8AAAAAAQAAAAIAAAADAAAABAAAAPv////8/////f////7/////////AAAAAAEAAAACAAAAAwAAAAQAAAD7/////P////3////+/////////wAAAAABAAAAAgAAAAMAAAAEAAAA+/////z////9/////v////////8AAAAAAQAAAAIAAAADAAAABAAAAPv////8/////f////7/////////AAAAAAEAAAACAAAAAwAAAAQAAAD7/////P////3////+/////////wAAAAABAAAAAgAAAAMAAAAEAAAA+/////z////9/////v////////8AAAAAAQAAAAIAAAADAAAABAAAAA==",
        "encoding": "base64",
        "path": [
         "x",
         0,
         "data"
        ]
       },
       {
        "data": "g////5z///+1////zv///+f///8AAAAAGQAAADIAAABLAAAAZAAAALD////A////0P///+D////w////AAAAABAAAAAgAAAAMAAAAEAAAADT////3P///+X////u////9////wAAAAAJAAAAEgAAABsAAAAkAAAA7P////D////0////+P////z///8AAAAABAAAAAgAAAAMAAAAEAAAAPv////8/////f////7/////////AAAAAAEAAAACAAAAAwAAAAQAAAAAAAAAAAAAAAAAAAAAAAAAAAAAAAAAAAAAAAAAAAAAAAAAAAAAAAAA+/////z////9/////v////////8AAAAAAQAAAAIAAAADAAAABAAAAOz////w////9P////j////8////AAAAAAQAAAAIAAAADAAAABAAAADT////3P///+X////u////9////wAAAAAJAAAAEgAAABsAAAAkAAAAsP///8D////Q////4P////D///8AAAAAEAAAACAAAAAwAAAAQAAAAA==",
        "encoding": "base64",
        "path": [
         "y",
         0,
         "data"
        ]
       },
       {
        "data": "+/////v////7////+/////v////7////+/////v////7////+/////z////8/////P////z////8/////P////z////8/////P////z////9/////f////3////9/////f////3////9/////f////3////9/////v////7////+/////v////7////+/////v////7////+/////v////////////////////////////////////////////////////////8AAAAAAAAAAAAAAAAAAAAAAAAAAAAAAAAAAAAAAAAAAAAAAAAAAAAAAQAAAAEAAAABAAAAAQAAAAEAAAABAAAAAQAAAAEAAAABAAAAAQAAAAIAAAACAAAAAgAAAAIAAAACAAAAAgAAAAIAAAACAAAAAgAAAAIAAAADAAAAAwAAAAMAAAADAAAAAwAAAAMAAAADAAAAAwAAAAMAAAADAAAABAAAAAQAAAAEAAAABAAAAAQAAAAEAAAABAAAAAQAAAAEAAAABAAAAA==",
        "encoding": "base64",
        "path": [
         "z",
         0,
         "data"
        ]
       }
      ],
      "model_module": "ipyvolume",
      "model_module_version": "^0.5.0-beta.1",
      "model_name": "MeshModel",
      "state": {
       "line_material": "IPY_MODEL_5702ef4818a44b44a0580c5d1064134e",
       "lines": [
        {
         "data": {},
         "dtype": "uint32",
         "shape": [
          324,
          2
         ]
        }
       ],
       "material": "IPY_MODEL_eb3c4895db804b69ba292f37a60a01c4",
       "texture": null,
       "triangles": null,
       "u": null,
       "v": null,
       "x": [
        {
         "data": {},
         "dtype": "int32",
         "shape": [
          100
         ]
        }
       ],
       "y": [
        {
         "data": {},
         "dtype": "int32",
         "shape": [
          100
         ]
        }
       ],
       "z": [
        {
         "data": {},
         "dtype": "int32",
         "shape": [
          100
         ]
        }
       ]
      }
     },
     "049dc389448a464eb70e45b4845ac4be": {
      "model_module": "jupyter-threejs",
      "model_module_version": "~1.0.0",
      "model_name": "SceneModel",
      "state": {
       "_model_module_version": "~1.0.0",
       "_view_module": null,
       "_view_module_version": "",
       "background": null
      }
     },
     "076ecc24e52b49a09a9cbf2d46f3758f": {
      "model_module": "@jupyter-widgets/base",
      "model_module_version": "1.1.0",
      "model_name": "LayoutModel",
      "state": {}
     },
     "13950c32b7824393bfe9b2646443da25": {
      "model_module": "jupyter-threejs",
      "model_module_version": "~1.0.0",
      "model_name": "ShaderMaterialModel",
      "state": {
       "_model_module_version": "~1.0.0",
       "_view_module": null,
       "_view_module_version": "",
       "side": "DoubleSide"
      }
     },
     "13d54bf27b164b268aa07d7991674fe3": {
      "model_module": "jupyter-threejs",
      "model_module_version": "~1.0.0",
      "model_name": "ShaderMaterialModel",
      "state": {
       "_model_module_version": "~1.0.0",
       "_view_module": null,
       "_view_module_version": "",
       "side": "DoubleSide"
      }
     },
     "16184e6305084b5d86806271ce399beb": {
      "model_module": "jupyter-threejs",
      "model_module_version": "~1.0.0",
      "model_name": "SceneModel",
      "state": {
       "_model_module_version": "~1.0.0",
       "_view_module": null,
       "_view_module_version": "",
       "background": null
      }
     },
     "174930ed627d4f1e916d34e55b5f5942": {
      "model_module": "jupyter-threejs",
      "model_module_version": "~1.0.0",
      "model_name": "ShaderMaterialModel",
      "state": {
       "_model_module_version": "~1.0.0",
       "_view_module": null,
       "_view_module_version": ""
      }
     },
     "2725f0f816ad41568dea60d0d4a781e4": {
      "model_module": "jupyter-threejs",
      "model_module_version": "~1.0.0",
      "model_name": "ShaderMaterialModel",
      "state": {
       "_model_module_version": "~1.0.0",
       "_view_module": null,
       "_view_module_version": "",
       "side": "DoubleSide"
      }
     },
     "29fdeed16ab74c41b6bf5d6fc336b93a": {
      "model_module": "jupyter-threejs",
      "model_module_version": "~1.0.0",
      "model_name": "SceneModel",
      "state": {
       "_model_module_version": "~1.0.0",
       "_view_module": null,
       "_view_module_version": "",
       "background": null
      }
     },
     "2a79f67798ca42fb88643fb712cbf45e": {
      "model_module": "@jupyter-widgets/base",
      "model_module_version": "1.1.0",
      "model_name": "LayoutModel",
      "state": {}
     },
     "2d8a3fc6c44440e2902063d240a7083c": {
      "buffers": [
       {
        "data": "AACAPwAAgL8AAAAAAAAAAA==",
        "encoding": "base64",
        "path": [
         "x",
         0,
         "data"
        ]
       },
       {
        "data": "AAAAAAAAAAAAAIA/AACAvw==",
        "encoding": "base64",
        "path": [
         "y",
         0,
         "data"
        ]
       },
       {
        "data": "8wQ1v/MENb/zBDU/8wQ1Pw==",
        "encoding": "base64",
        "path": [
         "z",
         0,
         "data"
        ]
       }
      ],
      "model_module": "ipyvolume",
      "model_module_version": "^0.5.0-beta.1",
      "model_name": "ScatterModel",
      "state": {
       "color": "blue",
       "geo": "sphere",
       "line_material": "IPY_MODEL_6fc757b52f3d4a60bdb076966b0cb600",
       "material": "IPY_MODEL_56adbc3803924b42a5b99f46e0b74533",
       "selected": null,
       "size": 2,
       "size_selected": 2.6,
       "texture": null,
       "visible": true,
       "vx": null,
       "vy": null,
       "vz": null,
       "x": [
        {
         "data": {},
         "dtype": "float32",
         "shape": [
          4
         ]
        }
       ],
       "y": [
        {
         "data": {},
         "dtype": "float32",
         "shape": [
          4
         ]
        }
       ],
       "z": [
        {
         "data": {},
         "dtype": "float32",
         "shape": [
          4
         ]
        }
       ]
      }
     },
     "35930c939d2f47829c2d520ff4de89cc": {
      "model_module": "jupyter-threejs",
      "model_module_version": "~1.0.0",
      "model_name": "ShaderMaterialModel",
      "state": {
       "_model_module_version": "~1.0.0",
       "_view_module": null,
       "_view_module_version": ""
      }
     },
     "3eab7b18eecb48ae8906d72741f01fa1": {
      "model_module": "jupyter-threejs",
      "model_module_version": "~1.0.0",
      "model_name": "SceneModel",
      "state": {
       "_model_module_version": "~1.0.0",
       "_view_module": null,
       "_view_module_version": "",
       "background": null
      }
     },
     "4180182ec8594bfd9f18b4526150bf4c": {
      "model_module": "jupyter-threejs",
      "model_module_version": "~1.0.0",
      "model_name": "ShaderMaterialModel",
      "state": {
       "_model_module_version": "~1.0.0",
       "_view_module": null,
       "_view_module_version": "",
       "side": "DoubleSide"
      }
     },
     "4a1a0dc7fc52431c8846b3e7e59b85bb": {
      "model_module": "@jupyter-widgets/controls",
      "model_module_version": "1.4.0",
      "model_name": "VBoxModel",
      "state": {
       "children": [
        "IPY_MODEL_d63045f117c3410f8ace5b0479b01ea3"
       ],
       "layout": "IPY_MODEL_724a460bf2f14e878e68b28ab98f8e68"
      }
     },
     "4baaa6696618419fac6ea1eb6889f14b": {
      "model_module": "ipyvolume",
      "model_module_version": "^0.5.0-beta.1",
      "model_name": "FigureModel",
      "state": {
       "ambient_coefficient": 0.5,
       "camera": "IPY_MODEL_b7979ca1a1e5436db1b99cc93a5b4d6c",
       "capture_fps": null,
       "diffuse_coefficient": 0.8,
       "height": 500,
       "layout": "IPY_MODEL_e93111a6fff44659863ae5a7553f83ee",
       "matrix_projection": [
        2.9448154572796907,
        0,
        0,
        0,
        0,
        2.3558523658237527,
        0,
        0,
        0,
        0,
        -1.00010000500025,
        -1,
        0,
        0,
        -0.200010000500025,
        0
       ],
       "matrix_world": [
        0.25,
        0,
        0,
        0,
        0,
        0.25,
        1.5308084989341915e-17,
        0,
        0,
        -1.5308084989341915e-17,
        0.25,
        0,
        0,
        0,
        -2,
        1
       ],
       "meshes": [
        "IPY_MODEL_be961b235ff745bf84f16c08475ee836"
       ],
       "scatters": [
        "IPY_MODEL_2d8a3fc6c44440e2902063d240a7083c"
       ],
       "scene": "IPY_MODEL_29fdeed16ab74c41b6bf5d6fc336b93a",
       "specular_coefficient": 0.5,
       "specular_exponent": 5,
       "volumes": [],
       "width": 400,
       "xlim": [
        -2,
        2
       ],
       "ylim": [
        -2,
        2
       ],
       "zlim": [
        -2,
        2
       ]
      }
     },
     "4f88b1ebf7d8454599e2166068e4d584": {
      "model_module": "jupyter-threejs",
      "model_module_version": "~1.0.0",
      "model_name": "PerspectiveCameraModel",
      "state": {
       "_model_module_version": "~1.0.0",
       "_view_module": null,
       "_view_module_version": "",
       "aspect": 0.8,
       "fov": 46,
       "matrix": [
        1,
        0,
        0,
        0,
        0,
        1,
        -6.123233995736769e-17,
        0,
        0,
        6.123233995736769e-17,
        1,
        0,
        0,
        1.5875279038919817e-16,
        2.5926298178336475,
        1
       ],
       "matrixWorld": [
        1,
        0,
        0,
        0,
        0,
        1,
        -6.123233995736769e-17,
        0,
        0,
        6.123233995736769e-17,
        1,
        0,
        0,
        1.5875279038919817e-16,
        2.5926298178336475,
        1
       ],
       "matrixWorldInverse": [
        1,
        0,
        0,
        0,
        0,
        1,
        6.123233995736769e-17,
        0,
        0,
        -6.123233995736769e-17,
        1,
        0,
        0,
        0,
        -2.5926298178336475,
        1
       ],
       "position": [
        0,
        1.5875279038919817e-16,
        2.5926298178336475
       ],
       "projectionMatrix": [
        2.9448154572796907,
        0,
        0,
        0,
        0,
        2.3558523658237527,
        0,
        0,
        0,
        0,
        -1.00010000500025,
        -1,
        0,
        0,
        -0.200010000500025,
        0
       ],
       "quaternion": [
        -3.061616997868384e-17,
        0,
        0,
        1
       ],
       "rotation": [
        -6.123233995736769e-17,
        0,
        0,
        "XYZ"
       ],
       "up": [
        0,
        1,
        -6.123233995736769e-17
       ]
      }
     },
     "511a3d02227747a7b40d79aaa188d4e6": {
      "model_module": "jupyter-threejs",
      "model_module_version": "~1.0.0",
      "model_name": "PerspectiveCameraModel",
      "state": {
       "_model_module_version": "~1.0.0",
       "_view_module": null,
       "_view_module_version": "",
       "aspect": 0.8,
       "fov": 46,
       "matrix": [
        1,
        0,
        0,
        0,
        0,
        1,
        -6.123233995736766e-17,
        0,
        0,
        6.123233995736766e-17,
        1,
        0,
        0,
        1.2246467991473532e-16,
        2,
        1
       ],
       "matrixWorld": [
        1,
        0,
        0,
        0,
        0,
        1,
        -6.123233995736766e-17,
        0,
        0,
        6.123233995736766e-17,
        1,
        0,
        0,
        1.2246467991473532e-16,
        2,
        1
       ],
       "matrixWorldInverse": [
        1,
        0,
        0,
        0,
        0,
        1,
        6.123233995736766e-17,
        0,
        0,
        -6.123233995736766e-17,
        1,
        0,
        0,
        0,
        -2,
        1
       ],
       "position": [
        0,
        1.2246467991473532e-16,
        2
       ],
       "projectionMatrix": [
        2.9448154572796907,
        0,
        0,
        0,
        0,
        2.3558523658237527,
        0,
        0,
        0,
        0,
        -1.00010000500025,
        -1,
        0,
        0,
        -0.200010000500025,
        0
       ],
       "quaternion": [
        -3.061616997868383e-17,
        0,
        0,
        1
       ],
       "rotation": [
        -6.123233995736766e-17,
        0,
        0,
        "XYZ"
       ]
      }
     },
     "5167914a242146359920f4ef6beff575": {
      "model_module": "@jupyter-widgets/base",
      "model_module_version": "1.1.0",
      "model_name": "LayoutModel",
      "state": {}
     },
     "54d18842498945a385944270a284bf88": {
      "model_module": "@jupyter-widgets/base",
      "model_module_version": "1.1.0",
      "model_name": "LayoutModel",
      "state": {}
     },
     "56adbc3803924b42a5b99f46e0b74533": {
      "model_module": "jupyter-threejs",
      "model_module_version": "~1.0.0",
      "model_name": "ShaderMaterialModel",
      "state": {
       "_model_module_version": "~1.0.0",
       "_view_module": null,
       "_view_module_version": ""
      }
     },
     "5702ef4818a44b44a0580c5d1064134e": {
      "model_module": "jupyter-threejs",
      "model_module_version": "~1.0.0",
      "model_name": "ShaderMaterialModel",
      "state": {
       "_model_module_version": "~1.0.0",
       "_view_module": null,
       "_view_module_version": ""
      }
     },
     "5bdbd5ed60744565a1d8108e5c20f068": {
      "model_module": "@jupyter-widgets/controls",
      "model_module_version": "1.4.0",
      "model_name": "VBoxModel",
      "state": {
       "children": [
        "IPY_MODEL_d8239e9d228e4225b58468494f7381df"
       ],
       "layout": "IPY_MODEL_baf8e8e8f4434f61944463231fb66309"
      }
     },
     "5f807bdaba6f452795cb4267961497d8": {
      "model_module": "jupyter-threejs",
      "model_module_version": "~1.0.0",
      "model_name": "ShaderMaterialModel",
      "state": {
       "_model_module_version": "~1.0.0",
       "_view_module": null,
       "_view_module_version": "",
       "side": "DoubleSide"
      }
     },
     "66aeda3cdc9f4a50bce50e8e4df71104": {
      "model_module": "jupyter-threejs",
      "model_module_version": "~1.0.0",
      "model_name": "ShaderMaterialModel",
      "state": {
       "_model_module_version": "~1.0.0",
       "_view_module": null,
       "_view_module_version": ""
      }
     },
     "6e7b81951d384b8490ec1a5be63a2975": {
      "model_module": "@jupyter-widgets/base",
      "model_module_version": "1.1.0",
      "model_name": "LayoutModel",
      "state": {}
     },
     "6f7a4415a5d5425e845094379278e126": {
      "model_module": "jupyter-threejs",
      "model_module_version": "~1.0.0",
      "model_name": "ShaderMaterialModel",
      "state": {
       "_model_module_version": "~1.0.0",
       "_view_module": null,
       "_view_module_version": ""
      }
     },
     "6fc757b52f3d4a60bdb076966b0cb600": {
      "model_module": "jupyter-threejs",
      "model_module_version": "~1.0.0",
      "model_name": "ShaderMaterialModel",
      "state": {
       "_model_module_version": "~1.0.0",
       "_view_module": null,
       "_view_module_version": ""
      }
     },
     "724a460bf2f14e878e68b28ab98f8e68": {
      "model_module": "@jupyter-widgets/base",
      "model_module_version": "1.1.0",
      "model_name": "LayoutModel",
      "state": {}
     },
     "79e2c524a698408fbde0871c2e792a9f": {
      "model_module": "@jupyter-widgets/controls",
      "model_module_version": "1.4.0",
      "model_name": "VBoxModel",
      "state": {
       "children": [
        "IPY_MODEL_4baaa6696618419fac6ea1eb6889f14b"
       ],
       "layout": "IPY_MODEL_8e517300152343fcb14574919f7662b4"
      }
     },
     "7a75d34bb5264e90bcc4c793794e1c28": {
      "model_module": "jupyter-threejs",
      "model_module_version": "~1.0.0",
      "model_name": "SceneModel",
      "state": {
       "_model_module_version": "~1.0.0",
       "_view_module": null,
       "_view_module_version": "",
       "background": null
      }
     },
     "83c892de417e4bda9dcf61ed2b0b1399": {
      "buffers": [
       {
        "data": "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",
        "encoding": "base64",
        "path": [
         "color",
         0,
         "data"
        ]
       },
       {
        "data": "AAAAACgAAAApAAAAAAAAACkAAAABAAAAAQAAACkAAAAqAAAAAQAAACoAAAACAAAAAgAAACoAAAArAAAAAgAAACsAAAADAAAAAwAAACsAAAAsAAAAAwAAACwAAAAEAAAABAAAACwAAAAtAAAABAAAAC0AAAAFAAAABQAAAC0AAAAuAAAABQAAAC4AAAAGAAAABgAAAC4AAAAvAAAABgAAAC8AAAAHAAAABwAAAC8AAAAwAAAABwAAADAAAAAIAAAACAAAADAAAAAxAAAACAAAADEAAAAJAAAACQAAADEAAAAyAAAACQAAADIAAAAKAAAACgAAADIAAAAzAAAACgAAADMAAAALAAAACwAAADMAAAA0AAAACwAAADQAAAAMAAAADAAAADQAAAA1AAAADAAAADUAAAANAAAADQAAADUAAAA2AAAADQAAADYAAAAOAAAADgAAADYAAAA3AAAADgAAADcAAAAPAAAADwAAADcAAAA4AAAADwAAADgAAAAQAAAAEAAAADgAAAA5AAAAEAAAADkAAAARAAAAEQAAADkAAAA6AAAAEQAAADoAAAASAAAAEgAAADoAAAA7AAAAEgAAADsAAAATAAAAEwAAADsAAAA8AAAAEwAAADwAAAAUAAAAFAAAADwAAAA9AAAAFAAAAD0AAAAVAAAAFQAAAD0AAAA+AAAAFQAAAD4AAAAWAAAAFgAAAD4AAAA/AAAAFgAAAD8AAAAXAAAAFwAAAD8AAABAAAAAFwAAAEAAAAAYAAAAGAAAAEAAAABBAAAAGAAAAEEAAAAZAAAAGQAAAEEAAABCAAAAGQAAAEIAAAAaAAAAGgAAAEIAAABDAAAAGgAAAEMAAAAbAAAAGwAAAEMAAABEAAAAGwAAAEQAAAAcAAAAHAAAAEQAAABFAAAAHAAAAEUAAAAdAAAAHQAAAEUAAABGAAAAHQAAAEYAAAAeAAAAHgAAAEYAAABHAAAAHgAAAEcAAAAfAAAAHwAAAEcAAABIAAAAHwAAAEgAAAAgAAAAIAAAAEgAAABJAAAAIAAAAEkAAAAhAAAAIQAAAEkAAABKAAAAIQAAAEoAAAAiAAAAIgAAAEoAAABLAAAAIgAAAEsAAAAjAAAAIwAAAEsAAABMAAAAIwAAAEwAAAAkAAAAJAAAAEwAAABNAAAAJAAAAE0AAAAlAAAAJQAAAE0AAABOAAAAJQAAAE4AAAAmAAAAJgAAAE4AAABPAAAAJgAAAE8AAAAnAAAAKAAAAFAAAABRAAAAKAAAAFEAAAApAAAAKQAAAFEAAABSAAAAKQAAAFIAAAAqAAAAKgAAAFIAAABTAAAAKgAAAFMAAAArAAAAKwAAAFMAAABUAAAAKwAAAFQAAAAsAAAALAAAAFQAAABVAAAALAAAAFUAAAAtAAAALQAAAFUAAABWAAAALQAAAFYAAAAuAAAALgAAAFYAAABXAAAALgAAAFcAAAAvAAAALwAAAFcAAABYAAAALwAAAFgAAAAwAAAAMAAAAFgAAABZAAAAMAAAAFkAAAAxAAAAMQAAAFkAAABaAAAAMQAAAFoAAAAyAAAAMgAAAFoAAABbAAAAMgAAAFsAAAAzAAAAMwAAAFsAAABcAAAAMwAAAFwAAAA0AAAANAAAAFwAAABdAAAANAAAAF0AAAA1AAAANQAAAF0AAABeAAAANQAAAF4AAAA2AAAANgAAAF4AAABfAAAANgAAAF8AAAA3AAAANwAAAF8AAABgAAAANwAAAGAAAAA4AAAAOAAAAGAAAABhAAAAOAAAAGEAAAA5AAAAOQAAAGEAAABiAAAAOQAAAGIAAAA6AAAAOgAAAGIAAABjAAAAOgAAAGMAAAA7AAAAOwAAAGMAAABkAAAAOwAAAGQAAAA8AAAAPAAAAGQAAABlAAAAPAAAAGUAAAA9AAAAPQAAAGUAAABmAAAAPQAAAGYAAAA+AAAAPgAAAGYAAABnAAAAPgAAAGcAAAA/AAAAPwAAAGcAAABoAAAAPwAAAGgAAABAAAAAQAAAAGgAAABpAAAAQAAAAGkAAABBAAAAQQAAAGkAAABqAAAAQQAAAGoAAABCAAAAQgAAAGoAAABrAAAAQgAAAGsAAABDAAAAQwAAAGsAAABsAAAAQwAAAGwAAABEAAAARAAAAGwAAABtAAAARAAAAG0AAABFAAAARQAAAG0AAABuAAAARQAAAG4AAABGAAAARgAAAG4AAABvAAAARgAAAG8AAABHAAAARwAAAG8AAABwAAAARwAAAHAAAABIAAAASAAAAHAAAABxAAAASAAAAHEAAABJAAAASQAAAHEAAAByAAAASQAAAHIAAABKAAAASgAAAHIAAABzAAAASgAAAHMAAABLAAAASwAAAHMAAAB0AAAASwAAAHQAAABMAAAATAAAAHQAAAB1AAAATAAAAHUAAABNAAAATQAAAHUAAAB2AAAATQAAAHYAAABOAAAATgAAAHYAAAB3AAAATgAAAHcAAABPAAAAUAAAAHgAAAB5AAAAUAAAAHkAAABRAAAAUQAAAHkAAAB6AAAAUQAAAHoAAABSAAAAUgAAAHoAAAB7AAAAUgAAAHsAAABTAAAAUwAAAHsAAAB8AAAAUwAAAHwAAABUAAAAVAAAAHwAAAB9AAAAVAAAAH0AAABVAAAAVQAAAH0AAAB+AAAAVQAAAH4AAABWAAAAVgAAAH4AAAB/AAAAVgAAAH8AAABXAAAAVwAAAH8AAACAAAAAVwAAAIAAAABYAAAAWAAAAIAAAACBAAAAWAAAAIEAAABZAAAAWQAAAIEAAACCAAAAWQAAAIIAAABaAAAAWgAAAIIAAACDAAAAWgAAAIMAAABbAAAAWwAAAIMAAACEAAAAWwAAAIQAAABcAAAAXAAAAIQAAACFAAAAXAAAAIUAAABdAAAAXQAAAIUAAACGAAAAXQAAAIYAAABeAAAAXgAAAIYAAACHAAAAXgAAAIcAAABfAAAAXwAAAIcAAACIAAAAXwAAAIgAAABgAAAAYAAAAIgAAACJAAAAYAAAAIkAAABhAAAAYQAAAIkAAACKAAAAYQAAAIoAAABiAAAAYgAAAIoAAACLAAAAYgAAAIsAAABjAAAAYwAAAIsAAACMAAAAYwAAAIwAAABkAAAAZAAAAIwAAACNAAAAZAAAAI0AAABlAAAAZQAAAI0AAACOAAAAZQAAAI4AAABmAAAAZgAAAI4AAACPAAAAZgAAAI8AAABnAAAAZwAAAI8AAACQAAAAZwAAAJAAAABoAAAAaAAAAJAAAACRAAAAaAAAAJEAAABpAAAAaQAAAJEAAACSAAAAaQAAAJIAAABqAAAAagAAAJIAAACTAAAAagAAAJMAAABrAAAAawAAAJMAAACUAAAAawAAAJQAAABsAAAAbAAAAJQAAACVAAAAbAAAAJUAAABtAAAAbQAAAJUAAACWAAAAbQAAAJYAAABuAAAAbgAAAJYAAACXAAAAbgAAAJcAAABvAAAAbwAAAJcAAACYAAAAbwAAAJgAAABwAAAAcAAAAJgAAACZAAAAcAAAAJkAAABxAAAAcQAAAJkAAACaAAAAcQAAAJoAAAByAAAAcgAAAJoAAACbAAAAcgAAAJsAAABzAAAAcwAAAJsAAACcAAAAcwAAAJwAAAB0AAAAdAAAAJwAAACdAAAAdAAAAJ0AAAB1AAAAdQAAAJ0AAACeAAAAdQAAAJ4AAAB2AAAAdgAAAJ4AAACfAAAAdgAAAJ8AAAB3AAAAeAAAAKAAAAChAAAAeAAAAKEAAAB5AAAAeQAAAKEAAACiAAAAeQAAAKIAAAB6AAAAegAAAKIAAACjAAAAegAAAKMAAAB7AAAAewAAAKMAAACkAAAAewAAAKQAAAB8AAAAfAAAAKQAAAClAAAAfAAAAKUAAAB9AAAAfQAAAKUAAACmAAAAfQAAAKYAAAB+AAAAfgAAAKYAAACnAAAAfgAAAKcAAAB/AAAAfwAAAKcAAACoAAAAfwAAAKgAAACAAAAAgAAAAKgAAACpAAAAgAAAAKkAAACBAAAAgQAAAKkAAACqAAAAgQAAAKoAAACCAAAAggAAAKoAAACrAAAAggAAAKsAAACDAAAAgwAAAKsAAACsAAAAgwAAAKwAAACEAAAAhAAAAKwAAACtAAAAhAAAAK0AAACFAAAAhQAAAK0AAACuAAAAhQAAAK4AAACGAAAAhgAAAK4AAACvAAAAhgAAAK8AAACHAAAAhwAAAK8AAACwAAAAhwAAALAAAACIAAAAiAAAALAAAACxAAAAiAAAALEAAACJAAAAiQAAALEAAACyAAAAiQAAALIAAACKAAAAigAAALIAAACzAAAAigAAALMAAACLAAAAiwAAALMAAAC0AAAAiwAAALQAAACMAAAAjAAAALQAAAC1AAAAjAAAALUAAACNAAAAjQAAALUAAAC2AAAAjQAAALYAAACOAAAAjgAAALYAAAC3AAAAjgAAALcAAACPAAAAjwAAALcAAAC4AAAAjwAAALgAAACQAAAAkAAAALgAAAC5AAAAkAAAALkAAACRAAAAkQAAALkAAAC6AAAAkQAAALoAAACSAAAAkgAAALoAAAC7AAAAkgAAALsAAACTAAAAkwAAALsAAAC8AAAAkwAAALwAAACUAAAAlAAAALwAAAC9AAAAlAAAAL0AAACVAAAAlQAAAL0AAAC+AAAAlQAAAL4AAACWAAAAlgAAAL4AAAC/AAAAlgAAAL8AAACXAAAAlwAAAL8AAADAAAAAlwAAAMAAAACYAAAAmAAAAMAAAADBAAAAmAAAAMEAAACZAAAAmQAAAMEAAADCAAAAmQAAAMIAAACaAAAAmgAAAMIAAADDAAAAmgAAAMMAAACbAAAAmwAAAMMAAADEAAAAmwAAAMQAAACcAAAAnAAAAMQAAADFAAAAnAAAAMUAAACdAAAAnQAAAMUAAADGAAAAnQAAAMYAAACeAAAAngAAAMYAAADHAAAAngAAAMcAAACfAAAAoAAAAMgAAADJAAAAoAAAAMkAAAChAAAAoQAAAMkAAADKAAAAoQAAAMoAAACiAAAAogAAAMoAAADLAAAAogAAAMsAAACjAAAAowAAAMsAAADMAAAAowAAAMwAAACkAAAApAAAAMwAAADNAAAApAAAAM0AAAClAAAApQAAAM0AAADOAAAApQAAAM4AAACmAAAApgAAAM4AAADPAAAApgAAAM8AAACnAAAApwAAAM8AAADQAAAApwAAANAAAACoAAAAqAAAANAAAADRAAAAqAAAANEAAACpAAAAqQAAANEAAADSAAAAqQAAANIAAACqAAAAqgAAANIAAADTAAAAqgAAANMAAACrAAAAqwAAANMAAADUAAAAqwAAANQAAACsAAAArAAAANQAAADVAAAArAAAANUAAACtAAAArQAAANUAAADWAAAArQAAANYAAACuAAAArgAAANYAAADXAAAArgAAANcAAACvAAAArwAAANcAAADYAAAArwAAANgAAACwAAAAsAAAANgAAADZAAAAsAAAANkAAACxAAAAsQAAANkAAADaAAAAsQAAANoAAACyAAAAsgAAANoAAADbAAAAsgAAANsAAACzAAAAswAAANsAAADcAAAAswAAANwAAAC0AAAAtAAAANwAAADdAAAAtAAAAN0AAAC1AAAAtQAAAN0AAADeAAAAtQAAAN4AAAC2AAAAtgAAAN4AAADfAAAAtgAAAN8AAAC3AAAAtwAAAN8AAADgAAAAtwAAAOAAAAC4AAAAuAAAAOAAAADhAAAAuAAAAOEAAAC5AAAAuQAAAOEAAADiAAAAuQAAAOIAAAC6AAAAugAAAOIAAADjAAAAugAAAOMAAAC7AAAAuwAAAOMAAADkAAAAuwAAAOQAAAC8AAAAvAAAAOQAAADlAAAAvAAAAOUAAAC9AAAAvQAAAOUAAADmAAAAvQAAAOYAAAC+AAAAvgAAAOYAAADnAAAAvgAAAOcAAAC/AAAAvwAAAOcAAADoAAAAvwAAAOgAAADAAAAAwAAAAOgAAADpAAAAwAAAAOkAAADBAAAAwQAAAOkAAADqAAAAwQAAAOoAAADCAAAAwgAAAOoAAADrAAAAwgAAAOsAAADDAAAAwwAAAOsAAADsAAAAwwAAAOwAAADEAAAAxAAAAOwAAADtAAAAxAAAAO0AAADFAAAAxQAAAO0AAADuAAAAxQAAAO4AAADGAAAAxgAAAO4AAADvAAAAxgAAAO8AAADHAAAAyAAAAPAAAADxAAAAyAAAAPEAAADJAAAAyQAAAPEAAADyAAAAyQAAAPIAAADKAAAAygAAAPIAAADzAAAAygAAAPMAAADLAAAAywAAAPMAAAD0AAAAywAAAPQAAADMAAAAzAAAAPQAAAD1AAAAzAAAAPUAAADNAAAAzQAAAPUAAAD2AAAAzQAAAPYAAADOAAAAzgAAAPYAAAD3AAAAzgAAAPcAAADPAAAAzwAAAPcAAAD4AAAAzwAAAPgAAADQAAAA0AAAAPgAAAD5AAAA0AAAAPkAAADRAAAA0QAAAPkAAAD6AAAA0QAAAPoAAADSAAAA0gAAAPoAAAD7AAAA0gAAAPsAAADTAAAA0wAAAPsAAAD8AAAA0wAAAPwAAADUAAAA1AAAAPwAAAD9AAAA1AAAAP0AAADVAAAA1QAAAP0AAAD+AAAA1QAAAP4AAADWAAAA1gAAAP4AAAD/AAAA1gAAAP8AAADXAAAA1wAAAP8AAAAAAQAA1wAAAAABAADYAAAA2AAAAAABAAABAQAA2AAAAAEBAADZAAAA2QAAAAEBAAACAQAA2QAAAAIBAADaAAAA2gAAAAIBAAADAQAA2gAAAAMBAADbAAAA2wAAAAMBAAAEAQAA2wAAAAQBAADcAAAA3AAAAAQBAAAFAQAA3AAAAAUBAADdAAAA3QAAAAUBAAAGAQAA3QAAAAYBAADeAAAA3gAAAAYBAAAHAQAA3gAAAAcBAADfAAAA3wAAAAcBAAAIAQAA3wAAAAgBAADgAAAA4AAAAAgBAAAJAQAA4AAAAAkBAADhAAAA4QAAAAkBAAAKAQAA4QAAAAoBAADiAAAA4gAAAAoBAAALAQAA4gAAAAsBAADjAAAA4wAAAAsBAAAMAQAA4wAAAAwBAADkAAAA5AAAAAwBAAANAQAA5AAAAA0BAADlAAAA5QAAAA0BAAAOAQAA5QAAAA4BAADmAAAA5gAAAA4BAAAPAQAA5gAAAA8BAADnAAAA5wAAAA8BAAAQAQAA5wAAABABAADoAAAA6AAAABABAAARAQAA6AAAABEBAADpAAAA6QAAABEBAAASAQAA6QAAABIBAADqAAAA6gAAABIBAAATAQAA6gAAABMBAADrAAAA6wAAABMBAAAUAQAA6wAAABQBAADsAAAA7AAAABQBAAAVAQAA7AAAABUBAADtAAAA7QAAABUBAAAWAQAA7QAAABYBAADuAAAA7gAAABYBAAAXAQAA7gAAABcBAADvAAAA8AAAABgBAAAZAQAA8AAAABkBAADxAAAA8QAAABkBAAAaAQAA8QAAABoBAADyAAAA8gAAABoBAAAbAQAA8gAAABsBAADzAAAA8wAAABsBAAAcAQAA8wAAABwBAAD0AAAA9AAAABwBAAAdAQAA9AAAAB0BAAD1AAAA9QAAAB0BAAAeAQAA9QAAAB4BAAD2AAAA9gAAAB4BAAAfAQAA9gAAAB8BAAD3AAAA9wAAAB8BAAAgAQAA9wAAACABAAD4AAAA+AAAACABAAAhAQAA+AAAACEBAAD5AAAA+QAAACEBAAAiAQAA+QAAACIBAAD6AAAA+gAAACIBAAAjAQAA+gAAACMBAAD7AAAA+wAAACMBAAAkAQAA+wAAACQBAAD8AAAA/AAAACQBAAAlAQAA/AAAACUBAAD9AAAA/QAAACUBAAAmAQAA/QAAACYBAAD+AAAA/gAAACYBAAAnAQAA/gAAACcBAAD/AAAA/wAAACcBAAAoAQAA/wAAACgBAAAAAQAAAAEAACgBAAApAQAAAAEAACkBAAABAQAAAQEAACkBAAAqAQAAAQEAACoBAAACAQAAAgEAACoBAAArAQAAAgEAACsBAAADAQAAAwEAACsBAAAsAQAAAwEAACwBAAAEAQAABAEAACwBAAAtAQAABAEAAC0BAAAFAQAABQEAAC0BAAAuAQAABQEAAC4BAAAGAQAABgEAAC4BAAAvAQAABgEAAC8BAAAHAQAABwEAAC8BAAAwAQAABwEAADABAAAIAQAACAEAADABAAAxAQAACAEAADEBAAAJAQAACQEAADEBAAAyAQAACQEAADIBAAAKAQAACgEAADIBAAAzAQAACgEAADMBAAALAQAACwEAADMBAAA0AQAACwEAADQBAAAMAQAADAEAADQBAAA1AQAADAEAADUBAAANAQAADQEAADUBAAA2AQAADQEAADYBAAAOAQAADgEAADYBAAA3AQAADgEAADcBAAAPAQAADwEAADcBAAA4AQAADwEAADgBAAAQAQAAEAEAADgBAAA5AQAAEAEAADkBAAARAQAAEQEAADkBAAA6AQAAEQEAADoBAAASAQAAEgEAADoBAAA7AQAAEgEAADsBAAATAQAAEwEAADsBAAA8AQAAEwEAADwBAAAUAQAAFAEAADwBAAA9AQAAFAEAAD0BAAAVAQAAFQEAAD0BAAA+AQAAFQEAAD4BAAAWAQAAFgEAAD4BAAA/AQAAFgEAAD8BAAAXAQAAGAEAAEABAABBAQAAGAEAAEEBAAAZAQAAGQEAAEEBAABCAQAAGQEAAEIBAAAaAQAAGgEAAEIBAABDAQAAGgEAAEMBAAAbAQAAGwEAAEMBAABEAQAAGwEAAEQBAAAcAQAAHAEAAEQBAABFAQAAHAEAAEUBAAAdAQAAHQEAAEUBAABGAQAAHQEAAEYBAAAeAQAAHgEAAEYBAABHAQAAHgEAAEcBAAAfAQAAHwEAAEcBAABIAQAAHwEAAEgBAAAgAQAAIAEAAEgBAABJAQAAIAEAAEkBAAAhAQAAIQEAAEkBAABKAQAAIQEAAEoBAAAiAQAAIgEAAEoBAABLAQAAIgEAAEsBAAAjAQAAIwEAAEsBAABMAQAAIwEAAEwBAAAkAQAAJAEAAEwBAABNAQAAJAEAAE0BAAAlAQAAJQEAAE0BAABOAQAAJQEAAE4BAAAmAQAAJgEAAE4BAABPAQAAJgEAAE8BAAAnAQAAJwEAAE8BAABQAQAAJwEAAFABAAAoAQAAKAEAAFABAABRAQAAKAEAAFEBAAApAQAAKQEAAFEBAABSAQAAKQEAAFIBAAAqAQAAKgEAAFIBAABTAQAAKgEAAFMBAAArAQAAKwEAAFMBAABUAQAAKwEAAFQBAAAsAQAALAEAAFQBAABVAQAALAEAAFUBAAAtAQAALQEAAFUBAABWAQAALQEAAFYBAAAuAQAALgEAAFYBAABXAQAALgEAAFcBAAAvAQAALwEAAFcBAABYAQAALwEAAFgBAAAwAQAAMAEAAFgBAABZAQAAMAEAAFkBAAAxAQAAMQEAAFkBAABaAQAAMQEAAFoBAAAyAQAAMgEAAFoBAABbAQAAMgEAAFsBAAAzAQAAMwEAAFsBAABcAQAAMwEAAFwBAAA0AQAANAEAAFwBAABdAQAANAEAAF0BAAA1AQAANQEAAF0BAABeAQAANQEAAF4BAAA2AQAANgEAAF4BAABfAQAANgEAAF8BAAA3AQAANwEAAF8BAABgAQAANwEAAGABAAA4AQAAOAEAAGABAABhAQAAOAEAAGEBAAA5AQAAOQEAAGEBAABiAQAAOQEAAGIBAAA6AQAAOgEAAGIBAABjAQAAOgEAAGMBAAA7AQAAOwEAAGMBAABkAQAAOwEAAGQBAAA8AQAAPAEAAGQBAABlAQAAPAEAAGUBAAA9AQAAPQEAAGUBAABmAQAAPQEAAGYBAAA+AQAAPgEAAGYBAABnAQAAPgEAAGcBAAA/AQAAQAEAAGgBAABpAQAAQAEAAGkBAABBAQAAQQEAAGkBAABqAQAAQQEAAGoBAABCAQAAQgEAAGoBAABrAQAAQgEAAGsBAABDAQAAQwEAAGsBAABsAQAAQwEAAGwBAABEAQAARAEAAGwBAABtAQAARAEAAG0BAABFAQAARQEAAG0BAABuAQAARQEAAG4BAABGAQAARgEAAG4BAABvAQAARgEAAG8BAABHAQAARwEAAG8BAABwAQAARwEAAHABAABIAQAASAEAAHABAABxAQAASAEAAHEBAABJAQAASQEAAHEBAAByAQAASQEAAHIBAABKAQAASgEAAHIBAABzAQAASgEAAHMBAABLAQAASwEAAHMBAAB0AQAASwEAAHQBAABMAQAATAEAAHQBAAB1AQAATAEAAHUBAABNAQAATQEAAHUBAAB2AQAATQEAAHYBAABOAQAATgEAAHYBAAB3AQAATgEAAHcBAABPAQAATwEAAHcBAAB4AQAATwEAAHgBAABQAQAAUAEAAHgBAAB5AQAAUAEAAHkBAABRAQAAUQEAAHkBAAB6AQAAUQEAAHoBAABSAQAAUgEAAHoBAAB7AQAAUgEAAHsBAABTAQAAUwEAAHsBAAB8AQAAUwEAAHwBAABUAQAAVAEAAHwBAAB9AQAAVAEAAH0BAABVAQAAVQEAAH0BAAB+AQAAVQEAAH4BAABWAQAAVgEAAH4BAAB/AQAAVgEAAH8BAABXAQAAVwEAAH8BAACAAQAAVwEAAIABAABYAQAAWAEAAIABAACBAQAAWAEAAIEBAABZAQAAWQEAAIEBAACCAQAAWQEAAIIBAABaAQAAWgEAAIIBAACDAQAAWgEAAIMBAABbAQAAWwEAAIMBAACEAQAAWwEAAIQBAABcAQAAXAEAAIQBAACFAQAAXAEAAIUBAABdAQAAXQEAAIUBAACGAQAAXQEAAIYBAABeAQAAXgEAAIYBAACHAQAAXgEAAIcBAABfAQAAXwEAAIcBAACIAQAAXwEAAIgBAABgAQAAYAEAAIgBAACJAQAAYAEAAIkBAABhAQAAYQEAAIkBAACKAQAAYQEAAIoBAABiAQAAYgEAAIoBAACLAQAAYgEAAIsBAABjAQAAYwEAAIsBAACMAQAAYwEAAIwBAABkAQAAZAEAAIwBAACNAQAAZAEAAI0BAABlAQAAZQEAAI0BAACOAQAAZQEAAI4BAABmAQAAZgEAAI4BAACPAQAAZgEAAI8BAABnAQAAaAEAAJABAACRAQAAaAEAAJEBAABpAQAAaQEAAJEBAACSAQAAaQEAAJIBAABqAQAAagEAAJIBAACTAQAAagEAAJMBAABrAQAAawEAAJMBAACUAQAAawEAAJQBAABsAQAAbAEAAJQBAACVAQAAbAEAAJUBAABtAQAAbQEAAJUBAACWAQAAbQEAAJYBAABuAQAAbgEAAJYBAACXAQAAbgEAAJcBAABvAQAAbwEAAJcBAACYAQAAbwEAAJgBAABwAQAAcAEAAJgBAACZAQAAcAEAAJkBAABxAQAAcQEAAJkBAACaAQAAcQEAAJoBAAByAQAAcgEAAJoBAACbAQAAcgEAAJsBAABzAQAAcwEAAJsBAACcAQAAcwEAAJwBAAB0AQAAdAEAAJwBAACdAQAAdAEAAJ0BAAB1AQAAdQEAAJ0BAACeAQAAdQEAAJ4BAAB2AQAAdgEAAJ4BAACfAQAAdgEAAJ8BAAB3AQAAdwEAAJ8BAACgAQAAdwEAAKABAAB4AQAAeAEAAKABAAChAQAAeAEAAKEBAAB5AQAAeQEAAKEBAACiAQAAeQEAAKIBAAB6AQAAegEAAKIBAACjAQAAegEAAKMBAAB7AQAAewEAAKMBAACkAQAAewEAAKQBAAB8AQAAfAEAAKQBAAClAQAAfAEAAKUBAAB9AQAAfQEAAKUBAACmAQAAfQEAAKYBAAB+AQAAfgEAAKYBAACnAQAAfgEAAKcBAAB/AQAAfwEAAKcBAACoAQAAfwEAAKgBAACAAQAAgAEAAKgBAACpAQAAgAEAAKkBAACBAQAAgQEAAKkBAACqAQAAgQEAAKoBAACCAQAAggEAAKoBAACrAQAAggEAAKsBAACDAQAAgwEAAKsBAACsAQAAgwEAAKwBAACEAQAAhAEAAKwBAACtAQAAhAEAAK0BAACFAQAAhQEAAK0BAACuAQAAhQEAAK4BAACGAQAAhgEAAK4BAACvAQAAhgEAAK8BAACHAQAAhwEAAK8BAACwAQAAhwEAALABAACIAQAAiAEAALABAACxAQAAiAEAALEBAACJAQAAiQEAALEBAACyAQAAiQEAALIBAACKAQAAigEAALIBAACzAQAAigEAALMBAACLAQAAiwEAALMBAAC0AQAAiwEAALQBAACMAQAAjAEAALQBAAC1AQAAjAEAALUBAACNAQAAjQEAALUBAAC2AQAAjQEAALYBAACOAQAAjgEAALYBAAC3AQAAjgEAALcBAACPAQAAkAEAALgBAAC5AQAAkAEAALkBAACRAQAAkQEAALkBAAC6AQAAkQEAALoBAACSAQAAkgEAALoBAAC7AQAAkgEAALsBAACTAQAAkwEAALsBAAC8AQAAkwEAALwBAACUAQAAlAEAALwBAAC9AQAAlAEAAL0BAACVAQAAlQEAAL0BAAC+AQAAlQEAAL4BAACWAQAAlgEAAL4BAAC/AQAAlgEAAL8BAACXAQAAlwEAAL8BAADAAQAAlwEAAMABAACYAQAAmAEAAMABAADBAQAAmAEAAMEBAACZAQAAmQEAAMEBAADCAQAAmQEAAMIBAACaAQAAmgEAAMIBAADDAQAAmgEAAMMBAACbAQAAmwEAAMMBAADEAQAAmwEAAMQBAACcAQAAnAEAAMQBAADFAQAAnAEAAMUBAACdAQAAnQEAAMUBAADGAQAAnQEAAMYBAACeAQAAngEAAMYBAADHAQAAngEAAMcBAACfAQAAnwEAAMcBAADIAQAAnwEAAMgBAACgAQAAoAEAAMgBAADJAQAAoAEAAMkBAAChAQAAoQEAAMkBAADKAQAAoQEAAMoBAACiAQAAogEAAMoBAADLAQAAogEAAMsBAACjAQAAowEAAMsBAADMAQAAowEAAMwBAACkAQAApAEAAMwBAADNAQAApAEAAM0BAAClAQAApQEAAM0BAADOAQAApQEAAM4BAACmAQAApgEAAM4BAADPAQAApgEAAM8BAACnAQAApwEAAM8BAADQAQAApwEAANABAACoAQAAqAEAANABAADRAQAAqAEAANEBAACpAQAAqQEAANEBAADSAQAAqQEAANIBAACqAQAAqgEAANIBAADTAQAAqgEAANMBAACrAQAAqwEAANMBAADUAQAAqwEAANQBAACsAQAArAEAANQBAADVAQAArAEAANUBAACtAQAArQEAANUBAADWAQAArQEAANYBAACuAQAArgEAANYBAADXAQAArgEAANcBAACvAQAArwEAANcBAADYAQAArwEAANgBAACwAQAAsAEAANgBAADZAQAAsAEAANkBAACxAQAAsQEAANkBAADaAQAAsQEAANoBAACyAQAAsgEAANoBAADbAQAAsgEAANsBAACzAQAAswEAANsBAADcAQAAswEAANwBAAC0AQAAtAEAANwBAADdAQAAtAEAAN0BAAC1AQAAtQEAAN0BAADeAQAAtQEAAN4BAAC2AQAAtgEAAN4BAADfAQAAtgEAAN8BAAC3AQAAuAEAAOABAADhAQAAuAEAAOEBAAC5AQAAuQEAAOEBAADiAQAAuQEAAOIBAAC6AQAAugEAAOIBAADjAQAAugEAAOMBAAC7AQAAuwEAAOMBAADkAQAAuwEAAOQBAAC8AQAAvAEAAOQBAADlAQAAvAEAAOUBAAC9AQAAvQEAAOUBAADmAQAAvQEAAOYBAAC+AQAAvgEAAOYBAADnAQAAvgEAAOcBAAC/AQAAvwEAAOcBAADoAQAAvwEAAOgBAADAAQAAwAEAAOgBAADpAQAAwAEAAOkBAADBAQAAwQEAAOkBAADqAQAAwQEAAOoBAADCAQAAwgEAAOoBAADrAQAAwgEAAOsBAADDAQAAwwEAAOsBAADsAQAAwwEAAOwBAADEAQAAxAEAAOwBAADtAQAAxAEAAO0BAADFAQAAxQEAAO0BAADuAQAAxQEAAO4BAADGAQAAxgEAAO4BAADvAQAAxgEAAO8BAADHAQAAxwEAAO8BAADwAQAAxwEAAPABAADIAQAAyAEAAPABAADxAQAAyAEAAPEBAADJAQAAyQEAAPEBAADyAQAAyQEAAPIBAADKAQAAygEAAPIBAADzAQAAygEAAPMBAADLAQAAywEAAPMBAAD0AQAAywEAAPQBAADMAQAAzAEAAPQBAAD1AQAAzAEAAPUBAADNAQAAzQEAAPUBAAD2AQAAzQEAAPYBAADOAQAAzgEAAPYBAAD3AQAAzgEAAPcBAADPAQAAzwEAAPcBAAD4AQAAzwEAAPgBAADQAQAA0AEAAPgBAAD5AQAA0AEAAPkBAADRAQAA0QEAAPkBAAD6AQAA0QEAAPoBAADSAQAA0gEAAPoBAAD7AQAA0gEAAPsBAADTAQAA0wEAAPsBAAD8AQAA0wEAAPwBAADUAQAA1AEAAPwBAAD9AQAA1AEAAP0BAADVAQAA1QEAAP0BAAD+AQAA1QEAAP4BAADWAQAA1gEAAP4BAAD/AQAA1gEAAP8BAADXAQAA1wEAAP8BAAAAAgAA1wEAAAACAADYAQAA2AEAAAACAAABAgAA2AEAAAECAADZAQAA2QEAAAECAAACAgAA2QEAAAICAADaAQAA2gEAAAICAAADAgAA2gEAAAMCAADbAQAA2wEAAAMCAAAEAgAA2wEAAAQCAADcAQAA3AEAAAQCAAAFAgAA3AEAAAUCAADdAQAA3QEAAAUCAAAGAgAA3QEAAAYCAADeAQAA3gEAAAYCAAAHAgAA3gEAAAcCAADfAQAA4AEAAAgCAAAJAgAA4AEAAAkCAADhAQAA4QEAAAkCAAAKAgAA4QEAAAoCAADiAQAA4gEAAAoCAAALAgAA4gEAAAsCAADjAQAA4wEAAAsCAAAMAgAA4wEAAAwCAADkAQAA5AEAAAwCAAANAgAA5AEAAA0CAADlAQAA5QEAAA0CAAAOAgAA5QEAAA4CAADmAQAA5gEAAA4CAAAPAgAA5gEAAA8CAADnAQAA5wEAAA8CAAAQAgAA5wEAABACAADoAQAA6AEAABACAAARAgAA6AEAABECAADpAQAA6QEAABECAAASAgAA6QEAABICAADqAQAA6gEAABICAAATAgAA6gEAABMCAADrAQAA6wEAABMCAAAUAgAA6wEAABQCAADsAQAA7AEAABQCAAAVAgAA7AEAABUCAADtAQAA7QEAABUCAAAWAgAA7QEAABYCAADuAQAA7gEAABYCAAAXAgAA7gEAABcCAADvAQAA7wEAABcCAAAYAgAA7wEAABgCAADwAQAA8AEAABgCAAAZAgAA8AEAABkCAADxAQAA8QEAABkCAAAaAgAA8QEAABoCAADyAQAA8gEAABoCAAAbAgAA8gEAABsCAADzAQAA8wEAABsCAAAcAgAA8wEAABwCAAD0AQAA9AEAABwCAAAdAgAA9AEAAB0CAAD1AQAA9QEAAB0CAAAeAgAA9QEAAB4CAAD2AQAA9gEAAB4CAAAfAgAA9gEAAB8CAAD3AQAA9wEAAB8CAAAgAgAA9wEAACACAAD4AQAA+AEAACACAAAhAgAA+AEAACECAAD5AQAA+QEAACECAAAiAgAA+QEAACICAAD6AQAA+gEAACICAAAjAgAA+gEAACMCAAD7AQAA+wEAACMCAAAkAgAA+wEAACQCAAD8AQAA/AEAACQCAAAlAgAA/AEAACUCAAD9AQAA/QEAACUCAAAmAgAA/QEAACYCAAD+AQAA/gEAACYCAAAnAgAA/gEAACcCAAD/AQAA/wEAACcCAAAoAgAA/wEAACgCAAAAAgAAAAIAACgCAAApAgAAAAIAACkCAAABAgAAAQIAACkCAAAqAgAAAQIAACoCAAACAgAAAgIAACoCAAArAgAAAgIAACsCAAADAgAAAwIAACsCAAAsAgAAAwIAACwCAAAEAgAABAIAACwCAAAtAgAABAIAAC0CAAAFAgAABQIAAC0CAAAuAgAABQIAAC4CAAAGAgAABgIAAC4CAAAvAgAABgIAAC8CAAAHAgAACAIAADACAAAxAgAACAIAADECAAAJAgAACQIAADECAAAyAgAACQIAADICAAAKAgAACgIAADICAAAzAgAACgIAADMCAAALAgAACwIAADMCAAA0AgAACwIAADQCAAAMAgAADAIAADQCAAA1AgAADAIAADUCAAANAgAADQIAADUCAAA2AgAADQIAADYCAAAOAgAADgIAADYCAAA3AgAADgIAADcCAAAPAgAADwIAADcCAAA4AgAADwIAADgCAAAQAgAAEAIAADgCAAA5AgAAEAIAADkCAAARAgAAEQIAADkCAAA6AgAAEQIAADoCAAASAgAAEgIAADoCAAA7AgAAEgIAADsCAAATAgAAEwIAADsCAAA8AgAAEwIAADwCAAAUAgAAFAIAADwCAAA9AgAAFAIAAD0CAAAVAgAAFQIAAD0CAAA+AgAAFQIAAD4CAAAWAgAAFgIAAD4CAAA/AgAAFgIAAD8CAAAXAgAAFwIAAD8CAABAAgAAFwIAAEACAAAYAgAAGAIAAEACAABBAgAAGAIAAEECAAAZAgAAGQIAAEECAABCAgAAGQIAAEICAAAaAgAAGgIAAEICAABDAgAAGgIAAEMCAAAbAgAAGwIAAEMCAABEAgAAGwIAAEQCAAAcAgAAHAIAAEQCAABFAgAAHAIAAEUCAAAdAgAAHQIAAEUCAABGAgAAHQIAAEYCAAAeAgAAHgIAAEYCAABHAgAAHgIAAEcCAAAfAgAAHwIAAEcCAABIAgAAHwIAAEgCAAAgAgAAIAIAAEgCAABJAgAAIAIAAEkCAAAhAgAAIQIAAEkCAABKAgAAIQIAAEoCAAAiAgAAIgIAAEoCAABLAgAAIgIAAEsCAAAjAgAAIwIAAEsCAABMAgAAIwIAAEwCAAAkAgAAJAIAAEwCAABNAgAAJAIAAE0CAAAlAgAAJQIAAE0CAABOAgAAJQIAAE4CAAAmAgAAJgIAAE4CAABPAgAAJgIAAE8CAAAnAgAAJwIAAE8CAABQAgAAJwIAAFACAAAoAgAAKAIAAFACAABRAgAAKAIAAFECAAApAgAAKQIAAFECAABSAgAAKQIAAFICAAAqAgAAKgIAAFICAABTAgAAKgIAAFMCAAArAgAAKwIAAFMCAABUAgAAKwIAAFQCAAAsAgAALAIAAFQCAABVAgAALAIAAFUCAAAtAgAALQIAAFUCAABWAgAALQIAAFYCAAAuAgAALgIAAFYCAABXAgAALgIAAFcCAAAvAgAAMAIAAFgCAABZAgAAMAIAAFkCAAAxAgAAMQIAAFkCAABaAgAAMQIAAFoCAAAyAgAAMgIAAFoCAABbAgAAMgIAAFsCAAAzAgAAMwIAAFsCAABcAgAAMwIAAFwCAAA0AgAANAIAAFwCAABdAgAANAIAAF0CAAA1AgAANQIAAF0CAABeAgAANQIAAF4CAAA2AgAANgIAAF4CAABfAgAANgIAAF8CAAA3AgAANwIAAF8CAABgAgAANwIAAGACAAA4AgAAOAIAAGACAABhAgAAOAIAAGECAAA5AgAAOQIAAGECAABiAgAAOQIAAGICAAA6AgAAOgIAAGICAABjAgAAOgIAAGMCAAA7AgAAOwIAAGMCAABkAgAAOwIAAGQCAAA8AgAAPAIAAGQCAABlAgAAPAIAAGUCAAA9AgAAPQIAAGUCAABmAgAAPQIAAGYCAAA+AgAAPgIAAGYCAABnAgAAPgIAAGcCAAA/AgAAPwIAAGcCAABoAgAAPwIAAGgCAABAAgAAQAIAAGgCAABpAgAAQAIAAGkCAABBAgAAQQIAAGkCAABqAgAAQQIAAGoCAABCAgAAQgIAAGoCAABrAgAAQgIAAGsCAABDAgAAQwIAAGsCAABsAgAAQwIAAGwCAABEAgAARAIAAGwCAABtAgAARAIAAG0CAABFAgAARQIAAG0CAABuAgAARQIAAG4CAABGAgAARgIAAG4CAABvAgAARgIAAG8CAABHAgAARwIAAG8CAABwAgAARwIAAHACAABIAgAASAIAAHACAABxAgAASAIAAHECAABJAgAASQIAAHECAAByAgAASQIAAHICAABKAgAASgIAAHICAABzAgAASgIAAHMCAABLAgAASwIAAHMCAAB0AgAASwIAAHQCAABMAgAATAIAAHQCAAB1AgAATAIAAHUCAABNAgAATQIAAHUCAAB2AgAATQIAAHYCAABOAgAATgIAAHYCAAB3AgAATgIAAHcCAABPAgAATwIAAHcCAAB4AgAATwIAAHgCAABQAgAAUAIAAHgCAAB5AgAAUAIAAHkCAABRAgAAUQIAAHkCAAB6AgAAUQIAAHoCAABSAgAAUgIAAHoCAAB7AgAAUgIAAHsCAABTAgAAUwIAAHsCAAB8AgAAUwIAAHwCAABUAgAAVAIAAHwCAAB9AgAAVAIAAH0CAABVAgAAVQIAAH0CAAB+AgAAVQIAAH4CAABWAgAAVgIAAH4CAAB/AgAAVgIAAH8CAABXAgAAWAIAAIACAACBAgAAWAIAAIECAABZAgAAWQIAAIECAACCAgAAWQIAAIICAABaAgAAWgIAAIICAACDAgAAWgIAAIMCAABbAgAAWwIAAIMCAACEAgAAWwIAAIQCAABcAgAAXAIAAIQCAACFAgAAXAIAAIUCAABdAgAAXQIAAIUCAACGAgAAXQIAAIYCAABeAgAAXgIAAIYCAACHAgAAXgIAAIcCAABfAgAAXwIAAIcCAACIAgAAXwIAAIgCAABgAgAAYAIAAIgCAACJAgAAYAIAAIkCAABhAgAAYQIAAIkCAACKAgAAYQIAAIoCAABiAgAAYgIAAIoCAACLAgAAYgIAAIsCAABjAgAAYwIAAIsCAACMAgAAYwIAAIwCAABkAgAAZAIAAIwCAACNAgAAZAIAAI0CAABlAgAAZQIAAI0CAACOAgAAZQIAAI4CAABmAgAAZgIAAI4CAACPAgAAZgIAAI8CAABnAgAAZwIAAI8CAACQAgAAZwIAAJACAABoAgAAaAIAAJACAACRAgAAaAIAAJECAABpAgAAaQIAAJECAACSAgAAaQIAAJICAABqAgAAagIAAJICAACTAgAAagIAAJMCAABrAgAAawIAAJMCAACUAgAAawIAAJQCAABsAgAAbAIAAJQCAACVAgAAbAIAAJUCAABtAgAAbQIAAJUCAACWAgAAbQIAAJYCAABuAgAAbgIAAJYCAACXAgAAbgIAAJcCAABvAgAAbwIAAJcCAACYAgAAbwIAAJgCAABwAgAAcAIAAJgCAACZAgAAcAIAAJkCAABxAgAAcQIAAJkCAACaAgAAcQIAAJoCAAByAgAAcgIAAJoCAACbAgAAcgIAAJsCAABzAgAAcwIAAJsCAACcAgAAcwIAAJwCAAB0AgAAdAIAAJwCAACdAgAAdAIAAJ0CAAB1AgAAdQIAAJ0CAACeAgAAdQIAAJ4CAAB2AgAAdgIAAJ4CAACfAgAAdgIAAJ8CAAB3AgAAdwIAAJ8CAACgAgAAdwIAAKACAAB4AgAAeAIAAKACAAChAgAAeAIAAKECAAB5AgAAeQIAAKECAACiAgAAeQIAAKICAAB6AgAAegIAAKICAACjAgAAegIAAKMCAAB7AgAAewIAAKMCAACkAgAAewIAAKQCAAB8AgAAfAIAAKQCAAClAgAAfAIAAKUCAAB9AgAAfQIAAKUCAACmAgAAfQIAAKYCAAB+AgAAfgIAAKYCAACnAgAAfgIAAKcCAAB/AgAAgAIAAKgCAACpAgAAgAIAAKkCAACBAgAAgQIAAKkCAACqAgAAgQIAAKoCAACCAgAAggIAAKoCAACrAgAAggIAAKsCAACDAgAAgwIAAKsCAACsAgAAgwIAAKwCAACEAgAAhAIAAKwCAACtAgAAhAIAAK0CAACFAgAAhQIAAK0CAACuAgAAhQIAAK4CAACGAgAAhgIAAK4CAACvAgAAhgIAAK8CAACHAgAAhwIAAK8CAACwAgAAhwIAALACAACIAgAAiAIAALACAACxAgAAiAIAALECAACJAgAAiQIAALECAACyAgAAiQIAALICAACKAgAAigIAALICAACzAgAAigIAALMCAACLAgAAiwIAALMCAAC0AgAAiwIAALQCAACMAgAAjAIAALQCAAC1AgAAjAIAALUCAACNAgAAjQIAALUCAAC2AgAAjQIAALYCAACOAgAAjgIAALYCAAC3AgAAjgIAALcCAACPAgAAjwIAALcCAAC4AgAAjwIAALgCAACQAgAAkAIAALgCAAC5AgAAkAIAALkCAACRAgAAkQIAALkCAAC6AgAAkQIAALoCAACSAgAAkgIAALoCAAC7AgAAkgIAALsCAACTAgAAkwIAALsCAAC8AgAAkwIAALwCAACUAgAAlAIAALwCAAC9AgAAlAIAAL0CAACVAgAAlQIAAL0CAAC+AgAAlQIAAL4CAACWAgAAlgIAAL4CAAC/AgAAlgIAAL8CAACXAgAAlwIAAL8CAADAAgAAlwIAAMACAACYAgAAmAIAAMACAADBAgAAmAIAAMECAACZAgAAmQIAAMECAADCAgAAmQIAAMICAACaAgAAmgIAAMICAADDAgAAmgIAAMMCAACbAgAAmwIAAMMCAADEAgAAmwIAAMQCAACcAgAAnAIAAMQCAADFAgAAnAIAAMUCAACdAgAAnQIAAMUCAADGAgAAnQIAAMYCAACeAgAAngIAAMYCAADHAgAAngIAAMcCAACfAgAAnwIAAMcCAADIAgAAnwIAAMgCAACgAgAAoAIAAMgCAADJAgAAoAIAAMkCAAChAgAAoQIAAMkCAADKAgAAoQIAAMoCAACiAgAAogIAAMoCAADLAgAAogIAAMsCAACjAgAAowIAAMsCAADMAgAAowIAAMwCAACkAgAApAIAAMwCAADNAgAApAIAAM0CAAClAgAApQIAAM0CAADOAgAApQIAAM4CAACmAgAApgIAAM4CAADPAgAApgIAAM8CAACnAgAAqAIAANACAADRAgAAqAIAANECAACpAgAAqQIAANECAADSAgAAqQIAANICAACqAgAAqgIAANICAADTAgAAqgIAANMCAACrAgAAqwIAANMCAADUAgAAqwIAANQCAACsAgAArAIAANQCAADVAgAArAIAANUCAACtAgAArQIAANUCAADWAgAArQIAANYCAACuAgAArgIAANYCAADXAgAArgIAANcCAACvAgAArwIAANcCAADYAgAArwIAANgCAACwAgAAsAIAANgCAADZAgAAsAIAANkCAACxAgAAsQIAANkCAADaAgAAsQIAANoCAACyAgAAsgIAANoCAADbAgAAsgIAANsCAACzAgAAswIAANsCAADcAgAAswIAANwCAAC0AgAAtAIAANwCAADdAgAAtAIAAN0CAAC1AgAAtQIAAN0CAADeAgAAtQIAAN4CAAC2AgAAtgIAAN4CAADfAgAAtgIAAN8CAAC3AgAAtwIAAN8CAADgAgAAtwIAAOACAAC4AgAAuAIAAOACAADhAgAAuAIAAOECAAC5AgAAuQIAAOECAADiAgAAuQIAAOICAAC6AgAAugIAAOICAADjAgAAugIAAOMCAAC7AgAAuwIAAOMCAADkAgAAuwIAAOQCAAC8AgAAvAIAAOQCAADlAgAAvAIAAOUCAAC9AgAAvQIAAOUCAADmAgAAvQIAAOYCAAC+AgAAvgIAAOYCAADnAgAAvgIAAOcCAAC/AgAAvwIAAOcCAADoAgAAvwIAAOgCAADAAgAAwAIAAOgCAADpAgAAwAIAAOkCAADBAgAAwQIAAOkCAADqAgAAwQIAAOoCAADCAgAAwgIAAOoCAADrAgAAwgIAAOsCAADDAgAAwwIAAOsCAADsAgAAwwIAAOwCAADEAgAAxAIAAOwCAADtAgAAxAIAAO0CAADFAgAAxQIAAO0CAADuAgAAxQIAAO4CAADGAgAAxgIAAO4CAADvAgAAxgIAAO8CAADHAgAAxwIAAO8CAADwAgAAxwIAAPACAADIAgAAyAIAAPACAADxAgAAyAIAAPECAADJAgAAyQIAAPECAADyAgAAyQIAAPICAADKAgAAygIAAPICAADzAgAAygIAAPMCAADLAgAAywIAAPMCAAD0AgAAywIAAPQCAADMAgAAzAIAAPQCAAD1AgAAzAIAAPUCAADNAgAAzQIAAPUCAAD2AgAAzQIAAPYCAADOAgAAzgIAAPYCAAD3AgAAzgIAAPcCAADPAgAA0AIAAPgCAAD5AgAA0AIAAPkCAADRAgAA0QIAAPkCAAD6AgAA0QIAAPoCAADSAgAA0gIAAPoCAAD7AgAA0gIAAPsCAADTAgAA0wIAAPsCAAD8AgAA0wIAAPwCAADUAgAA1AIAAPwCAAD9AgAA1AIAAP0CAADVAgAA1QIAAP0CAAD+AgAA1QIAAP4CAADWAgAA1gIAAP4CAAD/AgAA1gIAAP8CAADXAgAA1wIAAP8CAAAAAwAA1wIAAAADAADYAgAA2AIAAAADAAABAwAA2AIAAAEDAADZAgAA2QIAAAEDAAACAwAA2QIAAAIDAADaAgAA2gIAAAIDAAADAwAA2gIAAAMDAADbAgAA2wIAAAMDAAAEAwAA2wIAAAQDAADcAgAA3AIAAAQDAAAFAwAA3AIAAAUDAADdAgAA3QIAAAUDAAAGAwAA3QIAAAYDAADeAgAA3gIAAAYDAAAHAwAA3gIAAAcDAADfAgAA3wIAAAcDAAAIAwAA3wIAAAgDAADgAgAA4AIAAAgDAAAJAwAA4AIAAAkDAADhAgAA4QIAAAkDAAAKAwAA4QIAAAoDAADiAgAA4gIAAAoDAAALAwAA4gIAAAsDAADjAgAA4wIAAAsDAAAMAwAA4wIAAAwDAADkAgAA5AIAAAwDAAANAwAA5AIAAA0DAADlAgAA5QIAAA0DAAAOAwAA5QIAAA4DAADmAgAA5gIAAA4DAAAPAwAA5gIAAA8DAADnAgAA5wIAAA8DAAAQAwAA5wIAABADAADoAgAA6AIAABADAAARAwAA6AIAABEDAADpAgAA6QIAABEDAAASAwAA6QIAABIDAADqAgAA6gIAABIDAAATAwAA6gIAABMDAADrAgAA6wIAABMDAAAUAwAA6wIAABQDAADsAgAA7AIAABQDAAAVAwAA7AIAABUDAADtAgAA7QIAABUDAAAWAwAA7QIAABYDAADuAgAA7gIAABYDAAAXAwAA7gIAABcDAADvAgAA7wIAABcDAAAYAwAA7wIAABgDAADwAgAA8AIAABgDAAAZAwAA8AIAABkDAADxAgAA8QIAABkDAAAaAwAA8QIAABoDAADyAgAA8gIAABoDAAAbAwAA8gIAABsDAADzAgAA8wIAABsDAAAcAwAA8wIAABwDAAD0AgAA9AIAABwDAAAdAwAA9AIAAB0DAAD1AgAA9QIAAB0DAAAeAwAA9QIAAB4DAAD2AgAA9gIAAB4DAAAfAwAA9gIAAB8DAAD3AgAA+AIAACADAAAhAwAA+AIAACEDAAD5AgAA+QIAACEDAAAiAwAA+QIAACIDAAD6AgAA+gIAACIDAAAjAwAA+gIAACMDAAD7AgAA+wIAACMDAAAkAwAA+wIAACQDAAD8AgAA/AIAACQDAAAlAwAA/AIAACUDAAD9AgAA/QIAACUDAAAmAwAA/QIAACYDAAD+AgAA/gIAACYDAAAnAwAA/gIAACcDAAD/AgAA/wIAACcDAAAoAwAA/wIAACgDAAAAAwAAAAMAACgDAAApAwAAAAMAACkDAAABAwAAAQMAACkDAAAqAwAAAQMAACoDAAACAwAAAgMAACoDAAArAwAAAgMAACsDAAADAwAAAwMAACsDAAAsAwAAAwMAACwDAAAEAwAABAMAACwDAAAtAwAABAMAAC0DAAAFAwAABQMAAC0DAAAuAwAABQMAAC4DAAAGAwAABgMAAC4DAAAvAwAABgMAAC8DAAAHAwAABwMAAC8DAAAwAwAABwMAADADAAAIAwAACAMAADADAAAxAwAACAMAADEDAAAJAwAACQMAADEDAAAyAwAACQMAADIDAAAKAwAACgMAADIDAAAzAwAACgMAADMDAAALAwAACwMAADMDAAA0AwAACwMAADQDAAAMAwAADAMAADQDAAA1AwAADAMAADUDAAANAwAADQMAADUDAAA2AwAADQMAADYDAAAOAwAADgMAADYDAAA3AwAADgMAADcDAAAPAwAADwMAADcDAAA4AwAADwMAADgDAAAQAwAAEAMAADgDAAA5AwAAEAMAADkDAAARAwAAEQMAADkDAAA6AwAAEQMAADoDAAASAwAAEgMAADoDAAA7AwAAEgMAADsDAAATAwAAEwMAADsDAAA8AwAAEwMAADwDAAAUAwAAFAMAADwDAAA9AwAAFAMAAD0DAAAVAwAAFQMAAD0DAAA+AwAAFQMAAD4DAAAWAwAAFgMAAD4DAAA/AwAAFgMAAD8DAAAXAwAAFwMAAD8DAABAAwAAFwMAAEADAAAYAwAAGAMAAEADAABBAwAAGAMAAEEDAAAZAwAAGQMAAEEDAABCAwAAGQMAAEIDAAAaAwAAGgMAAEIDAABDAwAAGgMAAEMDAAAbAwAAGwMAAEMDAABEAwAAGwMAAEQDAAAcAwAAHAMAAEQDAABFAwAAHAMAAEUDAAAdAwAAHQMAAEUDAABGAwAAHQMAAEYDAAAeAwAAHgMAAEYDAABHAwAAHgMAAEcDAAAfAwAAIAMAAEgDAABJAwAAIAMAAEkDAAAhAwAAIQMAAEkDAABKAwAAIQMAAEoDAAAiAwAAIgMAAEoDAABLAwAAIgMAAEsDAAAjAwAAIwMAAEsDAABMAwAAIwMAAEwDAAAkAwAAJAMAAEwDAABNAwAAJAMAAE0DAAAlAwAAJQMAAE0DAABOAwAAJQMAAE4DAAAmAwAAJgMAAE4DAABPAwAAJgMAAE8DAAAnAwAAJwMAAE8DAABQAwAAJwMAAFADAAAoAwAAKAMAAFADAABRAwAAKAMAAFEDAAApAwAAKQMAAFEDAABSAwAAKQMAAFIDAAAqAwAAKgMAAFIDAABTAwAAKgMAAFMDAAArAwAAKwMAAFMDAABUAwAAKwMAAFQDAAAsAwAALAMAAFQDAABVAwAALAMAAFUDAAAtAwAALQMAAFUDAABWAwAALQMAAFYDAAAuAwAALgMAAFYDAABXAwAALgMAAFcDAAAvAwAALwMAAFcDAABYAwAALwMAAFgDAAAwAwAAMAMAAFgDAABZAwAAMAMAAFkDAAAxAwAAMQMAAFkDAABaAwAAMQMAAFoDAAAyAwAAMgMAAFoDAABbAwAAMgMAAFsDAAAzAwAAMwMAAFsDAABcAwAAMwMAAFwDAAA0AwAANAMAAFwDAABdAwAANAMAAF0DAAA1AwAANQMAAF0DAABeAwAANQMAAF4DAAA2AwAANgMAAF4DAABfAwAANgMAAF8DAAA3AwAANwMAAF8DAABgAwAANwMAAGADAAA4AwAAOAMAAGADAABhAwAAOAMAAGEDAAA5AwAAOQMAAGEDAABiAwAAOQMAAGIDAAA6AwAAOgMAAGIDAABjAwAAOgMAAGMDAAA7AwAAOwMAAGMDAABkAwAAOwMAAGQDAAA8AwAAPAMAAGQDAABlAwAAPAMAAGUDAAA9AwAAPQMAAGUDAABmAwAAPQMAAGYDAAA+AwAAPgMAAGYDAABnAwAAPgMAAGcDAAA/AwAAPwMAAGcDAABoAwAAPwMAAGgDAABAAwAAQAMAAGgDAABpAwAAQAMAAGkDAABBAwAAQQMAAGkDAABqAwAAQQMAAGoDAABCAwAAQgMAAGoDAABrAwAAQgMAAGsDAABDAwAAQwMAAGsDAABsAwAAQwMAAGwDAABEAwAARAMAAGwDAABtAwAARAMAAG0DAABFAwAARQMAAG0DAABuAwAARQMAAG4DAABGAwAARgMAAG4DAABvAwAARgMAAG8DAABHAwAASAMAAHADAABxAwAASAMAAHEDAABJAwAASQMAAHEDAAByAwAASQMAAHIDAABKAwAASgMAAHIDAABzAwAASgMAAHMDAABLAwAASwMAAHMDAAB0AwAASwMAAHQDAABMAwAATAMAAHQDAAB1AwAATAMAAHUDAABNAwAATQMAAHUDAAB2AwAATQMAAHYDAABOAwAATgMAAHYDAAB3AwAATgMAAHcDAABPAwAATwMAAHcDAAB4AwAATwMAAHgDAABQAwAAUAMAAHgDAAB5AwAAUAMAAHkDAABRAwAAUQMAAHkDAAB6AwAAUQMAAHoDAABSAwAAUgMAAHoDAAB7AwAAUgMAAHsDAABTAwAAUwMAAHsDAAB8AwAAUwMAAHwDAABUAwAAVAMAAHwDAAB9AwAAVAMAAH0DAABVAwAAVQMAAH0DAAB+AwAAVQMAAH4DAABWAwAAVgMAAH4DAAB/AwAAVgMAAH8DAABXAwAAVwMAAH8DAACAAwAAVwMAAIADAABYAwAAWAMAAIADAACBAwAAWAMAAIEDAABZAwAAWQMAAIEDAACCAwAAWQMAAIIDAABaAwAAWgMAAIIDAACDAwAAWgMAAIMDAABbAwAAWwMAAIMDAACEAwAAWwMAAIQDAABcAwAAXAMAAIQDAACFAwAAXAMAAIUDAABdAwAAXQMAAIUDAACGAwAAXQMAAIYDAABeAwAAXgMAAIYDAACHAwAAXgMAAIcDAABfAwAAXwMAAIcDAACIAwAAXwMAAIgDAABgAwAAYAMAAIgDAACJAwAAYAMAAIkDAABhAwAAYQMAAIkDAACKAwAAYQMAAIoDAABiAwAAYgMAAIoDAACLAwAAYgMAAIsDAABjAwAAYwMAAIsDAACMAwAAYwMAAIwDAABkAwAAZAMAAIwDAACNAwAAZAMAAI0DAABlAwAAZQMAAI0DAACOAwAAZQMAAI4DAABmAwAAZgMAAI4DAACPAwAAZgMAAI8DAABnAwAAZwMAAI8DAACQAwAAZwMAAJADAABoAwAAaAMAAJADAACRAwAAaAMAAJEDAABpAwAAaQMAAJEDAACSAwAAaQMAAJIDAABqAwAAagMAAJIDAACTAwAAagMAAJMDAABrAwAAawMAAJMDAACUAwAAawMAAJQDAABsAwAAbAMAAJQDAACVAwAAbAMAAJUDAABtAwAAbQMAAJUDAACWAwAAbQMAAJYDAABuAwAAbgMAAJYDAACXAwAAbgMAAJcDAABvAwAAcAMAAJgDAACZAwAAcAMAAJkDAABxAwAAcQMAAJkDAACaAwAAcQMAAJoDAAByAwAAcgMAAJoDAACbAwAAcgMAAJsDAABzAwAAcwMAAJsDAACcAwAAcwMAAJwDAAB0AwAAdAMAAJwDAACdAwAAdAMAAJ0DAAB1AwAAdQMAAJ0DAACeAwAAdQMAAJ4DAAB2AwAAdgMAAJ4DAACfAwAAdgMAAJ8DAAB3AwAAdwMAAJ8DAACgAwAAdwMAAKADAAB4AwAAeAMAAKADAAChAwAAeAMAAKEDAAB5AwAAeQMAAKEDAACiAwAAeQMAAKIDAAB6AwAAegMAAKIDAACjAwAAegMAAKMDAAB7AwAAewMAAKMDAACkAwAAewMAAKQDAAB8AwAAfAMAAKQDAAClAwAAfAMAAKUDAAB9AwAAfQMAAKUDAACmAwAAfQMAAKYDAAB+AwAAfgMAAKYDAACnAwAAfgMAAKcDAAB/AwAAfwMAAKcDAACoAwAAfwMAAKgDAACAAwAAgAMAAKgDAACpAwAAgAMAAKkDAACBAwAAgQMAAKkDAACqAwAAgQMAAKoDAACCAwAAggMAAKoDAACrAwAAggMAAKsDAACDAwAAgwMAAKsDAACsAwAAgwMAAKwDAACEAwAAhAMAAKwDAACtAwAAhAMAAK0DAACFAwAAhQMAAK0DAACuAwAAhQMAAK4DAACGAwAAhgMAAK4DAACvAwAAhgMAAK8DAACHAwAAhwMAAK8DAACwAwAAhwMAALADAACIAwAAiAMAALADAACxAwAAiAMAALEDAACJAwAAiQMAALEDAACyAwAAiQMAALIDAACKAwAAigMAALIDAACzAwAAigMAALMDAACLAwAAiwMAALMDAAC0AwAAiwMAALQDAACMAwAAjAMAALQDAAC1AwAAjAMAALUDAACNAwAAjQMAALUDAAC2AwAAjQMAALYDAACOAwAAjgMAALYDAAC3AwAAjgMAALcDAACPAwAAjwMAALcDAAC4AwAAjwMAALgDAACQAwAAkAMAALgDAAC5AwAAkAMAALkDAACRAwAAkQMAALkDAAC6AwAAkQMAALoDAACSAwAAkgMAALoDAAC7AwAAkgMAALsDAACTAwAAkwMAALsDAAC8AwAAkwMAALwDAACUAwAAlAMAALwDAAC9AwAAlAMAAL0DAACVAwAAlQMAAL0DAAC+AwAAlQMAAL4DAACWAwAAlgMAAL4DAAC/AwAAlgMAAL8DAACXAwAAmAMAAMADAADBAwAAmAMAAMEDAACZAwAAmQMAAMEDAADCAwAAmQMAAMIDAACaAwAAmgMAAMIDAADDAwAAmgMAAMMDAACbAwAAmwMAAMMDAADEAwAAmwMAAMQDAACcAwAAnAMAAMQDAADFAwAAnAMAAMUDAACdAwAAnQMAAMUDAADGAwAAnQMAAMYDAACeAwAAngMAAMYDAADHAwAAngMAAMcDAACfAwAAnwMAAMcDAADIAwAAnwMAAMgDAACgAwAAoAMAAMgDAADJAwAAoAMAAMkDAAChAwAAoQMAAMkDAADKAwAAoQMAAMoDAACiAwAAogMAAMoDAADLAwAAogMAAMsDAACjAwAAowMAAMsDAADMAwAAowMAAMwDAACkAwAApAMAAMwDAADNAwAApAMAAM0DAAClAwAApQMAAM0DAADOAwAApQMAAM4DAACmAwAApgMAAM4DAADPAwAApgMAAM8DAACnAwAApwMAAM8DAADQAwAApwMAANADAACoAwAAqAMAANADAADRAwAAqAMAANEDAACpAwAAqQMAANEDAADSAwAAqQMAANIDAACqAwAAqgMAANIDAADTAwAAqgMAANMDAACrAwAAqwMAANMDAADUAwAAqwMAANQDAACsAwAArAMAANQDAADVAwAArAMAANUDAACtAwAArQMAANUDAADWAwAArQMAANYDAACuAwAArgMAANYDAADXAwAArgMAANcDAACvAwAArwMAANcDAADYAwAArwMAANgDAACwAwAAsAMAANgDAADZAwAAsAMAANkDAACxAwAAsQMAANkDAADaAwAAsQMAANoDAACyAwAAsgMAANoDAADbAwAAsgMAANsDAACzAwAAswMAANsDAADcAwAAswMAANwDAAC0AwAAtAMAANwDAADdAwAAtAMAAN0DAAC1AwAAtQMAAN0DAADeAwAAtQMAAN4DAAC2AwAAtgMAAN4DAADfAwAAtgMAAN8DAAC3AwAAtwMAAN8DAADgAwAAtwMAAOADAAC4AwAAuAMAAOADAADhAwAAuAMAAOEDAAC5AwAAuQMAAOEDAADiAwAAuQMAAOIDAAC6AwAAugMAAOIDAADjAwAAugMAAOMDAAC7AwAAuwMAAOMDAADkAwAAuwMAAOQDAAC8AwAAvAMAAOQDAADlAwAAvAMAAOUDAAC9AwAAvQMAAOUDAADmAwAAvQMAAOYDAAC+AwAAvgMAAOYDAADnAwAAvgMAAOcDAAC/AwAAwAMAAOgDAADpAwAAwAMAAOkDAADBAwAAwQMAAOkDAADqAwAAwQMAAOoDAADCAwAAwgMAAOoDAADrAwAAwgMAAOsDAADDAwAAwwMAAOsDAADsAwAAwwMAAOwDAADEAwAAxAMAAOwDAADtAwAAxAMAAO0DAADFAwAAxQMAAO0DAADuAwAAxQMAAO4DAADGAwAAxgMAAO4DAADvAwAAxgMAAO8DAADHAwAAxwMAAO8DAADwAwAAxwMAAPADAADIAwAAyAMAAPADAADxAwAAyAMAAPEDAADJAwAAyQMAAPEDAADyAwAAyQMAAPIDAADKAwAAygMAAPIDAADzAwAAygMAAPMDAADLAwAAywMAAPMDAAD0AwAAywMAAPQDAADMAwAAzAMAAPQDAAD1AwAAzAMAAPUDAADNAwAAzQMAAPUDAAD2AwAAzQMAAPYDAADOAwAAzgMAAPYDAAD3AwAAzgMAAPcDAADPAwAAzwMAAPcDAAD4AwAAzwMAAPgDAADQAwAA0AMAAPgDAAD5AwAA0AMAAPkDAADRAwAA0QMAAPkDAAD6AwAA0QMAAPoDAADSAwAA0gMAAPoDAAD7AwAA0gMAAPsDAADTAwAA0wMAAPsDAAD8AwAA0wMAAPwDAADUAwAA1AMAAPwDAAD9AwAA1AMAAP0DAADVAwAA1QMAAP0DAAD+AwAA1QMAAP4DAADWAwAA1gMAAP4DAAD/AwAA1gMAAP8DAADXAwAA1wMAAP8DAAAABAAA1wMAAAAEAADYAwAA2AMAAAAEAAABBAAA2AMAAAEEAADZAwAA2QMAAAEEAAACBAAA2QMAAAIEAADaAwAA2gMAAAIEAAADBAAA2gMAAAMEAADbAwAA2wMAAAMEAAAEBAAA2wMAAAQEAADcAwAA3AMAAAQEAAAFBAAA3AMAAAUEAADdAwAA3QMAAAUEAAAGBAAA3QMAAAYEAADeAwAA3gMAAAYEAAAHBAAA3gMAAAcEAADfAwAA3wMAAAcEAAAIBAAA3wMAAAgEAADgAwAA4AMAAAgEAAAJBAAA4AMAAAkEAADhAwAA4QMAAAkEAAAKBAAA4QMAAAoEAADiAwAA4gMAAAoEAAALBAAA4gMAAAsEAADjAwAA4wMAAAsEAAAMBAAA4wMAAAwEAADkAwAA5AMAAAwEAAANBAAA5AMAAA0EAADlAwAA5QMAAA0EAAAOBAAA5QMAAA4EAADmAwAA5gMAAA4EAAAPBAAA5gMAAA8EAADnAwAA6AMAABAEAAARBAAA6AMAABEEAADpAwAA6QMAABEEAAASBAAA6QMAABIEAADqAwAA6gMAABIEAAATBAAA6gMAABMEAADrAwAA6wMAABMEAAAUBAAA6wMAABQEAADsAwAA7AMAABQEAAAVBAAA7AMAABUEAADtAwAA7QMAABUEAAAWBAAA7QMAABYEAADuAwAA7gMAABYEAAAXBAAA7gMAABcEAADvAwAA7wMAABcEAAAYBAAA7wMAABgEAADwAwAA8AMAABgEAAAZBAAA8AMAABkEAADxAwAA8QMAABkEAAAaBAAA8QMAABoEAADyAwAA8gMAABoEAAAbBAAA8gMAABsEAADzAwAA8wMAABsEAAAcBAAA8wMAABwEAAD0AwAA9AMAABwEAAAdBAAA9AMAAB0EAAD1AwAA9QMAAB0EAAAeBAAA9QMAAB4EAAD2AwAA9gMAAB4EAAAfBAAA9gMAAB8EAAD3AwAA9wMAAB8EAAAgBAAA9wMAACAEAAD4AwAA+AMAACAEAAAhBAAA+AMAACEEAAD5AwAA+QMAACEEAAAiBAAA+QMAACIEAAD6AwAA+gMAACIEAAAjBAAA+gMAACMEAAD7AwAA+wMAACMEAAAkBAAA+wMAACQEAAD8AwAA/AMAACQEAAAlBAAA/AMAACUEAAD9AwAA/QMAACUEAAAmBAAA/QMAACYEAAD+AwAA/gMAACYEAAAnBAAA/gMAACcEAAD/AwAA/wMAACcEAAAoBAAA/wMAACgEAAAABAAAAAQAACgEAAApBAAAAAQAACkEAAABBAAAAQQAACkEAAAqBAAAAQQAACoEAAACBAAAAgQAACoEAAArBAAAAgQAACsEAAADBAAAAwQAACsEAAAsBAAAAwQAACwEAAAEBAAABAQAACwEAAAtBAAABAQAAC0EAAAFBAAABQQAAC0EAAAuBAAABQQAAC4EAAAGBAAABgQAAC4EAAAvBAAABgQAAC8EAAAHBAAABwQAAC8EAAAwBAAABwQAADAEAAAIBAAACAQAADAEAAAxBAAACAQAADEEAAAJBAAACQQAADEEAAAyBAAACQQAADIEAAAKBAAACgQAADIEAAAzBAAACgQAADMEAAALBAAACwQAADMEAAA0BAAACwQAADQEAAAMBAAADAQAADQEAAA1BAAADAQAADUEAAANBAAADQQAADUEAAA2BAAADQQAADYEAAAOBAAADgQAADYEAAA3BAAADgQAADcEAAAPBAAAEAQAADgEAAA5BAAAEAQAADkEAAARBAAAEQQAADkEAAA6BAAAEQQAADoEAAASBAAAEgQAADoEAAA7BAAAEgQAADsEAAATBAAAEwQAADsEAAA8BAAAEwQAADwEAAAUBAAAFAQAADwEAAA9BAAAFAQAAD0EAAAVBAAAFQQAAD0EAAA+BAAAFQQAAD4EAAAWBAAAFgQAAD4EAAA/BAAAFgQAAD8EAAAXBAAAFwQAAD8EAABABAAAFwQAAEAEAAAYBAAAGAQAAEAEAABBBAAAGAQAAEEEAAAZBAAAGQQAAEEEAABCBAAAGQQAAEIEAAAaBAAAGgQAAEIEAABDBAAAGgQAAEMEAAAbBAAAGwQAAEMEAABEBAAAGwQAAEQEAAAcBAAAHAQAAEQEAABFBAAAHAQAAEUEAAAdBAAAHQQAAEUEAABGBAAAHQQAAEYEAAAeBAAAHgQAAEYEAABHBAAAHgQAAEcEAAAfBAAAHwQAAEcEAABIBAAAHwQAAEgEAAAgBAAAIAQAAEgEAABJBAAAIAQAAEkEAAAhBAAAIQQAAEkEAABKBAAAIQQAAEoEAAAiBAAAIgQAAEoEAABLBAAAIgQAAEsEAAAjBAAAIwQAAEsEAABMBAAAIwQAAEwEAAAkBAAAJAQAAEwEAABNBAAAJAQAAE0EAAAlBAAAJQQAAE0EAABOBAAAJQQAAE4EAAAmBAAAJgQAAE4EAABPBAAAJgQAAE8EAAAnBAAAJwQAAE8EAABQBAAAJwQAAFAEAAAoBAAAKAQAAFAEAABRBAAAKAQAAFEEAAApBAAAKQQAAFEEAABSBAAAKQQAAFIEAAAqBAAAKgQAAFIEAABTBAAAKgQAAFMEAAArBAAAKwQAAFMEAABUBAAAKwQAAFQEAAAsBAAALAQAAFQEAABVBAAALAQAAFUEAAAtBAAALQQAAFUEAABWBAAALQQAAFYEAAAuBAAALgQAAFYEAABXBAAALgQAAFcEAAAvBAAALwQAAFcEAABYBAAALwQAAFgEAAAwBAAAMAQAAFgEAABZBAAAMAQAAFkEAAAxBAAAMQQAAFkEAABaBAAAMQQAAFoEAAAyBAAAMgQAAFoEAABbBAAAMgQAAFsEAAAzBAAAMwQAAFsEAABcBAAAMwQAAFwEAAA0BAAANAQAAFwEAABdBAAANAQAAF0EAAA1BAAANQQAAF0EAABeBAAANQQAAF4EAAA2BAAANgQAAF4EAABfBAAANgQAAF8EAAA3BAAAOAQAAGAEAABhBAAAOAQAAGEEAAA5BAAAOQQAAGEEAABiBAAAOQQAAGIEAAA6BAAAOgQAAGIEAABjBAAAOgQAAGMEAAA7BAAAOwQAAGMEAABkBAAAOwQAAGQEAAA8BAAAPAQAAGQEAABlBAAAPAQAAGUEAAA9BAAAPQQAAGUEAABmBAAAPQQAAGYEAAA+BAAAPgQAAGYEAABnBAAAPgQAAGcEAAA/BAAAPwQAAGcEAABoBAAAPwQAAGgEAABABAAAQAQAAGgEAABpBAAAQAQAAGkEAABBBAAAQQQAAGkEAABqBAAAQQQAAGoEAABCBAAAQgQAAGoEAABrBAAAQgQAAGsEAABDBAAAQwQAAGsEAABsBAAAQwQAAGwEAABEBAAARAQAAGwEAABtBAAARAQAAG0EAABFBAAARQQAAG0EAABuBAAARQQAAG4EAABGBAAARgQAAG4EAABvBAAARgQAAG8EAABHBAAARwQAAG8EAABwBAAARwQAAHAEAABIBAAASAQAAHAEAABxBAAASAQAAHEEAABJBAAASQQAAHEEAAByBAAASQQAAHIEAABKBAAASgQAAHIEAABzBAAASgQAAHMEAABLBAAASwQAAHMEAAB0BAAASwQAAHQEAABMBAAATAQAAHQEAAB1BAAATAQAAHUEAABNBAAATQQAAHUEAAB2BAAATQQAAHYEAABOBAAATgQAAHYEAAB3BAAATgQAAHcEAABPBAAATwQAAHcEAAB4BAAATwQAAHgEAABQBAAAUAQAAHgEAAB5BAAAUAQAAHkEAABRBAAAUQQAAHkEAAB6BAAAUQQAAHoEAABSBAAAUgQAAHoEAAB7BAAAUgQAAHsEAABTBAAAUwQAAHsEAAB8BAAAUwQAAHwEAABUBAAAVAQAAHwEAAB9BAAAVAQAAH0EAABVBAAAVQQAAH0EAAB+BAAAVQQAAH4EAABWBAAAVgQAAH4EAAB/BAAAVgQAAH8EAABXBAAAVwQAAH8EAACABAAAVwQAAIAEAABYBAAAWAQAAIAEAACBBAAAWAQAAIEEAABZBAAAWQQAAIEEAACCBAAAWQQAAIIEAABaBAAAWgQAAIIEAACDBAAAWgQAAIMEAABbBAAAWwQAAIMEAACEBAAAWwQAAIQEAABcBAAAXAQAAIQEAACFBAAAXAQAAIUEAABdBAAAXQQAAIUEAACGBAAAXQQAAIYEAABeBAAAXgQAAIYEAACHBAAAXgQAAIcEAABfBAAAYAQAAIgEAACJBAAAYAQAAIkEAABhBAAAYQQAAIkEAACKBAAAYQQAAIoEAABiBAAAYgQAAIoEAACLBAAAYgQAAIsEAABjBAAAYwQAAIsEAACMBAAAYwQAAIwEAABkBAAAZAQAAIwEAACNBAAAZAQAAI0EAABlBAAAZQQAAI0EAACOBAAAZQQAAI4EAABmBAAAZgQAAI4EAACPBAAAZgQAAI8EAABnBAAAZwQAAI8EAACQBAAAZwQAAJAEAABoBAAAaAQAAJAEAACRBAAAaAQAAJEEAABpBAAAaQQAAJEEAACSBAAAaQQAAJIEAABqBAAAagQAAJIEAACTBAAAagQAAJMEAABrBAAAawQAAJMEAACUBAAAawQAAJQEAABsBAAAbAQAAJQEAACVBAAAbAQAAJUEAABtBAAAbQQAAJUEAACWBAAAbQQAAJYEAABuBAAAbgQAAJYEAACXBAAAbgQAAJcEAABvBAAAbwQAAJcEAACYBAAAbwQAAJgEAABwBAAAcAQAAJgEAACZBAAAcAQAAJkEAABxBAAAcQQAAJkEAACaBAAAcQQAAJoEAAByBAAAcgQAAJoEAACbBAAAcgQAAJsEAABzBAAAcwQAAJsEAACcBAAAcwQAAJwEAAB0BAAAdAQAAJwEAACdBAAAdAQAAJ0EAAB1BAAAdQQAAJ0EAACeBAAAdQQAAJ4EAAB2BAAAdgQAAJ4EAACfBAAAdgQAAJ8EAAB3BAAAdwQAAJ8EAACgBAAAdwQAAKAEAAB4BAAAeAQAAKAEAAChBAAAeAQAAKEEAAB5BAAAeQQAAKEEAACiBAAAeQQAAKIEAAB6BAAAegQAAKIEAACjBAAAegQAAKMEAAB7BAAAewQAAKMEAACkBAAAewQAAKQEAAB8BAAAfAQAAKQEAAClBAAAfAQAAKUEAAB9BAAAfQQAAKUEAACmBAAAfQQAAKYEAAB+BAAAfgQAAKYEAACnBAAAfgQAAKcEAAB/BAAAfwQAAKcEAACoBAAAfwQAAKgEAACABAAAgAQAAKgEAACpBAAAgAQAAKkEAACBBAAAgQQAAKkEAACqBAAAgQQAAKoEAACCBAAAggQAAKoEAACrBAAAggQAAKsEAACDBAAAgwQAAKsEAACsBAAAgwQAAKwEAACEBAAAhAQAAKwEAACtBAAAhAQAAK0EAACFBAAAhQQAAK0EAACuBAAAhQQAAK4EAACGBAAAhgQAAK4EAACvBAAAhgQAAK8EAACHBAAAiAQAALAEAACxBAAAiAQAALEEAACJBAAAiQQAALEEAACyBAAAiQQAALIEAACKBAAAigQAALIEAACzBAAAigQAALMEAACLBAAAiwQAALMEAAC0BAAAiwQAALQEAACMBAAAjAQAALQEAAC1BAAAjAQAALUEAACNBAAAjQQAALUEAAC2BAAAjQQAALYEAACOBAAAjgQAALYEAAC3BAAAjgQAALcEAACPBAAAjwQAALcEAAC4BAAAjwQAALgEAACQBAAAkAQAALgEAAC5BAAAkAQAALkEAACRBAAAkQQAALkEAAC6BAAAkQQAALoEAACSBAAAkgQAALoEAAC7BAAAkgQAALsEAACTBAAAkwQAALsEAAC8BAAAkwQAALwEAACUBAAAlAQAALwEAAC9BAAAlAQAAL0EAACVBAAAlQQAAL0EAAC+BAAAlQQAAL4EAACWBAAAlgQAAL4EAAC/BAAAlgQAAL8EAACXBAAAlwQAAL8EAADABAAAlwQAAMAEAACYBAAAmAQAAMAEAADBBAAAmAQAAMEEAACZBAAAmQQAAMEEAADCBAAAmQQAAMIEAACaBAAAmgQAAMIEAADDBAAAmgQAAMMEAACbBAAAmwQAAMMEAADEBAAAmwQAAMQEAACcBAAAnAQAAMQEAADFBAAAnAQAAMUEAACdBAAAnQQAAMUEAADGBAAAnQQAAMYEAACeBAAAngQAAMYEAADHBAAAngQAAMcEAACfBAAAnwQAAMcEAADIBAAAnwQAAMgEAACgBAAAoAQAAMgEAADJBAAAoAQAAMkEAAChBAAAoQQAAMkEAADKBAAAoQQAAMoEAACiBAAAogQAAMoEAADLBAAAogQAAMsEAACjBAAAowQAAMsEAADMBAAAowQAAMwEAACkBAAApAQAAMwEAADNBAAApAQAAM0EAAClBAAApQQAAM0EAADOBAAApQQAAM4EAACmBAAApgQAAM4EAADPBAAApgQAAM8EAACnBAAApwQAAM8EAADQBAAApwQAANAEAACoBAAAqAQAANAEAADRBAAAqAQAANEEAACpBAAAqQQAANEEAADSBAAAqQQAANIEAACqBAAAqgQAANIEAADTBAAAqgQAANMEAACrBAAAqwQAANMEAADUBAAAqwQAANQEAACsBAAArAQAANQEAADVBAAArAQAANUEAACtBAAArQQAANUEAADWBAAArQQAANYEAACuBAAArgQAANYEAADXBAAArgQAANcEAACvBAAAsAQAANgEAADZBAAAsAQAANkEAACxBAAAsQQAANkEAADaBAAAsQQAANoEAACyBAAAsgQAANoEAADbBAAAsgQAANsEAACzBAAAswQAANsEAADcBAAAswQAANwEAAC0BAAAtAQAANwEAADdBAAAtAQAAN0EAAC1BAAAtQQAAN0EAADeBAAAtQQAAN4EAAC2BAAAtgQAAN4EAADfBAAAtgQAAN8EAAC3BAAAtwQAAN8EAADgBAAAtwQAAOAEAAC4BAAAuAQAAOAEAADhBAAAuAQAAOEEAAC5BAAAuQQAAOEEAADiBAAAuQQAAOIEAAC6BAAAugQAAOIEAADjBAAAugQAAOMEAAC7BAAAuwQAAOMEAADkBAAAuwQAAOQEAAC8BAAAvAQAAOQEAADlBAAAvAQAAOUEAAC9BAAAvQQAAOUEAADmBAAAvQQAAOYEAAC+BAAAvgQAAOYEAADnBAAAvgQAAOcEAAC/BAAAvwQAAOcEAADoBAAAvwQAAOgEAADABAAAwAQAAOgEAADpBAAAwAQAAOkEAADBBAAAwQQAAOkEAADqBAAAwQQAAOoEAADCBAAAwgQAAOoEAADrBAAAwgQAAOsEAADDBAAAwwQAAOsEAADsBAAAwwQAAOwEAADEBAAAxAQAAOwEAADtBAAAxAQAAO0EAADFBAAAxQQAAO0EAADuBAAAxQQAAO4EAADGBAAAxgQAAO4EAADvBAAAxgQAAO8EAADHBAAAxwQAAO8EAADwBAAAxwQAAPAEAADIBAAAyAQAAPAEAADxBAAAyAQAAPEEAADJBAAAyQQAAPEEAADyBAAAyQQAAPIEAADKBAAAygQAAPIEAADzBAAAygQAAPMEAADLBAAAywQAAPMEAAD0BAAAywQAAPQEAADMBAAAzAQAAPQEAAD1BAAAzAQAAPUEAADNBAAAzQQAAPUEAAD2BAAAzQQAAPYEAADOBAAAzgQAAPYEAAD3BAAAzgQAAPcEAADPBAAAzwQAAPcEAAD4BAAAzwQAAPgEAADQBAAA0AQAAPgEAAD5BAAA0AQAAPkEAADRBAAA0QQAAPkEAAD6BAAA0QQAAPoEAADSBAAA0gQAAPoEAAD7BAAA0gQAAPsEAADTBAAA0wQAAPsEAAD8BAAA0wQAAPwEAADUBAAA1AQAAPwEAAD9BAAA1AQAAP0EAADVBAAA1QQAAP0EAAD+BAAA1QQAAP4EAADWBAAA1gQAAP4EAAD/BAAA1gQAAP8EAADXBAAA2AQAAAAFAAABBQAA2AQAAAEFAADZBAAA2QQAAAEFAAACBQAA2QQAAAIFAADaBAAA2gQAAAIFAAADBQAA2gQAAAMFAADbBAAA2wQAAAMFAAAEBQAA2wQAAAQFAADcBAAA3AQAAAQFAAAFBQAA3AQAAAUFAADdBAAA3QQAAAUFAAAGBQAA3QQAAAYFAADeBAAA3gQAAAYFAAAHBQAA3gQAAAcFAADfBAAA3wQAAAcFAAAIBQAA3wQAAAgFAADgBAAA4AQAAAgFAAAJBQAA4AQAAAkFAADhBAAA4QQAAAkFAAAKBQAA4QQAAAoFAADiBAAA4gQAAAoFAAALBQAA4gQAAAsFAADjBAAA4wQAAAsFAAAMBQAA4wQAAAwFAADkBAAA5AQAAAwFAAANBQAA5AQAAA0FAADlBAAA5QQAAA0FAAAOBQAA5QQAAA4FAADmBAAA5gQAAA4FAAAPBQAA5gQAAA8FAADnBAAA5wQAAA8FAAAQBQAA5wQAABAFAADoBAAA6AQAABAFAAARBQAA6AQAABEFAADpBAAA6QQAABEFAAASBQAA6QQAABIFAADqBAAA6gQAABIFAAATBQAA6gQAABMFAADrBAAA6wQAABMFAAAUBQAA6wQAABQFAADsBAAA7AQAABQFAAAVBQAA7AQAABUFAADtBAAA7QQAABUFAAAWBQAA7QQAABYFAADuBAAA7gQAABYFAAAXBQAA7gQAABcFAADvBAAA7wQAABcFAAAYBQAA7wQAABgFAADwBAAA8AQAABgFAAAZBQAA8AQAABkFAADxBAAA8QQAABkFAAAaBQAA8QQAABoFAADyBAAA8gQAABoFAAAbBQAA8gQAABsFAADzBAAA8wQAABsFAAAcBQAA8wQAABwFAAD0BAAA9AQAABwFAAAdBQAA9AQAAB0FAAD1BAAA9QQAAB0FAAAeBQAA9QQAAB4FAAD2BAAA9gQAAB4FAAAfBQAA9gQAAB8FAAD3BAAA9wQAAB8FAAAgBQAA9wQAACAFAAD4BAAA+AQAACAFAAAhBQAA+AQAACEFAAD5BAAA+QQAACEFAAAiBQAA+QQAACIFAAD6BAAA+gQAACIFAAAjBQAA+gQAACMFAAD7BAAA+wQAACMFAAAkBQAA+wQAACQFAAD8BAAA/AQAACQFAAAlBQAA/AQAACUFAAD9BAAA/QQAACUFAAAmBQAA/QQAACYFAAD+BAAA/gQAACYFAAAnBQAA/gQAACcFAAD/BAAAAAUAACgFAAApBQAAAAUAACkFAAABBQAAAQUAACkFAAAqBQAAAQUAACoFAAACBQAAAgUAACoFAAArBQAAAgUAACsFAAADBQAAAwUAACsFAAAsBQAAAwUAACwFAAAEBQAABAUAACwFAAAtBQAABAUAAC0FAAAFBQAABQUAAC0FAAAuBQAABQUAAC4FAAAGBQAABgUAAC4FAAAvBQAABgUAAC8FAAAHBQAABwUAAC8FAAAwBQAABwUAADAFAAAIBQAACAUAADAFAAAxBQAACAUAADEFAAAJBQAACQUAADEFAAAyBQAACQUAADIFAAAKBQAACgUAADIFAAAzBQAACgUAADMFAAALBQAACwUAADMFAAA0BQAACwUAADQFAAAMBQAADAUAADQFAAA1BQAADAUAADUFAAANBQAADQUAADUFAAA2BQAADQUAADYFAAAOBQAADgUAADYFAAA3BQAADgUAADcFAAAPBQAADwUAADcFAAA4BQAADwUAADgFAAAQBQAAEAUAADgFAAA5BQAAEAUAADkFAAARBQAAEQUAADkFAAA6BQAAEQUAADoFAAASBQAAEgUAADoFAAA7BQAAEgUAADsFAAATBQAAEwUAADsFAAA8BQAAEwUAADwFAAAUBQAAFAUAADwFAAA9BQAAFAUAAD0FAAAVBQAAFQUAAD0FAAA+BQAAFQUAAD4FAAAWBQAAFgUAAD4FAAA/BQAAFgUAAD8FAAAXBQAAFwUAAD8FAABABQAAFwUAAEAFAAAYBQAAGAUAAEAFAABBBQAAGAUAAEEFAAAZBQAAGQUAAEEFAABCBQAAGQUAAEIFAAAaBQAAGgUAAEIFAABDBQAAGgUAAEMFAAAbBQAAGwUAAEMFAABEBQAAGwUAAEQFAAAcBQAAHAUAAEQFAABFBQAAHAUAAEUFAAAdBQAAHQUAAEUFAABGBQAAHQUAAEYFAAAeBQAAHgUAAEYFAABHBQAAHgUAAEcFAAAfBQAAHwUAAEcFAABIBQAAHwUAAEgFAAAgBQAAIAUAAEgFAABJBQAAIAUAAEkFAAAhBQAAIQUAAEkFAABKBQAAIQUAAEoFAAAiBQAAIgUAAEoFAABLBQAAIgUAAEsFAAAjBQAAIwUAAEsFAABMBQAAIwUAAEwFAAAkBQAAJAUAAEwFAABNBQAAJAUAAE0FAAAlBQAAJQUAAE0FAABOBQAAJQUAAE4FAAAmBQAAJgUAAE4FAABPBQAAJgUAAE8FAAAnBQAAKAUAAFAFAABRBQAAKAUAAFEFAAApBQAAKQUAAFEFAABSBQAAKQUAAFIFAAAqBQAAKgUAAFIFAABTBQAAKgUAAFMFAAArBQAAKwUAAFMFAABUBQAAKwUAAFQFAAAsBQAALAUAAFQFAABVBQAALAUAAFUFAAAtBQAALQUAAFUFAABWBQAALQUAAFYFAAAuBQAALgUAAFYFAABXBQAALgUAAFcFAAAvBQAALwUAAFcFAABYBQAALwUAAFgFAAAwBQAAMAUAAFgFAABZBQAAMAUAAFkFAAAxBQAAMQUAAFkFAABaBQAAMQUAAFoFAAAyBQAAMgUAAFoFAABbBQAAMgUAAFsFAAAzBQAAMwUAAFsFAABcBQAAMwUAAFwFAAA0BQAANAUAAFwFAABdBQAANAUAAF0FAAA1BQAANQUAAF0FAABeBQAANQUAAF4FAAA2BQAANgUAAF4FAABfBQAANgUAAF8FAAA3BQAANwUAAF8FAABgBQAANwUAAGAFAAA4BQAAOAUAAGAFAABhBQAAOAUAAGEFAAA5BQAAOQUAAGEFAABiBQAAOQUAAGIFAAA6BQAAOgUAAGIFAABjBQAAOgUAAGMFAAA7BQAAOwUAAGMFAABkBQAAOwUAAGQFAAA8BQAAPAUAAGQFAABlBQAAPAUAAGUFAAA9BQAAPQUAAGUFAABmBQAAPQUAAGYFAAA+BQAAPgUAAGYFAABnBQAAPgUAAGcFAAA/BQAAPwUAAGcFAABoBQAAPwUAAGgFAABABQAAQAUAAGgFAABpBQAAQAUAAGkFAABBBQAAQQUAAGkFAABqBQAAQQUAAGoFAABCBQAAQgUAAGoFAABrBQAAQgUAAGsFAABDBQAAQwUAAGsFAABsBQAAQwUAAGwFAABEBQAARAUAAGwFAABtBQAARAUAAG0FAABFBQAARQUAAG0FAABuBQAARQUAAG4FAABGBQAARgUAAG4FAABvBQAARgUAAG8FAABHBQAARwUAAG8FAABwBQAARwUAAHAFAABIBQAASAUAAHAFAABxBQAASAUAAHEFAABJBQAASQUAAHEFAAByBQAASQUAAHIFAABKBQAASgUAAHIFAABzBQAASgUAAHMFAABLBQAASwUAAHMFAAB0BQAASwUAAHQFAABMBQAATAUAAHQFAAB1BQAATAUAAHUFAABNBQAATQUAAHUFAAB2BQAATQUAAHYFAABOBQAATgUAAHYFAAB3BQAATgUAAHcFAABPBQAAUAUAAHgFAAB5BQAAUAUAAHkFAABRBQAAUQUAAHkFAAB6BQAAUQUAAHoFAABSBQAAUgUAAHoFAAB7BQAAUgUAAHsFAABTBQAAUwUAAHsFAAB8BQAAUwUAAHwFAABUBQAAVAUAAHwFAAB9BQAAVAUAAH0FAABVBQAAVQUAAH0FAAB+BQAAVQUAAH4FAABWBQAAVgUAAH4FAAB/BQAAVgUAAH8FAABXBQAAVwUAAH8FAACABQAAVwUAAIAFAABYBQAAWAUAAIAFAACBBQAAWAUAAIEFAABZBQAAWQUAAIEFAACCBQAAWQUAAIIFAABaBQAAWgUAAIIFAACDBQAAWgUAAIMFAABbBQAAWwUAAIMFAACEBQAAWwUAAIQFAABcBQAAXAUAAIQFAACFBQAAXAUAAIUFAABdBQAAXQUAAIUFAACGBQAAXQUAAIYFAABeBQAAXgUAAIYFAACHBQAAXgUAAIcFAABfBQAAXwUAAIcFAACIBQAAXwUAAIgFAABgBQAAYAUAAIgFAACJBQAAYAUAAIkFAABhBQAAYQUAAIkFAACKBQAAYQUAAIoFAABiBQAAYgUAAIoFAACLBQAAYgUAAIsFAABjBQAAYwUAAIsFAACMBQAAYwUAAIwFAABkBQAAZAUAAIwFAACNBQAAZAUAAI0FAABlBQAAZQUAAI0FAACOBQAAZQUAAI4FAABmBQAAZgUAAI4FAACPBQAAZgUAAI8FAABnBQAAZwUAAI8FAACQBQAAZwUAAJAFAABoBQAAaAUAAJAFAACRBQAAaAUAAJEFAABpBQAAaQUAAJEFAACSBQAAaQUAAJIFAABqBQAAagUAAJIFAACTBQAAagUAAJMFAABrBQAAawUAAJMFAACUBQAAawUAAJQFAABsBQAAbAUAAJQFAACVBQAAbAUAAJUFAABtBQAAbQUAAJUFAACWBQAAbQUAAJYFAABuBQAAbgUAAJYFAACXBQAAbgUAAJcFAABvBQAAbwUAAJcFAACYBQAAbwUAAJgFAABwBQAAcAUAAJgFAACZBQAAcAUAAJkFAABxBQAAcQUAAJkFAACaBQAAcQUAAJoFAAByBQAAcgUAAJoFAACbBQAAcgUAAJsFAABzBQAAcwUAAJsFAACcBQAAcwUAAJwFAAB0BQAAdAUAAJwFAACdBQAAdAUAAJ0FAAB1BQAAdQUAAJ0FAACeBQAAdQUAAJ4FAAB2BQAAdgUAAJ4FAACfBQAAdgUAAJ8FAAB3BQAAeAUAAKAFAAChBQAAeAUAAKEFAAB5BQAAeQUAAKEFAACiBQAAeQUAAKIFAAB6BQAAegUAAKIFAACjBQAAegUAAKMFAAB7BQAAewUAAKMFAACkBQAAewUAAKQFAAB8BQAAfAUAAKQFAAClBQAAfAUAAKUFAAB9BQAAfQUAAKUFAACmBQAAfQUAAKYFAAB+BQAAfgUAAKYFAACnBQAAfgUAAKcFAAB/BQAAfwUAAKcFAACoBQAAfwUAAKgFAACABQAAgAUAAKgFAACpBQAAgAUAAKkFAACBBQAAgQUAAKkFAACqBQAAgQUAAKoFAACCBQAAggUAAKoFAACrBQAAggUAAKsFAACDBQAAgwUAAKsFAACsBQAAgwUAAKwFAACEBQAAhAUAAKwFAACtBQAAhAUAAK0FAACFBQAAhQUAAK0FAACuBQAAhQUAAK4FAACGBQAAhgUAAK4FAACvBQAAhgUAAK8FAACHBQAAhwUAAK8FAACwBQAAhwUAALAFAACIBQAAiAUAALAFAACxBQAAiAUAALEFAACJBQAAiQUAALEFAACyBQAAiQUAALIFAACKBQAAigUAALIFAACzBQAAigUAALMFAACLBQAAiwUAALMFAAC0BQAAiwUAALQFAACMBQAAjAUAALQFAAC1BQAAjAUAALUFAACNBQAAjQUAALUFAAC2BQAAjQUAALYFAACOBQAAjgUAALYFAAC3BQAAjgUAALcFAACPBQAAjwUAALcFAAC4BQAAjwUAALgFAACQBQAAkAUAALgFAAC5BQAAkAUAALkFAACRBQAAkQUAALkFAAC6BQAAkQUAALoFAACSBQAAkgUAALoFAAC7BQAAkgUAALsFAACTBQAAkwUAALsFAAC8BQAAkwUAALwFAACUBQAAlAUAALwFAAC9BQAAlAUAAL0FAACVBQAAlQUAAL0FAAC+BQAAlQUAAL4FAACWBQAAlgUAAL4FAAC/BQAAlgUAAL8FAACXBQAAlwUAAL8FAADABQAAlwUAAMAFAACYBQAAmAUAAMAFAADBBQAAmAUAAMEFAACZBQAAmQUAAMEFAADCBQAAmQUAAMIFAACaBQAAmgUAAMIFAADDBQAAmgUAAMMFAACbBQAAmwUAAMMFAADEBQAAmwUAAMQFAACcBQAAnAUAAMQFAADFBQAAnAUAAMUFAACdBQAAnQUAAMUFAADGBQAAnQUAAMYFAACeBQAAngUAAMYFAADHBQAAngUAAMcFAACfBQAAoAUAAMgFAADJBQAAoAUAAMkFAAChBQAAoQUAAMkFAADKBQAAoQUAAMoFAACiBQAAogUAAMoFAADLBQAAogUAAMsFAACjBQAAowUAAMsFAADMBQAAowUAAMwFAACkBQAApAUAAMwFAADNBQAApAUAAM0FAAClBQAApQUAAM0FAADOBQAApQUAAM4FAACmBQAApgUAAM4FAADPBQAApgUAAM8FAACnBQAApwUAAM8FAADQBQAApwUAANAFAACoBQAAqAUAANAFAADRBQAAqAUAANEFAACpBQAAqQUAANEFAADSBQAAqQUAANIFAACqBQAAqgUAANIFAADTBQAAqgUAANMFAACrBQAAqwUAANMFAADUBQAAqwUAANQFAACsBQAArAUAANQFAADVBQAArAUAANUFAACtBQAArQUAANUFAADWBQAArQUAANYFAACuBQAArgUAANYFAADXBQAArgUAANcFAACvBQAArwUAANcFAADYBQAArwUAANgFAACwBQAAsAUAANgFAADZBQAAsAUAANkFAACxBQAAsQUAANkFAADaBQAAsQUAANoFAACyBQAAsgUAANoFAADbBQAAsgUAANsFAACzBQAAswUAANsFAADcBQAAswUAANwFAAC0BQAAtAUAANwFAADdBQAAtAUAAN0FAAC1BQAAtQUAAN0FAADeBQAAtQUAAN4FAAC2BQAAtgUAAN4FAADfBQAAtgUAAN8FAAC3BQAAtwUAAN8FAADgBQAAtwUAAOAFAAC4BQAAuAUAAOAFAADhBQAAuAUAAOEFAAC5BQAAuQUAAOEFAADiBQAAuQUAAOIFAAC6BQAAugUAAOIFAADjBQAAugUAAOMFAAC7BQAAuwUAAOMFAADkBQAAuwUAAOQFAAC8BQAAvAUAAOQFAADlBQAAvAUAAOUFAAC9BQAAvQUAAOUFAADmBQAAvQUAAOYFAAC+BQAAvgUAAOYFAADnBQAAvgUAAOcFAAC/BQAAvwUAAOcFAADoBQAAvwUAAOgFAADABQAAwAUAAOgFAADpBQAAwAUAAOkFAADBBQAAwQUAAOkFAADqBQAAwQUAAOoFAADCBQAAwgUAAOoFAADrBQAAwgUAAOsFAADDBQAAwwUAAOsFAADsBQAAwwUAAOwFAADEBQAAxAUAAOwFAADtBQAAxAUAAO0FAADFBQAAxQUAAO0FAADuBQAAxQUAAO4FAADGBQAAxgUAAO4FAADvBQAAxgUAAO8FAADHBQAAyAUAAPAFAADxBQAAyAUAAPEFAADJBQAAyQUAAPEFAADyBQAAyQUAAPIFAADKBQAAygUAAPIFAADzBQAAygUAAPMFAADLBQAAywUAAPMFAAD0BQAAywUAAPQFAADMBQAAzAUAAPQFAAD1BQAAzAUAAPUFAADNBQAAzQUAAPUFAAD2BQAAzQUAAPYFAADOBQAAzgUAAPYFAAD3BQAAzgUAAPcFAADPBQAAzwUAAPcFAAD4BQAAzwUAAPgFAADQBQAA0AUAAPgFAAD5BQAA0AUAAPkFAADRBQAA0QUAAPkFAAD6BQAA0QUAAPoFAADSBQAA0gUAAPoFAAD7BQAA0gUAAPsFAADTBQAA0wUAAPsFAAD8BQAA0wUAAPwFAADUBQAA1AUAAPwFAAD9BQAA1AUAAP0FAADVBQAA1QUAAP0FAAD+BQAA1QUAAP4FAADWBQAA1gUAAP4FAAD/BQAA1gUAAP8FAADXBQAA1wUAAP8FAAAABgAA1wUAAAAGAADYBQAA2AUAAAAGAAABBgAA2AUAAAEGAADZBQAA2QUAAAEGAAACBgAA2QUAAAIGAADaBQAA2gUAAAIGAAADBgAA2gUAAAMGAADbBQAA2wUAAAMGAAAEBgAA2wUAAAQGAADcBQAA3AUAAAQGAAAFBgAA3AUAAAUGAADdBQAA3QUAAAUGAAAGBgAA3QUAAAYGAADeBQAA3gUAAAYGAAAHBgAA3gUAAAcGAADfBQAA3wUAAAcGAAAIBgAA3wUAAAgGAADgBQAA4AUAAAgGAAAJBgAA4AUAAAkGAADhBQAA4QUAAAkGAAAKBgAA4QUAAAoGAADiBQAA4gUAAAoGAAALBgAA4gUAAAsGAADjBQAA4wUAAAsGAAAMBgAA4wUAAAwGAADkBQAA5AUAAAwGAAANBgAA5AUAAA0GAADlBQAA5QUAAA0GAAAOBgAA5QUAAA4GAADmBQAA5gUAAA4GAAAPBgAA5gUAAA8GAADnBQAA5wUAAA8GAAAQBgAA5wUAABAGAADoBQAA6AUAABAGAAARBgAA6AUAABEGAADpBQAA6QUAABEGAAASBgAA6QUAABIGAADqBQAA6gUAABIGAAATBgAA6gUAABMGAADrBQAA6wUAABMGAAAUBgAA6wUAABQGAADsBQAA7AUAABQGAAAVBgAA7AUAABUGAADtBQAA7QUAABUGAAAWBgAA7QUAABYGAADuBQAA7gUAABYGAAAXBgAA7gUAABcGAADvBQAA8AUAABgGAAAZBgAA8AUAABkGAADxBQAA8QUAABkGAAAaBgAA8QUAABoGAADyBQAA8gUAABoGAAAbBgAA8gUAABsGAADzBQAA8wUAABsGAAAcBgAA8wUAABwGAAD0BQAA9AUAABwGAAAdBgAA9AUAAB0GAAD1BQAA9QUAAB0GAAAeBgAA9QUAAB4GAAD2BQAA9gUAAB4GAAAfBgAA9gUAAB8GAAD3BQAA9wUAAB8GAAAgBgAA9wUAACAGAAD4BQAA+AUAACAGAAAhBgAA+AUAACEGAAD5BQAA+QUAACEGAAAiBgAA+QUAACIGAAD6BQAA+gUAACIGAAAjBgAA+gUAACMGAAD7BQAA+wUAACMGAAAkBgAA+wUAACQGAAD8BQAA/AUAACQGAAAlBgAA/AUAACUGAAD9BQAA/QUAACUGAAAmBgAA/QUAACYGAAD+BQAA/gUAACYGAAAnBgAA/gUAACcGAAD/BQAA/wUAACcGAAAoBgAA/wUAACgGAAAABgAAAAYAACgGAAApBgAAAAYAACkGAAABBgAAAQYAACkGAAAqBgAAAQYAACoGAAACBgAAAgYAACoGAAArBgAAAgYAACsGAAADBgAAAwYAACsGAAAsBgAAAwYAACwGAAAEBgAABAYAACwGAAAtBgAABAYAAC0GAAAFBgAABQYAAC0GAAAuBgAABQYAAC4GAAAGBgAABgYAAC4GAAAvBgAABgYAAC8GAAAHBgAABwYAAC8GAAAwBgAABwYAADAGAAAIBgAACAYAADAGAAAxBgAACAYAADEGAAAJBgAACQYAADEGAAAyBgAACQYAADIGAAAKBgAACgYAADIGAAAzBgAACgYAADMGAAALBgAACwYAADMGAAA0BgAACwYAADQGAAAMBgAADAYAADQGAAA1BgAADAYAADUGAAANBgAADQYAADUGAAA2BgAADQYAADYGAAAOBgAADgYAADYGAAA3BgAADgYAADcGAAAPBgAADwYAADcGAAA4BgAADwYAADgGAAAQBgAAEAYAADgGAAA5BgAAEAYAADkGAAARBgAAEQYAADkGAAA6BgAAEQYAADoGAAASBgAAEgYAADoGAAA7BgAAEgYAADsGAAATBgAAEwYAADsGAAA8BgAAEwYAADwGAAAUBgAAFAYAADwGAAA9BgAAFAYAAD0GAAAVBgAAFQYAAD0GAAA+BgAAFQYAAD4GAAAWBgAAFgYAAD4GAAA/BgAAFgYAAD8GAAAXBgAA",
        "encoding": "base64",
        "path": [
         "triangles",
         0,
         "data"
        ]
       },
       {
        "data": "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",
        "encoding": "base64",
        "path": [
         "x",
         0,
         "data"
        ]
       },
       {
        "data": "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",
        "encoding": "base64",
        "path": [
         "y",
         0,
         "data"
        ]
       },
       {
        "data": "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",
        "encoding": "base64",
        "path": [
         "z",
         0,
         "data"
        ]
       }
      ],
      "model_module": "ipyvolume",
      "model_module_version": "^0.5.0-beta.1",
      "model_name": "MeshModel",
      "state": {
       "color": [
        {
         "data": {},
         "dtype": "float32",
         "shape": [
          1600,
          4
         ]
        }
       ],
       "line_material": "IPY_MODEL_ccc1437f329b430090e2557f93147758",
       "lines": null,
       "material": "IPY_MODEL_2725f0f816ad41568dea60d0d4a781e4",
       "texture": null,
       "triangles": [
        {
         "data": {},
         "dtype": "uint32",
         "shape": [
          3042,
          3
         ]
        }
       ],
       "u": null,
       "v": null,
       "x": [
        {
         "data": {},
         "dtype": "float32",
         "shape": [
          1600
         ]
        }
       ],
       "y": [
        {
         "data": {},
         "dtype": "float32",
         "shape": [
          1600
         ]
        }
       ],
       "z": [
        {
         "data": {},
         "dtype": "float32",
         "shape": [
          1600
         ]
        }
       ]
      }
     },
     "8bb5ef09085d4603916fd51b2f00220c": {
      "buffers": [
       {
        "data": "AAAAAAEAAAACAAAAAAAAAAEAAAADAAAAAAAAAAIAAAADAAAAAQAAAAMAAAACAAAA",
        "encoding": "base64",
        "path": [
         "triangles",
         0,
         "data"
        ]
       },
       {
        "data": "AACAPwAAgL8AAAAAAAAAAA==",
        "encoding": "base64",
        "path": [
         "x",
         0,
         "data"
        ]
       },
       {
        "data": "AAAAAAAAAAAAAIA/AACAvw==",
        "encoding": "base64",
        "path": [
         "y",
         0,
         "data"
        ]
       },
       {
        "data": "8wQ1v/MENb/zBDU/8wQ1Pw==",
        "encoding": "base64",
        "path": [
         "z",
         0,
         "data"
        ]
       }
      ],
      "model_module": "ipyvolume",
      "model_module_version": "^0.5.0-beta.1",
      "model_name": "MeshModel",
      "state": {
       "color": "orange",
       "line_material": "IPY_MODEL_35930c939d2f47829c2d520ff4de89cc",
       "lines": null,
       "material": "IPY_MODEL_4180182ec8594bfd9f18b4526150bf4c",
       "texture": null,
       "triangles": [
        {
         "data": {},
         "dtype": "uint32",
         "shape": [
          4,
          3
         ]
        }
       ],
       "u": null,
       "v": null,
       "x": [
        {
         "data": {},
         "dtype": "float32",
         "shape": [
          4
         ]
        }
       ],
       "y": [
        {
         "data": {},
         "dtype": "float32",
         "shape": [
          4
         ]
        }
       ],
       "z": [
        {
         "data": {},
         "dtype": "float32",
         "shape": [
          4
         ]
        }
       ]
      }
     },
     "8e517300152343fcb14574919f7662b4": {
      "model_module": "@jupyter-widgets/base",
      "model_module_version": "1.1.0",
      "model_name": "LayoutModel",
      "state": {}
     },
     "94f769f644fe492a86c4996311196cb6": {
      "model_module": "jupyter-threejs",
      "model_module_version": "~1.0.0",
      "model_name": "ShaderMaterialModel",
      "state": {
       "_model_module_version": "~1.0.0",
       "_view_module": null,
       "_view_module_version": ""
      }
     },
     "97a9448444fa4bea9d25809a0c8d7182": {
      "buffers": [
       {
        "data": "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",
        "encoding": "base64",
        "path": [
         "triangles",
         0,
         "data"
        ]
       },
       {
        "data": "+/////z////9/////v////////8AAAAAAQAAAAIAAAADAAAABAAAAPv////8/////f////7/////////AAAAAAEAAAACAAAAAwAAAAQAAAD7/////P////3////+/////////wAAAAABAAAAAgAAAAMAAAAEAAAA+/////z////9/////v////////8AAAAAAQAAAAIAAAADAAAABAAAAPv////8/////f////7/////////AAAAAAEAAAACAAAAAwAAAAQAAAD7/////P////3////+/////////wAAAAABAAAAAgAAAAMAAAAEAAAA+/////z////9/////v////////8AAAAAAQAAAAIAAAADAAAABAAAAPv////8/////f////7/////////AAAAAAEAAAACAAAAAwAAAAQAAAD7/////P////3////+/////////wAAAAABAAAAAgAAAAMAAAAEAAAA+/////z////9/////v////////8AAAAAAQAAAAIAAAADAAAABAAAAA==",
        "encoding": "base64",
        "path": [
         "x",
         0,
         "data"
        ]
       },
       {
        "data": "g////5z///+1////zv///+f///8AAAAAGQAAADIAAABLAAAAZAAAALD////A////0P///+D////w////AAAAABAAAAAgAAAAMAAAAEAAAADT////3P///+X////u////9////wAAAAAJAAAAEgAAABsAAAAkAAAA7P////D////0////+P////z///8AAAAABAAAAAgAAAAMAAAAEAAAAPv////8/////f////7/////////AAAAAAEAAAACAAAAAwAAAAQAAAAAAAAAAAAAAAAAAAAAAAAAAAAAAAAAAAAAAAAAAAAAAAAAAAAAAAAA+/////z////9/////v////////8AAAAAAQAAAAIAAAADAAAABAAAAOz////w////9P////j////8////AAAAAAQAAAAIAAAADAAAABAAAADT////3P///+X////u////9////wAAAAAJAAAAEgAAABsAAAAkAAAAsP///8D////Q////4P////D///8AAAAAEAAAACAAAAAwAAAAQAAAAA==",
        "encoding": "base64",
        "path": [
         "y",
         0,
         "data"
        ]
       },
       {
        "data": "+/////v////7////+/////v////7////+/////v////7////+/////z////8/////P////z////8/////P////z////8/////P////z////9/////f////3////9/////f////3////9/////f////3////9/////v////7////+/////v////7////+/////v////7////+/////v////////////////////////////////////////////////////////8AAAAAAAAAAAAAAAAAAAAAAAAAAAAAAAAAAAAAAAAAAAAAAAAAAAAAAQAAAAEAAAABAAAAAQAAAAEAAAABAAAAAQAAAAEAAAABAAAAAQAAAAIAAAACAAAAAgAAAAIAAAACAAAAAgAAAAIAAAACAAAAAgAAAAIAAAADAAAAAwAAAAMAAAADAAAAAwAAAAMAAAADAAAAAwAAAAMAAAADAAAABAAAAAQAAAAEAAAABAAAAAQAAAAEAAAABAAAAAQAAAAEAAAABAAAAA==",
        "encoding": "base64",
        "path": [
         "z",
         0,
         "data"
        ]
       }
      ],
      "model_module": "ipyvolume",
      "model_module_version": "^0.5.0-beta.1",
      "model_name": "MeshModel",
      "state": {
       "color": "orange",
       "line_material": "IPY_MODEL_6f7a4415a5d5425e845094379278e126",
       "lines": null,
       "material": "IPY_MODEL_5f807bdaba6f452795cb4267961497d8",
       "texture": null,
       "triangles": [
        {
         "data": {},
         "dtype": "uint32",
         "shape": [
          162,
          3
         ]
        }
       ],
       "u": null,
       "v": null,
       "x": [
        {
         "data": {},
         "dtype": "int32",
         "shape": [
          100
         ]
        }
       ],
       "y": [
        {
         "data": {},
         "dtype": "int32",
         "shape": [
          100
         ]
        }
       ],
       "z": [
        {
         "data": {},
         "dtype": "int32",
         "shape": [
          100
         ]
        }
       ]
      }
     },
     "98a162ace7ff4e48b5b818e6fa7e8e51": {
      "buffers": [
       {
        "data": "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",
        "encoding": "base64",
        "path": [
         "color",
         0,
         "data"
        ]
       },
       {
        "data": "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",
        "encoding": "base64",
        "path": [
         "triangles",
         0,
         "data"
        ]
       },
       {
        "data": "AACgwAAAmMAAAJDAAACIwAAAgMAAAHDAAABgwAAAUMAAAEDAAAAwwAAAIMAAABDAAAAAwAAA4L8AAMC/AACgvwAAgL8AAEC/AAAAvwAAgL4AAAAAAACAPgAAAD8AAEA/AACAPwAAoD8AAMA/AADgPwAAAEAAABBAAAAgQAAAMEAAAEBAAABQQAAAYEAAAHBAAACAQAAAiEAAAJBAAACYQAAAoMAAAJjAAACQwAAAiMAAAIDAAABwwAAAYMAAAFDAAABAwAAAMMAAACDAAAAQwAAAAMAAAOC/AADAvwAAoL8AAIC/AABAvwAAAL8AAIC+AAAAAAAAgD4AAAA/AABAPwAAgD8AAKA/AADAPwAA4D8AAABAAAAQQAAAIEAAADBAAABAQAAAUEAAAGBAAABwQAAAgEAAAIhAAACQQAAAmEAAAKDAAACYwAAAkMAAAIjAAACAwAAAcMAAAGDAAABQwAAAQMAAADDAAAAgwAAAEMAAAADAAADgvwAAwL8AAKC/AACAvwAAQL8AAAC/AACAvgAAAAAAAIA+AAAAPwAAQD8AAIA/AACgPwAAwD8AAOA/AAAAQAAAEEAAACBAAAAwQAAAQEAAAFBAAABgQAAAcEAAAIBAAACIQAAAkEAAAJhAAACgwAAAmMAAAJDAAACIwAAAgMAAAHDAAABgwAAAUMAAAEDAAAAwwAAAIMAAABDAAAAAwAAA4L8AAMC/AACgvwAAgL8AAEC/AAAAvwAAgL4AAAAAAACAPgAAAD8AAEA/AACAPwAAoD8AAMA/AADgPwAAAEAAABBAAAAgQAAAMEAAAEBAAABQQAAAYEAAAHBAAACAQAAAiEAAAJBAAACYQAAAoMAAAJjAAACQwAAAiMAAAIDAAABwwAAAYMAAAFDAAABAwAAAMMAAACDAAAAQwAAAAMAAAOC/AADAvwAAoL8AAIC/AABAvwAAAL8AAIC+AAAAAAAAgD4AAAA/AABAPwAAgD8AAKA/AADAPwAA4D8AAABAAAAQQAAAIEAAADBAAABAQAAAUEAAAGBAAABwQAAAgEAAAIhAAACQQAAAmEAAAKDAAACYwAAAkMAAAIjAAACAwAAAcMAAAGDAAABQwAAAQMAAADDAAAAgwAAAEMAAAADAAADgvwAAwL8AAKC/AACAvwAAQL8AAAC/AACAvgAAAAAAAIA+AAAAPwAAQD8AAIA/AACgPwAAwD8AAOA/AAAAQAAAEEAAACBAAAAwQAAAQEAAAFBAAABgQAAAcEAAAIBAAACIQAAAkEAAAJhAAACgwAAAmMAAAJDAAACIwAAAgMAAAHDAAABgwAAAUMAAAEDAAAAwwAAAIMAAABDAAAAAwAAA4L8AAMC/AACgvwAAgL8AAEC/AAAAvwAAgL4AAAAAAACAPgAAAD8AAEA/AACAPwAAoD8AAMA/AADgPwAAAEAAABBAAAAgQAAAMEAAAEBAAABQQAAAYEAAAHBAAACAQAAAiEAAAJBAAACYQAAAoMAAAJjAAACQwAAAiMAAAIDAAABwwAAAYMAAAFDAAABAwAAAMMAAACDAAAAQwAAAAMAAAOC/AADAvwAAoL8AAIC/AABAvwAAAL8AAIC+AAAAAAAAgD4AAAA/AABAPwAAgD8AAKA/AADAPwAA4D8AAABAAAAQQAAAIEAAADBAAABAQAAAUEAAAGBAAABwQAAAgEAAAIhAAACQQAAAmEAAAKDAAACYwAAAkMAAAIjAAACAwAAAcMAAAGDAAABQwAAAQMAAADDAAAAgwAAAEMAAAADAAADgvwAAwL8AAKC/AACAvwAAQL8AAAC/AACAvgAAAAAAAIA+AAAAPwAAQD8AAIA/AACgPwAAwD8AAOA/AAAAQAAAEEAAACBAAAAwQAAAQEAAAFBAAABgQAAAcEAAAIBAAACIQAAAkEAAAJhAAACgwAAAmMAAAJDAAACIwAAAgMAAAHDAAABgwAAAUMAAAEDAAAAwwAAAIMAAABDAAAAAwAAA4L8AAMC/AACgvwAAgL8AAEC/AAAAvwAAgL4AAAAAAACAPgAAAD8AAEA/AACAPwAAoD8AAMA/AADgPwAAAEAAABBAAAAgQAAAMEAAAEBAAABQQAAAYEAAAHBAAACAQAAAiEAAAJBAAACYQAAAoMAAAJjAAACQwAAAiMAAAIDAAABwwAAAYMAAAFDAAABAwAAAMMAAACDAAAAQwAAAAMAAAOC/AADAvwAAoL8AAIC/AABAvwAAAL8AAIC+AAAAAAAAgD4AAAA/AABAPwAAgD8AAKA/AADAPwAA4D8AAABAAAAQQAAAIEAAADBAAABAQAAAUEAAAGBAAABwQAAAgEAAAIhAAACQQAAAmEAAAKDAAACYwAAAkMAAAIjAAACAwAAAcMAAAGDAAABQwAAAQMAAADDAAAAgwAAAEMAAAADAAADgvwAAwL8AAKC/AACAvwAAQL8AAAC/AACAvgAAAAAAAIA+AAAAPwAAQD8AAIA/AACgPwAAwD8AAOA/AAAAQAAAEEAAACBAAAAwQAAAQEAAAFBAAABgQAAAcEAAAIBAAACIQAAAkEAAAJhAAACgwAAAmMAAAJDAAACIwAAAgMAAAHDAAABgwAAAUMAAAEDAAAAwwAAAIMAAABDAAAAAwAAA4L8AAMC/AACgvwAAgL8AAEC/AAAAvwAAgL4AAAAAAACAPgAAAD8AAEA/AACAPwAAoD8AAMA/AADgPwAAAEAAABBAAAAgQAAAMEAAAEBAAABQQAAAYEAAAHBAAACAQAAAiEAAAJBAAACYQAAAoMAAAJjAAACQwAAAiMAAAIDAAABwwAAAYMAAAFDAAABAwAAAMMAAACDAAAAQwAAAAMAAAOC/AADAvwAAoL8AAIC/AABAvwAAAL8AAIC+AAAAAAAAgD4AAAA/AABAPwAAgD8AAKA/AADAPwAA4D8AAABAAAAQQAAAIEAAADBAAABAQAAAUEAAAGBAAABwQAAAgEAAAIhAAACQQAAAmEAAAKDAAACYwAAAkMAAAIjAAACAwAAAcMAAAGDAAABQwAAAQMAAADDAAAAgwAAAEMAAAADAAADgvwAAwL8AAKC/AACAvwAAQL8AAAC/AACAvgAAAAAAAIA+AAAAPwAAQD8AAIA/AACgPwAAwD8AAOA/AAAAQAAAEEAAACBAAAAwQAAAQEAAAFBAAABgQAAAcEAAAIBAAACIQAAAkEAAAJhAAACgwAAAmMAAAJDAAACIwAAAgMAAAHDAAABgwAAAUMAAAEDAAAAwwAAAIMAAABDAAAAAwAAA4L8AAMC/AACgvwAAgL8AAEC/AAAAvwAAgL4AAAAAAACAPgAAAD8AAEA/AACAPwAAoD8AAMA/AADgPwAAAEAAABBAAAAgQAAAMEAAAEBAAABQQAAAYEAAAHBAAACAQAAAiEAAAJBAAACYQAAAoMAAAJjAAACQwAAAiMAAAIDAAABwwAAAYMAAAFDAAABAwAAAMMAAACDAAAAQwAAAAMAAAOC/AADAvwAAoL8AAIC/AABAvwAAAL8AAIC+AAAAAAAAgD4AAAA/AABAPwAAgD8AAKA/AADAPwAA4D8AAABAAAAQQAAAIEAAADBAAABAQAAAUEAAAGBAAABwQAAAgEAAAIhAAACQQAAAmEAAAKDAAACYwAAAkMAAAIjAAACAwAAAcMAAAGDAAABQwAAAQMAAADDAAAAgwAAAEMAAAADAAADgvwAAwL8AAKC/AACAvwAAQL8AAAC/AACAvgAAAAAAAIA+AAAAPwAAQD8AAIA/AACgPwAAwD8AAOA/AAAAQAAAEEAAACBAAAAwQAAAQEAAAFBAAABgQAAAcEAAAIBAAACIQAAAkEAAAJhAAACgwAAAmMAAAJDAAACIwAAAgMAAAHDAAABgwAAAUMAAAEDAAAAwwAAAIMAAABDAAAAAwAAA4L8AAMC/AACgvwAAgL8AAEC/AAAAvwAAgL4AAAAAAACAPgAAAD8AAEA/AACAPwAAoD8AAMA/AADgPwAAAEAAABBAAAAgQAAAMEAAAEBAAABQQAAAYEAAAHBAAACAQAAAiEAAAJBAAACYQAAAoMAAAJjAAACQwAAAiMAAAIDAAABwwAAAYMAAAFDAAABAwAAAMMAAACDAAAAQwAAAAMAAAOC/AADAvwAAoL8AAIC/AABAvwAAAL8AAIC+AAAAAAAAgD4AAAA/AABAPwAAgD8AAKA/AADAPwAA4D8AAABAAAAQQAAAIEAAADBAAABAQAAAUEAAAGBAAABwQAAAgEAAAIhAAACQQAAAmEAAAKDAAACYwAAAkMAAAIjAAACAwAAAcMAAAGDAAABQwAAAQMAAADDAAAAgwAAAEMAAAADAAADgvwAAwL8AAKC/AACAvwAAQL8AAAC/AACAvgAAAAAAAIA+AAAAPwAAQD8AAIA/AACgPwAAwD8AAOA/AAAAQAAAEEAAACBAAAAwQAAAQEAAAFBAAABgQAAAcEAAAIBAAACIQAAAkEAAAJhAAACgwAAAmMAAAJDAAACIwAAAgMAAAHDAAABgwAAAUMAAAEDAAAAwwAAAIMAAABDAAAAAwAAA4L8AAMC/AACgvwAAgL8AAEC/AAAAvwAAgL4AAAAAAACAPgAAAD8AAEA/AACAPwAAoD8AAMA/AADgPwAAAEAAABBAAAAgQAAAMEAAAEBAAABQQAAAYEAAAHBAAACAQAAAiEAAAJBAAACYQAAAoMAAAJjAAACQwAAAiMAAAIDAAABwwAAAYMAAAFDAAABAwAAAMMAAACDAAAAQwAAAAMAAAOC/AADAvwAAoL8AAIC/AABAvwAAAL8AAIC+AAAAAAAAgD4AAAA/AABAPwAAgD8AAKA/AADAPwAA4D8AAABAAAAQQAAAIEAAADBAAABAQAAAUEAAAGBAAABwQAAAgEAAAIhAAACQQAAAmEAAAKDAAACYwAAAkMAAAIjAAACAwAAAcMAAAGDAAABQwAAAQMAAADDAAAAgwAAAEMAAAADAAADgvwAAwL8AAKC/AACAvwAAQL8AAAC/AACAvgAAAAAAAIA+AAAAPwAAQD8AAIA/AACgPwAAwD8AAOA/AAAAQAAAEEAAACBAAAAwQAAAQEAAAFBAAABgQAAAcEAAAIBAAACIQAAAkEAAAJhAAACgwAAAmMAAAJDAAACIwAAAgMAAAHDAAABgwAAAUMAAAEDAAAAwwAAAIMAAABDAAAAAwAAA4L8AAMC/AACgvwAAgL8AAEC/AAAAvwAAgL4AAAAAAACAPgAAAD8AAEA/AACAPwAAoD8AAMA/AADgPwAAAEAAABBAAAAgQAAAMEAAAEBAAABQQAAAYEAAAHBAAACAQAAAiEAAAJBAAACYQAAAoMAAAJjAAACQwAAAiMAAAIDAAABwwAAAYMAAAFDAAABAwAAAMMAAACDAAAAQwAAAAMAAAOC/AADAvwAAoL8AAIC/AABAvwAAAL8AAIC+AAAAAAAAgD4AAAA/AABAPwAAgD8AAKA/AADAPwAA4D8AAABAAAAQQAAAIEAAADBAAABAQAAAUEAAAGBAAABwQAAAgEAAAIhAAACQQAAAmEAAAKDAAACYwAAAkMAAAIjAAACAwAAAcMAAAGDAAABQwAAAQMAAADDAAAAgwAAAEMAAAADAAADgvwAAwL8AAKC/AACAvwAAQL8AAAC/AACAvgAAAAAAAIA+AAAAPwAAQD8AAIA/AACgPwAAwD8AAOA/AAAAQAAAEEAAACBAAAAwQAAAQEAAAFBAAABgQAAAcEAAAIBAAACIQAAAkEAAAJhAAACgwAAAmMAAAJDAAACIwAAAgMAAAHDAAABgwAAAUMAAAEDAAAAwwAAAIMAAABDAAAAAwAAA4L8AAMC/AACgvwAAgL8AAEC/AAAAvwAAgL4AAAAAAACAPgAAAD8AAEA/AACAPwAAoD8AAMA/AADgPwAAAEAAABBAAAAgQAAAMEAAAEBAAABQQAAAYEAAAHBAAACAQAAAiEAAAJBAAACYQAAAoMAAAJjAAACQwAAAiMAAAIDAAABwwAAAYMAAAFDAAABAwAAAMMAAACDAAAAQwAAAAMAAAOC/AADAvwAAoL8AAIC/AABAvwAAAL8AAIC+AAAAAAAAgD4AAAA/AABAPwAAgD8AAKA/AADAPwAA4D8AAABAAAAQQAAAIEAAADBAAABAQAAAUEAAAGBAAABwQAAAgEAAAIhAAACQQAAAmEAAAKDAAACYwAAAkMAAAIjAAACAwAAAcMAAAGDAAABQwAAAQMAAADDAAAAgwAAAEMAAAADAAADgvwAAwL8AAKC/AACAvwAAQL8AAAC/AACAvgAAAAAAAIA+AAAAPwAAQD8AAIA/AACgPwAAwD8AAOA/AAAAQAAAEEAAACBAAAAwQAAAQEAAAFBAAABgQAAAcEAAAIBAAACIQAAAkEAAAJhAAACgwAAAmMAAAJDAAACIwAAAgMAAAHDAAABgwAAAUMAAAEDAAAAwwAAAIMAAABDAAAAAwAAA4L8AAMC/AACgvwAAgL8AAEC/AAAAvwAAgL4AAAAAAACAPgAAAD8AAEA/AACAPwAAoD8AAMA/AADgPwAAAEAAABBAAAAgQAAAMEAAAEBAAABQQAAAYEAAAHBAAACAQAAAiEAAAJBAAACYQAAAoMAAAJjAAACQwAAAiMAAAIDAAABwwAAAYMAAAFDAAABAwAAAMMAAACDAAAAQwAAAAMAAAOC/AADAvwAAoL8AAIC/AABAvwAAAL8AAIC+AAAAAAAAgD4AAAA/AABAPwAAgD8AAKA/AADAPwAA4D8AAABAAAAQQAAAIEAAADBAAABAQAAAUEAAAGBAAABwQAAAgEAAAIhAAACQQAAAmEAAAKDAAACYwAAAkMAAAIjAAACAwAAAcMAAAGDAAABQwAAAQMAAADDAAAAgwAAAEMAAAADAAADgvwAAwL8AAKC/AACAvwAAQL8AAAC/AACAvgAAAAAAAIA+AAAAPwAAQD8AAIA/AACgPwAAwD8AAOA/AAAAQAAAEEAAACBAAAAwQAAAQEAAAFBAAABgQAAAcEAAAIBAAACIQAAAkEAAAJhAAACgwAAAmMAAAJDAAACIwAAAgMAAAHDAAABgwAAAUMAAAEDAAAAwwAAAIMAAABDAAAAAwAAA4L8AAMC/AACgvwAAgL8AAEC/AAAAvwAAgL4AAAAAAACAPgAAAD8AAEA/AACAPwAAoD8AAMA/AADgPwAAAEAAABBAAAAgQAAAMEAAAEBAAABQQAAAYEAAAHBAAACAQAAAiEAAAJBAAACYQAAAoMAAAJjAAACQwAAAiMAAAIDAAABwwAAAYMAAAFDAAABAwAAAMMAAACDAAAAQwAAAAMAAAOC/AADAvwAAoL8AAIC/AABAvwAAAL8AAIC+AAAAAAAAgD4AAAA/AABAPwAAgD8AAKA/AADAPwAA4D8AAABAAAAQQAAAIEAAADBAAABAQAAAUEAAAGBAAABwQAAAgEAAAIhAAACQQAAAmEAAAKDAAACYwAAAkMAAAIjAAACAwAAAcMAAAGDAAABQwAAAQMAAADDAAAAgwAAAEMAAAADAAADgvwAAwL8AAKC/AACAvwAAQL8AAAC/AACAvgAAAAAAAIA+AAAAPwAAQD8AAIA/AACgPwAAwD8AAOA/AAAAQAAAEEAAACBAAAAwQAAAQEAAAFBAAABgQAAAcEAAAIBAAACIQAAAkEAAAJhAAACgwAAAmMAAAJDAAACIwAAAgMAAAHDAAABgwAAAUMAAAEDAAAAwwAAAIMAAABDAAAAAwAAA4L8AAMC/AACgvwAAgL8AAEC/AAAAvwAAgL4AAAAAAACAPgAAAD8AAEA/AACAPwAAoD8AAMA/AADgPwAAAEAAABBAAAAgQAAAMEAAAEBAAABQQAAAYEAAAHBAAACAQAAAiEAAAJBAAACYQAAAoMAAAJjAAACQwAAAiMAAAIDAAABwwAAAYMAAAFDAAABAwAAAMMAAACDAAAAQwAAAAMAAAOC/AADAvwAAoL8AAIC/AABAvwAAAL8AAIC+AAAAAAAAgD4AAAA/AABAPwAAgD8AAKA/AADAPwAA4D8AAABAAAAQQAAAIEAAADBAAABAQAAAUEAAAGBAAABwQAAAgEAAAIhAAACQQAAAmEAAAKDAAACYwAAAkMAAAIjAAACAwAAAcMAAAGDAAABQwAAAQMAAADDAAAAgwAAAEMAAAADAAADgvwAAwL8AAKC/AACAvwAAQL8AAAC/AACAvgAAAAAAAIA+AAAAPwAAQD8AAIA/AACgPwAAwD8AAOA/AAAAQAAAEEAAACBAAAAwQAAAQEAAAFBAAABgQAAAcEAAAIBAAACIQAAAkEAAAJhAAACgwAAAmMAAAJDAAACIwAAAgMAAAHDAAABgwAAAUMAAAEDAAAAwwAAAIMAAABDAAAAAwAAA4L8AAMC/AACgvwAAgL8AAEC/AAAAvwAAgL4AAAAAAACAPgAAAD8AAEA/AACAPwAAoD8AAMA/AADgPwAAAEAAABBAAAAgQAAAMEAAAEBAAABQQAAAYEAAAHBAAACAQAAAiEAAAJBAAACYQA==",
        "encoding": "base64",
        "path": [
         "x",
         0,
         "data"
        ]
       },
       {
        "data": "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",
        "encoding": "base64",
        "path": [
         "y",
         0,
         "data"
        ]
       },
       {
        "data": "AACgwAAAoMAAAKDAAACgwAAAoMAAAKDAAACgwAAAoMAAAKDAAACgwAAAoMAAAKDAAACgwAAAoMAAAKDAAACgwAAAoMAAAKDAAACgwAAAoMAAAKDAAACgwAAAoMAAAKDAAACgwAAAoMAAAKDAAACgwAAAoMAAAKDAAACgwAAAoMAAAKDAAACgwAAAoMAAAKDAAACgwAAAoMAAAKDAAACgwAAAmMAAAJjAAACYwAAAmMAAAJjAAACYwAAAmMAAAJjAAACYwAAAmMAAAJjAAACYwAAAmMAAAJjAAACYwAAAmMAAAJjAAACYwAAAmMAAAJjAAACYwAAAmMAAAJjAAACYwAAAmMAAAJjAAACYwAAAmMAAAJjAAACYwAAAmMAAAJjAAACYwAAAmMAAAJjAAACYwAAAmMAAAJjAAACYwAAAmMAAAJDAAACQwAAAkMAAAJDAAACQwAAAkMAAAJDAAACQwAAAkMAAAJDAAACQwAAAkMAAAJDAAACQwAAAkMAAAJDAAACQwAAAkMAAAJDAAACQwAAAkMAAAJDAAACQwAAAkMAAAJDAAACQwAAAkMAAAJDAAACQwAAAkMAAAJDAAACQwAAAkMAAAJDAAACQwAAAkMAAAJDAAACQwAAAkMAAAJDAAACIwAAAiMAAAIjAAACIwAAAiMAAAIjAAACIwAAAiMAAAIjAAACIwAAAiMAAAIjAAACIwAAAiMAAAIjAAACIwAAAiMAAAIjAAACIwAAAiMAAAIjAAACIwAAAiMAAAIjAAACIwAAAiMAAAIjAAACIwAAAiMAAAIjAAACIwAAAiMAAAIjAAACIwAAAiMAAAIjAAACIwAAAiMAAAIjAAACIwAAAgMAAAIDAAACAwAAAgMAAAIDAAACAwAAAgMAAAIDAAACAwAAAgMAAAIDAAACAwAAAgMAAAIDAAACAwAAAgMAAAIDAAACAwAAAgMAAAIDAAACAwAAAgMAAAIDAAACAwAAAgMAAAIDAAACAwAAAgMAAAIDAAACAwAAAgMAAAIDAAACAwAAAgMAAAIDAAACAwAAAgMAAAIDAAACAwAAAgMAAAHDAAABwwAAAcMAAAHDAAABwwAAAcMAAAHDAAABwwAAAcMAAAHDAAABwwAAAcMAAAHDAAABwwAAAcMAAAHDAAABwwAAAcMAAAHDAAABwwAAAcMAAAHDAAABwwAAAcMAAAHDAAABwwAAAcMAAAHDAAABwwAAAcMAAAHDAAABwwAAAcMAAAHDAAABwwAAAcMAAAHDAAABwwAAAcMAAAHDAAABgwAAAYMAAAGDAAABgwAAAYMAAAGDAAABgwAAAYMAAAGDAAABgwAAAYMAAAGDAAABgwAAAYMAAAGDAAABgwAAAYMAAAGDAAABgwAAAYMAAAGDAAABgwAAAYMAAAGDAAABgwAAAYMAAAGDAAABgwAAAYMAAAGDAAABgwAAAYMAAAGDAAABgwAAAYMAAAGDAAABgwAAAYMAAAGDAAABgwAAAUMAAAFDAAABQwAAAUMAAAFDAAABQwAAAUMAAAFDAAABQwAAAUMAAAFDAAABQwAAAUMAAAFDAAABQwAAAUMAAAFDAAABQwAAAUMAAAFDAAABQwAAAUMAAAFDAAABQwAAAUMAAAFDAAABQwAAAUMAAAFDAAABQwAAAUMAAAFDAAABQwAAAUMAAAFDAAABQwAAAUMAAAFDAAABQwAAAUMAAAEDAAABAwAAAQMAAAEDAAABAwAAAQMAAAEDAAABAwAAAQMAAAEDAAABAwAAAQMAAAEDAAABAwAAAQMAAAEDAAABAwAAAQMAAAEDAAABAwAAAQMAAAEDAAABAwAAAQMAAAEDAAABAwAAAQMAAAEDAAABAwAAAQMAAAEDAAABAwAAAQMAAAEDAAABAwAAAQMAAAEDAAABAwAAAQMAAAEDAAAAwwAAAMMAAADDAAAAwwAAAMMAAADDAAAAwwAAAMMAAADDAAAAwwAAAMMAAADDAAAAwwAAAMMAAADDAAAAwwAAAMMAAADDAAAAwwAAAMMAAADDAAAAwwAAAMMAAADDAAAAwwAAAMMAAADDAAAAwwAAAMMAAADDAAAAwwAAAMMAAADDAAAAwwAAAMMAAADDAAAAwwAAAMMAAADDAAAAwwAAAIMAAACDAAAAgwAAAIMAAACDAAAAgwAAAIMAAACDAAAAgwAAAIMAAACDAAAAgwAAAIMAAACDAAAAgwAAAIMAAACDAAAAgwAAAIMAAACDAAAAgwAAAIMAAACDAAAAgwAAAIMAAACDAAAAgwAAAIMAAACDAAAAgwAAAIMAAACDAAAAgwAAAIMAAACDAAAAgwAAAIMAAACDAAAAgwAAAIMAAABDAAAAQwAAAEMAAABDAAAAQwAAAEMAAABDAAAAQwAAAEMAAABDAAAAQwAAAEMAAABDAAAAQwAAAEMAAABDAAAAQwAAAEMAAABDAAAAQwAAAEMAAABDAAAAQwAAAEMAAABDAAAAQwAAAEMAAABDAAAAQwAAAEMAAABDAAAAQwAAAEMAAABDAAAAQwAAAEMAAABDAAAAQwAAAEMAAABDAAAAAwAAAAMAAAADAAAAAwAAAAMAAAADAAAAAwAAAAMAAAADAAAAAwAAAAMAAAADAAAAAwAAAAMAAAADAAAAAwAAAAMAAAADAAAAAwAAAAMAAAADAAAAAwAAAAMAAAADAAAAAwAAAAMAAAADAAAAAwAAAAMAAAADAAAAAwAAAAMAAAADAAAAAwAAAAMAAAADAAAAAwAAAAMAAAADAAAAAwAAA4L8AAOC/AADgvwAA4L8AAOC/AADgvwAA4L8AAOC/AADgvwAA4L8AAOC/AADgvwAA4L8AAOC/AADgvwAA4L8AAOC/AADgvwAA4L8AAOC/AADgvwAA4L8AAOC/AADgvwAA4L8AAOC/AADgvwAA4L8AAOC/AADgvwAA4L8AAOC/AADgvwAA4L8AAOC/AADgvwAA4L8AAOC/AADgvwAA4L8AAMC/AADAvwAAwL8AAMC/AADAvwAAwL8AAMC/AADAvwAAwL8AAMC/AADAvwAAwL8AAMC/AADAvwAAwL8AAMC/AADAvwAAwL8AAMC/AADAvwAAwL8AAMC/AADAvwAAwL8AAMC/AADAvwAAwL8AAMC/AADAvwAAwL8AAMC/AADAvwAAwL8AAMC/AADAvwAAwL8AAMC/AADAvwAAwL8AAMC/AACgvwAAoL8AAKC/AACgvwAAoL8AAKC/AACgvwAAoL8AAKC/AACgvwAAoL8AAKC/AACgvwAAoL8AAKC/AACgvwAAoL8AAKC/AACgvwAAoL8AAKC/AACgvwAAoL8AAKC/AACgvwAAoL8AAKC/AACgvwAAoL8AAKC/AACgvwAAoL8AAKC/AACgvwAAoL8AAKC/AACgvwAAoL8AAKC/AACgvwAAgL8AAIC/AACAvwAAgL8AAIC/AACAvwAAgL8AAIC/AACAvwAAgL8AAIC/AACAvwAAgL8AAIC/AACAvwAAgL8AAIC/AACAvwAAgL8AAIC/AACAvwAAgL8AAIC/AACAvwAAgL8AAIC/AACAvwAAgL8AAIC/AACAvwAAgL8AAIC/AACAvwAAgL8AAIC/AACAvwAAgL8AAIC/AACAvwAAgL8AAEC/AABAvwAAQL8AAEC/AABAvwAAQL8AAEC/AABAvwAAQL8AAEC/AABAvwAAQL8AAEC/AABAvwAAQL8AAEC/AABAvwAAQL8AAEC/AABAvwAAQL8AAEC/AABAvwAAQL8AAEC/AABAvwAAQL8AAEC/AABAvwAAQL8AAEC/AABAvwAAQL8AAEC/AABAvwAAQL8AAEC/AABAvwAAQL8AAEC/AAAAvwAAAL8AAAC/AAAAvwAAAL8AAAC/AAAAvwAAAL8AAAC/AAAAvwAAAL8AAAC/AAAAvwAAAL8AAAC/AAAAvwAAAL8AAAC/AAAAvwAAAL8AAAC/AAAAvwAAAL8AAAC/AAAAvwAAAL8AAAC/AAAAvwAAAL8AAAC/AAAAvwAAAL8AAAC/AAAAvwAAAL8AAAC/AAAAvwAAAL8AAAC/AAAAvwAAgL4AAIC+AACAvgAAgL4AAIC+AACAvgAAgL4AAIC+AACAvgAAgL4AAIC+AACAvgAAgL4AAIC+AACAvgAAgL4AAIC+AACAvgAAgL4AAIC+AACAvgAAgL4AAIC+AACAvgAAgL4AAIC+AACAvgAAgL4AAIC+AACAvgAAgL4AAIC+AACAvgAAgL4AAIC+AACAvgAAgL4AAIC+AACAvgAAgL4AAAAAAAAAAAAAAAAAAAAAAAAAAAAAAAAAAAAAAAAAAAAAAAAAAAAAAAAAAAAAAAAAAAAAAAAAAAAAAAAAAAAAAAAAAAAAAAAAAAAAAAAAAAAAAAAAAAAAAAAAAAAAAAAAAAAAAAAAAAAAAAAAAAAAAAAAAAAAAAAAAAAAAAAAAAAAAAAAAAAAAAAAAAAAAAAAAAAAAAAAAAAAAAAAAAAAAACAPgAAgD4AAIA+AACAPgAAgD4AAIA+AACAPgAAgD4AAIA+AACAPgAAgD4AAIA+AACAPgAAgD4AAIA+AACAPgAAgD4AAIA+AACAPgAAgD4AAIA+AACAPgAAgD4AAIA+AACAPgAAgD4AAIA+AACAPgAAgD4AAIA+AACAPgAAgD4AAIA+AACAPgAAgD4AAIA+AACAPgAAgD4AAIA+AACAPgAAAD8AAAA/AAAAPwAAAD8AAAA/AAAAPwAAAD8AAAA/AAAAPwAAAD8AAAA/AAAAPwAAAD8AAAA/AAAAPwAAAD8AAAA/AAAAPwAAAD8AAAA/AAAAPwAAAD8AAAA/AAAAPwAAAD8AAAA/AAAAPwAAAD8AAAA/AAAAPwAAAD8AAAA/AAAAPwAAAD8AAAA/AAAAPwAAAD8AAAA/AAAAPwAAAD8AAEA/AABAPwAAQD8AAEA/AABAPwAAQD8AAEA/AABAPwAAQD8AAEA/AABAPwAAQD8AAEA/AABAPwAAQD8AAEA/AABAPwAAQD8AAEA/AABAPwAAQD8AAEA/AABAPwAAQD8AAEA/AABAPwAAQD8AAEA/AABAPwAAQD8AAEA/AABAPwAAQD8AAEA/AABAPwAAQD8AAEA/AABAPwAAQD8AAEA/AACAPwAAgD8AAIA/AACAPwAAgD8AAIA/AACAPwAAgD8AAIA/AACAPwAAgD8AAIA/AACAPwAAgD8AAIA/AACAPwAAgD8AAIA/AACAPwAAgD8AAIA/AACAPwAAgD8AAIA/AACAPwAAgD8AAIA/AACAPwAAgD8AAIA/AACAPwAAgD8AAIA/AACAPwAAgD8AAIA/AACAPwAAgD8AAIA/AACAPwAAoD8AAKA/AACgPwAAoD8AAKA/AACgPwAAoD8AAKA/AACgPwAAoD8AAKA/AACgPwAAoD8AAKA/AACgPwAAoD8AAKA/AACgPwAAoD8AAKA/AACgPwAAoD8AAKA/AACgPwAAoD8AAKA/AACgPwAAoD8AAKA/AACgPwAAoD8AAKA/AACgPwAAoD8AAKA/AACgPwAAoD8AAKA/AACgPwAAoD8AAMA/AADAPwAAwD8AAMA/AADAPwAAwD8AAMA/AADAPwAAwD8AAMA/AADAPwAAwD8AAMA/AADAPwAAwD8AAMA/AADAPwAAwD8AAMA/AADAPwAAwD8AAMA/AADAPwAAwD8AAMA/AADAPwAAwD8AAMA/AADAPwAAwD8AAMA/AADAPwAAwD8AAMA/AADAPwAAwD8AAMA/AADAPwAAwD8AAMA/AADgPwAA4D8AAOA/AADgPwAA4D8AAOA/AADgPwAA4D8AAOA/AADgPwAA4D8AAOA/AADgPwAA4D8AAOA/AADgPwAA4D8AAOA/AADgPwAA4D8AAOA/AADgPwAA4D8AAOA/AADgPwAA4D8AAOA/AADgPwAA4D8AAOA/AADgPwAA4D8AAOA/AADgPwAA4D8AAOA/AADgPwAA4D8AAOA/AADgPwAAAEAAAABAAAAAQAAAAEAAAABAAAAAQAAAAEAAAABAAAAAQAAAAEAAAABAAAAAQAAAAEAAAABAAAAAQAAAAEAAAABAAAAAQAAAAEAAAABAAAAAQAAAAEAAAABAAAAAQAAAAEAAAABAAAAAQAAAAEAAAABAAAAAQAAAAEAAAABAAAAAQAAAAEAAAABAAAAAQAAAAEAAAABAAAAAQAAAAEAAABBAAAAQQAAAEEAAABBAAAAQQAAAEEAAABBAAAAQQAAAEEAAABBAAAAQQAAAEEAAABBAAAAQQAAAEEAAABBAAAAQQAAAEEAAABBAAAAQQAAAEEAAABBAAAAQQAAAEEAAABBAAAAQQAAAEEAAABBAAAAQQAAAEEAAABBAAAAQQAAAEEAAABBAAAAQQAAAEEAAABBAAAAQQAAAEEAAABBAAAAgQAAAIEAAACBAAAAgQAAAIEAAACBAAAAgQAAAIEAAACBAAAAgQAAAIEAAACBAAAAgQAAAIEAAACBAAAAgQAAAIEAAACBAAAAgQAAAIEAAACBAAAAgQAAAIEAAACBAAAAgQAAAIEAAACBAAAAgQAAAIEAAACBAAAAgQAAAIEAAACBAAAAgQAAAIEAAACBAAAAgQAAAIEAAACBAAAAgQAAAMEAAADBAAAAwQAAAMEAAADBAAAAwQAAAMEAAADBAAAAwQAAAMEAAADBAAAAwQAAAMEAAADBAAAAwQAAAMEAAADBAAAAwQAAAMEAAADBAAAAwQAAAMEAAADBAAAAwQAAAMEAAADBAAAAwQAAAMEAAADBAAAAwQAAAMEAAADBAAAAwQAAAMEAAADBAAAAwQAAAMEAAADBAAAAwQAAAMEAAAEBAAABAQAAAQEAAAEBAAABAQAAAQEAAAEBAAABAQAAAQEAAAEBAAABAQAAAQEAAAEBAAABAQAAAQEAAAEBAAABAQAAAQEAAAEBAAABAQAAAQEAAAEBAAABAQAAAQEAAAEBAAABAQAAAQEAAAEBAAABAQAAAQEAAAEBAAABAQAAAQEAAAEBAAABAQAAAQEAAAEBAAABAQAAAQEAAAEBAAABQQAAAUEAAAFBAAABQQAAAUEAAAFBAAABQQAAAUEAAAFBAAABQQAAAUEAAAFBAAABQQAAAUEAAAFBAAABQQAAAUEAAAFBAAABQQAAAUEAAAFBAAABQQAAAUEAAAFBAAABQQAAAUEAAAFBAAABQQAAAUEAAAFBAAABQQAAAUEAAAFBAAABQQAAAUEAAAFBAAABQQAAAUEAAAFBAAABQQAAAYEAAAGBAAABgQAAAYEAAAGBAAABgQAAAYEAAAGBAAABgQAAAYEAAAGBAAABgQAAAYEAAAGBAAABgQAAAYEAAAGBAAABgQAAAYEAAAGBAAABgQAAAYEAAAGBAAABgQAAAYEAAAGBAAABgQAAAYEAAAGBAAABgQAAAYEAAAGBAAABgQAAAYEAAAGBAAABgQAAAYEAAAGBAAABgQAAAYEAAAHBAAABwQAAAcEAAAHBAAABwQAAAcEAAAHBAAABwQAAAcEAAAHBAAABwQAAAcEAAAHBAAABwQAAAcEAAAHBAAABwQAAAcEAAAHBAAABwQAAAcEAAAHBAAABwQAAAcEAAAHBAAABwQAAAcEAAAHBAAABwQAAAcEAAAHBAAABwQAAAcEAAAHBAAABwQAAAcEAAAHBAAABwQAAAcEAAAHBAAACAQAAAgEAAAIBAAACAQAAAgEAAAIBAAACAQAAAgEAAAIBAAACAQAAAgEAAAIBAAACAQAAAgEAAAIBAAACAQAAAgEAAAIBAAACAQAAAgEAAAIBAAACAQAAAgEAAAIBAAACAQAAAgEAAAIBAAACAQAAAgEAAAIBAAACAQAAAgEAAAIBAAACAQAAAgEAAAIBAAACAQAAAgEAAAIBAAACAQAAAiEAAAIhAAACIQAAAiEAAAIhAAACIQAAAiEAAAIhAAACIQAAAiEAAAIhAAACIQAAAiEAAAIhAAACIQAAAiEAAAIhAAACIQAAAiEAAAIhAAACIQAAAiEAAAIhAAACIQAAAiEAAAIhAAACIQAAAiEAAAIhAAACIQAAAiEAAAIhAAACIQAAAiEAAAIhAAACIQAAAiEAAAIhAAACIQAAAiEAAAJBAAACQQAAAkEAAAJBAAACQQAAAkEAAAJBAAACQQAAAkEAAAJBAAACQQAAAkEAAAJBAAACQQAAAkEAAAJBAAACQQAAAkEAAAJBAAACQQAAAkEAAAJBAAACQQAAAkEAAAJBAAACQQAAAkEAAAJBAAACQQAAAkEAAAJBAAACQQAAAkEAAAJBAAACQQAAAkEAAAJBAAACQQAAAkEAAAJBAAACYQAAAmEAAAJhAAACYQAAAmEAAAJhAAACYQAAAmEAAAJhAAACYQAAAmEAAAJhAAACYQAAAmEAAAJhAAACYQAAAmEAAAJhAAACYQAAAmEAAAJhAAACYQAAAmEAAAJhAAACYQAAAmEAAAJhAAACYQAAAmEAAAJhAAACYQAAAmEAAAJhAAACYQAAAmEAAAJhAAACYQAAAmEAAAJhAAACYQA==",
        "encoding": "base64",
        "path": [
         "z",
         0,
         "data"
        ]
       }
      ],
      "model_module": "ipyvolume",
      "model_module_version": "^0.5.0-beta.1",
      "model_name": "MeshModel",
      "state": {
       "color": [
        {
         "data": {},
         "dtype": "float32",
         "shape": [
          1600,
          4
         ]
        }
       ],
       "line_material": "IPY_MODEL_174930ed627d4f1e916d34e55b5f5942",
       "lines": null,
       "material": "IPY_MODEL_13950c32b7824393bfe9b2646443da25",
       "texture": null,
       "triangles": [
        {
         "data": {},
         "dtype": "uint32",
         "shape": [
          3042,
          3
         ]
        }
       ],
       "u": null,
       "v": null,
       "x": [
        {
         "data": {},
         "dtype": "float32",
         "shape": [
          1600
         ]
        }
       ],
       "y": [
        {
         "data": {},
         "dtype": "float32",
         "shape": [
          1600
         ]
        }
       ],
       "z": [
        {
         "data": {},
         "dtype": "float32",
         "shape": [
          1600
         ]
        }
       ]
      }
     },
     "992691bbf6204ed2874ffc9f6cce5c26": {
      "model_module": "@jupyter-widgets/controls",
      "model_module_version": "1.4.0",
      "model_name": "VBoxModel",
      "state": {
       "children": [
        "IPY_MODEL_bf1066c285c54996bda2c6ba479c5d8b"
       ],
       "layout": "IPY_MODEL_f976a982ca714b46a8a38844b8d2e2f5"
      }
     },
     "9e7543aee72c4d0b81640e6ace3cdb9b": {
      "model_module": "@jupyter-widgets/controls",
      "model_module_version": "1.4.0",
      "model_name": "VBoxModel",
      "state": {
       "children": [
        "IPY_MODEL_c4ca63738e3f49e6b3ff40b2d99d191f"
       ],
       "layout": "IPY_MODEL_aaeab5a21a1941be8157faaca03bb38a"
      }
     },
     "9fecb0e7dd264d129d80010789ff484c": {
      "model_module": "jupyter-threejs",
      "model_module_version": "~1.0.0",
      "model_name": "ShaderMaterialModel",
      "state": {
       "_model_module_version": "~1.0.0",
       "_view_module": null,
       "_view_module_version": ""
      }
     },
     "a86ad3a9a26b4f758b3d11b268b0a5a6": {
      "model_module": "@jupyter-widgets/controls",
      "model_module_version": "1.4.0",
      "model_name": "VBoxModel",
      "state": {
       "children": [
        "IPY_MODEL_ba78d3237c3d4a8fa4e6841938501282"
       ],
       "layout": "IPY_MODEL_54d18842498945a385944270a284bf88"
      }
     },
     "a8bdf08aa38f4ac5a9fe664d53c30cb7": {
      "buffers": [
       {
        "data": "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",
        "encoding": "base64",
        "path": [
         "lines",
         0,
         "data"
        ]
       },
       {
        "data": "+/////z////9/////v////////8AAAAAAQAAAAIAAAADAAAABAAAAPv////8/////f////7/////////AAAAAAEAAAACAAAAAwAAAAQAAAD7/////P////3////+/////////wAAAAABAAAAAgAAAAMAAAAEAAAA+/////z////9/////v////////8AAAAAAQAAAAIAAAADAAAABAAAAPv////8/////f////7/////////AAAAAAEAAAACAAAAAwAAAAQAAAD7/////P////3////+/////////wAAAAABAAAAAgAAAAMAAAAEAAAA+/////z////9/////v////////8AAAAAAQAAAAIAAAADAAAABAAAAPv////8/////f////7/////////AAAAAAEAAAACAAAAAwAAAAQAAAD7/////P////3////+/////////wAAAAABAAAAAgAAAAMAAAAEAAAA+/////z////9/////v////////8AAAAAAQAAAAIAAAADAAAABAAAAA==",
        "encoding": "base64",
        "path": [
         "x",
         0,
         "data"
        ]
       },
       {
        "data": "g////5z///+1////zv///+f///8AAAAAGQAAADIAAABLAAAAZAAAALD////A////0P///+D////w////AAAAABAAAAAgAAAAMAAAAEAAAADT////3P///+X////u////9////wAAAAAJAAAAEgAAABsAAAAkAAAA7P////D////0////+P////z///8AAAAABAAAAAgAAAAMAAAAEAAAAPv////8/////f////7/////////AAAAAAEAAAACAAAAAwAAAAQAAAAAAAAAAAAAAAAAAAAAAAAAAAAAAAAAAAAAAAAAAAAAAAAAAAAAAAAA+/////z////9/////v////////8AAAAAAQAAAAIAAAADAAAABAAAAOz////w////9P////j////8////AAAAAAQAAAAIAAAADAAAABAAAADT////3P///+X////u////9////wAAAAAJAAAAEgAAABsAAAAkAAAAsP///8D////Q////4P////D///8AAAAAEAAAACAAAAAwAAAAQAAAAA==",
        "encoding": "base64",
        "path": [
         "y",
         0,
         "data"
        ]
       },
       {
        "data": "+/////v////7////+/////v////7////+/////v////7////+/////z////8/////P////z////8/////P////z////8/////P////z////9/////f////3////9/////f////3////9/////f////3////9/////v////7////+/////v////7////+/////v////7////+/////v////////////////////////////////////////////////////////8AAAAAAAAAAAAAAAAAAAAAAAAAAAAAAAAAAAAAAAAAAAAAAAAAAAAAAQAAAAEAAAABAAAAAQAAAAEAAAABAAAAAQAAAAEAAAABAAAAAQAAAAIAAAACAAAAAgAAAAIAAAACAAAAAgAAAAIAAAACAAAAAgAAAAIAAAADAAAAAwAAAAMAAAADAAAAAwAAAAMAAAADAAAAAwAAAAMAAAADAAAABAAAAAQAAAAEAAAABAAAAAQAAAAEAAAABAAAAAQAAAAEAAAABAAAAA==",
        "encoding": "base64",
        "path": [
         "z",
         0,
         "data"
        ]
       }
      ],
      "model_module": "ipyvolume",
      "model_module_version": "^0.5.0-beta.1",
      "model_name": "MeshModel",
      "state": {
       "line_material": "IPY_MODEL_9fecb0e7dd264d129d80010789ff484c",
       "lines": [
        {
         "data": {},
         "dtype": "uint32",
         "shape": [
          324,
          2
         ]
        }
       ],
       "material": "IPY_MODEL_13d54bf27b164b268aa07d7991674fe3",
       "texture": null,
       "triangles": null,
       "u": null,
       "v": null,
       "x": [
        {
         "data": {},
         "dtype": "int32",
         "shape": [
          100
         ]
        }
       ],
       "y": [
        {
         "data": {},
         "dtype": "int32",
         "shape": [
          100
         ]
        }
       ],
       "z": [
        {
         "data": {},
         "dtype": "int32",
         "shape": [
          100
         ]
        }
       ]
      }
     },
     "aaeab5a21a1941be8157faaca03bb38a": {
      "model_module": "@jupyter-widgets/base",
      "model_module_version": "1.1.0",
      "model_name": "LayoutModel",
      "state": {}
     },
     "b1e829766b9244808bf3c0528cf59865": {
      "model_module": "jupyter-threejs",
      "model_module_version": "~1.0.0",
      "model_name": "ShaderMaterialModel",
      "state": {
       "_model_module_version": "~1.0.0",
       "_view_module": null,
       "_view_module_version": "",
       "side": "DoubleSide"
      }
     },
     "b5a9444157194a7c84cc9ab4674cb865": {
      "buffers": [
       {
        "data": "AACAPwAAgL8AAAAAAAAAAA==",
        "encoding": "base64",
        "path": [
         "x",
         0,
         "data"
        ]
       },
       {
        "data": "AAAAAAAAAAAAAIA/AACAvw==",
        "encoding": "base64",
        "path": [
         "y",
         0,
         "data"
        ]
       },
       {
        "data": "8wQ1v/MENb/zBDU/8wQ1Pw==",
        "encoding": "base64",
        "path": [
         "z",
         0,
         "data"
        ]
       }
      ],
      "model_module": "ipyvolume",
      "model_module_version": "^0.5.0-beta.1",
      "model_name": "ScatterModel",
      "state": {
       "color": "blue",
       "geo": "sphere",
       "line_material": "IPY_MODEL_d59a48714c054da1baad79d7892aca54",
       "material": "IPY_MODEL_94f769f644fe492a86c4996311196cb6",
       "selected": null,
       "size": 2,
       "size_selected": 2.6,
       "texture": null,
       "visible": true,
       "vx": null,
       "vy": null,
       "vz": null,
       "x": [
        {
         "data": {},
         "dtype": "float32",
         "shape": [
          4
         ]
        }
       ],
       "y": [
        {
         "data": {},
         "dtype": "float32",
         "shape": [
          4
         ]
        }
       ],
       "z": [
        {
         "data": {},
         "dtype": "float32",
         "shape": [
          4
         ]
        }
       ]
      }
     },
     "b7979ca1a1e5436db1b99cc93a5b4d6c": {
      "model_module": "jupyter-threejs",
      "model_module_version": "~1.0.0",
      "model_name": "PerspectiveCameraModel",
      "state": {
       "_model_module_version": "~1.0.0",
       "_view_module": null,
       "_view_module_version": "",
       "aspect": 0.8,
       "fov": 46,
       "matrix": [
        1,
        0,
        0,
        0,
        0,
        1,
        -6.123233995736766e-17,
        0,
        0,
        6.123233995736766e-17,
        1,
        0,
        0,
        1.2246467991473532e-16,
        2,
        1
       ],
       "matrixWorld": [
        1,
        0,
        0,
        0,
        0,
        1,
        -6.123233995736766e-17,
        0,
        0,
        6.123233995736766e-17,
        1,
        0,
        0,
        1.2246467991473532e-16,
        2,
        1
       ],
       "matrixWorldInverse": [
        1,
        0,
        0,
        0,
        0,
        1,
        6.123233995736766e-17,
        0,
        0,
        -6.123233995736766e-17,
        1,
        0,
        0,
        0,
        -2,
        1
       ],
       "position": [
        0,
        1.2246467991473532e-16,
        2
       ],
       "projectionMatrix": [
        2.9448154572796907,
        0,
        0,
        0,
        0,
        2.3558523658237527,
        0,
        0,
        0,
        0,
        -1.00010000500025,
        -1,
        0,
        0,
        -0.200010000500025,
        0
       ],
       "quaternion": [
        -3.061616997868383e-17,
        0,
        0,
        1
       ],
       "rotation": [
        -6.123233995736766e-17,
        0,
        0,
        "XYZ"
       ]
      }
     },
     "b81a0da2967445d6a0ae0a4269643e63": {
      "model_module": "jupyter-threejs",
      "model_module_version": "~1.0.0",
      "model_name": "ShaderMaterialModel",
      "state": {
       "_model_module_version": "~1.0.0",
       "_view_module": null,
       "_view_module_version": "",
       "side": "DoubleSide"
      }
     },
     "b89f5fcc058643df87b34c3e0bf70948": {
      "model_module": "@jupyter-widgets/base",
      "model_module_version": "1.1.0",
      "model_name": "LayoutModel",
      "state": {}
     },
     "ba78d3237c3d4a8fa4e6841938501282": {
      "model_module": "ipyvolume",
      "model_module_version": "^0.5.0-beta.1",
      "model_name": "FigureModel",
      "state": {
       "ambient_coefficient": 0.5,
       "camera": "IPY_MODEL_e6092958ac8d46dab592fd6bb5f252d6",
       "capture_fps": null,
       "diffuse_coefficient": 0.8,
       "height": 500,
       "layout": "IPY_MODEL_5167914a242146359920f4ef6beff575",
       "matrix_projection": [
        2.9448154572796907,
        0,
        0,
        0,
        0,
        2.3558523658237527,
        0,
        0,
        0,
        0,
        -1.00010000500025,
        -1,
        0,
        0,
        -0.200010000500025,
        0
       ],
       "matrix_world": [
        0.25,
        0,
        0,
        0,
        0,
        0.25,
        1.5308084989341915e-17,
        0,
        0,
        -1.5308084989341915e-17,
        0.25,
        0,
        0,
        0,
        -2,
        1
       ],
       "meshes": [
        "IPY_MODEL_8bb5ef09085d4603916fd51b2f00220c"
       ],
       "scatters": [
        "IPY_MODEL_b5a9444157194a7c84cc9ab4674cb865"
       ],
       "scene": "IPY_MODEL_e43743d1eb864792a8d96432c9c1a6fc",
       "specular_coefficient": 0.5,
       "specular_exponent": 5,
       "volumes": [],
       "width": 400,
       "xlim": [
        -2,
        2
       ],
       "ylim": [
        -2,
        2
       ],
       "zlim": [
        -2,
        2
       ]
      }
     },
     "baf8e8e8f4434f61944463231fb66309": {
      "model_module": "@jupyter-widgets/base",
      "model_module_version": "1.1.0",
      "model_name": "LayoutModel",
      "state": {}
     },
     "be961b235ff745bf84f16c08475ee836": {
      "buffers": [
       {
        "data": "AAAAAAEAAAACAAAAAAAAAAEAAAADAAAAAAAAAAIAAAADAAAAAQAAAAMAAAACAAAA",
        "encoding": "base64",
        "path": [
         "triangles",
         0,
         "data"
        ]
       },
       {
        "data": "AACAPwAAgL8AAAAAAAAAAA==",
        "encoding": "base64",
        "path": [
         "x",
         0,
         "data"
        ]
       },
       {
        "data": "AAAAAAAAAAAAAIA/AACAvw==",
        "encoding": "base64",
        "path": [
         "y",
         0,
         "data"
        ]
       },
       {
        "data": "8wQ1v/MENb/zBDU/8wQ1Pw==",
        "encoding": "base64",
        "path": [
         "z",
         0,
         "data"
        ]
       }
      ],
      "model_module": "ipyvolume",
      "model_module_version": "^0.5.0-beta.1",
      "model_name": "MeshModel",
      "state": {
       "color": "orange",
       "line_material": "IPY_MODEL_e995904e7da14abfa29a706eeccc77eb",
       "lines": null,
       "material": "IPY_MODEL_b81a0da2967445d6a0ae0a4269643e63",
       "texture": null,
       "triangles": [
        {
         "data": {},
         "dtype": "uint32",
         "shape": [
          4,
          3
         ]
        }
       ],
       "u": null,
       "v": null,
       "visible": false,
       "x": [
        {
         "data": {},
         "dtype": "float32",
         "shape": [
          4
         ]
        }
       ],
       "y": [
        {
         "data": {},
         "dtype": "float32",
         "shape": [
          4
         ]
        }
       ],
       "z": [
        {
         "data": {},
         "dtype": "float32",
         "shape": [
          4
         ]
        }
       ]
      }
     },
     "bf1066c285c54996bda2c6ba479c5d8b": {
      "model_module": "ipyvolume",
      "model_module_version": "^0.5.0-beta.1",
      "model_name": "FigureModel",
      "state": {
       "ambient_coefficient": 0.5,
       "camera": "IPY_MODEL_dc0e04fff640430da61b7e0f22ee0c26",
       "capture_fps": null,
       "diffuse_coefficient": 0.8,
       "height": 500,
       "layout": "IPY_MODEL_2a79f67798ca42fb88643fb712cbf45e",
       "matrix_projection": [
        2.9448154572796907,
        0,
        0,
        0,
        0,
        2.3558523658237527,
        0,
        0,
        0,
        0,
        -1.00010000500025,
        -1,
        0,
        0,
        -0.200010000500025,
        0
       ],
       "matrix_world": [
        0.10256410256410256,
        0,
        0,
        0,
        0,
        0.5000026468331453,
        3.061633205047079e-17,
        0,
        0,
        -6.280239995627452e-18,
        0.10256410256410256,
        0,
        0.012820512820512775,
        -2.646833145381841e-06,
        -1.9871794871794872,
        1
       ],
       "meshes": [
        "IPY_MODEL_83c892de417e4bda9dcf61ed2b0b1399"
       ],
       "scatters": [],
       "scene": "IPY_MODEL_7a75d34bb5264e90bcc4c793794e1c28",
       "specular_coefficient": 0.5,
       "specular_exponent": 5,
       "volumes": [],
       "width": 400,
       "xlim": [
        -5,
        4.75
       ],
       "ylim": [
        -0.9999894127234641,
        1
       ],
       "zlim": [
        -5,
        4.75
       ]
      }
     },
     "c4ca63738e3f49e6b3ff40b2d99d191f": {
      "model_module": "ipyvolume",
      "model_module_version": "^0.5.0-beta.1",
      "model_name": "FigureModel",
      "state": {
       "ambient_coefficient": 0.5,
       "camera": "IPY_MODEL_511a3d02227747a7b40d79aaa188d4e6",
       "capture_fps": null,
       "diffuse_coefficient": 0.8,
       "height": 500,
       "layout": "IPY_MODEL_b89f5fcc058643df87b34c3e0bf70948",
       "matrix_projection": [
        2.9448154572796907,
        0,
        0,
        0,
        0,
        2.3558523658237527,
        0,
        0,
        0,
        0,
        -1.00010000500025,
        -1,
        0,
        0,
        -0.200010000500025,
        0
       ],
       "matrix_world": [
        0.10256410256410256,
        0,
        0,
        0,
        0,
        0.5000026468331453,
        3.061633205047079e-17,
        0,
        0,
        -6.280239995627452e-18,
        0.10256410256410256,
        0,
        0.012820512820512775,
        -2.646833145381841e-06,
        -1.9871794871794872,
        1
       ],
       "meshes": [
        "IPY_MODEL_98a162ace7ff4e48b5b818e6fa7e8e51"
       ],
       "scatters": [],
       "scene": "IPY_MODEL_16184e6305084b5d86806271ce399beb",
       "specular_coefficient": 0.5,
       "specular_exponent": 5,
       "volumes": [],
       "width": 400,
       "xlim": [
        -5,
        4.75
       ],
       "ylim": [
        -0.9999894127234641,
        1
       ],
       "zlim": [
        -5,
        4.75
       ]
      }
     },
     "ccc1437f329b430090e2557f93147758": {
      "model_module": "jupyter-threejs",
      "model_module_version": "~1.0.0",
      "model_name": "ShaderMaterialModel",
      "state": {
       "_model_module_version": "~1.0.0",
       "_view_module": null,
       "_view_module_version": ""
      }
     },
     "d59a48714c054da1baad79d7892aca54": {
      "model_module": "jupyter-threejs",
      "model_module_version": "~1.0.0",
      "model_name": "ShaderMaterialModel",
      "state": {
       "_model_module_version": "~1.0.0",
       "_view_module": null,
       "_view_module_version": ""
      }
     },
     "d63045f117c3410f8ace5b0479b01ea3": {
      "model_module": "ipyvolume",
      "model_module_version": "^0.5.0-beta.1",
      "model_name": "FigureModel",
      "state": {
       "ambient_coefficient": 0.5,
       "camera": "IPY_MODEL_4f88b1ebf7d8454599e2166068e4d584",
       "capture_fps": null,
       "diffuse_coefficient": 0.8,
       "height": 500,
       "layout": "IPY_MODEL_076ecc24e52b49a09a9cbf2d46f3758f",
       "matrix_projection": [
        2.9448154572796907,
        0,
        0,
        0,
        0,
        2.3558523658237527,
        0,
        0,
        0,
        0,
        -1.00010000500025,
        -1,
        0,
        0,
        -0.200010000500025,
        0
       ],
       "matrix_world": [
        0.1111111111111111,
        0,
        0,
        0,
        0,
        0.0044444444444444444,
        2.721437331438564e-19,
        0,
        0,
        -6.8035933285964094e-18,
        0.1111111111111111,
        0,
        0.05555555555555558,
        0.05555555555555558,
        -2.537074262278092,
        1
       ],
       "meshes": [
        "IPY_MODEL_da597fba6c33451fba3129195e9a56a2",
        "IPY_MODEL_020a11d2876c48df958fe163d9260443"
       ],
       "scatters": [],
       "scene": "IPY_MODEL_3eab7b18eecb48ae8906d72741f01fa1",
       "specular_coefficient": 0.5,
       "specular_exponent": 5,
       "volumes": [],
       "width": 400,
       "xlim": [
        -5,
        4
       ],
       "ylim": [
        -125,
        100
       ],
       "zlim": [
        -5,
        4
       ]
      }
     },
     "d8239e9d228e4225b58468494f7381df": {
      "model_module": "ipyvolume",
      "model_module_version": "^0.5.0-beta.1",
      "model_name": "FigureModel",
      "state": {
       "ambient_coefficient": 0.5,
       "camera": "IPY_MODEL_daca9f1c11a543a7a6931f72994e9bb5",
       "capture_fps": null,
       "diffuse_coefficient": 0.8,
       "height": 500,
       "layout": "IPY_MODEL_6e7b81951d384b8490ec1a5be63a2975",
       "matrix_projection": [
        2.9448154572796907,
        0,
        0,
        0,
        0,
        2.3558523658237527,
        0,
        0,
        0,
        0,
        -1.00010000500025,
        -1,
        0,
        0,
        -0.200010000500025,
        0
       ],
       "matrix_world": [
        0.1111111111111111,
        0,
        0,
        0,
        0,
        0.0044444444444444444,
        2.7214373314385625e-19,
        0,
        0,
        -6.803593328596406e-18,
        0.1111111111111111,
        0,
        0.05555555555555558,
        0.05555555555555558,
        -1.9444444444444444,
        1
       ],
       "meshes": [
        "IPY_MODEL_97a9448444fa4bea9d25809a0c8d7182",
        "IPY_MODEL_a8bdf08aa38f4ac5a9fe664d53c30cb7"
       ],
       "scatters": [],
       "scene": "IPY_MODEL_049dc389448a464eb70e45b4845ac4be",
       "specular_coefficient": 0.5,
       "specular_exponent": 5,
       "volumes": [],
       "width": 400,
       "xlim": [
        -5,
        4
       ],
       "ylim": [
        -125,
        100
       ],
       "zlim": [
        -5,
        4
       ]
      }
     },
     "da597fba6c33451fba3129195e9a56a2": {
      "buffers": [
       {
        "data": "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",
        "encoding": "base64",
        "path": [
         "triangles",
         0,
         "data"
        ]
       },
       {
        "data": "+/////z////9/////v////////8AAAAAAQAAAAIAAAADAAAABAAAAPv////8/////f////7/////////AAAAAAEAAAACAAAAAwAAAAQAAAD7/////P////3////+/////////wAAAAABAAAAAgAAAAMAAAAEAAAA+/////z////9/////v////////8AAAAAAQAAAAIAAAADAAAABAAAAPv////8/////f////7/////////AAAAAAEAAAACAAAAAwAAAAQAAAD7/////P////3////+/////////wAAAAABAAAAAgAAAAMAAAAEAAAA+/////z////9/////v////////8AAAAAAQAAAAIAAAADAAAABAAAAPv////8/////f////7/////////AAAAAAEAAAACAAAAAwAAAAQAAAD7/////P////3////+/////////wAAAAABAAAAAgAAAAMAAAAEAAAA+/////z////9/////v////////8AAAAAAQAAAAIAAAADAAAABAAAAA==",
        "encoding": "base64",
        "path": [
         "x",
         0,
         "data"
        ]
       },
       {
        "data": "g////5z///+1////zv///+f///8AAAAAGQAAADIAAABLAAAAZAAAALD////A////0P///+D////w////AAAAABAAAAAgAAAAMAAAAEAAAADT////3P///+X////u////9////wAAAAAJAAAAEgAAABsAAAAkAAAA7P////D////0////+P////z///8AAAAABAAAAAgAAAAMAAAAEAAAAPv////8/////f////7/////////AAAAAAEAAAACAAAAAwAAAAQAAAAAAAAAAAAAAAAAAAAAAAAAAAAAAAAAAAAAAAAAAAAAAAAAAAAAAAAA+/////z////9/////v////////8AAAAAAQAAAAIAAAADAAAABAAAAOz////w////9P////j////8////AAAAAAQAAAAIAAAADAAAABAAAADT////3P///+X////u////9////wAAAAAJAAAAEgAAABsAAAAkAAAAsP///8D////Q////4P////D///8AAAAAEAAAACAAAAAwAAAAQAAAAA==",
        "encoding": "base64",
        "path": [
         "y",
         0,
         "data"
        ]
       },
       {
        "data": "+/////v////7////+/////v////7////+/////v////7////+/////z////8/////P////z////8/////P////z////8/////P////z////9/////f////3////9/////f////3////9/////f////3////9/////v////7////+/////v////7////+/////v////7////+/////v////////////////////////////////////////////////////////8AAAAAAAAAAAAAAAAAAAAAAAAAAAAAAAAAAAAAAAAAAAAAAAAAAAAAAQAAAAEAAAABAAAAAQAAAAEAAAABAAAAAQAAAAEAAAABAAAAAQAAAAIAAAACAAAAAgAAAAIAAAACAAAAAgAAAAIAAAACAAAAAgAAAAIAAAADAAAAAwAAAAMAAAADAAAAAwAAAAMAAAADAAAAAwAAAAMAAAADAAAABAAAAAQAAAAEAAAABAAAAAQAAAAEAAAABAAAAAQAAAAEAAAABAAAAA==",
        "encoding": "base64",
        "path": [
         "z",
         0,
         "data"
        ]
       }
      ],
      "model_module": "ipyvolume",
      "model_module_version": "^0.5.0-beta.1",
      "model_name": "MeshModel",
      "state": {
       "color": "orange",
       "line_material": "IPY_MODEL_66aeda3cdc9f4a50bce50e8e4df71104",
       "lines": null,
       "material": "IPY_MODEL_b1e829766b9244808bf3c0528cf59865",
       "texture": null,
       "triangles": [
        {
         "data": {},
         "dtype": "uint32",
         "shape": [
          162,
          3
         ]
        }
       ],
       "u": null,
       "v": null,
       "x": [
        {
         "data": {},
         "dtype": "int32",
         "shape": [
          100
         ]
        }
       ],
       "y": [
        {
         "data": {},
         "dtype": "int32",
         "shape": [
          100
         ]
        }
       ],
       "z": [
        {
         "data": {},
         "dtype": "int32",
         "shape": [
          100
         ]
        }
       ]
      }
     },
     "daca9f1c11a543a7a6931f72994e9bb5": {
      "model_module": "jupyter-threejs",
      "model_module_version": "~1.0.0",
      "model_name": "PerspectiveCameraModel",
      "state": {
       "_model_module_version": "~1.0.0",
       "_view_module": null,
       "_view_module_version": "",
       "aspect": 0.8,
       "fov": 46,
       "matrix": [
        1,
        0,
        0,
        0,
        0,
        1,
        -6.123233995736766e-17,
        0,
        0,
        6.123233995736766e-17,
        1,
        0,
        0,
        1.2246467991473532e-16,
        2,
        1
       ],
       "matrixWorld": [
        1,
        0,
        0,
        0,
        0,
        1,
        -6.123233995736766e-17,
        0,
        0,
        6.123233995736766e-17,
        1,
        0,
        0,
        1.2246467991473532e-16,
        2,
        1
       ],
       "matrixWorldInverse": [
        1,
        0,
        0,
        0,
        0,
        1,
        6.123233995736766e-17,
        0,
        0,
        -6.123233995736766e-17,
        1,
        0,
        0,
        0,
        -2,
        1
       ],
       "position": [
        0,
        1.2246467991473532e-16,
        2
       ],
       "projectionMatrix": [
        2.9448154572796907,
        0,
        0,
        0,
        0,
        2.3558523658237527,
        0,
        0,
        0,
        0,
        -1.00010000500025,
        -1,
        0,
        0,
        -0.200010000500025,
        0
       ],
       "quaternion": [
        -3.061616997868383e-17,
        0,
        0,
        1
       ],
       "rotation": [
        -6.123233995736766e-17,
        0,
        0,
        "XYZ"
       ]
      }
     },
     "dc0e04fff640430da61b7e0f22ee0c26": {
      "model_module": "jupyter-threejs",
      "model_module_version": "~1.0.0",
      "model_name": "PerspectiveCameraModel",
      "state": {
       "_model_module_version": "~1.0.0",
       "_view_module": null,
       "_view_module_version": "",
       "aspect": 0.8,
       "fov": 46,
       "matrix": [
        1,
        0,
        0,
        0,
        0,
        1,
        -6.123233995736766e-17,
        0,
        0,
        6.123233995736766e-17,
        1,
        0,
        0,
        1.2246467991473532e-16,
        2,
        1
       ],
       "matrixWorld": [
        1,
        0,
        0,
        0,
        0,
        1,
        -6.123233995736766e-17,
        0,
        0,
        6.123233995736766e-17,
        1,
        0,
        0,
        1.2246467991473532e-16,
        2,
        1
       ],
       "matrixWorldInverse": [
        1,
        0,
        0,
        0,
        0,
        1,
        6.123233995736766e-17,
        0,
        0,
        -6.123233995736766e-17,
        1,
        0,
        0,
        0,
        -2,
        1
       ],
       "position": [
        0,
        1.2246467991473532e-16,
        2
       ],
       "projectionMatrix": [
        2.9448154572796907,
        0,
        0,
        0,
        0,
        2.3558523658237527,
        0,
        0,
        0,
        0,
        -1.00010000500025,
        -1,
        0,
        0,
        -0.200010000500025,
        0
       ],
       "quaternion": [
        -3.061616997868383e-17,
        0,
        0,
        1
       ],
       "rotation": [
        -6.123233995736766e-17,
        0,
        0,
        "XYZ"
       ]
      }
     },
     "e43743d1eb864792a8d96432c9c1a6fc": {
      "model_module": "jupyter-threejs",
      "model_module_version": "~1.0.0",
      "model_name": "SceneModel",
      "state": {
       "_model_module_version": "~1.0.0",
       "_view_module": null,
       "_view_module_version": "",
       "background": null
      }
     },
     "e6092958ac8d46dab592fd6bb5f252d6": {
      "model_module": "jupyter-threejs",
      "model_module_version": "~1.0.0",
      "model_name": "PerspectiveCameraModel",
      "state": {
       "_model_module_version": "~1.0.0",
       "_view_module": null,
       "_view_module_version": "",
       "aspect": 0.8,
       "fov": 46,
       "matrix": [
        1,
        0,
        0,
        0,
        0,
        1,
        -6.123233995736766e-17,
        0,
        0,
        6.123233995736766e-17,
        1,
        0,
        0,
        1.2246467991473532e-16,
        2,
        1
       ],
       "matrixWorld": [
        1,
        0,
        0,
        0,
        0,
        1,
        -6.123233995736766e-17,
        0,
        0,
        6.123233995736766e-17,
        1,
        0,
        0,
        1.2246467991473532e-16,
        2,
        1
       ],
       "matrixWorldInverse": [
        1,
        0,
        0,
        0,
        0,
        1,
        6.123233995736766e-17,
        0,
        0,
        -6.123233995736766e-17,
        1,
        0,
        0,
        0,
        -2,
        1
       ],
       "position": [
        0,
        1.2246467991473532e-16,
        2
       ],
       "projectionMatrix": [
        2.9448154572796907,
        0,
        0,
        0,
        0,
        2.3558523658237527,
        0,
        0,
        0,
        0,
        -1.00010000500025,
        -1,
        0,
        0,
        -0.200010000500025,
        0
       ],
       "quaternion": [
        -3.061616997868383e-17,
        0,
        0,
        1
       ],
       "rotation": [
        -6.123233995736766e-17,
        0,
        0,
        "XYZ"
       ]
      }
     },
     "e93111a6fff44659863ae5a7553f83ee": {
      "model_module": "@jupyter-widgets/base",
      "model_module_version": "1.1.0",
      "model_name": "LayoutModel",
      "state": {}
     },
     "e995904e7da14abfa29a706eeccc77eb": {
      "model_module": "jupyter-threejs",
      "model_module_version": "~1.0.0",
      "model_name": "ShaderMaterialModel",
      "state": {
       "_model_module_version": "~1.0.0",
       "_view_module": null,
       "_view_module_version": ""
      }
     },
     "eb3c4895db804b69ba292f37a60a01c4": {
      "model_module": "jupyter-threejs",
      "model_module_version": "~1.0.0",
      "model_name": "ShaderMaterialModel",
      "state": {
       "_model_module_version": "~1.0.0",
       "_view_module": null,
       "_view_module_version": "",
       "side": "DoubleSide"
      }
     },
     "f976a982ca714b46a8a38844b8d2e2f5": {
      "model_module": "@jupyter-widgets/base",
      "model_module_version": "1.1.0",
      "model_name": "LayoutModel",
      "state": {}
     }
    },
    "version_major": 2,
    "version_minor": 0
   }
  }
 },
 "nbformat": 4,
 "nbformat_minor": 2
}
